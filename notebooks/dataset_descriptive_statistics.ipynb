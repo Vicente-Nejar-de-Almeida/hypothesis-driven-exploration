{
 "cells": [
  {
   "cell_type": "code",
   "execution_count": 1,
   "id": "ab77dfaf-28c4-4ff9-9b1b-f1fac0d53ecf",
   "metadata": {},
   "outputs": [],
   "source": [
    "import pandas as pd\n",
    "\n",
    "import sys\n",
    "sys.path.append(\"..\")\n",
    "\n",
    "from hypothesis_exploration.user_data_model import Dataset, coverage, diversity\n",
    "from hypothesis_exploration.hypothesis_testing import HypothesisTest\n",
    "from hypothesis_exploration.rl import GroupExplorationEnv, TrueOnlineSarsaLambda\n",
    "from hypothesis_exploration.greedy_algorithm import GreedyExplorer\n",
    "\n",
    "from datasets.MovieLens import params as movie_params\n",
    "from datasets.BookCrossing import params as book_params\n",
    "from datasets.Yelp import params as yelp_params"
   ]
  },
  {
   "cell_type": "code",
   "execution_count": 2,
   "id": "b13e7d9c-68b6-4caf-b0d4-68aed26c5ad1",
   "metadata": {},
   "outputs": [],
   "source": [
    "movie_dataframe = pd.read_csv('../datasets/MovieLens/MovieLens.csv')\n",
    "book_dataframe = pd.read_csv('../datasets/BookCrossing/BookCrossing.csv')\n",
    "yelp_dataframe = pd.read_csv('../datasets/Yelp/Yelp.csv')\n",
    "\n",
    "movie_dataset = Dataset(\n",
    "    dataframe=movie_dataframe,\n",
    "    multi_value_attribute_names=movie_params.multi_value_attribute_names,\n",
    "    attributes=movie_params.attributes,\n",
    "    action_dimension=movie_params.action_dimension,\n",
    "    action_dimension_min=movie_params.action_dimension_min,\n",
    "    action_dimension_max=movie_params.action_dimension_max\n",
    ")\n",
    "\n",
    "book_dataset = Dataset(\n",
    "    dataframe=book_dataframe,\n",
    "    multi_value_attribute_names=book_params.multi_value_attribute_names,\n",
    "    attributes=book_params.attributes,\n",
    "    action_dimension=book_params.action_dimension,\n",
    "    action_dimension_min=book_params.action_dimension_min,\n",
    "    action_dimension_max=book_params.action_dimension_max\n",
    ")\n",
    "\n",
    "yelp_dataset = Dataset(\n",
    "    dataframe=yelp_dataframe,\n",
    "    multi_value_attribute_names=yelp_params.multi_value_attribute_names,\n",
    "    attributes=yelp_params.attributes,\n",
    "    action_dimension=yelp_params.action_dimension,\n",
    "    action_dimension_min=yelp_params.action_dimension_min,\n",
    "    action_dimension_max=yelp_params.action_dimension_max\n",
    ")"
   ]
  },
  {
   "cell_type": "code",
   "execution_count": 5,
   "id": "7c8afa07-64f4-4a49-91ae-3435fdefcc69",
   "metadata": {},
   "outputs": [
    {
     "data": {
      "text/plain": [
       "6040"
      ]
     },
     "execution_count": 5,
     "metadata": {},
     "output_type": "execute_result"
    }
   ],
   "source": [
    "len(movie_dataframe.user_id.unique())"
   ]
  },
  {
   "cell_type": "code",
   "execution_count": 3,
   "id": "a002749a-eeda-47b9-8fcb-332522b30b8e",
   "metadata": {},
   "outputs": [
    {
     "data": {
      "text/plain": [
       "7"
      ]
     },
     "execution_count": 3,
     "metadata": {},
     "output_type": "execute_result"
    }
   ],
   "source": [
    "len(movie_params.attributes)"
   ]
  },
  {
   "cell_type": "code",
   "execution_count": 4,
   "id": "c4f6c596-cc59-480f-aa39-58b05b1c0142",
   "metadata": {},
   "outputs": [
    {
     "data": {
      "text/plain": [
       "count    996656.000000\n",
       "mean          3.581408\n",
       "std           1.116771\n",
       "min           1.000000\n",
       "25%           3.000000\n",
       "50%           4.000000\n",
       "75%           4.000000\n",
       "max           5.000000\n",
       "Name: rating, dtype: float64"
      ]
     },
     "execution_count": 4,
     "metadata": {},
     "output_type": "execute_result"
    }
   ],
   "source": [
    "movie_dataframe.rating.describe()"
   ]
  },
  {
   "cell_type": "code",
   "execution_count": 5,
   "id": "1b4eaf57-eb66-4bc2-9598-bb1516f970b3",
   "metadata": {},
   "outputs": [
    {
     "data": {
      "text/plain": [
       "5"
      ]
     },
     "execution_count": 5,
     "metadata": {},
     "output_type": "execute_result"
    }
   ],
   "source": [
    "len(book_params.attributes)"
   ]
  },
  {
   "cell_type": "code",
   "execution_count": 6,
   "id": "f8383992-efc8-486a-be62-485ca6dd4d2e",
   "metadata": {},
   "outputs": [
    {
     "data": {
      "text/plain": [
       "count    602958.000000\n",
       "mean          2.786564\n",
       "std           3.842937\n",
       "min           0.000000\n",
       "25%           0.000000\n",
       "50%           0.000000\n",
       "75%           7.000000\n",
       "max          10.000000\n",
       "Name: rating, dtype: float64"
      ]
     },
     "execution_count": 6,
     "metadata": {},
     "output_type": "execute_result"
    }
   ],
   "source": [
    "book_dataframe.rating.describe()"
   ]
  },
  {
   "cell_type": "code",
   "execution_count": 7,
   "id": "333e5893-f244-4aad-8505-0db057d7e86b",
   "metadata": {},
   "outputs": [
    {
     "data": {
      "text/plain": [
       "4"
      ]
     },
     "execution_count": 7,
     "metadata": {},
     "output_type": "execute_result"
    }
   ],
   "source": [
    "len(yelp_params.attributes)"
   ]
  },
  {
   "cell_type": "code",
   "execution_count": 8,
   "id": "6370d0aa-0947-48ee-aa06-e40e6872e86d",
   "metadata": {},
   "outputs": [
    {
     "data": {
      "text/plain": [
       "count    5.622080e+06\n",
       "mean     3.749153e+00\n",
       "std      1.474981e+00\n",
       "min      1.000000e+00\n",
       "25%      3.000000e+00\n",
       "50%      4.000000e+00\n",
       "75%      5.000000e+00\n",
       "max      5.000000e+00\n",
       "Name: stars, dtype: float64"
      ]
     },
     "execution_count": 8,
     "metadata": {},
     "output_type": "execute_result"
    }
   ],
   "source": [
    "yelp_dataframe.stars.describe()"
   ]
  },
  {
   "cell_type": "code",
   "execution_count": 9,
   "id": "0918de9a-6e24-4705-9d79-cae4e73578b9",
   "metadata": {},
   "outputs": [
    {
     "data": {
      "text/plain": [
       "5622080.0"
      ]
     },
     "execution_count": 9,
     "metadata": {},
     "output_type": "execute_result"
    }
   ],
   "source": [
    "5.622080e+06"
   ]
  },
  {
   "cell_type": "code",
   "execution_count": null,
   "id": "d3df2bbf-30bf-483d-842f-edfc8edb5b48",
   "metadata": {},
   "outputs": [],
   "source": []
  }
 ],
 "metadata": {
  "kernelspec": {
   "display_name": "Python 3 (ipykernel)",
   "language": "python",
   "name": "python3"
  },
  "language_info": {
   "codemirror_mode": {
    "name": "ipython",
    "version": 3
   },
   "file_extension": ".py",
   "mimetype": "text/x-python",
   "name": "python",
   "nbconvert_exporter": "python",
   "pygments_lexer": "ipython3",
   "version": "3.10.13"
  }
 },
 "nbformat": 4,
 "nbformat_minor": 5
}
