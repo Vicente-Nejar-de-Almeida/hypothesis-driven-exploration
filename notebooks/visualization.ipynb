{
 "cells": [
  {
   "cell_type": "code",
   "execution_count": 1,
   "id": "059095e0-2c18-4bd6-8a74-caddab344661",
   "metadata": {},
   "outputs": [],
   "source": [
    "import pandas as pd"
   ]
  },
  {
   "cell_type": "code",
   "execution_count": 2,
   "id": "f4f0a300-4334-4767-8aba-64fa32306202",
   "metadata": {},
   "outputs": [],
   "source": [
    "import plotly.io as pio\n",
    "pio.renderers.default = 'iframe'\n",
    "import plotly.graph_objects as go"
   ]
  },
  {
   "cell_type": "code",
   "execution_count": 3,
   "id": "33cc1e1d-7521-42e9-b369-1183fa03dc43",
   "metadata": {},
   "outputs": [],
   "source": [
    "from PIL import ImageColor\n",
    "\n",
    "def hex_to_rgba(hex, opacity):\n",
    "    r, g, b = ImageColor.getcolor(hex, 'RGB')\n",
    "    return f'rgba({r}, {g}, {b}, {opacity})'\n",
    "    \n",
    "def get_opacity(user_count):\n",
    "    max_opacity = 1\n",
    "    min_opacity = 0.15\n",
    "    total_users = 6040\n",
    "    opacity_step = (max_opacity - min_opacity) / total_users\n",
    "    return user_count * opacity_step + min_opacity"
   ]
  },
  {
   "cell_type": "code",
   "execution_count": 19,
   "id": "c238f32d-9344-4797-b86d-5f5146686fb3",
   "metadata": {},
   "outputs": [
    {
     "data": {
      "text/html": [
       "<iframe\n",
       "    scrolling=\"no\"\n",
       "    width=\"100%\"\n",
       "    height=\"545px\"\n",
       "    src=\"iframe_figures/figure_19.html\"\n",
       "    frameborder=\"0\"\n",
       "    allowfullscreen\n",
       "></iframe>\n"
      ]
     },
     "metadata": {},
     "output_type": "display_data"
    }
   ],
   "source": [
    "# MovieLens\n",
    "\n",
    "ids = ['Comedy', 'Comedy,Short', 'Comedy,30s', 'Comedy,30s,PA', 'Comedy,30s,retired', 'Comedy,30s,Long', 'Comedy,30s,Long,M', 'Comedy,30s,Long,F', 'Comedy,30s,Long,sales-marketing', 'Comedy,Short,NC', 'Comedy,Short,TX', 'Comedy,Short,90s', 'Comedy,Short,90s,M', 'Comedy,Short,90s,PA', 'Comedy,Short,90s,F', 'Comedy,Short,90s,M,25-34', 'Comedy,Short,90s,M,18-24', 'Comedy,Short,90s,M,35-44', 'Comedy,Short,90s,F,25-34', 'Comedy,Short,90s,F,35-44', 'Comedy,Short,90s,F,18-24', 'Comedy,30s,Long,M,50-55', 'Comedy,30s,Long,M,35-44', 'Comedy,30s,Long,M,45-49', 'Comedy,30s,Long,F,>56', 'Comedy,30s,Long,F,25-34', 'Comedy,30s,Long,F,50-55', 'Comedy,Short,90s,M,25-34,MN', 'Comedy,Short,90s,M,25-34,CA', 'Comedy,Short,90s,M,25-34,MA', 'Comedy,30s,Long,M,35-44,executive-managerial', 'Comedy,30s,Long,M,35-44,NY', 'Comedy,30s,Long,M,35-44,CA', 'Comedy,Short,90s,M,18-24,CA', 'Comedy,Short,90s,M,18-24,college-grad student', 'Comedy,Short,TX,90s', 'Comedy,Short,TX,M', 'Comedy,30s,retired,>56', 'Comedy,30s,retired,Long', 'Comedy,30s,PA,M', 'Comedy,30s,PA,Long', 'Comedy,30s,PA,M,Long', 'Comedy,30s,retired,>56,Long', 'Comedy,Short,NC,90s', 'Comedy,30s,retired,Long,M', 'Comedy,Short,TX,90s,M', 'Comedy,30s,Long,sales-marketing,M', 'Comedy,Short,90s,F,18-24,college-grad student', 'Comedy,Short,90s,F,25-34,CA', 'Comedy,30s,Long,F,25-34,CA', 'Comedy,Short,90s,M,35-44,technician-engineer', 'Comedy,K-12 student', 'Comedy,K-12 student,Long', 'Comedy,K-12 student,M', 'Comedy,K-12 student,2000s', 'Comedy,K-12 student,Long,2000s', 'Comedy,K-12 student,Long,M', 'Comedy,K-12 student,Long,90s', 'Comedy,K-12 student,2000s,<18', 'Comedy,K-12 student,2000s,F', 'Comedy,K-12 student,Long,2000s,<18', 'Comedy,K-12 student,Long,2000s,F', 'Comedy,K-12 student,Long,M,90s', 'Comedy,K-12 student,Long,M,<18', 'Comedy,K-12 student,M,<18', 'Comedy,K-12 student,M,90s', 'Comedy,K-12 student,M,<18,90s', 'Comedy,K-12 student,M,<18,90s', 'Comedy,K-12 student,Long,90s,<18']\n",
    "labels = ['Comedy', 'Short', '30s', 'PA', 'retired', 'Long', 'M', 'F', 'sales-marketing', 'NC', 'TX', '90s', 'M', 'PA', 'F', '25-34', '18-24', '35-44', '25-34', '35-44', '18-24', '50-55', '35-44', '45-49', '>56', '25-34', '50-55', 'MN', 'CA', 'MA', 'executive-managerial', 'NY', 'CA', 'CA', 'college-grad student', '90s', 'M', '>56', 'Long', 'M', 'Long', 'Long', 'Long', '90s', 'M', 'M', 'M', 'college-grad student', 'CA', 'CA', 'technician-engineer', 'K-12 student', 'Long', 'M', '2000s', '2000s', 'M', '90s', '<18', 'F', '<18', 'F', '90s', '<18', '<18', '90s', '90s', '90s', '<18']\n",
    "color_sequence = ['', '#636EFA', '#636EFA', '#636EFA', '#636EFA', '#636EFA', '#636EFA', '#636EFA', '#636EFA', '#636EFA', '#636EFA', '#636EFA', '#636EFA', '#636EFA', '#636EFA', '#636EFA', '#636EFA', '#636EFA', '#636EFA', '#636EFA', '#636EFA', '#636EFA', '#636EFA', '#636EFA', '#636EFA', '#636EFA', '#636EFA', '#636EFA', '#636EFA', '#636EFA', '#636EFA', '#636EFA', '#636EFA', '#636EFA', '#636EFA', '#636EFA', '#636EFA', '#636EFA', '#636EFA', '#636EFA', '#636EFA', '#636EFA', '#636EFA', '#636EFA', '#636EFA', '#636EFA', '#636EFA', '#636EFA', '#636EFA', '#636EFA', '#636EFA', '#00CC96', '#00CC96', '#00CC96', '#00CC96', '#00CC96', '#00CC96', '#00CC96', '#00CC96', '#00CC96', '#00CC96', '#00CC96', '#00CC96', '#00CC96', '#00CC96', '#00CC96', '#00CC96', '#EF553B', '#00CC96']\n",
    "parents = ['', 'Comedy', 'Comedy', 'Comedy,30s', 'Comedy,30s', 'Comedy,30s', 'Comedy,30s,Long', 'Comedy,30s,Long', 'Comedy,30s,Long', 'Comedy,Short', 'Comedy,Short', 'Comedy,Short', 'Comedy,Short,90s', 'Comedy,Short,90s', 'Comedy,Short,90s', 'Comedy,Short,90s,M', 'Comedy,Short,90s,M', 'Comedy,Short,90s,M', 'Comedy,Short,90s,F', 'Comedy,Short,90s,F', 'Comedy,Short,90s,F', 'Comedy,30s,Long,M', 'Comedy,30s,Long,M', 'Comedy,30s,Long,M', 'Comedy,30s,Long,F', 'Comedy,30s,Long,F', 'Comedy,30s,Long,F', 'Comedy,Short,90s,M,25-34', 'Comedy,Short,90s,M,25-34', 'Comedy,Short,90s,M,25-34', 'Comedy,30s,Long,M,35-44', 'Comedy,30s,Long,M,35-44', 'Comedy,30s,Long,M,35-44', 'Comedy,Short,90s,M,18-24', 'Comedy,Short,90s,M,18-24', 'Comedy,Short,TX', 'Comedy,Short,TX', 'Comedy,30s,retired', 'Comedy,30s,retired', 'Comedy,30s,PA', 'Comedy,30s,PA', 'Comedy,30s,PA,M', 'Comedy,30s,retired,>56', 'Comedy,Short,NC', 'Comedy,30s,retired,Long', 'Comedy,Short,TX,90s', 'Comedy,30s,Long,sales-marketing', 'Comedy,Short,90s,F,18-24', 'Comedy,Short,90s,F,25-34', 'Comedy,30s,Long,F,25-34', 'Comedy,Short,90s,M,35-44', 'Comedy', 'Comedy,K-12 student', 'Comedy,K-12 student', 'Comedy,K-12 student', 'Comedy,K-12 student,Long', 'Comedy,K-12 student,Long', 'Comedy,K-12 student,Long', 'Comedy,K-12 student,2000s', 'Comedy,K-12 student,2000s', 'Comedy,K-12 student,Long,2000s', 'Comedy,K-12 student,Long,2000s', 'Comedy,K-12 student,Long,M', 'Comedy,K-12 student,Long,M', 'Comedy,K-12 student,M', 'Comedy,K-12 student,M', 'Comedy,K-12 student,M,<18', 'Comedy,K-12 student,M,<18', 'Comedy,K-12 student,Long,90s']\n",
    "user_counts = [6031, 1162, 1328, 32, 31, 1328, 919, 409, 56, 24, 41, 982, 716, 20, 266, 304, 140, 151, 95, 62, 54, 94, 231, 112, 27, 117, 45, 26, 67, 23, 41, 23, 47, 28, 64, 32, 29, 24, 31, 25, 32, 25, 24, 22, 24, 24, 38, 32, 32, 33, 25, 195, 195, 129, 142, 142, 129, 195, 120, 44, 120, 44, 129, 100, 100, 129, 100, 100, 163]\n",
    "\n",
    "ids2 = []\n",
    "labels2 = []\n",
    "color_sequence2 = []\n",
    "parents2 = []\n",
    "user_counts2 = []\n",
    "\n",
    "ids2 = ['Comedy,AZ', 'Comedy,90s', 'Comedy,unemployed', 'Comedy,90s,KS', 'Comedy,90s,Long', 'Comedy,90s,LA', 'Comedy,90s,Long,LA', 'Comedy,90s,Long,M', 'Comedy,90s,Long,F', 'Comedy,90s,Long,M,35-44', 'Comedy,90s,Long,M,25-34', 'Comedy,90s,Long,M,18-24', 'Comedy,90s,Long,M,18-24,other', 'Comedy,90s,Long,M,18-24,writer', 'Comedy,90s,Long,M,18-24,college-grad student', 'Comedy,90s,Long,F,18-24', 'Comedy,90s,Long,F,25-34', 'Comedy,90s,Long,F,NJ', 'Comedy,90s,Long,F,18-24,MI', 'Comedy,90s,Long,F,18-24,college-grad student', 'Comedy,90s,Long,F,18-24,MN', 'Comedy,90s,Long,M,35-44,technician-engineer', 'Comedy,90s,Long,M,35-44,executive-managerial', 'Comedy,90s,Long,M,35-44,academic-educator', 'Comedy,90s,Long,F,25-34,CA', 'Comedy,90s,Long,F,25-34,TX', 'Comedy,90s,Long,F,25-34,NY', 'Comedy,90s,Long,M,25-34,CA', 'Comedy,90s,Long,M,25-34,NY', 'Comedy,90s,Long,M,25-34,MN', 'Comedy,90s,Long,M,25-34,CA,other', 'Comedy,90s,Long,M,25-34,CA,technician-engineer', 'Comedy,90s,Long,M,25-34,CA,writer', 'Comedy,90s,Long,M,18-24,college-grad student,MA', 'Comedy,90s,Long,M,18-24,college-grad student,NY', 'Comedy,90s,Long,M,18-24,college-grad student,MN', 'Comedy,unemployed,18-24', 'Comedy,unemployed,Long', 'Comedy,unemployed,2000s', 'Comedy,unemployed,Long,M', 'Comedy,unemployed,Long,2000s', 'Comedy,unemployed,Long,90s', 'Comedy,unemployed,Long,M,90s', 'Comedy,unemployed,Long,M,18-24', 'Comedy,unemployed,Long,M,2000s', 'Comedy,AZ,Long', 'Comedy,AZ,90s', 'Comedy,AZ,M', 'Comedy,AZ,Long,2000s', 'Comedy,AZ,Long,M', 'Comedy,AZ,Long,90s', 'Comedy,AZ,Long,M,25-34', 'Comedy,AZ,Long,M,90s', 'Comedy,AZ,90s,M', 'Comedy,AZ,90s,25-34', 'Comedy,AZ,M,2000s', 'Comedy,AZ,M,25-34', 'Comedy,unemployed,18-24,M', 'Comedy,unemployed,18-24,Long', 'Comedy,unemployed,18-24,90s', 'Comedy,90s,KS,Long', 'Comedy,90s,KS,M', 'Comedy,unemployed,18-24,M,90s', 'Comedy,AZ,Long,M,25-34,90s', 'Comedy,90s,Long,LA,M', 'Comedy,90s,LA,M', 'Comedy,90s,KS,Long,M', 'Comedy,unemployed,2000s,M', 'Comedy,AZ,Long,2000s,M', 'Comedy,unemployed,Long,M,90s,18-24', 'Comedy,unemployed,Long,90s,18-24', 'Comedy,AZ,90s,M,25-34', 'Comedy,AZ,Long,90s,25-34', 'Comedy,90s,Long,M,25-34,NY,other', 'Comedy,90s,Long,M,35-44,technician-engineer,CA']\n",
    "labels2 = ['AZ', '90s', 'unemployed', 'KS', 'Long', 'LA', 'LA', 'M', 'F', '35-44', '25-34', '18-24', 'other', 'writer', 'college-grad student', '18-24', '25-34', 'NJ', 'MI', 'college-grad student', 'MN', 'technician-engineer', 'executive-managerial', 'academic-educator', 'CA', 'TX', 'NY', 'CA', 'NY', 'MN', 'other', 'technician-engineer', 'writer', 'MA', 'NY', 'MN', '18-24', 'Long', '2000s', 'M', '2000s', '90s', '90s', '18-24', '2000s', 'Long', '90s', 'M', '2000s', 'M', '90s', '25-34', '90s', 'M', '25-34', '2000s', '25-34', 'M', 'Long', '90s', 'Long', 'M', '90s', '90s', 'M', 'M', 'M', 'M', 'M', '18-24', '18-24', '25-34', '25-34', 'other', 'CA']\n",
    "color_sequence2 = ['#EF553B', '#EF553B', '#EF553B', '#EF553B', '#EF553B', '#EF553B', '#EF553B', '#EF553B', '#EF553B', '#EF553B', '#EF553B', '#EF553B', '#EF553B', '#EF553B', '#EF553B', '#EF553B', '#EF553B', '#EF553B', '#EF553B', '#EF553B', '#EF553B', '#EF553B', '#EF553B', '#EF553B', '#EF553B', '#EF553B', '#EF553B', '#EF553B', '#EF553B', '#EF553B', '#EF553B', '#EF553B', '#EF553B', '#EF553B', '#EF553B', '#EF553B', '#EF553B', '#EF553B', '#EF553B', '#EF553B', '#EF553B', '#EF553B', '#EF553B', '#EF553B', '#EF553B', '#EF553B', '#EF553B', '#EF553B', '#EF553B', '#EF553B', '#EF553B', '#EF553B', '#EF553B', '#EF553B', '#EF553B', '#EF553B', '#EF553B', '#EF553B', '#EF553B', '#EF553B', '#EF553B', '#EF553B', '#EF553B', '#EF553B', '#EF553B', '#EF553B', '#EF553B', '#EF553B', '#EF553B', '#EF553B', '#EF553B', '#EF553B', '#EF553B', '#EF553B', '#EF553B']\n",
    "parents2 = ['Comedy', 'Comedy', 'Comedy', 'Comedy,90s', 'Comedy,90s', 'Comedy,90s', 'Comedy,90s,Long', 'Comedy,90s,Long', 'Comedy,90s,Long', 'Comedy,90s,Long,M', 'Comedy,90s,Long,M', 'Comedy,90s,Long,M', 'Comedy,90s,Long,M,18-24', 'Comedy,90s,Long,M,18-24', 'Comedy,90s,Long,M,18-24', 'Comedy,90s,Long,F', 'Comedy,90s,Long,F', 'Comedy,90s,Long,F', 'Comedy,90s,Long,F,18-24', 'Comedy,90s,Long,F,18-24', 'Comedy,90s,Long,F,18-24', 'Comedy,90s,Long,M,35-44', 'Comedy,90s,Long,M,35-44', 'Comedy,90s,Long,M,35-44', 'Comedy,90s,Long,F,25-34', 'Comedy,90s,Long,F,25-34', 'Comedy,90s,Long,F,25-34', 'Comedy,90s,Long,M,25-34', 'Comedy,90s,Long,M,25-34', 'Comedy,90s,Long,M,25-34', 'Comedy,90s,Long,M,25-34,CA', 'Comedy,90s,Long,M,25-34,CA', 'Comedy,90s,Long,M,25-34,CA', 'Comedy,90s,Long,M,18-24,college-grad student', 'Comedy,90s,Long,M,18-24,college-grad student', 'Comedy,90s,Long,M,18-24,college-grad student', 'Comedy,unemployed', 'Comedy,unemployed', 'Comedy,unemployed', 'Comedy,unemployed,Long', 'Comedy,unemployed,Long', 'Comedy,unemployed,Long', 'Comedy,unemployed,Long,M', 'Comedy,unemployed,Long,M', 'Comedy,unemployed,Long,M', 'Comedy,AZ', 'Comedy,AZ', 'Comedy,AZ', 'Comedy,AZ,Long', 'Comedy,AZ,Long', 'Comedy,AZ,Long', 'Comedy,AZ,Long,M', 'Comedy,AZ,Long,M', 'Comedy,AZ,90s', 'Comedy,AZ,90s', 'Comedy,AZ,M', 'Comedy,AZ,M', 'Comedy,unemployed,18-24', 'Comedy,unemployed,18-24', 'Comedy,unemployed,18-24', 'Comedy,90s,KS', 'Comedy,90s,KS', 'Comedy,unemployed,18-24,M', 'Comedy,AZ,Long,M,25-34', 'Comedy,90s,Long,LA', 'Comedy,90s,LA', 'Comedy,90s,KS,Long', 'Comedy,unemployed,2000s', 'Comedy,AZ,Long,2000s', 'Comedy,unemployed,Long,M,90s', 'Comedy,unemployed,Long,90s', 'Comedy,AZ,90s,M', 'Comedy,AZ,Long,90s', 'Comedy,90s,Long,M,25-34,NY', 'Comedy,90s,Long,M,35-44,technician-engineer']\n",
    "user_counts2 = [83, 5907, 72, 38, 5903, 33, 33, 4238, 1665, 828, 1514, 800, 74, 35, 368, 296, 549, 34, 20, 162, 21, 109, 173, 74, 118, 31, 36, 289, 104, 115, 32, 47, 25, 23, 25, 24, 30, 72, 45, 57, 45, 72, 57, 24, 34, 83, 83, 58, 50, 58, 83, 24, 58, 58, 33, 36, 24, 24, 30, 30, 38, 29, 24, 24, 28, 28, 29, 34, 36, 24, 30, 24, 33, 21, 22]\n",
    "\n",
    "\n",
    "\n",
    "occupation_renames = {\n",
    "    'executive-managerial': 'Executive',\n",
    "    'retired': 'Retired',\n",
    "    'college-grad student': 'College student',\n",
    "    'technician-engineer':  'Engineer',\n",
    "    'unemployed': 'Unemployed',\n",
    "    'academic-educator': 'Academic',\n",
    "    'other': 'Other'\n",
    "}\n",
    "\n",
    "def rename_occupations(l):\n",
    "    renamed_l = []\n",
    "    for lbl in l:\n",
    "        if lbl in occupation_renames:\n",
    "            renamed_l.append(occupation_renames[lbl].capitalize())\n",
    "        else:\n",
    "            renamed_l.append(lbl.capitalize())\n",
    "    return renamed_l\n",
    "    \n",
    "\n",
    "fig = go.Figure(go.Sunburst(\n",
    "    ids=ids+ids2,\n",
    "    labels=rename_occupations(labels+labels2),\n",
    "    parents=parents+parents2,\n",
    "    #values=[6031, 5907, 5903, 4238, 800, 1665, 296, 828, 549, 1514, 289, 83, 72, 38, ],\n",
    "    marker=dict(colors=[hex_to_rgba(hex, get_opacity(user_count)) if hex != '' else '' for hex, user_count in zip(color_sequence+color_sequence2, user_counts+user_counts2)])\n",
    "))\n",
    "fig.update_layout(margin = dict(t=0, l=0, r=0, b=0))\n",
    "\n",
    "fig.update_traces(leaf=dict(opacity = 1))\n",
    "\n",
    "# fig.write_image(\"fig.pdf\")\n",
    "fig.write_image(\"movielens_sunburst.svg\")\n",
    "\n",
    "fig.show()\n",
    "\n",
    "# import plotly\n",
    "# plotly.offline.plot(fig, filename='sunburst.pdf')"
   ]
  },
  {
   "cell_type": "code",
   "execution_count": 48,
   "id": "c43ace85-20fe-4390-969f-1344f21d63b3",
   "metadata": {},
   "outputs": [
    {
     "data": {
      "text/plain": [
       "['Comedy',\n",
       " 'Comedy,Short',\n",
       " 'Comedy,30s',\n",
       " 'Comedy,30s,PA',\n",
       " 'Comedy,30s,retired',\n",
       " 'Comedy,30s,Long',\n",
       " 'Comedy,30s,Long,M',\n",
       " 'Comedy,30s,Long,F',\n",
       " 'Comedy,30s,Long,sales-marketing',\n",
       " 'Comedy,Short,NC',\n",
       " 'Comedy,Short,TX',\n",
       " 'Comedy,Short,90s',\n",
       " 'Comedy,Short,90s,M',\n",
       " 'Comedy,Short,90s,PA',\n",
       " 'Comedy,Short,90s,F',\n",
       " 'Comedy,Short,90s,M,25-34',\n",
       " 'Comedy,Short,90s,M,18-24',\n",
       " 'Comedy,Short,90s,M,35-44',\n",
       " 'Comedy,Short,90s,F,25-34',\n",
       " 'Comedy,Short,90s,F,35-44',\n",
       " 'Comedy,Short,90s,F,18-24',\n",
       " 'Comedy,30s,Long,M,50-55',\n",
       " 'Comedy,30s,Long,M,35-44',\n",
       " 'Comedy,30s,Long,M,45-49',\n",
       " 'Comedy,30s,Long,F,>56',\n",
       " 'Comedy,30s,Long,F,25-34',\n",
       " 'Comedy,30s,Long,F,50-55',\n",
       " 'Comedy,Short,90s,M,25-34,MN',\n",
       " 'Comedy,Short,90s,M,25-34,CA',\n",
       " 'Comedy,Short,90s,M,25-34,MA',\n",
       " 'Comedy,30s,Long,M,35-44,executive-managerial',\n",
       " 'Comedy,30s,Long,M,35-44,NY',\n",
       " 'Comedy,30s,Long,M,35-44,CA',\n",
       " 'Comedy,Short,90s,M,18-24,CA',\n",
       " 'Comedy,Short,90s,M,18-24,college-grad student',\n",
       " 'Comedy,Short,TX,90s',\n",
       " 'Comedy,Short,TX,M',\n",
       " 'Comedy,30s,retired,>56',\n",
       " 'Comedy,30s,retired,Long',\n",
       " 'Comedy,30s,PA,M',\n",
       " 'Comedy,30s,PA,Long',\n",
       " 'Comedy,30s,PA,M,Long',\n",
       " 'Comedy,30s,retired,>56,Long',\n",
       " 'Comedy,Short,NC,90s',\n",
       " 'Comedy,30s,retired,Long,M',\n",
       " 'Comedy,Short,TX,90s,M',\n",
       " 'Comedy,30s,Long,sales-marketing,M',\n",
       " 'Comedy,Short,90s,F,18-24,college-grad student',\n",
       " 'Comedy,Short,90s,F,25-34,CA',\n",
       " 'Comedy,30s,Long,F,25-34,CA',\n",
       " 'Comedy,Short,90s,M,35-44,technician-engineer',\n",
       " 'Comedy,K-12 student',\n",
       " 'Comedy,K-12 student,Long',\n",
       " 'Comedy,K-12 student,M',\n",
       " 'Comedy,K-12 student,2000s',\n",
       " 'Comedy,K-12 student,Long,2000s',\n",
       " 'Comedy,K-12 student,Long,M',\n",
       " 'Comedy,K-12 student,Long,90s',\n",
       " 'Comedy,K-12 student,2000s,<18',\n",
       " 'Comedy,K-12 student,2000s,F',\n",
       " 'Comedy,K-12 student,Long,2000s,<18',\n",
       " 'Comedy,K-12 student,Long,2000s,F',\n",
       " 'Comedy,K-12 student,Long,M,90s',\n",
       " 'Comedy,K-12 student,Long,M,<18',\n",
       " 'Comedy,K-12 student,M,<18',\n",
       " 'Comedy,K-12 student,M,90s',\n",
       " 'Comedy,K-12 student,M,<18,90s',\n",
       " 'Comedy,K-12 student,M,<18,90s',\n",
       " 'Comedy,K-12 student,Long,90s,<18',\n",
       " 'Comedy,AZ',\n",
       " 'Comedy,90s',\n",
       " 'Comedy,unemployed',\n",
       " 'Comedy,90s,KS',\n",
       " 'Comedy,90s,Long',\n",
       " 'Comedy,90s,LA',\n",
       " 'Comedy,90s,Long,LA',\n",
       " 'Comedy,90s,Long,M',\n",
       " 'Comedy,90s,Long,F',\n",
       " 'Comedy,90s,Long,M,35-44',\n",
       " 'Comedy,90s,Long,M,25-34',\n",
       " 'Comedy,90s,Long,M,18-24',\n",
       " 'Comedy,90s,Long,M,18-24,other',\n",
       " 'Comedy,90s,Long,M,18-24,writer',\n",
       " 'Comedy,90s,Long,M,18-24,college-grad student',\n",
       " 'Comedy,90s,Long,F,18-24',\n",
       " 'Comedy,90s,Long,F,25-34',\n",
       " 'Comedy,90s,Long,F,NJ',\n",
       " 'Comedy,90s,Long,F,18-24,MI',\n",
       " 'Comedy,90s,Long,F,18-24,college-grad student',\n",
       " 'Comedy,90s,Long,F,18-24,MN',\n",
       " 'Comedy,90s,Long,M,35-44,technician-engineer',\n",
       " 'Comedy,90s,Long,M,35-44,executive-managerial',\n",
       " 'Comedy,90s,Long,M,35-44,academic-educator',\n",
       " 'Comedy,90s,Long,F,25-34,CA',\n",
       " 'Comedy,90s,Long,F,25-34,TX',\n",
       " 'Comedy,90s,Long,F,25-34,NY',\n",
       " 'Comedy,90s,Long,M,25-34,CA',\n",
       " 'Comedy,90s,Long,M,25-34,NY',\n",
       " 'Comedy,90s,Long,M,25-34,MN',\n",
       " 'Comedy,90s,Long,M,25-34,CA,other',\n",
       " 'Comedy,90s,Long,M,25-34,CA,technician-engineer',\n",
       " 'Comedy,90s,Long,M,25-34,CA,writer',\n",
       " 'Comedy,90s,Long,M,18-24,college-grad student,MA',\n",
       " 'Comedy,90s,Long,M,18-24,college-grad student,NY',\n",
       " 'Comedy,90s,Long,M,18-24,college-grad student,MN',\n",
       " 'Comedy,unemployed,18-24',\n",
       " 'Comedy,unemployed,Long',\n",
       " 'Comedy,unemployed,2000s',\n",
       " 'Comedy,unemployed,Long,M',\n",
       " 'Comedy,unemployed,Long,2000s',\n",
       " 'Comedy,unemployed,Long,90s',\n",
       " 'Comedy,unemployed,Long,M,90s',\n",
       " 'Comedy,unemployed,Long,M,18-24',\n",
       " 'Comedy,unemployed,Long,M,2000s',\n",
       " 'Comedy,AZ,Long',\n",
       " 'Comedy,AZ,90s',\n",
       " 'Comedy,AZ,M',\n",
       " 'Comedy,AZ,Long,2000s',\n",
       " 'Comedy,AZ,Long,M',\n",
       " 'Comedy,AZ,Long,90s',\n",
       " 'Comedy,AZ,Long,M,25-34',\n",
       " 'Comedy,AZ,Long,M,90s',\n",
       " 'Comedy,AZ,90s,M',\n",
       " 'Comedy,AZ,90s,25-34',\n",
       " 'Comedy,AZ,M,2000s',\n",
       " 'Comedy,AZ,M,25-34',\n",
       " 'Comedy,unemployed,18-24,M',\n",
       " 'Comedy,unemployed,18-24,Long',\n",
       " 'Comedy,unemployed,18-24,90s',\n",
       " 'Comedy,90s,KS,Long',\n",
       " 'Comedy,90s,KS,M',\n",
       " 'Comedy,unemployed,18-24,M,90s',\n",
       " 'Comedy,AZ,Long,M,25-34,90s',\n",
       " 'Comedy,90s,Long,LA,M',\n",
       " 'Comedy,90s,LA,M',\n",
       " 'Comedy,90s,KS,Long,M',\n",
       " 'Comedy,unemployed,2000s,M',\n",
       " 'Comedy,AZ,Long,2000s,M',\n",
       " 'Comedy,unemployed,Long,M,90s,18-24',\n",
       " 'Comedy,unemployed,Long,90s,18-24',\n",
       " 'Comedy,AZ,90s,M,25-34',\n",
       " 'Comedy,AZ,Long,90s,25-34',\n",
       " 'Comedy,90s,Long,M,25-34,NY,other',\n",
       " 'Comedy,90s,Long,M,35-44,technician-engineer,CA']"
      ]
     },
     "execution_count": 48,
     "metadata": {},
     "output_type": "execute_result"
    }
   ],
   "source": [
    "ids = ['Comedy', 'Comedy,Short', 'Comedy,30s', 'Comedy,30s,PA', 'Comedy,30s,retired', 'Comedy,30s,Long', 'Comedy,30s,Long,M', 'Comedy,30s,Long,F', 'Comedy,30s,Long,sales-marketing', 'Comedy,Short,NC', 'Comedy,Short,TX', 'Comedy,Short,90s', 'Comedy,Short,90s,M', 'Comedy,Short,90s,PA', 'Comedy,Short,90s,F', 'Comedy,Short,90s,M,25-34', 'Comedy,Short,90s,M,18-24', 'Comedy,Short,90s,M,35-44', 'Comedy,Short,90s,F,25-34', 'Comedy,Short,90s,F,35-44', 'Comedy,Short,90s,F,18-24', 'Comedy,30s,Long,M,50-55', 'Comedy,30s,Long,M,35-44', 'Comedy,30s,Long,M,45-49', 'Comedy,30s,Long,F,>56', 'Comedy,30s,Long,F,25-34', 'Comedy,30s,Long,F,50-55', 'Comedy,Short,90s,M,25-34,MN', 'Comedy,Short,90s,M,25-34,CA', 'Comedy,Short,90s,M,25-34,MA', 'Comedy,30s,Long,M,35-44,executive-managerial', 'Comedy,30s,Long,M,35-44,NY', 'Comedy,30s,Long,M,35-44,CA', 'Comedy,Short,90s,M,18-24,CA', 'Comedy,Short,90s,M,18-24,college-grad student', 'Comedy,Short,TX,90s', 'Comedy,Short,TX,M', 'Comedy,30s,retired,>56', 'Comedy,30s,retired,Long', 'Comedy,30s,PA,M', 'Comedy,30s,PA,Long', 'Comedy,30s,PA,M,Long', 'Comedy,30s,retired,>56,Long', 'Comedy,Short,NC,90s', 'Comedy,30s,retired,Long,M', 'Comedy,Short,TX,90s,M', 'Comedy,30s,Long,sales-marketing,M', 'Comedy,Short,90s,F,18-24,college-grad student', 'Comedy,Short,90s,F,25-34,CA', 'Comedy,30s,Long,F,25-34,CA', 'Comedy,Short,90s,M,35-44,technician-engineer', 'Comedy,K-12 student', 'Comedy,K-12 student,Long', 'Comedy,K-12 student,M', 'Comedy,K-12 student,2000s', 'Comedy,K-12 student,Long,2000s', 'Comedy,K-12 student,Long,M', 'Comedy,K-12 student,Long,90s', 'Comedy,K-12 student,2000s,<18', 'Comedy,K-12 student,2000s,F', 'Comedy,K-12 student,Long,2000s,<18', 'Comedy,K-12 student,Long,2000s,F', 'Comedy,K-12 student,Long,M,90s', 'Comedy,K-12 student,Long,M,<18', 'Comedy,K-12 student,M,<18', 'Comedy,K-12 student,M,90s', 'Comedy,K-12 student,M,<18,90s', 'Comedy,K-12 student,M,<18,90s', 'Comedy,K-12 student,Long,90s,<18']\n",
    "labels = ['Comedy', 'Short', '30s', 'PA', 'retired', 'Long', 'M', 'F', 'sales-marketing', 'NC', 'TX', '90s', 'M', 'PA', 'F', '25-34', '18-24', '35-44', '25-34', '35-44', '18-24', '50-55', '35-44', '45-49', '>56', '25-34', '50-55', 'MN', 'CA', 'MA', 'executive-managerial', 'NY', 'CA', 'CA', 'college-grad student', '90s', 'M', '>56', 'Long', 'M', 'Long', 'Long', 'Long', '90s', 'M', 'M', 'M', 'college-grad student', 'CA', 'CA', 'technician-engineer', 'K-12 student', 'Long', 'M', '2000s', '2000s', 'M', '90s', '<18', 'F', '<18', 'F', '90s', '<18', '<18', '90s', '90s', '90s', '<18']\n",
    "color_sequence = ['', '#636EFA', '#636EFA', '#636EFA', '#636EFA', '#636EFA', '#636EFA', '#636EFA', '#636EFA', '#636EFA', '#636EFA', '#636EFA', '#636EFA', '#636EFA', '#636EFA', '#636EFA', '#636EFA', '#636EFA', '#636EFA', '#636EFA', '#636EFA', '#636EFA', '#636EFA', '#636EFA', '#636EFA', '#636EFA', '#636EFA', '#636EFA', '#636EFA', '#636EFA', '#636EFA', '#636EFA', '#636EFA', '#636EFA', '#636EFA', '#636EFA', '#636EFA', '#636EFA', '#636EFA', '#636EFA', '#636EFA', '#636EFA', '#636EFA', '#636EFA', '#636EFA', '#636EFA', '#636EFA', '#636EFA', '#636EFA', '#636EFA', '#636EFA', '#00CC96', '#00CC96', '#00CC96', '#00CC96', '#00CC96', '#00CC96', '#00CC96', '#00CC96', '#00CC96', '#00CC96', '#00CC96', '#00CC96', '#00CC96', '#00CC96', '#00CC96', '#00CC96', '#EF553B', '#00CC96']\n",
    "parents = ['', 'Comedy', 'Comedy', 'Comedy,30s', 'Comedy,30s', 'Comedy,30s', 'Comedy,30s,Long', 'Comedy,30s,Long', 'Comedy,30s,Long', 'Comedy,Short', 'Comedy,Short', 'Comedy,Short', 'Comedy,Short,90s', 'Comedy,Short,90s', 'Comedy,Short,90s', 'Comedy,Short,90s,M', 'Comedy,Short,90s,M', 'Comedy,Short,90s,M', 'Comedy,Short,90s,F', 'Comedy,Short,90s,F', 'Comedy,Short,90s,F', 'Comedy,30s,Long,M', 'Comedy,30s,Long,M', 'Comedy,30s,Long,M', 'Comedy,30s,Long,F', 'Comedy,30s,Long,F', 'Comedy,30s,Long,F', 'Comedy,Short,90s,M,25-34', 'Comedy,Short,90s,M,25-34', 'Comedy,Short,90s,M,25-34', 'Comedy,30s,Long,M,35-44', 'Comedy,30s,Long,M,35-44', 'Comedy,30s,Long,M,35-44', 'Comedy,Short,90s,M,18-24', 'Comedy,Short,90s,M,18-24', 'Comedy,Short,TX', 'Comedy,Short,TX', 'Comedy,30s,retired', 'Comedy,30s,retired', 'Comedy,30s,PA', 'Comedy,30s,PA', 'Comedy,30s,PA,M', 'Comedy,30s,retired,>56', 'Comedy,Short,NC', 'Comedy,30s,retired,Long', 'Comedy,Short,TX,90s', 'Comedy,30s,Long,sales-marketing', 'Comedy,Short,90s,F,18-24', 'Comedy,Short,90s,F,25-34', 'Comedy,30s,Long,F,25-34', 'Comedy,Short,90s,M,35-44', 'Comedy', 'Comedy,K-12 student', 'Comedy,K-12 student', 'Comedy,K-12 student', 'Comedy,K-12 student,Long', 'Comedy,K-12 student,Long', 'Comedy,K-12 student,Long', 'Comedy,K-12 student,2000s', 'Comedy,K-12 student,2000s', 'Comedy,K-12 student,Long,2000s', 'Comedy,K-12 student,Long,2000s', 'Comedy,K-12 student,Long,M', 'Comedy,K-12 student,Long,M', 'Comedy,K-12 student,M', 'Comedy,K-12 student,M', 'Comedy,K-12 student,M,<18', 'Comedy,K-12 student,M,<18', 'Comedy,K-12 student,Long,90s']\n",
    "user_counts = [6031, 1162, 1328, 32, 31, 1328, 919, 409, 56, 24, 41, 982, 716, 20, 266, 304, 140, 151, 95, 62, 54, 94, 231, 112, 27, 117, 45, 26, 67, 23, 41, 23, 47, 28, 64, 32, 29, 24, 31, 25, 32, 25, 24, 22, 24, 24, 38, 32, 32, 33, 25, 195, 195, 129, 142, 142, 129, 195, 120, 44, 120, 44, 129, 100, 100, 129, 100, 100, 163]\n",
    "\n",
    "ids2 = []\n",
    "labels2 = []\n",
    "color_sequence2 = []\n",
    "parents2 = []\n",
    "user_counts2 = []\n",
    "\n",
    "ids2 = ['Comedy,AZ', 'Comedy,90s', 'Comedy,unemployed', 'Comedy,90s,KS', 'Comedy,90s,Long', 'Comedy,90s,LA', 'Comedy,90s,Long,LA', 'Comedy,90s,Long,M', 'Comedy,90s,Long,F', 'Comedy,90s,Long,M,35-44', 'Comedy,90s,Long,M,25-34', 'Comedy,90s,Long,M,18-24', 'Comedy,90s,Long,M,18-24,other', 'Comedy,90s,Long,M,18-24,writer', 'Comedy,90s,Long,M,18-24,college-grad student', 'Comedy,90s,Long,F,18-24', 'Comedy,90s,Long,F,25-34', 'Comedy,90s,Long,F,NJ', 'Comedy,90s,Long,F,18-24,MI', 'Comedy,90s,Long,F,18-24,college-grad student', 'Comedy,90s,Long,F,18-24,MN', 'Comedy,90s,Long,M,35-44,technician-engineer', 'Comedy,90s,Long,M,35-44,executive-managerial', 'Comedy,90s,Long,M,35-44,academic-educator', 'Comedy,90s,Long,F,25-34,CA', 'Comedy,90s,Long,F,25-34,TX', 'Comedy,90s,Long,F,25-34,NY', 'Comedy,90s,Long,M,25-34,CA', 'Comedy,90s,Long,M,25-34,NY', 'Comedy,90s,Long,M,25-34,MN', 'Comedy,90s,Long,M,25-34,CA,other', 'Comedy,90s,Long,M,25-34,CA,technician-engineer', 'Comedy,90s,Long,M,25-34,CA,writer', 'Comedy,90s,Long,M,18-24,college-grad student,MA', 'Comedy,90s,Long,M,18-24,college-grad student,NY', 'Comedy,90s,Long,M,18-24,college-grad student,MN', 'Comedy,unemployed,18-24', 'Comedy,unemployed,Long', 'Comedy,unemployed,2000s', 'Comedy,unemployed,Long,M', 'Comedy,unemployed,Long,2000s', 'Comedy,unemployed,Long,90s', 'Comedy,unemployed,Long,M,90s', 'Comedy,unemployed,Long,M,18-24', 'Comedy,unemployed,Long,M,2000s', 'Comedy,AZ,Long', 'Comedy,AZ,90s', 'Comedy,AZ,M', 'Comedy,AZ,Long,2000s', 'Comedy,AZ,Long,M', 'Comedy,AZ,Long,90s', 'Comedy,AZ,Long,M,25-34', 'Comedy,AZ,Long,M,90s', 'Comedy,AZ,90s,M', 'Comedy,AZ,90s,25-34', 'Comedy,AZ,M,2000s', 'Comedy,AZ,M,25-34', 'Comedy,unemployed,18-24,M', 'Comedy,unemployed,18-24,Long', 'Comedy,unemployed,18-24,90s', 'Comedy,90s,KS,Long', 'Comedy,90s,KS,M', 'Comedy,unemployed,18-24,M,90s', 'Comedy,AZ,Long,M,25-34,90s', 'Comedy,90s,Long,LA,M', 'Comedy,90s,LA,M', 'Comedy,90s,KS,Long,M', 'Comedy,unemployed,2000s,M', 'Comedy,AZ,Long,2000s,M', 'Comedy,unemployed,Long,M,90s,18-24', 'Comedy,unemployed,Long,90s,18-24', 'Comedy,AZ,90s,M,25-34', 'Comedy,AZ,Long,90s,25-34', 'Comedy,90s,Long,M,25-34,NY,other', 'Comedy,90s,Long,M,35-44,technician-engineer,CA']\n",
    "labels2 = ['AZ', '90s', 'unemployed', 'KS', 'Long', 'LA', 'LA', 'M', 'F', '35-44', '25-34', '18-24', 'other', 'writer', 'college-grad student', '18-24', '25-34', 'NJ', 'MI', 'college-grad student', 'MN', 'technician-engineer', 'executive-managerial', 'academic-educator', 'CA', 'TX', 'NY', 'CA', 'NY', 'MN', 'other', 'technician-engineer', 'writer', 'MA', 'NY', 'MN', '18-24', 'Long', '2000s', 'M', '2000s', '90s', '90s', '18-24', '2000s', 'Long', '90s', 'M', '2000s', 'M', '90s', '25-34', '90s', 'M', '25-34', '2000s', '25-34', 'M', 'Long', '90s', 'Long', 'M', '90s', '90s', 'M', 'M', 'M', 'M', 'M', '18-24', '18-24', '25-34', '25-34', 'other', 'CA']\n",
    "color_sequence2 = ['#EF553B', '#EF553B', '#EF553B', '#EF553B', '#EF553B', '#EF553B', '#EF553B', '#EF553B', '#EF553B', '#EF553B', '#EF553B', '#EF553B', '#EF553B', '#EF553B', '#EF553B', '#EF553B', '#EF553B', '#EF553B', '#EF553B', '#EF553B', '#EF553B', '#EF553B', '#EF553B', '#EF553B', '#EF553B', '#EF553B', '#EF553B', '#EF553B', '#EF553B', '#EF553B', '#EF553B', '#EF553B', '#EF553B', '#EF553B', '#EF553B', '#EF553B', '#EF553B', '#EF553B', '#EF553B', '#EF553B', '#EF553B', '#EF553B', '#EF553B', '#EF553B', '#EF553B', '#EF553B', '#EF553B', '#EF553B', '#EF553B', '#EF553B', '#EF553B', '#EF553B', '#EF553B', '#EF553B', '#EF553B', '#EF553B', '#EF553B', '#EF553B', '#EF553B', '#EF553B', '#EF553B', '#EF553B', '#EF553B', '#EF553B', '#EF553B', '#EF553B', '#EF553B', '#EF553B', '#EF553B', '#EF553B', '#EF553B', '#EF553B', '#EF553B', '#EF553B', '#EF553B']\n",
    "parents2 = ['Comedy', 'Comedy', 'Comedy', 'Comedy,90s', 'Comedy,90s', 'Comedy,90s', 'Comedy,90s,Long', 'Comedy,90s,Long', 'Comedy,90s,Long', 'Comedy,90s,Long,M', 'Comedy,90s,Long,M', 'Comedy,90s,Long,M', 'Comedy,90s,Long,M,18-24', 'Comedy,90s,Long,M,18-24', 'Comedy,90s,Long,M,18-24', 'Comedy,90s,Long,F', 'Comedy,90s,Long,F', 'Comedy,90s,Long,F', 'Comedy,90s,Long,F,18-24', 'Comedy,90s,Long,F,18-24', 'Comedy,90s,Long,F,18-24', 'Comedy,90s,Long,M,35-44', 'Comedy,90s,Long,M,35-44', 'Comedy,90s,Long,M,35-44', 'Comedy,90s,Long,F,25-34', 'Comedy,90s,Long,F,25-34', 'Comedy,90s,Long,F,25-34', 'Comedy,90s,Long,M,25-34', 'Comedy,90s,Long,M,25-34', 'Comedy,90s,Long,M,25-34', 'Comedy,90s,Long,M,25-34,CA', 'Comedy,90s,Long,M,25-34,CA', 'Comedy,90s,Long,M,25-34,CA', 'Comedy,90s,Long,M,18-24,college-grad student', 'Comedy,90s,Long,M,18-24,college-grad student', 'Comedy,90s,Long,M,18-24,college-grad student', 'Comedy,unemployed', 'Comedy,unemployed', 'Comedy,unemployed', 'Comedy,unemployed,Long', 'Comedy,unemployed,Long', 'Comedy,unemployed,Long', 'Comedy,unemployed,Long,M', 'Comedy,unemployed,Long,M', 'Comedy,unemployed,Long,M', 'Comedy,AZ', 'Comedy,AZ', 'Comedy,AZ', 'Comedy,AZ,Long', 'Comedy,AZ,Long', 'Comedy,AZ,Long', 'Comedy,AZ,Long,M', 'Comedy,AZ,Long,M', 'Comedy,AZ,90s', 'Comedy,AZ,90s', 'Comedy,AZ,M', 'Comedy,AZ,M', 'Comedy,unemployed,18-24', 'Comedy,unemployed,18-24', 'Comedy,unemployed,18-24', 'Comedy,90s,KS', 'Comedy,90s,KS', 'Comedy,unemployed,18-24,M', 'Comedy,AZ,Long,M,25-34', 'Comedy,90s,Long,LA', 'Comedy,90s,LA', 'Comedy,90s,KS,Long', 'Comedy,unemployed,2000s', 'Comedy,AZ,Long,2000s', 'Comedy,unemployed,Long,M,90s', 'Comedy,unemployed,Long,90s', 'Comedy,AZ,90s,M', 'Comedy,AZ,Long,90s', 'Comedy,90s,Long,M,25-34,NY', 'Comedy,90s,Long,M,35-44,technician-engineer']\n",
    "user_counts2 = [83, 5907, 72, 38, 5903, 33, 33, 4238, 1665, 828, 1514, 800, 74, 35, 368, 296, 549, 34, 20, 162, 21, 109, 173, 74, 118, 31, 36, 289, 104, 115, 32, 47, 25, 23, 25, 24, 30, 72, 45, 57, 45, 72, 57, 24, 34, 83, 83, 58, 50, 58, 83, 24, 58, 58, 33, 36, 24, 24, 30, 30, 38, 29, 24, 24, 28, 28, 29, 34, 36, 24, 30, 24, 33, 21, 22]\n",
    "\n",
    "ids+ids2"
   ]
  },
  {
   "cell_type": "code",
   "execution_count": 17,
   "id": "fc094a13-2329-41ad-b028-ea037d715919",
   "metadata": {},
   "outputs": [
    {
     "data": {
      "text/html": [
       "<iframe\n",
       "    scrolling=\"no\"\n",
       "    width=\"100%\"\n",
       "    height=\"545px\"\n",
       "    src=\"iframe_figures/figure_17.html\"\n",
       "    frameborder=\"0\"\n",
       "    allowfullscreen\n",
       "></iframe>\n"
      ]
     },
     "metadata": {},
     "output_type": "display_data"
    }
   ],
   "source": [
    "# BookCrossing\n",
    "\n",
    "ids = ['Fiction', 'Fiction,philippines', 'Fiction,norway', 'Fiction,philippines,en', 'Fiction,philippines,90s', 'Fiction,norway,en', 'Fiction,philippines,en,90s']\n",
    "labels = ['Fiction', 'philippines', 'norway', 'en', '90s', 'en', '90s']\n",
    "color_sequence = ['', '#636EFA', '#636EFA', '#636EFA', '#636EFA', '#636EFA', '#636EFA']\n",
    "parents = ['', 'Fiction', 'Fiction', 'Fiction,philippines', 'Fiction,philippines', 'Fiction,norway', 'Fiction,philippines,en']\n",
    "user_counts = [46856, 35, 20, 35, 21, 20, 21]\n",
    "\n",
    "for index in [i for i, parent in enumerate(parents) if 'Fiction,norway' in parent]:\n",
    "    ids.pop(index)\n",
    "    labels.pop(index)\n",
    "    color_sequence.pop(index)\n",
    "    parents.pop(index)\n",
    "    user_counts.pop(index)\n",
    "\n",
    "\n",
    "def capitalize(l):\n",
    "    return [s.capitalize() if s != 'usa' else 'USA' for s in l]\n",
    "\n",
    "ids2 = ['Fiction,>56', 'Fiction,35-44', 'Fiction,80s', 'Fiction,35-44,en', 'Fiction,35-44,netherlands', 'Fiction,35-44,80s', 'Fiction,>56,en', 'Fiction,>56,canada', 'Fiction,>56,80s', 'Fiction,>56,en,usa', 'Fiction,>56,en,80s', 'Fiction,>56,en,canada', 'Fiction,35-44,en,usa', 'Fiction,35-44,en,netherlands', 'Fiction,35-44,en,80s', 'Fiction,>56,en,usa,80s', 'Fiction,>56,en,usa,90s', 'Fiction,>56,en,usa,70s', 'Fiction,80s,usa', 'Fiction,80s,en', 'Fiction,80s,50-55', 'Fiction,35-44,en,usa,2000s', 'Fiction,35-44,en,usa,90s', 'Fiction,35-44,en,usa,80s', 'Fiction,80s,usa,en', 'Fiction,80s,usa,50-55', 'Fiction,>56,canada,90s', 'Fiction,>56,canada,80s', 'Fiction,80s,usa,en,45-49', 'Fiction,80s,usa,en,50-55', 'Fiction,>56,80s,usa', 'Fiction,35-44,80s,usa', 'Fiction,35-44,en,netherlands,90s', 'Fiction,35-44,netherlands,90s', 'Fiction,>56,en,canada,90s', 'Fiction,>56,en,80s,canada', 'Fiction,80s,en,50-55']\n",
    "labels2 = ['>56', '35-44', '80s', 'en', 'netherlands', '80s', 'en', 'canada', '80s', 'usa', '80s', 'canada', 'usa', 'netherlands', '80s', '80s', '90s', '70s', 'usa', 'en', '50-55', '2000s', '90s', '80s', 'en', '50-55', '90s', '80s', '45-49', '50-55', 'usa', 'usa', '90s', '90s', '90s', 'canada', '50-55']\n",
    "color_sequence2 = ['#EF553B', '#EF553B', '#EF553B', '#EF553B', '#EF553B', '#EF553B', '#EF553B', '#EF553B', '#EF553B', '#EF553B', '#EF553B', '#EF553B', '#EF553B', '#EF553B', '#EF553B', '#EF553B', '#EF553B', '#EF553B', '#EF553B', '#EF553B', '#EF553B', '#EF553B', '#EF553B', '#EF553B', '#EF553B', '#EF553B', '#EF553B', '#EF553B', '#EF553B', '#EF553B', '#EF553B', '#EF553B', '#EF553B', '#EF553B', '#EF553B', '#EF553B', '#EF553B']\n",
    "parents2 = ['Fiction', 'Fiction', 'Fiction', 'Fiction,35-44', 'Fiction,35-44', 'Fiction,35-44', 'Fiction,>56', 'Fiction,>56', 'Fiction,>56', 'Fiction,>56,en', 'Fiction,>56,en', 'Fiction,>56,en', 'Fiction,35-44,en', 'Fiction,35-44,en', 'Fiction,35-44,en', 'Fiction,>56,en,usa', 'Fiction,>56,en,usa', 'Fiction,>56,en,usa', 'Fiction,80s', 'Fiction,80s', 'Fiction,80s', 'Fiction,35-44,en,usa', 'Fiction,35-44,en,usa', 'Fiction,35-44,en,usa', 'Fiction,80s,usa', 'Fiction,80s,usa', 'Fiction,>56,canada', 'Fiction,>56,canada', 'Fiction,80s,usa,en', 'Fiction,80s,usa,en', 'Fiction,>56,80s', 'Fiction,35-44,80s', 'Fiction,35-44,en,netherlands', 'Fiction,35-44,netherlands', 'Fiction,>56,en,canada', 'Fiction,>56,en,80s', 'Fiction,80s,en']\n",
    "user_counts2 = [3089, 6236, 9098, 6036, 51, 1409, 3073, 269, 485, 2578, 485, 269, 4595, 51, 1396, 388, 1530, 52, 6765, 8981, 442, 3121, 3044, 1060, 6765, 354, 182, 62, 353, 354, 388, 1060, 36, 36, 182, 62, 439]\n",
    "\n",
    "ids3 = ['Fiction,it', 'Fiction,en', 'Fiction,en,canada', 'Fiction,en,usa', 'Fiction,en,united kingdom', 'Fiction,en,canada,90s', 'Fiction,en,canada,50-55', 'Fiction,en,canada,<18', 'Fiction,en,canada,90s,35-44', 'Fiction,en,canada,90s,25-34', 'Fiction,en,canada,90s,18-24', 'Fiction,it,18-24', 'Fiction,it,35-44', 'Fiction,it,italy', 'Fiction,en,usa,<18', 'Fiction,en,usa,90s', 'Fiction,en,usa,60s', 'Fiction,en,usa,90s,25-34', 'Fiction,en,usa,90s,35-44', 'Fiction,en,usa,90s,18-24', 'Fiction,en,usa,60s,35-44', 'Fiction,en,usa,60s,18-24', 'Fiction,en,usa,60s,25-34', 'Fiction,en,united kingdom,<18', 'Fiction,en,united kingdom,70s', 'Fiction,en,united kingdom,2000s', 'Fiction,en,united kingdom,2000s,18-24', 'Fiction,en,united kingdom,2000s,25-34', 'Fiction,en,united kingdom,2000s,35-44', 'Fiction,en,canada,<18,80s', 'Fiction,en,canada,<18,90s', 'Fiction,en,canada,<18,2000s', 'Fiction,en,usa,<18,2000s', 'Fiction,en,usa,<18,80s', 'Fiction,en,usa,<18,90s', 'Fiction,en,canada,50-55,80s', 'Fiction,en,canada,50-55,2000s', 'Fiction,en,canada,50-55,90s', 'Fiction,it,italy,25-34', 'Fiction,it,italy,90s', 'Fiction,it,italy,2000s', 'Fiction,it,35-44,italy', 'Fiction,it,35-44,2000s', 'Fiction,it,35-44,90s', 'Fiction,it,italy,25-34,90s', 'Fiction,it,italy,25-34,2000s', 'Fiction,it,italy,90s,18-24', 'Fiction,it,italy,90s,35-44', 'Fiction,it,18-24,italy', 'Fiction,it,18-24,90s', 'Fiction,norway,en', 'Fiction,en,united kingdom,70s,25-34', 'Fiction,en,united kingdom,<18,90s']\n",
    "labels3 = ['it', 'en', 'canada', 'usa', 'united kingdom', '90s', '50-55', '<18', '35-44', '25-34', '18-24', '18-24', '35-44', 'italy', '<18', '90s', '60s', '25-34', '35-44', '18-24', '35-44', '18-24', '25-34', '<18', '70s', '2000s', '18-24', '25-34', '35-44', '80s', '90s', '2000s', '2000s', '80s', '90s', '80s', '2000s', '90s', '25-34', '90s', '2000s', 'italy', '2000s', '90s', '90s', '2000s', '18-24', '35-44', 'italy', '90s', 'en', '25-34', '90s']\n",
    "color_sequence3 = ['#00CC96', '#00CC96', '#00CC96', '#00CC96', '#00CC96', '#00CC96', '#00CC96', '#00CC96', '#00CC96', '#00CC96', '#00CC96', '#00CC96', '#00CC96', '#00CC96', '#00CC96', '#00CC96', '#00CC96', '#00CC96', '#00CC96', '#00CC96', '#00CC96', '#00CC96', '#00CC96', '#00CC96', '#00CC96', '#00CC96', '#00CC96', '#00CC96', '#00CC96', '#00CC96', '#00CC96', '#00CC96', '#00CC96', '#00CC96', '#00CC96', '#00CC96', '#00CC96', '#00CC96', '#00CC96', '#00CC96', '#00CC96', '#00CC96', '#00CC96', '#00CC96', '#00CC96', '#00CC96', '#00CC96', '#00CC96', '#00CC96', '#00CC96', '#00CC96', '#00CC96', '#00CC96']\n",
    "parents3 = ['Fiction', 'Fiction', 'Fiction,en', 'Fiction,en', 'Fiction,en', 'Fiction,en,canada', 'Fiction,en,canada', 'Fiction,en,canada', 'Fiction,en,canada,90s', 'Fiction,en,canada,90s', 'Fiction,en,canada,90s', 'Fiction,it', 'Fiction,it', 'Fiction,it', 'Fiction,en,usa', 'Fiction,en,usa', 'Fiction,en,usa', 'Fiction,en,usa,90s', 'Fiction,en,usa,90s', 'Fiction,en,usa,90s', 'Fiction,en,usa,60s', 'Fiction,en,usa,60s', 'Fiction,en,usa,60s', 'Fiction,en,united kingdom', 'Fiction,en,united kingdom', 'Fiction,en,united kingdom', 'Fiction,en,united kingdom,2000s', 'Fiction,en,united kingdom,2000s', 'Fiction,en,united kingdom,2000s', 'Fiction,en,canada,<18', 'Fiction,en,canada,<18', 'Fiction,en,canada,<18', 'Fiction,en,usa,<18', 'Fiction,en,usa,<18', 'Fiction,en,usa,<18', 'Fiction,en,canada,50-55', 'Fiction,en,canada,50-55', 'Fiction,en,canada,50-55', 'Fiction,it,italy', 'Fiction,it,italy', 'Fiction,it,italy', 'Fiction,it,35-44', 'Fiction,it,35-44', 'Fiction,it,35-44', 'Fiction,it,italy,25-34', 'Fiction,it,italy,25-34', 'Fiction,it,italy,90s', 'Fiction,it,italy,90s', 'Fiction,it,18-24', 'Fiction,it,18-24', 'Fiction,norway', 'Fiction,en,united kingdom,70s', 'Fiction,en,united kingdom,<18']\n",
    "user_counts3 = [411, 45615, 5002, 34693, 1527, 3417, 214, 102, 403, 2194, 308, 49, 63, 378, 885, 22145, 210, 13095, 3044, 1675, 38, 26, 104, 36, 55, 939, 124, 490, 175, 25, 56, 48, 465, 198, 519, 54, 130, 127, 256, 268, 151, 57, 25, 44, 178, 109, 36, 41, 49, 36, 20, 32, 20]\n",
    "\n",
    "\"\"\"\n",
    "ids2 = []\n",
    "labels2 = []\n",
    "color_sequence2 = []\n",
    "parents2 = []\n",
    "user_counts2 = []\n",
    "\n",
    "ids3 = []\n",
    "labels3 = []\n",
    "color_sequence3 = []\n",
    "parents3 = []\n",
    "user_counts3 = []\n",
    "\"\"\"\n",
    "\n",
    "fig =go.Figure(go.Sunburst(\n",
    "    ids=ids+ids2+ids3,\n",
    "    labels=capitalize(labels+labels2+labels3),\n",
    "    parents=parents+parents2+parents3,\n",
    "    #values=[6031, 5907, 5903, 4238, 800, 1665, 296, 828, 549, 1514, 289, 83, 72, 38, ],\n",
    "    marker=dict(colors=[hex_to_rgba(hex, get_opacity(user_count)) if hex != '' else '' for hex, user_count in zip(color_sequence+color_sequence2+color_sequence3, user_counts+user_counts2+user_counts3)])\n",
    "))\n",
    "fig.update_layout(margin = dict(t=0, l=0, r=0, b=0))\n",
    "\n",
    "fig.update_traces(leaf=dict(opacity = 1))\n",
    "\n",
    "fig.write_image(\"bookcrossing_sunburst.svg\")\n",
    "\n",
    "fig.show()"
   ]
  },
  {
   "cell_type": "code",
   "execution_count": 45,
   "id": "54ecb530-b9a4-4266-9481-9daba0453f1e",
   "metadata": {},
   "outputs": [
    {
     "data": {
      "text/html": [
       "<iframe\n",
       "    scrolling=\"no\"\n",
       "    width=\"100%\"\n",
       "    height=\"545px\"\n",
       "    src=\"iframe_figures/figure_45.html\"\n",
       "    frameborder=\"0\"\n",
       "    allowfullscreen\n",
       "></iframe>\n"
      ]
     },
     "metadata": {},
     "output_type": "display_data"
    }
   ],
   "source": [
    "# Yelp\n",
    "ids = ['', 'Pets', 'Religious Organizations', 'Religious Organizations,F', 'Religious Organizations,Mesa', 'Religious Organizations,M', 'Religious Organizations,F,popular', 'Religious Organizations,F,semipopular', 'Religious Organizations,F,unpopular', 'Pets,F', 'Pets,Tempe', 'Pets,popular', 'Pets,popular,M', 'Pets,popular,F', 'Pets,popular,Mesa', 'Pets,popular,F,Charlotte', 'Pets,popular,F,Phoenix', 'Pets,popular,F,Las Vegas', 'Religious Organizations,F,popular,Montréal', 'Religious Organizations,F,popular,Pittsburgh', 'Religious Organizations,F,popular,Las Vegas', 'Pets,F,Las Vegas', 'Pets,F,Phoenix', 'Pets,F,Charlotte', 'Religious Organizations,F,semipopular,Las Vegas', 'Religious Organizations,F,semipopular,Pittsburgh', 'Religious Organizations,F,semipopular,Montréal', 'Religious Organizations,M,Charlotte', 'Religious Organizations,M,semipopular', 'Religious Organizations,M,popular', 'Religious Organizations,M,popular,Pittsburgh', 'Religious Organizations,M,popular,Montréal', 'Religious Organizations,M,popular,Las Vegas', 'Religious Organizations,M,semipopular,Las Vegas', 'Religious Organizations,M,semipopular,Montréal', 'Religious Organizations,M,semipopular,Pittsburgh', 'Pets,Tempe,unpopular', 'Pets,Tempe,F', 'Pets,Tempe,semipopular', 'Pets,F,Las Vegas,semipopular', 'Pets,F,Las Vegas,unpopular', 'Religious Organizations,Mesa,semipopular', 'Religious Organizations,Mesa,M', 'Pets,Tempe,unpopular,F', 'Pets,popular,Mesa,F', 'Religious Organizations,Mesa,M,unpopular', 'Religious Organizations,M,Charlotte,semipopular', 'Religious Organizations,F,unpopular,Las Vegas', 'Pets,F,Charlotte,semipopular', 'Pets,Tempe,F,semipopular', 'Pets,F,Phoenix,semipopular']\n",
    "labels = ['Yelp', 'Pets', 'Religious Organizations', 'F', 'Mesa', 'M', 'popular', 'semipopular', 'unpopular', 'F', 'Tempe', 'popular', 'M', 'F', 'Mesa', 'Charlotte', 'Phoenix', 'Las Vegas', 'Montréal', 'Pittsburgh', 'Las Vegas', 'Las Vegas', 'Phoenix', 'Charlotte', 'Las Vegas', 'Pittsburgh', 'Montréal', 'Charlotte', 'semipopular', 'popular', 'Pittsburgh', 'Montréal', 'Las Vegas', 'Las Vegas', 'Montréal', 'Pittsburgh', 'unpopular', 'F', 'semipopular', 'semipopular', 'unpopular', 'semipopular', 'M', 'F', 'F', 'unpopular', 'semipopular', 'Las Vegas', 'semipopular', 'semipopular', 'semipopular']\n",
    "color_sequence = ['', '#636EFA', '#636EFA', '#636EFA', '#636EFA', '#636EFA', '#636EFA', '#636EFA', '#636EFA', '#636EFA', '#636EFA', '#636EFA', '#636EFA', '#636EFA', '#636EFA', '#636EFA', '#636EFA', '#636EFA', '#636EFA', '#636EFA', '#636EFA', '#636EFA', '#636EFA', '#636EFA', '#636EFA', '#636EFA', '#636EFA', '#636EFA', '#636EFA', '#636EFA', '#636EFA', '#636EFA', '#636EFA', '#636EFA', '#636EFA', '#636EFA', '#636EFA', '#636EFA', '#636EFA', '#636EFA', '#636EFA', '#636EFA', '#636EFA', '#636EFA', '#636EFA', '#636EFA', '#636EFA', '#636EFA', '#636EFA', '#636EFA', '#636EFA']\n",
    "parents = ['', 'Yelp', 'Yelp', 'Religious Organizations', 'Religious Organizations', 'Religious Organizations', 'Religious Organizations,F', 'Religious Organizations,F', 'Religious Organizations,F', 'Pets', 'Pets', 'Pets', 'Pets,popular', 'Pets,popular', 'Pets,popular', 'Pets,popular,F', 'Pets,popular,F', 'Pets,popular,F', 'Religious Organizations,F,popular', 'Religious Organizations,F,popular', 'Religious Organizations,F,popular', 'Pets,F', 'Pets,F', 'Pets,F', 'Religious Organizations,F,semipopular', 'Religious Organizations,F,semipopular', 'Religious Organizations,F,semipopular', 'Religious Organizations,M', 'Religious Organizations,M', 'Religious Organizations,M', 'Religious Organizations,M,popular', 'Religious Organizations,M,popular', 'Religious Organizations,M,popular', 'Religious Organizations,M,semipopular', 'Religious Organizations,M,semipopular', 'Religious Organizations,M,semipopular', 'Pets,Tempe', 'Pets,Tempe', 'Pets,Tempe', 'Pets,F,Las Vegas', 'Pets,F,Las Vegas', 'Religious Organizations,Mesa', 'Religious Organizations,Mesa', 'Pets,Tempe,unpopular', 'Pets,popular,Mesa', 'Religious Organizations,Mesa,M', 'Religious Organizations,M,Charlotte', 'Religious Organizations,F,unpopular', 'Pets,F,Charlotte', 'Pets,Tempe,F', 'Pets,F,Phoenix']\n",
    "user_counts = [1439009, 49706, 4322, 2601, 121, 1721, 572, 830, 1199, 34972, 2145, 2295, 671, 1624, 99, 156, 343, 527, 106, 95, 127, 10551, 6683, 2046, 234, 111, 55, 99, 598, 324, 51, 69, 67, 140, 52, 73, 1453, 1508, 554, 2834, 7190, 27, 39, 1029, 66, 25, 30, 352, 557, 387, 1702]\n",
    "\n",
    "ids2 = ['Mass Media', 'Mississauga', 'Hotels & Travel', 'Mass Media,Pittsburgh', 'Mass Media,unpopular', 'Mass Media,semipopular', 'Mass Media,unpopular,Cleveland', 'Mass Media,unpopular,M', 'Mass Media,unpopular,F', 'Hotels & Travel,Las Vegas', 'Hotels & Travel,Toronto', 'Hotels & Travel,Phoenix', 'Mississauga,Professional Services', 'Mississauga,Automotive', 'Mississauga,unpopular', 'Mississauga,unpopular,Hotels & Travel', 'Mississauga,unpopular,Restaurant', 'Mississauga,unpopular,Home Services', 'Hotels & Travel,Toronto,F', 'Hotels & Travel,Toronto,M', 'Hotels & Travel,Toronto,semipopular', 'Mississauga,Automotive,F', 'Mississauga,Automotive,unpopular', 'Mississauga,Automotive,semipopular', 'Hotels & Travel,Las Vegas,F', 'Hotels & Travel,Las Vegas,M', 'Hotels & Travel,Las Vegas,semipopular', 'Mass Media,semipopular,M', 'Mass Media,semipopular,Scottsdale', 'Mass Media,semipopular,Tempe', 'Mass Media,unpopular,M,Scottsdale', 'Mass Media,unpopular,M,Tempe', 'Mass Media,unpopular,M,Phoenix', 'Mass Media,unpopular,F,Scottsdale', 'Mass Media,unpopular,F,Phoenix', 'Mass Media,unpopular,F,Tempe', 'Hotels & Travel,Phoenix,semipopular', 'Hotels & Travel,Phoenix,M', 'Hotels & Travel,Phoenix,unpopular', 'Mississauga,unpopular,Home Services,M', 'Mississauga,unpopular,Home Services,F', 'Mississauga,unpopular,Hotels & Travel,M', 'Mississauga,unpopular,Hotels & Travel,F', 'Hotels & Travel,Phoenix,semipopular,F', 'Hotels & Travel,Phoenix,semipopular,M', 'Mississauga,unpopular,Restaurant,F', 'Mississauga,unpopular,Restaurant,M', 'Hotels & Travel,Las Vegas,M,unpopular', 'Hotels & Travel,Las Vegas,M,semipopular', 'Mississauga,Automotive,F,semipopular', 'Mississauga,Automotive,F,unpopular', 'Hotels & Travel,Toronto,M,unpopular', 'Hotels & Travel,Toronto,M,semipopular', 'Hotels & Travel,Las Vegas,F,semipopular', 'Hotels & Travel,Las Vegas,F,unpopular', 'Mass Media,Pittsburgh,M', 'Mass Media,Pittsburgh,unpopular', 'Mississauga,Professional Services,M', 'Mississauga,Professional Services,unpopular', 'Mass Media,semipopular,M,Phoenix', 'Mass Media,semipopular,M,Tempe', 'Mississauga,Professional Services,M,unpopular', 'Mississauga,Automotive,unpopular,M', 'Hotels & Travel,Phoenix,M,unpopular', 'Hotels & Travel,Phoenix,unpopular,F', 'Hotels & Travel,Toronto,F,unpopular', 'Mass Media,semipopular,Tempe,F']\n",
    "labels2 = ['Mass Media', 'Mississauga', 'Hotels & Travel', 'Pittsburgh', 'unpopular', 'semipopular', 'Cleveland', 'M', 'F', 'Las Vegas', 'Toronto', 'Phoenix', 'Professional Services', 'Automotive', 'unpopular', 'Hotels & Travel', 'Restaurant', 'Home Services', 'F', 'M', 'semipopular', 'F', 'unpopular', 'semipopular', 'F', 'M', 'semipopular', 'M', 'Scottsdale', 'Tempe', 'Scottsdale', 'Tempe', 'Phoenix', 'Scottsdale', 'Phoenix', 'Tempe', 'semipopular', 'M', 'unpopular', 'M', 'F', 'M', 'F', 'F', 'M', 'F', 'M', 'unpopular', 'semipopular', 'semipopular', 'unpopular', 'unpopular', 'semipopular', 'semipopular', 'unpopular', 'M', 'unpopular', 'M', 'unpopular', 'Phoenix', 'Tempe', 'unpopular', 'M', 'unpopular', 'F', 'unpopular', 'F']\n",
    "color_sequence2 = ['#EF553B', '#EF553B', '#EF553B', '#EF553B', '#EF553B', '#EF553B', '#EF553B', '#EF553B', '#EF553B', '#EF553B', '#EF553B', '#EF553B', '#EF553B', '#EF553B', '#EF553B', '#EF553B', '#EF553B', '#EF553B', '#EF553B', '#EF553B', '#EF553B', '#EF553B', '#EF553B', '#EF553B', '#EF553B', '#EF553B', '#EF553B', '#EF553B', '#EF553B', '#EF553B', '#EF553B', '#EF553B', '#EF553B', '#EF553B', '#EF553B', '#EF553B', '#EF553B', '#EF553B', '#EF553B', '#EF553B', '#EF553B', '#EF553B', '#EF553B', '#EF553B', '#EF553B', '#EF553B', '#EF553B', '#EF553B', '#EF553B', '#EF553B', '#EF553B', '#EF553B', '#EF553B', '#EF553B', '#EF553B', '#EF553B', '#EF553B', '#EF553B', '#EF553B', '#EF553B', '#EF553B', '#EF553B', '#EF553B', '#EF553B', '#EF553B', '#EF553B', '#EF553B']\n",
    "parents2 = ['Yelp', 'Yelp', 'Yelp', 'Mass Media', 'Mass Media', 'Mass Media', 'Mass Media,unpopular', 'Mass Media,unpopular', 'Mass Media,unpopular', 'Hotels & Travel', 'Hotels & Travel', 'Hotels & Travel', 'Mississauga', 'Mississauga', 'Mississauga', 'Mississauga,unpopular', 'Mississauga,unpopular', 'Mississauga,unpopular', 'Hotels & Travel,Toronto', 'Hotels & Travel,Toronto', 'Hotels & Travel,Toronto', 'Mississauga,Automotive', 'Mississauga,Automotive', 'Mississauga,Automotive', 'Hotels & Travel,Las Vegas', 'Hotels & Travel,Las Vegas', 'Hotels & Travel,Las Vegas', 'Mass Media,semipopular', 'Mass Media,semipopular', 'Mass Media,semipopular', 'Mass Media,unpopular,M', 'Mass Media,unpopular,M', 'Mass Media,unpopular,M', 'Mass Media,unpopular,F', 'Mass Media,unpopular,F', 'Mass Media,unpopular,F', 'Hotels & Travel,Phoenix', 'Hotels & Travel,Phoenix', 'Hotels & Travel,Phoenix', 'Mississauga,unpopular,Home Services', 'Mississauga,unpopular,Home Services', 'Mississauga,unpopular,Hotels & Travel', 'Mississauga,unpopular,Hotels & Travel', 'Hotels & Travel,Phoenix,semipopular', 'Hotels & Travel,Phoenix,semipopular', 'Mississauga,unpopular,Restaurant', 'Mississauga,unpopular,Restaurant', 'Hotels & Travel,Las Vegas,M', 'Hotels & Travel,Las Vegas,M', 'Mississauga,Automotive,F', 'Mississauga,Automotive,F', 'Hotels & Travel,Toronto,M', 'Hotels & Travel,Toronto,M', 'Hotels & Travel,Las Vegas,F', 'Hotels & Travel,Las Vegas,F', 'Mass Media,Pittsburgh', 'Mass Media,Pittsburgh', 'Mississauga,Professional Services', 'Mississauga,Professional Services', 'Mass Media,semipopular,M', 'Mass Media,semipopular,M', 'Mississauga,Professional Services,M', 'Mississauga,Automotive,unpopular', 'Hotels & Travel,Phoenix,M', 'Hotels & Travel,Phoenix,unpopular', 'Hotels & Travel,Toronto,F', 'Mass Media,semipopular,Tempe']\n",
    "user_counts2 = [3241, 19284, 199757, 59, 1843, 892, 32, 987, 856, 121040, 8049, 26482, 166, 871, 13843, 1359, 9893, 308, 4151, 3898, 2591, 316, 617, 189, 65490, 55550, 41547, 482, 37, 94, 70, 174, 225, 67, 191, 120, 7933, 12710, 15325, 175, 133, 817, 542, 3995, 3938, 4598, 5295, 31008, 19171, 74, 207, 2064, 1269, 22376, 33577, 37, 29, 71, 116, 84, 52, 53, 410, 7374, 7951, 1994, 42]\n",
    "\n",
    "\n",
    "ids3 = ['semipopular', 'unpopular', 'Mass Media,Pittsburgh', 'Mass Media,semipopular', 'Mass Media,unpopular', 'Mass Media,unpopular,F', 'Mass Media,unpopular,M', 'Mass Media,unpopular,Mesa', 'Mass Media,semipopular,M', 'Mass Media,semipopular,F', 'Mass Media,semipopular,Tempe', 'semipopular,Restaurant', 'semipopular,Financial Services', 'semipopular,Peoria', 'semipopular,Financial Services,F', 'semipopular,Financial Services,M', 'semipopular,Financial Services,Peoria', 'semipopular,Restaurant,F', 'semipopular,Restaurant,M', 'semipopular,Restaurant,Peoria', 'unpopular,Financial Services', 'unpopular,Restaurant', 'unpopular,Religious Organizations', 'unpopular,Financial Services,M', 'unpopular,Financial Services,F', 'unpopular,Financial Services,Calgary', 'unpopular,Restaurant,Mississauga', 'unpopular,Restaurant,M', 'unpopular,Restaurant,F', 'unpopular,Religious Organizations,M', 'unpopular,Religious Organizations,F', 'unpopular,Religious Organizations,Toronto', 'semipopular,Financial Services,F,Scottsdale', 'semipopular,Financial Services,F,Phoenix', 'semipopular,Financial Services,F,Las Vegas', 'unpopular,Financial Services,M,Las Vegas', 'unpopular,Financial Services,M,Scottsdale', 'unpopular,Financial Services,M,Phoenix', 'unpopular,Financial Services,F,Las Vegas', 'unpopular,Financial Services,F,Scottsdale', 'unpopular,Financial Services,F,Phoenix', 'semipopular,Peoria,Restaurants', 'semipopular,Peoria,Hotels & Travel', 'semipopular,Peoria,Professional Services', 'Mass Media,unpopular,F,Las Vegas', 'Mass Media,unpopular,F,Chandler', 'Mass Media,unpopular,F,Phoenix', 'semipopular,Financial Services,M,Las Vegas', 'semipopular,Financial Services,M,Charlotte', 'semipopular,Financial Services,M,Phoenix', 'unpopular,Restaurant,F,Phoenix', 'unpopular,Restaurant,F,Toronto', 'unpopular,Restaurant,F,Las Vegas', 'unpopular,Restaurant,M,Las Vegas', 'unpopular,Restaurant,M,Phoenix', 'unpopular,Restaurant,M,Toronto', 'Mass Media,unpopular,M,Chandler', 'Mass Media,unpopular,M,Las Vegas', 'Mass Media,unpopular,M,Phoenix', 'semipopular,Restaurant,F,Phoenix', 'semipopular,Restaurant,F,Las Vegas', 'semipopular,Restaurant,F,Peoria', 'semipopular,Restaurant,M,Las Vegas', 'semipopular,Restaurant,M,Phoenix', 'semipopular,Restaurant,M,Peoria', 'unpopular,Religious Organizations,M,Henderson', 'unpopular,Religious Organizations,M,Phoenix', 'unpopular,Religious Organizations,M,Las Vegas', 'unpopular,Religious Organizations,F,Toronto', 'unpopular,Religious Organizations,F,Charlotte', 'unpopular,Religious Organizations,F,Glendale', 'semipopular,Peoria,Hotels & Travel,M', 'semipopular,Peoria,Hotels & Travel,F', 'semipopular,Peoria,Restaurants,F', 'semipopular,Peoria,Restaurants,M', 'unpopular,Restaurant,Mississauga,M', 'unpopular,Restaurant,Mississauga,F', 'Mass Media,semipopular,F,Las Vegas', 'Mass Media,semipopular,F,Phoenix', 'Mass Media,semipopular,M,Phoenix', 'Mass Media,semipopular,M,Las Vegas', 'Mass Media,unpopular,Mesa,M', 'Mass Media,Pittsburgh,M', 'semipopular,Financial Services,Peoria,M', 'unpopular,Financial Services,Calgary,F', 'semipopular,Peoria,Professional Services,M']\n",
    "labels3 = ['semipopular', 'unpopular', 'Pittsburgh', 'semipopular', 'unpopular', 'F', 'M', 'Mesa', 'M', 'F', 'Tempe', 'Restaurant', 'Financial Services', 'Peoria', 'F', 'M', 'Peoria', 'F', 'M', 'Peoria', 'Financial Services', 'Restaurant', 'Religious Organizations', 'M', 'F', 'Calgary', 'Mississauga', 'M', 'F', 'M', 'F', 'Toronto', 'Scottsdale', 'Phoenix', 'Las Vegas', 'Las Vegas', 'Scottsdale', 'Phoenix', 'Las Vegas', 'Scottsdale', 'Phoenix', 'Restaurants', 'Hotels & Travel', 'Professional Services', 'Las Vegas', 'Chandler', 'Phoenix', 'Las Vegas', 'Charlotte', 'Phoenix', 'Phoenix', 'Toronto', 'Las Vegas', 'Las Vegas', 'Phoenix', 'Toronto', 'Chandler', 'Las Vegas', 'Phoenix', 'Phoenix', 'Las Vegas', 'Peoria', 'Las Vegas', 'Phoenix', 'Peoria', 'Henderson', 'Phoenix', 'Las Vegas', 'Toronto', 'Charlotte', 'Glendale', 'M', 'F', 'F', 'M', 'M', 'F', 'Las Vegas', 'Phoenix', 'Phoenix', 'Las Vegas', 'M', 'M', 'M', 'F', 'M']\n",
    "color_sequence3 = ['#00CC96', '#00CC96', '#00CC96', '#00CC96', '#00CC96', '#00CC96', '#00CC96', '#00CC96', '#00CC96', '#00CC96', '#00CC96', '#00CC96', '#00CC96', '#00CC96', '#00CC96', '#00CC96', '#00CC96', '#00CC96', '#00CC96', '#00CC96', '#00CC96', '#00CC96', '#00CC96', '#00CC96', '#00CC96', '#00CC96', '#00CC96', '#00CC96', '#00CC96', '#00CC96', '#00CC96', '#00CC96', '#00CC96', '#00CC96', '#00CC96', '#00CC96', '#00CC96', '#00CC96', '#00CC96', '#00CC96', '#00CC96', '#00CC96', '#00CC96', '#00CC96', '#00CC96', '#00CC96', '#00CC96', '#00CC96', '#00CC96', '#00CC96', '#00CC96', '#00CC96', '#00CC96', '#00CC96', '#00CC96', '#00CC96', '#00CC96', '#00CC96', '#00CC96', '#00CC96', '#00CC96', '#00CC96', '#00CC96', '#00CC96', '#00CC96', '#00CC96', '#00CC96', '#00CC96', '#00CC96', '#00CC96', '#00CC96', '#00CC96', '#00CC96', '#00CC96', '#00CC96', '#00CC96', '#00CC96', '#00CC96', '#00CC96', '#00CC96', '#00CC96', '#00CC96', '#00CC96', '#00CC96', '#00CC96', '#00CC96']\n",
    "parents3 = ['Yelp', 'Yelp', 'Mass Media', 'Mass Media', 'Mass Media', 'Mass Media,unpopular', 'Mass Media,unpopular', 'Mass Media,unpopular', 'Mass Media,semipopular', 'Mass Media,semipopular', 'Mass Media,semipopular', 'semipopular', 'semipopular', 'semipopular', 'semipopular,Financial Services', 'semipopular,Financial Services', 'semipopular,Financial Services', 'semipopular,Restaurant', 'semipopular,Restaurant', 'semipopular,Restaurant', 'unpopular', 'unpopular', 'unpopular', 'unpopular,Financial Services', 'unpopular,Financial Services', 'unpopular,Financial Services', 'unpopular,Restaurant', 'unpopular,Restaurant', 'unpopular,Restaurant', 'unpopular,Religious Organizations', 'unpopular,Religious Organizations', 'unpopular,Religious Organizations', 'semipopular,Financial Services,F', 'semipopular,Financial Services,F', 'semipopular,Financial Services,F', 'unpopular,Financial Services,M', 'unpopular,Financial Services,M', 'unpopular,Financial Services,M', 'unpopular,Financial Services,F', 'unpopular,Financial Services,F', 'unpopular,Financial Services,F', 'semipopular,Peoria', 'semipopular,Peoria', 'semipopular,Peoria', 'Mass Media,unpopular,F', 'Mass Media,unpopular,F', 'Mass Media,unpopular,F', 'semipopular,Financial Services,M', 'semipopular,Financial Services,M', 'semipopular,Financial Services,M', 'unpopular,Restaurant,F', 'unpopular,Restaurant,F', 'unpopular,Restaurant,F', 'unpopular,Restaurant,M', 'unpopular,Restaurant,M', 'unpopular,Restaurant,M', 'Mass Media,unpopular,M', 'Mass Media,unpopular,M', 'Mass Media,unpopular,M', 'semipopular,Restaurant,F', 'semipopular,Restaurant,F', 'semipopular,Restaurant,F', 'semipopular,Restaurant,M', 'semipopular,Restaurant,M', 'semipopular,Restaurant,M', 'unpopular,Religious Organizations,M', 'unpopular,Religious Organizations,M', 'unpopular,Religious Organizations,M', 'unpopular,Religious Organizations,F', 'unpopular,Religious Organizations,F', 'unpopular,Religious Organizations,F', 'semipopular,Peoria,Hotels & Travel', 'semipopular,Peoria,Hotels & Travel', 'semipopular,Peoria,Restaurants', 'semipopular,Peoria,Restaurants', 'unpopular,Restaurant,Mississauga', 'unpopular,Restaurant,Mississauga', 'Mass Media,semipopular,F', 'Mass Media,semipopular,F', 'Mass Media,semipopular,M', 'Mass Media,semipopular,M', 'Mass Media,unpopular,Mesa', 'Mass Media,Pittsburgh', 'semipopular,Financial Services,Peoria', 'unpopular,Financial Services,Calgary', 'semipopular,Peoria,Professional Services']\n",
    "user_counts3 = [1439009, 3241, 285678, 1114454, 59, 892, 1843, 856, 987, 39, 482, 410, 94, 232115, 5721, 6819, 2843, 2878, 61, 126216, 105899, 4293, 15407, 750262, 1998, 7720, 7687, 104, 9893, 361278, 388984, 799, 1199, 133, 228, 507, 1217, 2838, 653, 1441, 2768, 603, 1463, 4264, 221, 198, 193, 137, 191, 1147, 108, 508, 59282, 29817, 145819, 135492, 53799, 29146, 122, 214, 225, 20800, 66223, 2359, 54290, 18212, 1934, 97, 90, 201, 80, 53, 21, 100, 121, 2345, 1919, 5295, 4598, 132, 63, 84, 141, 26, 37, 32, 50, 94]\n",
    "\n",
    "has_mass_media = True\n",
    "\n",
    "while has_mass_media:\n",
    "    has_mass_media = False\n",
    "    for lbl_id, lbl in enumerate(ids3):\n",
    "        if 'Mass Media' in lbl:\n",
    "            ids3.pop(lbl_id)\n",
    "            labels3.pop(lbl_id)\n",
    "            parents3.pop(lbl_id)\n",
    "            user_counts3.pop(lbl_id)\n",
    "            color_sequence3.pop(lbl_id)\n",
    "            \n",
    "            has_mass_media = True\n",
    "            break\n",
    "\n",
    "\n",
    "\n",
    "def rename(l):\n",
    "    renamed_l = []\n",
    "    for lbl in l:\n",
    "        renamed_l.append(lbl.capitalize())\n",
    "    return renamed_l\n",
    "    \n",
    "\n",
    "fig = go.Figure(go.Sunburst(\n",
    "    ids=ids+ids2+ids3,\n",
    "    labels=rename(labels+labels2+labels3),\n",
    "    parents=parents+parents2+parents3,\n",
    "    #values=[6031, 5907, 5903, 4238, 800, 1665, 296, 828, 549, 1514, 289, 83, 72, 38, ],\n",
    "    marker=dict(colors=[hex_to_rgba(hex, get_opacity(user_count)) if hex != '' else '' for hex, user_count in zip(color_sequence+color_sequence2+color_sequence3, user_counts+user_counts2+user_counts3)])\n",
    "))\n",
    "fig.update_layout(margin = dict(t=0, l=0, r=0, b=0))\n",
    "\n",
    "fig.update_traces(leaf=dict(opacity = 1))\n",
    "\n",
    "# fig.write_image(\"fig.pdf\")\n",
    "fig.write_image(\"yelp_sunburst.svg\")\n",
    "\n",
    "fig.show()\n",
    "\n",
    "# import plotly\n",
    "# plotly.offline.plot(fig, filename='sunburst.pdf')"
   ]
  },
  {
   "cell_type": "code",
   "execution_count": null,
   "id": "9aa96f79-69ae-4df0-83e5-986a6ec736eb",
   "metadata": {},
   "outputs": [],
   "source": []
  },
  {
   "cell_type": "code",
   "execution_count": null,
   "id": "85ccb87b-7cd7-4e2d-9eb5-5fe1a02d902c",
   "metadata": {},
   "outputs": [],
   "source": []
  },
  {
   "cell_type": "code",
   "execution_count": 11,
   "id": "ebb13aaa-e46e-4a8b-99b2-b07796019a86",
   "metadata": {},
   "outputs": [
    {
     "data": {
      "text/html": [
       "<iframe\n",
       "    scrolling=\"no\"\n",
       "    width=\"100%\"\n",
       "    height=\"545px\"\n",
       "    src=\"iframe_figures/figure_11.html\"\n",
       "    frameborder=\"0\"\n",
       "    allowfullscreen\n",
       "></iframe>\n"
      ]
     },
     "metadata": {},
     "output_type": "display_data"
    }
   ],
   "source": [
    "occupation_renames = {\n",
    "    'executive-managerial': 'Executive',\n",
    "    'retired': 'Retired',\n",
    "    'college-grad student': 'College student',\n",
    "    'technician-engineer':  'Engineer',\n",
    "    'unemployed': 'Unemployed',\n",
    "    'academic-educator': 'Academic'\n",
    "}\n",
    "\n",
    "ids = ['Comedy', 'Comedy,Short', 'Comedy,30s', 'Comedy,30s,retired', 'Comedy,30s,Long', 'Comedy,30s,PA', 'Comedy,30s,Long,M', 'Comedy,30s,Long,retired', 'Comedy,30s,Long,F', 'Comedy,Short,90s', 'Comedy,Short,NC', 'Comedy,Short,TX', 'Comedy,Short,90s,F', 'Comedy,Short,90s,PA', 'Comedy,Short,90s,M', 'Comedy,Short,90s,M,25-34', 'Comedy,Short,90s,M,18-24', 'Comedy,Short,90s,M,35-44', 'Comedy,Short,90s,F,25-34', 'Comedy,Short,90s,F,35-44', 'Comedy,Short,90s,F,18-24', 'Comedy,30s,Long,M,50-55', 'Comedy,30s,Long,M,35-44', 'Comedy,30s,Long,M,45-49', 'Comedy,30s,Long,F,25-34', 'Comedy,30s,Long,F,50-55', 'Comedy,30s,Long,F,>56', 'Comedy,Short,90s,M,25-34,MN', 'Comedy,Short,90s,M,25-34,CA', 'Comedy,Short,90s,M,25-34,MA', 'Comedy,30s,Long,M,35-44,executive-managerial', 'Comedy,30s,Long,M,35-44,CA', 'Comedy,30s,Long,M,35-44,NY', 'Comedy,Short,90s,M,18-24,college-grad student', 'Comedy,Short,90s,M,18-24,CA', 'Comedy,Short,TX,90s', 'Comedy,Short,TX,M', 'Comedy,30s,retired,>56', 'Comedy,30s,retired,Long', 'Comedy,30s,retired,Long,>56', 'Comedy,30s,retired,Long,M', 'Comedy,30s,PA,Long', 'Comedy,30s,PA,M', 'Comedy,30s,PA,M,Long', 'Comedy,30s,retired,>56,Long', 'Comedy,Short,NC,90s', 'Comedy,Short,TX,M,90s', 'Comedy,30s,PA,Long,M', 'Comedy,30s,Long,retired,>56', 'Comedy,Short,TX,90s,M', 'Comedy,Short,90s,F,18-24,college-grad student', 'Comedy,Short,90s,F,25-34,CA', 'Comedy,30s,Long,F,25-34,CA', 'Comedy,Short,90s,M,35-44,technician-engineer', 'Comedy,K-12 student', 'Comedy,K-12 student,Long', 'Comedy,K-12 student,2000s', 'Comedy,K-12 student,M', 'Comedy,K-12 student,2000s,<18', 'Comedy,K-12 student,2000s,F', 'Comedy,K-12 student,2000s,Long', 'Comedy,K-12 student,Long,2000s', 'Comedy,K-12 student,Long,90s', 'Comedy,K-12 student,Long,M', 'Comedy,K-12 student,2000s,<18,F', 'Comedy,K-12 student,2000s,<18,Long', 'Comedy,K-12 student,2000s,Long,F', 'Comedy,K-12 student,2000s,Long,<18', 'Comedy,K-12 student,Long,2000s,<18', 'Comedy,K-12 student,Long,2000s,F', 'Comedy,K-12 student,Long,90s,M', 'Comedy,K-12 student,Long,90s,<18']\n",
    "labels = ['Comedy', 'Short', '30s', 'retired', 'Long', 'PA', 'M', 'retired', 'F', '90s', 'NC', 'TX', 'F', 'PA', 'M', '25-34', '18-24', '35-44', '25-34', '35-44', '18-24', '50-55', '35-44', '45-49', '25-34', '50-55', '>56', 'MN', 'CA', 'MA', 'executive-managerial', 'CA', 'NY', 'college-grad student', 'CA', '90s', 'M', '>56', 'Long', '>56', 'M', 'Long', 'M', 'Long', 'Long', '90s', '90s', 'M', '>56', 'M', 'college-grad student', 'CA', 'CA', 'technician-engineer', 'K-12 student', 'Long', '2000s', 'M', '<18', 'F', 'Long', '2000s', '90s', 'M', 'F', 'Long', 'F', '<18', '<18', 'F', 'M', '<18']\n",
    "color_sequence = ['', '#636EFA', '#636EFA', '#636EFA', '#636EFA', '#636EFA', '#636EFA', '#636EFA', '#636EFA', '#636EFA', '#636EFA', '#636EFA', '#636EFA', '#636EFA', '#636EFA', '#636EFA', '#636EFA', '#636EFA', '#636EFA', '#636EFA', '#636EFA', '#636EFA', '#636EFA', '#636EFA', '#636EFA', '#636EFA', '#636EFA', '#636EFA', '#636EFA', '#636EFA', '#636EFA', '#636EFA', '#636EFA', '#636EFA', '#636EFA', '#636EFA', '#636EFA', '#636EFA', '#636EFA', '#636EFA', '#636EFA', '#636EFA', '#636EFA', '#636EFA', '#636EFA', '#636EFA', '#636EFA', '#636EFA', '#636EFA', '#636EFA', '#636EFA', '#636EFA', '#636EFA', '#636EFA', '#00CC96', '#00CC96', '#00CC96', '#00CC96', '#00CC96', '#00CC96', '#00CC96', '#00CC96', '#00CC96', '#00CC96', '#00CC96', '#00CC96', '#00CC96', '#00CC96', '#00CC96', '#00CC96', '#00CC96', '#00CC96']\n",
    "parents = ['', 'Comedy', 'Comedy', 'Comedy,30s', 'Comedy,30s', 'Comedy,30s', 'Comedy,30s,Long', 'Comedy,30s,Long', 'Comedy,30s,Long', 'Comedy,Short', 'Comedy,Short', 'Comedy,Short', 'Comedy,Short,90s', 'Comedy,Short,90s', 'Comedy,Short,90s', 'Comedy,Short,90s,M', 'Comedy,Short,90s,M', 'Comedy,Short,90s,M', 'Comedy,Short,90s,F', 'Comedy,Short,90s,F', 'Comedy,Short,90s,F', 'Comedy,30s,Long,M', 'Comedy,30s,Long,M', 'Comedy,30s,Long,M', 'Comedy,30s,Long,F', 'Comedy,30s,Long,F', 'Comedy,30s,Long,F', 'Comedy,Short,90s,M,25-34', 'Comedy,Short,90s,M,25-34', 'Comedy,Short,90s,M,25-34', 'Comedy,30s,Long,M,35-44', 'Comedy,30s,Long,M,35-44', 'Comedy,30s,Long,M,35-44', 'Comedy,Short,90s,M,18-24', 'Comedy,Short,90s,M,18-24', 'Comedy,Short,TX', 'Comedy,Short,TX', 'Comedy,30s,retired', 'Comedy,30s,retired', 'Comedy,30s,retired,Long', 'Comedy,30s,retired,Long', 'Comedy,30s,PA', 'Comedy,30s,PA', 'Comedy,30s,PA,M', 'Comedy,30s,retired,>56', 'Comedy,Short,NC', 'Comedy,Short,TX,M', 'Comedy,30s,PA,Long', 'Comedy,30s,Long,retired', 'Comedy,Short,TX,90s', 'Comedy,Short,90s,F,18-24', 'Comedy,Short,90s,F,25-34', 'Comedy,30s,Long,F,25-34', 'Comedy,Short,90s,M,35-44', 'Comedy', 'Comedy,K-12 student', 'Comedy,K-12 student', 'Comedy,K-12 student', 'Comedy,K-12 student,2000s', 'Comedy,K-12 student,2000s', 'Comedy,K-12 student,2000s', 'Comedy,K-12 student,Long', 'Comedy,K-12 student,Long', 'Comedy,K-12 student,Long', 'Comedy,K-12 student,2000s,<18', 'Comedy,K-12 student,2000s,<18', 'Comedy,K-12 student,2000s,Long', 'Comedy,K-12 student,2000s,Long', 'Comedy,K-12 student,Long,2000s', 'Comedy,K-12 student,Long,2000s', 'Comedy,K-12 student,Long,90s', 'Comedy,K-12 student,Long,90s']\n",
    "user_counts = [6031, 1162, 1328, 31, 1328, 32, 919, 31, 409, 982, 24, 41, 266, 20, 716, 304, 140, 151, 95, 62, 54, 94, 231, 112, 117, 45, 27, 26, 67, 23, 41, 47, 23, 64, 28, 32, 29, 24, 31, 24, 24, 32, 25, 25, 24, 22, 24, 25, 24, 24, 32, 32, 33, 25, 195, 195, 142, 129, 120, 44, 142, 142, 195, 129, 44, 120, 44, 120, 120, 44, 129, 163]\n",
    "\n",
    "ids2 = ['Comedy,AZ', 'Comedy,90s', 'Comedy,unemployed', 'Comedy,90s,Long', 'Comedy,90s,LA', 'Comedy,90s,KS', 'Comedy,90s,Long,M', 'Comedy,90s,Long,F', 'Comedy,90s,Long,LA', 'Comedy,90s,Long,M,35-44', 'Comedy,90s,Long,M,18-24', 'Comedy,90s,Long,M,25-34', 'Comedy,90s,Long,M,18-24,college-grad student', 'Comedy,90s,Long,M,18-24,other', 'Comedy,90s,Long,M,18-24,writer', 'Comedy,90s,Long,F,18-24', 'Comedy,90s,Long,F,NJ', 'Comedy,90s,Long,F,25-34', 'Comedy,90s,Long,F,18-24,college-grad student', 'Comedy,90s,Long,F,18-24,MI', 'Comedy,90s,Long,F,18-24,MN', 'Comedy,90s,Long,M,35-44,executive-managerial', 'Comedy,90s,Long,M,35-44,academic-educator', 'Comedy,90s,Long,M,35-44,technician-engineer', 'Comedy,90s,Long,F,25-34,TX', 'Comedy,90s,Long,F,25-34,CA', 'Comedy,90s,Long,F,25-34,NY', 'Comedy,90s,Long,M,25-34,CA', 'Comedy,90s,Long,M,25-34,NY', 'Comedy,90s,Long,M,25-34,MN', 'Comedy,90s,Long,M,25-34,CA,writer', 'Comedy,90s,Long,M,25-34,CA,other', 'Comedy,90s,Long,M,25-34,CA,technician-engineer', 'Comedy,90s,Long,M,18-24,college-grad student,MA', 'Comedy,90s,Long,M,18-24,college-grad student,MN', 'Comedy,90s,Long,M,18-24,college-grad student,NY', 'Comedy,unemployed,2000s', 'Comedy,unemployed,18-24', 'Comedy,unemployed,Long', 'Comedy,unemployed,Long,2000s', 'Comedy,unemployed,Long,90s', 'Comedy,unemployed,Long,18-24', 'Comedy,AZ,M', 'Comedy,AZ,90s', 'Comedy,AZ,Long', 'Comedy,AZ,M,2000s', 'Comedy,AZ,M,Long', 'Comedy,AZ,M,25-34', 'Comedy,AZ,M,Long,25-34', 'Comedy,AZ,M,Long,2000s', 'Comedy,AZ,M,Long,90s', 'Comedy,AZ,Long,M', 'Comedy,AZ,Long,2000s', 'Comedy,AZ,Long,90s', 'Comedy,AZ,Long,M,2000s', 'Comedy,AZ,Long,M,90s', 'Comedy,AZ,Long,M,25-34', 'Comedy,unemployed,Long,90s,M', 'Comedy,unemployed,Long,90s,18-24', 'Comedy,AZ,Long,90s,M', 'Comedy,AZ,Long,90s,25-34', 'Comedy,unemployed,18-24,M', 'Comedy,unemployed,18-24,90s', 'Comedy,unemployed,18-24,Long', 'Comedy,AZ,90s,Long', 'Comedy,AZ,90s,M', 'Comedy,AZ,90s,M,25-34', 'Comedy,AZ,90s,M,Long', 'Comedy,AZ,90s,Long,M', 'Comedy,AZ,90s,Long,25-34', 'Comedy,unemployed,2000s,Long', 'Comedy,unemployed,2000s,M', 'Comedy,90s,KS,M', 'Comedy,90s,KS,Long', 'Comedy,unemployed,18-24,90s,M', 'Comedy,unemployed,18-24,90s,Long', 'Comedy,unemployed,Long,18-24,M', 'Comedy,unemployed,Long,18-24,90s', 'Comedy,unemployed,18-24,Long,M', 'Comedy,unemployed,18-24,Long,90s', 'Comedy,90s,LA,M', 'Comedy,90s,LA,Long', 'Comedy,unemployed,2000s,M,Long', 'Comedy,AZ,M,2000s,Long', 'Comedy,unemployed,18-24,90s,M,Long', 'Comedy,AZ,90s,M,25-34,Long']\n",
    "labels2 = ['AZ', '90s', 'unemployed', 'Long', 'LA', 'KS', 'M', 'F', 'LA', '35-44', '18-24', '25-34', 'college-grad student', 'other', 'writer', '18-24', 'NJ', '25-34', 'college-grad student', 'MI', 'MN', 'executive-managerial', 'academic-educator', 'technician-engineer', 'TX', 'CA', 'NY', 'CA', 'NY', 'MN', 'writer', 'other', 'technician-engineer', 'MA', 'MN', 'NY', '2000s', '18-24', 'Long', '2000s', '90s', '18-24', 'M', '90s', 'Long', '2000s', 'Long', '25-34', '25-34', '2000s', '90s', 'M', '2000s', '90s', '2000s', '90s', '25-34', 'M', '18-24', 'M', '25-34', 'M', '90s', 'Long', 'Long', 'M', '25-34', 'Long', 'M', '25-34', 'Long', 'M', 'M', 'Long', 'M', 'Long', 'M', '90s', 'M', '90s', 'M', 'Long', 'Long', 'Long', 'Long', 'Long']\n",
    "color_sequence2 = ['#EF553B', '#EF553B', '#EF553B', '#EF553B', '#EF553B', '#EF553B', '#EF553B', '#EF553B', '#EF553B', '#EF553B', '#EF553B', '#EF553B', '#EF553B', '#EF553B', '#EF553B', '#EF553B', '#EF553B', '#EF553B', '#EF553B', '#EF553B', '#EF553B', '#EF553B', '#EF553B', '#EF553B', '#EF553B', '#EF553B', '#EF553B', '#EF553B', '#EF553B', '#EF553B', '#EF553B', '#EF553B', '#EF553B', '#EF553B', '#EF553B', '#EF553B', '#EF553B', '#EF553B', '#EF553B', '#EF553B', '#EF553B', '#EF553B', '#EF553B', '#EF553B', '#EF553B', '#EF553B', '#EF553B', '#EF553B', '#EF553B', '#EF553B', '#EF553B', '#EF553B', '#EF553B', '#EF553B', '#EF553B', '#EF553B', '#EF553B', '#EF553B', '#EF553B', '#EF553B', '#EF553B', '#EF553B', '#EF553B', '#EF553B', '#EF553B', '#EF553B', '#EF553B', '#EF553B', '#EF553B', '#EF553B', '#EF553B', '#EF553B', '#EF553B', '#EF553B', '#EF553B', '#EF553B', '#EF553B', '#EF553B', '#EF553B', '#EF553B', '#EF553B', '#EF553B', '#EF553B', '#EF553B', '#EF553B', '#EF553B']\n",
    "parents2 = ['Comedy', 'Comedy', 'Comedy', 'Comedy,90s', 'Comedy,90s', 'Comedy,90s', 'Comedy,90s,Long', 'Comedy,90s,Long', 'Comedy,90s,Long', 'Comedy,90s,Long,M', 'Comedy,90s,Long,M', 'Comedy,90s,Long,M', 'Comedy,90s,Long,M,18-24', 'Comedy,90s,Long,M,18-24', 'Comedy,90s,Long,M,18-24', 'Comedy,90s,Long,F', 'Comedy,90s,Long,F', 'Comedy,90s,Long,F', 'Comedy,90s,Long,F,18-24', 'Comedy,90s,Long,F,18-24', 'Comedy,90s,Long,F,18-24', 'Comedy,90s,Long,M,35-44', 'Comedy,90s,Long,M,35-44', 'Comedy,90s,Long,M,35-44', 'Comedy,90s,Long,F,25-34', 'Comedy,90s,Long,F,25-34', 'Comedy,90s,Long,F,25-34', 'Comedy,90s,Long,M,25-34', 'Comedy,90s,Long,M,25-34', 'Comedy,90s,Long,M,25-34', 'Comedy,90s,Long,M,25-34,CA', 'Comedy,90s,Long,M,25-34,CA', 'Comedy,90s,Long,M,25-34,CA', 'Comedy,90s,Long,M,18-24,college-grad student', 'Comedy,90s,Long,M,18-24,college-grad student', 'Comedy,90s,Long,M,18-24,college-grad student', 'Comedy,unemployed', 'Comedy,unemployed', 'Comedy,unemployed', 'Comedy,unemployed,Long', 'Comedy,unemployed,Long', 'Comedy,unemployed,Long', 'Comedy,AZ', 'Comedy,AZ', 'Comedy,AZ', 'Comedy,AZ,M', 'Comedy,AZ,M', 'Comedy,AZ,M', 'Comedy,AZ,M,Long', 'Comedy,AZ,M,Long', 'Comedy,AZ,M,Long', 'Comedy,AZ,Long', 'Comedy,AZ,Long', 'Comedy,AZ,Long', 'Comedy,AZ,Long,M', 'Comedy,AZ,Long,M', 'Comedy,AZ,Long,M', 'Comedy,unemployed,Long,90s', 'Comedy,unemployed,Long,90s', 'Comedy,AZ,Long,90s', 'Comedy,AZ,Long,90s', 'Comedy,unemployed,18-24', 'Comedy,unemployed,18-24', 'Comedy,unemployed,18-24', 'Comedy,AZ,90s', 'Comedy,AZ,90s', 'Comedy,AZ,90s,M', 'Comedy,AZ,90s,M', 'Comedy,AZ,90s,Long', 'Comedy,AZ,90s,Long', 'Comedy,unemployed,2000s', 'Comedy,unemployed,2000s', 'Comedy,90s,KS', 'Comedy,90s,KS', 'Comedy,unemployed,18-24,90s', 'Comedy,unemployed,18-24,90s', 'Comedy,unemployed,Long,18-24', 'Comedy,unemployed,Long,18-24', 'Comedy,unemployed,18-24,Long', 'Comedy,unemployed,18-24,Long', 'Comedy,90s,LA', 'Comedy,90s,LA', 'Comedy,unemployed,2000s,M', 'Comedy,AZ,M,2000s', 'Comedy,unemployed,18-24,90s,M', 'Comedy,AZ,90s,M,25-34']\n",
    "user_counts2 = [83, 5907, 72, 5903, 33, 38, 4238, 1665, 33, 828, 800, 1514, 368, 74, 35, 296, 34, 549, 162, 20, 21, 173, 74, 109, 31, 118, 36, 289, 104, 115, 25, 32, 47, 23, 24, 25, 45, 30, 72, 45, 72, 30, 58, 83, 83, 36, 58, 24, 24, 36, 58, 58, 50, 83, 36, 58, 24, 57, 30, 58, 33, 24, 30, 30, 83, 58, 24, 58, 58, 33, 45, 34, 29, 38, 24, 30, 24, 30, 24, 30, 28, 33, 34, 36, 24, 24]\n",
    "\n",
    "\n",
    "def rename_occupations(l):\n",
    "    renamed_l = []\n",
    "    for lbl in l:\n",
    "        if lbl in occupation_renames:\n",
    "            renamed_l.append(occupation_renames[lbl])\n",
    "        else:\n",
    "            renamed_l.append(lbl)\n",
    "    return renamed_l\n",
    "    \n",
    "\n",
    "fig = go.Figure(go.Sunburst(\n",
    "    ids=ids+ids2,\n",
    "    labels=rename_occupations(labels+labels2),\n",
    "    parents=parents+parents2,\n",
    "    #values=[6031, 5907, 5903, 4238, 800, 1665, 296, 828, 549, 1514, 289, 83, 72, 38, ],\n",
    "    marker=dict(colors=[hex_to_rgba(hex, get_opacity(user_count)) if hex != '' else '' for hex, user_count in zip(color_sequence+color_sequence2, user_counts+user_counts2)])\n",
    "))\n",
    "fig.update_layout(margin = dict(t=0, l=0, r=0, b=0))\n",
    "\n",
    "fig.update_traces(leaf=dict(opacity = 1))\n",
    "\n",
    "# fig.write_image(\"fig.pdf\")\n",
    "fig.write_image(\"fig.svg\")\n",
    "\n",
    "fig.show()\n",
    "\n",
    "# import plotly\n",
    "# plotly.offline.plot(fig, filename='sunburst.pdf')"
   ]
  },
  {
   "cell_type": "code",
   "execution_count": 5,
   "id": "e6a07405-d88c-4dc1-8418-cfbdec97d912",
   "metadata": {},
   "outputs": [
    {
     "data": {
      "text/html": [
       "<iframe\n",
       "    scrolling=\"no\"\n",
       "    width=\"100%\"\n",
       "    height=\"545px\"\n",
       "    src=\"iframe_figures/figure_5.html\"\n",
       "    frameborder=\"0\"\n",
       "    allowfullscreen\n",
       "></iframe>\n"
      ]
     },
     "metadata": {},
     "output_type": "display_data"
    }
   ],
   "source": [
    "import plotly.graph_objects as go\n",
    "\n",
    "fig =go.Figure(go.Sunburst(\n",
    "    labels=[ \"Eve\", \"Cain\", \"Seth\", \"Enos\", \"Noam\", \"Abel\", \"Awan\", \"Enoch\", \"Azura\"],\n",
    "    parents=[\"\",    \"Eve\",  \"Eve\",  \"Seth\", \"Seth\", \"Eve\",  \"Eve\",  \"Awan\",  \"Eve\" ],\n",
    "    values=[  65,    14,     12,     10,     2,      6,      6,      4,       4],\n",
    "    branchvalues=\"total\",\n",
    "))\n",
    "fig.update_layout(margin = dict(t=0, l=0, r=0, b=0))\n",
    "\n",
    "fig.show()"
   ]
  },
  {
   "cell_type": "code",
   "execution_count": 13,
   "id": "2f1acb67-e08e-413c-8aca-7cf5314686bb",
   "metadata": {},
   "outputs": [
    {
     "data": {
      "text/html": [
       "<iframe\n",
       "    scrolling=\"no\"\n",
       "    width=\"100%\"\n",
       "    height=\"545px\"\n",
       "    src=\"iframe_figures/figure_13.html\"\n",
       "    frameborder=\"0\"\n",
       "    allowfullscreen\n",
       "></iframe>\n"
      ]
     },
     "metadata": {},
     "output_type": "display_data"
    }
   ],
   "source": [
    "import plotly.graph_objects as go\n",
    "\n",
    "fig =go.Figure(go.Sunburst(\n",
    "    ids=['Comedy', 'Comedy,90s', 'Comedy,90s,Long', 'Comedy,90s,Long,Males', 'Comedy,90s,Long,Males,18-24', 'Comedy,90s,Long,Females', 'Comedy,90s,Long,Females,18-24', 'Comedy,90s,Long,Males,35-44', 'Comedy,90s,Long,Females,25-34', 'Comedy,90s,Long,Males,25-34', 'Comedy,90s,Long,Males,25-34,California', 'Comedy,Arizon', 'Comedy,Unemployed', 'Comedy,90s,KS', 'Comedy,90s,LA'],\n",
    "    labels=['Comedy', '90s', 'Long', 'Males', '18-24', 'Females', '18-24', '35-44', '25-34', '25-34', 'California', 'Arizona', 'Unemployed', 'Kansas', 'LA'],\n",
    "    parents=['', 'Comedy', 'Comedy,90s', 'Comedy,90s,Long', 'Comedy,90s,Long,Males', 'Comedy,90s,Long', 'Comedy,90s,Long,Females', 'Comedy,90s,Long,Males', 'Comedy,90s,Long,Females', 'Comedy,90s,Long,Males', 'Comedy,90s,Long,Males,25-34', 'Comedy', 'Comedy', 'Comedy,90s', 'Comedy,90s'],\n",
    "    #values=[6031, 5907, 5903, 4238, 800, 1665, 296, 828, 549, 1514, 289, 83, 72, 38, ],\n",
    "    branchvalues=\"total\",\n",
    "))\n",
    "fig.update_layout(margin = dict(t=0, l=0, r=0, b=0))\n",
    "\n",
    "fig.show()"
   ]
  },
  {
   "cell_type": "code",
   "execution_count": 5,
   "id": "585f0b47-dcd9-4101-9970-d40e9ff59b7d",
   "metadata": {},
   "outputs": [
    {
     "data": {
      "text/html": [
       "<iframe\n",
       "    scrolling=\"no\"\n",
       "    width=\"100%\"\n",
       "    height=\"545px\"\n",
       "    src=\"iframe_figures/figure_5.html\"\n",
       "    frameborder=\"0\"\n",
       "    allowfullscreen\n",
       "></iframe>\n"
      ]
     },
     "metadata": {},
     "output_type": "display_data"
    }
   ],
   "source": [
    "import plotly.graph_objects as go\n",
    "\n",
    "fig =go.Figure(go.Sunburst(\n",
    "    ids=['Comedy', 'Comedy,90s', 'Comedy,90s,Long', 'Comedy,90s,Long,Males', 'Comedy,90s,Long,Males,18-24', 'Comedy,90s,Long,Females', 'Comedy,90s,Long,Females,18-24', 'Comedy,90s,Long,Males,35-44', 'Comedy,90s,Long,Females,25-34', 'Comedy,90s,Long,Males,25-34', 'Comedy,90s,Long,Males,25-34,California', 'Comedy,Arizon', 'Comedy,Unemployed', 'Comedy,90s,KS', 'Comedy,90s,LA'],\n",
    "    labels=['Comedy', '90s', 'Long', 'Males', '18-24', 'Females', '18-24', '35-44', '25-34', '25-34', 'California', 'Arizona', 'Unemployed', 'Kansas', 'LA'],\n",
    "    parents=['', 'Comedy', 'Comedy,90s', 'Comedy,90s,Long', 'Comedy,90s,Long,Males', 'Comedy,90s,Long', 'Comedy,90s,Long,Females', 'Comedy,90s,Long,Males', 'Comedy,90s,Long,Females', 'Comedy,90s,Long,Males', 'Comedy,90s,Long,Males,25-34', 'Comedy', 'Comedy', 'Comedy,90s', 'Comedy,90s'],\n",
    "    #values=[6031, 5907, 5903, 4238, 800, 1665, 296, 828, 549, 1514, 289, 83, 72, 38, ],\n",
    "    branchvalues=\"total\",\n",
    "))\n",
    "fig.update_layout(margin = dict(t=0, l=0, r=0, b=0))\n",
    "\n",
    "fig.show()"
   ]
  },
  {
   "cell_type": "code",
   "execution_count": 56,
   "id": "25e45597-0d5d-4a60-97b0-1716b59a2b9d",
   "metadata": {},
   "outputs": [
    {
     "data": {
      "text/html": [
       "<iframe\n",
       "    scrolling=\"no\"\n",
       "    width=\"100%\"\n",
       "    height=\"545px\"\n",
       "    src=\"iframe_figures/figure_56.html\"\n",
       "    frameborder=\"0\"\n",
       "    allowfullscreen\n",
       "></iframe>\n"
      ]
     },
     "metadata": {},
     "output_type": "display_data"
    }
   ],
   "source": [
    "import plotly.graph_objects as go\n",
    "\n",
    "color_discrete_sequence = ['', '#FFAA00', '#2D5F91','#819FBD','#819FBD','#91D4D2', '#96BEE6', '#C0D8F0','#E8655F','#F1A39F','#48B7B4']\n",
    "color_discrete_sequence = [''] + list(sns.color_palette().as_hex())\n",
    "\n",
    "fig =go.Figure(go.Sunburst(\n",
    "    ids=['Comedy', 'Comedy,90s', 'Comedy,90s,Long', 'Comedy,90s,Long,Males', 'Comedy,90s,Long,Males,18-24', 'Comedy,90s,Long,Females'],\n",
    "    labels=['Comedy', '90s', 'Long', 'Males', '18-24', 'Females'],\n",
    "    parents=['', 'Comedy', 'Comedy,90s', 'Comedy,90s,Long', 'Comedy,90s,Long,Males', 'Comedy,90s,Long'],\n",
    "    #values=[6031, 5907, 5903, 4238, 800, 1665, 296, 828, 549, 1514, 289, 83, 72, 38, ],\n",
    "    marker=dict(colors=color_discrete_sequence)\n",
    "))\n",
    "fig.update_layout(margin = dict(t=0, l=0, r=0, b=0))\n",
    "\n",
    "fig.show()"
   ]
  },
  {
   "cell_type": "code",
   "execution_count": 7,
   "id": "3b693048-0fa6-4285-87f6-4266894f13e4",
   "metadata": {},
   "outputs": [
    {
     "data": {
      "text/plain": [
       "'rgba(35, 169, 221, 1)'"
      ]
     },
     "execution_count": 7,
     "metadata": {},
     "output_type": "execute_result"
    }
   ],
   "source": [
    "from PIL import ImageColor\n",
    "\n",
    "def hex_to_rgba(hex, opacity):\n",
    "    r, g, b = ImageColor.getcolor(hex, 'RGB')\n",
    "    return f'rgba({r}, {g}, {b}, {opacity})'\n",
    "    \n",
    "hex_to_rgba('#23a9dd', 1)"
   ]
  },
  {
   "cell_type": "code",
   "execution_count": 8,
   "id": "101431ea-ff61-44df-a130-61c36bd31dde",
   "metadata": {},
   "outputs": [
    {
     "data": {
      "text/html": [
       "<iframe\n",
       "    scrolling=\"no\"\n",
       "    width=\"100%\"\n",
       "    height=\"545px\"\n",
       "    src=\"iframe_figures/figure_8.html\"\n",
       "    frameborder=\"0\"\n",
       "    allowfullscreen\n",
       "></iframe>\n"
      ]
     },
     "metadata": {},
     "output_type": "display_data"
    }
   ],
   "source": [
    "ids = ['Comedy', 'Comedy,90s', 'Comedy,AZ', 'Comedy,unemployed', 'Comedy,90s,Long', 'Comedy,90s,KS', 'Comedy,90s,LA', 'Comedy,90s,Long,F', 'Comedy,90s,Long,M', 'Comedy,90s,Long,LA', 'Comedy,90s,Long,M,35-44', 'Comedy,90s,Long,M,25-34', 'Comedy,90s,Long,M,18-24', 'Comedy,90s,Long,M,18-24,college-grad student', 'Comedy,90s,Long,M,18-24,other', 'Comedy,90s,Long,M,18-24,writer', 'Comedy,90s,Long,F,25-34', 'Comedy,90s,Long,F,18-24', 'Comedy,90s,Long,F,NJ', 'Comedy,90s,Long,F,18-24,college-grad student', 'Comedy,90s,Long,F,18-24,MI', 'Comedy,90s,Long,F,18-24,MN', 'Comedy,90s,Long,M,35-44,academic-educator', 'Comedy,90s,Long,M,35-44,executive-managerial', 'Comedy,90s,Long,M,35-44,technician-engineer', 'Comedy,90s,Long,F,25-34,CA', 'Comedy,90s,Long,F,25-34,TX', 'Comedy,90s,Long,F,25-34,NY', 'Comedy,90s,Long,M,25-34,CA', 'Comedy,90s,Long,M,25-34,NY', 'Comedy,90s,Long,M,25-34,MN', 'Comedy,90s,Long,M,25-34,CA,writer', 'Comedy,90s,Long,M,25-34,CA,other', 'Comedy,90s,Long,M,25-34,CA,technician-engineer', 'Comedy,90s,Long,M,18-24,college-grad student,MA', 'Comedy,90s,Long,M,18-24,college-grad student,MN', 'Comedy,90s,Long,M,18-24,college-grad student,NY', 'Comedy,unemployed,2000s', 'Comedy,unemployed,18-24', 'Comedy,unemployed,Long', 'Comedy,unemployed,Long,90s', 'Comedy,unemployed,Long,18-24', 'Comedy,unemployed,Long,2000s', 'Comedy,AZ,Long', 'Comedy,AZ,M', 'Comedy,AZ,90s', 'Comedy,AZ,M,25-34', 'Comedy,AZ,M,Long', 'Comedy,AZ,M,2000s', 'Comedy,AZ,M,Long,25-34', 'Comedy,AZ,M,Long,90s', 'Comedy,AZ,M,Long,2000s', 'Comedy,AZ,90s,Long', 'Comedy,AZ,90s,M', 'Comedy,AZ,90s,25-34', 'Comedy,AZ,Long,2000s', 'Comedy,AZ,Long,90s', 'Comedy,AZ,Long,M', 'Comedy,AZ,Long,M,2000s', 'Comedy,AZ,Long,M,90s', 'Comedy,AZ,Long,M,25-34', 'Comedy,AZ,90s,M,Long', 'Comedy,AZ,90s,M,25-34', 'Comedy,unemployed,Long,90s,M', 'Comedy,unemployed,Long,90s,18-24', 'Comedy,AZ,90s,Long,25-34', 'Comedy,AZ,90s,Long,M', 'Comedy,AZ,Long,90s,M', 'Comedy,AZ,Long,90s,25-34', 'Comedy,unemployed,18-24,90s', 'Comedy,unemployed,18-24,Long', 'Comedy,unemployed,18-24,M', 'Comedy,AZ,90s,25-34,Long', 'Comedy,AZ,90s,25-34,M', 'Comedy,unemployed,2000s,Long', 'Comedy,unemployed,2000s,M', 'Comedy,90s,KS,Long', 'Comedy,90s,KS,M', 'Comedy,unemployed,18-24,90s,Long', 'Comedy,unemployed,18-24,90s,M', 'Comedy,unemployed,18-24,Long,M', 'Comedy,unemployed,18-24,Long,90s', 'Comedy,unemployed,Long,18-24,M', 'Comedy,unemployed,Long,18-24,90s', 'Comedy,90s,LA,Long', 'Comedy,90s,LA,M', 'Comedy,Short', 'Comedy,30s', 'Comedy,30s,retired', 'Comedy,30s,PA', 'Comedy,30s,Long', 'Comedy,30s,Long,retired', 'Comedy,30s,Long,F', 'Comedy,30s,Long,M']\n",
    "labels = ['Comedy', '90s', 'AZ', 'unemployed', 'Long', 'KS', 'LA', 'F', 'M', 'LA', '35-44', '25-34', '18-24', 'college-grad student', 'other', 'writer', '25-34', '18-24', 'NJ', 'college-grad student', 'MI', 'MN', 'academic-educator', 'executive-managerial', 'technician-engineer', 'CA', 'TX', 'NY', 'CA', 'NY', 'MN', 'writer', 'other', 'technician-engineer', 'MA', 'MN', 'NY', '2000s', '18-24', 'Long', '90s', '18-24', '2000s', 'Long', 'M', '90s', '25-34', 'Long', '2000s', '25-34', '90s', '2000s', 'Long', 'M', '25-34', '2000s', '90s', 'M', '2000s', '90s', '25-34', 'Long', '25-34', 'M', '18-24', '25-34', 'M', 'M', '25-34', '90s', 'Long', 'M', 'Long', 'M', 'Long', 'M', 'Long', 'M', 'Long', 'M', 'M', '90s', 'M', '90s', 'Long', 'M', 'Short', '30s', 'retired', 'PA', 'Long', 'retired', 'F', 'M']\n",
    "color_sequence = ['', '#636EFA', '#636EFA', '#636EFA', '#636EFA', '#636EFA', '#636EFA', '#636EFA', '#636EFA', '#636EFA', '#636EFA', '#636EFA', '#636EFA', '#636EFA', '#636EFA', '#636EFA', '#636EFA', '#636EFA', '#636EFA', '#636EFA', '#636EFA', '#636EFA', '#636EFA', '#636EFA', '#636EFA', '#636EFA', '#636EFA', '#636EFA', '#636EFA', '#636EFA', '#636EFA', '#636EFA', '#636EFA', '#636EFA', '#636EFA', '#636EFA', '#636EFA', '#636EFA', '#636EFA', '#636EFA', '#636EFA', '#636EFA', '#636EFA', '#636EFA', '#636EFA', '#636EFA', '#636EFA', '#636EFA', '#636EFA', '#636EFA', '#636EFA', '#636EFA', '#636EFA', '#636EFA', '#636EFA', '#636EFA', '#636EFA', '#636EFA', '#636EFA', '#636EFA', '#636EFA', '#636EFA', '#636EFA', '#636EFA', '#636EFA', '#636EFA', '#636EFA', '#636EFA', '#636EFA', '#636EFA', '#636EFA', '#636EFA', '#636EFA', '#636EFA', '#636EFA', '#636EFA', '#636EFA', '#636EFA', '#636EFA', '#636EFA', '#636EFA', '#636EFA', '#636EFA', '#636EFA', '#636EFA', '#636EFA', '#EF553B', '#EF553B', '#EF553B', '#EF553B', '#EF553B', '#EF553B', '#EF553B', '#EF553B']\n",
    "parents = ['', 'Comedy', 'Comedy', 'Comedy', 'Comedy,90s', 'Comedy,90s', 'Comedy,90s', 'Comedy,90s,Long', 'Comedy,90s,Long', 'Comedy,90s,Long', 'Comedy,90s,Long,M', 'Comedy,90s,Long,M', 'Comedy,90s,Long,M', 'Comedy,90s,Long,M,18-24', 'Comedy,90s,Long,M,18-24', 'Comedy,90s,Long,M,18-24', 'Comedy,90s,Long,F', 'Comedy,90s,Long,F', 'Comedy,90s,Long,F', 'Comedy,90s,Long,F,18-24', 'Comedy,90s,Long,F,18-24', 'Comedy,90s,Long,F,18-24', 'Comedy,90s,Long,M,35-44', 'Comedy,90s,Long,M,35-44', 'Comedy,90s,Long,M,35-44', 'Comedy,90s,Long,F,25-34', 'Comedy,90s,Long,F,25-34', 'Comedy,90s,Long,F,25-34', 'Comedy,90s,Long,M,25-34', 'Comedy,90s,Long,M,25-34', 'Comedy,90s,Long,M,25-34', 'Comedy,90s,Long,M,25-34,CA', 'Comedy,90s,Long,M,25-34,CA', 'Comedy,90s,Long,M,25-34,CA', 'Comedy,90s,Long,M,18-24,college-grad student', 'Comedy,90s,Long,M,18-24,college-grad student', 'Comedy,90s,Long,M,18-24,college-grad student', 'Comedy,unemployed', 'Comedy,unemployed', 'Comedy,unemployed', 'Comedy,unemployed,Long', 'Comedy,unemployed,Long', 'Comedy,unemployed,Long', 'Comedy,AZ', 'Comedy,AZ', 'Comedy,AZ', 'Comedy,AZ,M', 'Comedy,AZ,M', 'Comedy,AZ,M', 'Comedy,AZ,M,Long', 'Comedy,AZ,M,Long', 'Comedy,AZ,M,Long', 'Comedy,AZ,90s', 'Comedy,AZ,90s', 'Comedy,AZ,90s', 'Comedy,AZ,Long', 'Comedy,AZ,Long', 'Comedy,AZ,Long', 'Comedy,AZ,Long,M', 'Comedy,AZ,Long,M', 'Comedy,AZ,Long,M', 'Comedy,AZ,90s,M', 'Comedy,AZ,90s,M', 'Comedy,unemployed,Long,90s', 'Comedy,unemployed,Long,90s', 'Comedy,AZ,90s,Long', 'Comedy,AZ,90s,Long', 'Comedy,AZ,Long,90s', 'Comedy,AZ,Long,90s', 'Comedy,unemployed,18-24', 'Comedy,unemployed,18-24', 'Comedy,unemployed,18-24', 'Comedy,AZ,90s,25-34', 'Comedy,AZ,90s,25-34', 'Comedy,unemployed,2000s', 'Comedy,unemployed,2000s', 'Comedy,90s,KS', 'Comedy,90s,KS', 'Comedy,unemployed,18-24,90s', 'Comedy,unemployed,18-24,90s', 'Comedy,unemployed,18-24,Long', 'Comedy,unemployed,18-24,Long', 'Comedy,unemployed,Long,18-24', 'Comedy,unemployed,Long,18-24', 'Comedy,90s,LA', 'Comedy,90s,LA', 'Comedy', 'Comedy', 'Comedy,30s', 'Comedy,30s', 'Comedy,30s', 'Comedy,30s,Long', 'Comedy,30s,Long', 'Comedy,30s,Long']\n",
    "user_counts = [6031, 5907, 83, 72, 5903, 38, 33, 1665, 4238, 33, 828, 1514, 800, 368, 74, 35, 549, 296, 34, 162, 20, 21, 74, 173, 109, 118, 31, 36, 289, 104, 115, 25, 32, 47, 23, 24, 25, 45, 30, 72, 72, 30, 45, 83, 58, 83, 24, 58, 36, 24, 58, 36, 83, 58, 33, 50, 83, 58, 36, 58, 24, 58, 24, 57, 30, 33, 58, 58, 33, 30, 30, 24, 33, 24, 45, 34, 38, 29, 30, 24, 24, 30, 24, 30, 33, 28, 1162, 1328, 31, 32, 1328, 31, 409, 919]\n",
    "\n",
    "def get_opacity(user_count):\n",
    "    max_opacity = 1\n",
    "    min_opacity = 0.15\n",
    "    total_users = 6040\n",
    "    opacity_step = (max_opacity - min_opacity) / total_users\n",
    "    return user_count * opacity_step + min_opacity\n",
    "\n",
    "fig =go.Figure(go.Sunburst(\n",
    "    ids=ids,\n",
    "    labels=labels,\n",
    "    parents=parents,\n",
    "    #values=[6031, 5907, 5903, 4238, 800, 1665, 296, 828, 549, 1514, 289, 83, 72, 38, ],\n",
    "    marker=dict(colors=[hex_to_rgba(hex, get_opacity(user_count)) if hex != '' else '' for hex, user_count in zip(color_sequence, user_counts)])\n",
    "))\n",
    "fig.update_layout(margin = dict(t=0, l=0, r=0, b=0))\n",
    "\n",
    "fig.update_traces(leaf=dict(opacity = 1))\n",
    "\n",
    "fig.show()"
   ]
  },
  {
   "cell_type": "code",
   "execution_count": null,
   "id": "424e6c7c-a38c-4795-b615-460cd0e9cad1",
   "metadata": {},
   "outputs": [],
   "source": []
  },
  {
   "cell_type": "code",
   "execution_count": null,
   "id": "fc6251f8-a0e8-4dc8-b232-ed64697a5310",
   "metadata": {},
   "outputs": [],
   "source": []
  },
  {
   "cell_type": "code",
   "execution_count": 17,
   "id": "d077da48-2eb2-4d8a-9408-05f0ac103b92",
   "metadata": {},
   "outputs": [
    {
     "data": {
      "text/plain": [
       "('Comedy,Long,90s,M,18-24', '18-24', 'Comedy,Long,90s,M')"
      ]
     },
     "execution_count": 17,
     "metadata": {},
     "output_type": "execute_result"
    }
   ],
   "source": [
    "ids[16], labels[16], parents[16]"
   ]
  },
  {
   "cell_type": "code",
   "execution_count": 21,
   "id": "78b198f0-768f-4d08-9e4e-a72f76ef3fbd",
   "metadata": {},
   "outputs": [
    {
     "data": {
      "text/html": [
       "<iframe\n",
       "    scrolling=\"no\"\n",
       "    width=\"100%\"\n",
       "    height=\"545px\"\n",
       "    src=\"iframe_figures/figure_21.html\"\n",
       "    frameborder=\"0\"\n",
       "    allowfullscreen\n",
       "></iframe>\n"
      ]
     },
     "metadata": {},
     "output_type": "display_data"
    }
   ],
   "source": [
    "ids = ['Comedy', 'Comedy,Short', 'Comedy,30s', 'Comedy,30s,retired', 'Comedy,30s,PA', 'Comedy,30s,Long', 'Comedy,30s,Long,M', 'Comedy,30s,Long,F', 'Comedy,30s,Long,retired', 'Comedy,Short,NC', 'Comedy,Short,TX', 'Comedy,Short,90s', 'Comedy,Short,90s,PA', 'Comedy,Short,90s,M', 'Comedy,Short,90s,F', 'Comedy,Short,90s,M,35-44', 'Comedy,Short,90s,M,18-24', 'Comedy,Short,90s,M,25-34', 'Comedy,Short,90s,F,35-44', 'Comedy,Short,90s,F,18-24', 'Comedy,Short,90s,F,25-34', 'Comedy,30s,Long,M,45-49', 'Comedy,30s,Long,M,50-55', 'Comedy,30s,Long,M,35-44', 'Comedy,30s,Long,F,>56', 'Comedy,30s,Long,F,25-34', 'Comedy,30s,Long,F,50-55', 'Comedy,Short,90s,M,25-34,MA', 'Comedy,Short,90s,M,25-34,CA', 'Comedy,Short,90s,M,25-34,MN', 'Comedy,30s,Long,M,35-44,CA', 'Comedy,30s,Long,M,35-44,NY', 'Comedy,30s,Long,M,35-44,executive-managerial', 'Comedy,Short,90s,M,18-24,college-grad student', 'Comedy,Short,90s,M,18-24,CA', 'Comedy,Short,TX,90s', 'Comedy,Short,TX,M', 'Comedy,30s,retired,>56', 'Comedy,30s,retired,Long', 'Comedy,30s,retired,Long,>56', 'Comedy,30s,retired,Long,M', 'Comedy,30s,PA,M', 'Comedy,30s,PA,Long', 'Comedy,30s,PA,M,Long', 'Comedy,30s,retired,>56,Long', 'Comedy,Short,NC,90s', 'Comedy,Short,TX,M,90s', 'Comedy,30s,PA,Long,M', 'Comedy,30s,Long,retired,>56', 'Comedy,Short,TX,90s,M', 'Comedy,Short,90s,F,18-24,college-grad student', 'Comedy,Short,90s,F,25-34,CA', 'Comedy,30s,Long,F,25-34,CA', 'Comedy,Short,90s,M,35-44,technician-engineer', 'Comedy,K-12 student', 'Comedy,K-12 student,M', 'Comedy,K-12 student,2000s', 'Comedy,K-12 student,Long', 'Comedy,K-12 student,2000s,<18', 'Comedy,K-12 student,2000s,Long', 'Comedy,K-12 student,2000s,F', 'Comedy,K-12 student,Long,M', 'Comedy,K-12 student,Long,2000s', 'Comedy,K-12 student,Long,90s', 'Comedy,K-12 student,2000s,<18,Long', 'Comedy,K-12 student,2000s,<18,F', 'Comedy,K-12 student,2000s,Long,<18', 'Comedy,K-12 student,2000s,Long,F', 'Comedy,K-12 student,Long,2000s,F', 'Comedy,K-12 student,Long,2000s,<18', 'Comedy,K-12 student,Long,90s,<18', 'Comedy,K-12 student,Long,90s,M']\n",
    "labels = ['Comedy', 'Short', '30s', 'retired', 'PA', 'Long', 'M', 'F', 'retired', 'NC', 'TX', '90s', 'PA', 'M', 'F', '35-44', '18-24', '25-34', '35-44', '18-24', '25-34', '45-49', '50-55', '35-44', '>56', '25-34', '50-55', 'MA', 'CA', 'MN', 'CA', 'NY', 'executive-managerial', 'college-grad student', 'CA', '90s', 'M', '>56', 'Long', '>56', 'M', 'M', 'Long', 'Long', 'Long', '90s', '90s', 'M', '>56', 'M', 'college-grad student', 'CA', 'CA', 'technician-engineer', 'K-12 student', 'M', '2000s', 'Long', '<18', 'Long', 'F', 'M', '2000s', '90s', 'Long', 'F', '<18', 'F', 'F', '<18', '<18', 'M']\n",
    "color_sequence = ['', '#636EFA', '#636EFA', '#636EFA', '#636EFA', '#636EFA', '#636EFA', '#636EFA', '#636EFA', '#636EFA', '#636EFA', '#636EFA', '#636EFA', '#636EFA', '#636EFA', '#636EFA', '#636EFA', '#636EFA', '#636EFA', '#636EFA', '#636EFA', '#636EFA', '#636EFA', '#636EFA', '#636EFA', '#636EFA', '#636EFA', '#636EFA', '#636EFA', '#636EFA', '#636EFA', '#636EFA', '#636EFA', '#636EFA', '#636EFA', '#636EFA', '#636EFA', '#636EFA', '#636EFA', '#636EFA', '#636EFA', '#636EFA', '#636EFA', '#636EFA', '#636EFA', '#636EFA', '#636EFA', '#636EFA', '#636EFA', '#636EFA', '#636EFA', '#636EFA', '#636EFA', '#636EFA', '#00CC96', '#00CC96', '#00CC96', '#00CC96', '#00CC96', '#00CC96', '#00CC96', '#00CC96', '#00CC96', '#00CC96', '#00CC96', '#00CC96', '#00CC96', '#00CC96', '#00CC96', '#00CC96', '#00CC96', '#00CC96']\n",
    "parents = ['', 'Comedy', 'Comedy', 'Comedy,30s', 'Comedy,30s', 'Comedy,30s', 'Comedy,30s,Long', 'Comedy,30s,Long', 'Comedy,30s,Long', 'Comedy,Short', 'Comedy,Short', 'Comedy,Short', 'Comedy,Short,90s', 'Comedy,Short,90s', 'Comedy,Short,90s', 'Comedy,Short,90s,M', 'Comedy,Short,90s,M', 'Comedy,Short,90s,M', 'Comedy,Short,90s,F', 'Comedy,Short,90s,F', 'Comedy,Short,90s,F', 'Comedy,30s,Long,M', 'Comedy,30s,Long,M', 'Comedy,30s,Long,M', 'Comedy,30s,Long,F', 'Comedy,30s,Long,F', 'Comedy,30s,Long,F', 'Comedy,Short,90s,M,25-34', 'Comedy,Short,90s,M,25-34', 'Comedy,Short,90s,M,25-34', 'Comedy,30s,Long,M,35-44', 'Comedy,30s,Long,M,35-44', 'Comedy,30s,Long,M,35-44', 'Comedy,Short,90s,M,18-24', 'Comedy,Short,90s,M,18-24', 'Comedy,Short,TX', 'Comedy,Short,TX', 'Comedy,30s,retired', 'Comedy,30s,retired', 'Comedy,30s,retired,Long', 'Comedy,30s,retired,Long', 'Comedy,30s,PA', 'Comedy,30s,PA', 'Comedy,30s,PA,M', 'Comedy,30s,retired,>56', 'Comedy,Short,NC', 'Comedy,Short,TX,M', 'Comedy,30s,PA,Long', 'Comedy,30s,Long,retired', 'Comedy,Short,TX,90s', 'Comedy,Short,90s,F,18-24', 'Comedy,Short,90s,F,25-34', 'Comedy,30s,Long,F,25-34', 'Comedy,Short,90s,M,35-44', 'Comedy', 'Comedy,K-12 student', 'Comedy,K-12 student', 'Comedy,K-12 student', 'Comedy,K-12 student,2000s', 'Comedy,K-12 student,2000s', 'Comedy,K-12 student,2000s', 'Comedy,K-12 student,Long', 'Comedy,K-12 student,Long', 'Comedy,K-12 student,Long', 'Comedy,K-12 student,2000s,<18', 'Comedy,K-12 student,2000s,<18', 'Comedy,K-12 student,2000s,Long', 'Comedy,K-12 student,2000s,Long', 'Comedy,K-12 student,Long,2000s', 'Comedy,K-12 student,Long,2000s', 'Comedy,K-12 student,Long,90s', 'Comedy,K-12 student,Long,90s']\n",
    "user_counts = [6031, 1162, 1328, 31, 32, 1328, 919, 409, 31, 24, 41, 982, 20, 716, 266, 151, 140, 304, 62, 54, 95, 112, 94, 231, 27, 117, 45, 23, 67, 26, 47, 23, 41, 64, 28, 32, 29, 24, 31, 24, 24, 25, 32, 25, 24, 22, 24, 25, 24, 24, 32, 32, 33, 25, 195, 129, 142, 195, 120, 142, 44, 129, 142, 195, 120, 44, 120, 44, 44, 120, 163, 129]\n",
    "\n",
    "def get_opacity(user_count):\n",
    "    max_opacity = 1\n",
    "    min_opacity = 0.15\n",
    "    total_users = 6040\n",
    "    opacity_step = (max_opacity - min_opacity) / total_users\n",
    "    return user_count * opacity_step + min_opacity\n",
    "\n",
    "fig =go.Figure(go.Sunburst(\n",
    "    ids=ids,\n",
    "    labels=labels,\n",
    "    parents=parents,\n",
    "    #values=[6031, 5907, 5903, 4238, 800, 1665, 296, 828, 549, 1514, 289, 83, 72, 38, ],\n",
    "    marker=dict(colors=[hex_to_rgba(hex, get_opacity(user_count)) if hex != '' else '' for hex, user_count in zip(color_sequence, user_counts)])\n",
    "))\n",
    "fig.update_layout(margin = dict(t=0, l=0, r=0, b=0))\n",
    "\n",
    "fig.update_traces(leaf=dict(opacity = 1))\n",
    "\n",
    "fig.show()"
   ]
  },
  {
   "cell_type": "code",
   "execution_count": 49,
   "id": "f8233bd5-cbee-480f-9e32-2be43e0134e7",
   "metadata": {},
   "outputs": [
    {
     "data": {
      "text/html": [
       "<iframe\n",
       "    scrolling=\"no\"\n",
       "    width=\"100%\"\n",
       "    height=\"545px\"\n",
       "    src=\"iframe_figures/figure_49.html\"\n",
       "    frameborder=\"0\"\n",
       "    allowfullscreen\n",
       "></iframe>\n"
      ]
     },
     "metadata": {},
     "output_type": "display_data"
    }
   ],
   "source": [
    "ids = ['Comedy', 'Comedy,Short', 'Comedy,30s', 'Comedy,30s,retired', 'Comedy,30s,Long', 'Comedy,30s,PA', 'Comedy,30s,Long,M', 'Comedy,30s,Long,retired', 'Comedy,30s,Long,F', 'Comedy,Short,90s', 'Comedy,Short,NC', 'Comedy,Short,TX', 'Comedy,Short,90s,F', 'Comedy,Short,90s,PA', 'Comedy,Short,90s,M', 'Comedy,Short,90s,M,25-34', 'Comedy,Short,90s,M,18-24', 'Comedy,Short,90s,M,35-44', 'Comedy,Short,90s,F,25-34', 'Comedy,Short,90s,F,35-44', 'Comedy,Short,90s,F,18-24', 'Comedy,30s,Long,M,50-55', 'Comedy,30s,Long,M,35-44', 'Comedy,30s,Long,M,45-49', 'Comedy,30s,Long,F,25-34', 'Comedy,30s,Long,F,50-55', 'Comedy,30s,Long,F,>56', 'Comedy,Short,90s,M,25-34,MN', 'Comedy,Short,90s,M,25-34,CA', 'Comedy,Short,90s,M,25-34,MA', 'Comedy,30s,Long,M,35-44,executive-managerial', 'Comedy,30s,Long,M,35-44,CA', 'Comedy,30s,Long,M,35-44,NY', 'Comedy,Short,90s,M,18-24,college-grad student', 'Comedy,Short,90s,M,18-24,CA', 'Comedy,Short,TX,90s', 'Comedy,Short,TX,M', 'Comedy,30s,retired,>56', 'Comedy,30s,retired,Long', 'Comedy,30s,retired,Long,>56', 'Comedy,30s,retired,Long,M', 'Comedy,30s,PA,Long', 'Comedy,30s,PA,M', 'Comedy,30s,PA,M,Long', 'Comedy,30s,retired,>56,Long', 'Comedy,Short,NC,90s', 'Comedy,Short,TX,M,90s', 'Comedy,30s,PA,Long,M', 'Comedy,30s,Long,retired,>56', 'Comedy,Short,TX,90s,M', 'Comedy,Short,90s,F,18-24,college-grad student', 'Comedy,Short,90s,F,25-34,CA', 'Comedy,30s,Long,F,25-34,CA', 'Comedy,Short,90s,M,35-44,technician-engineer', 'Comedy,K-12 student', 'Comedy,K-12 student,Long', 'Comedy,K-12 student,2000s', 'Comedy,K-12 student,M', 'Comedy,K-12 student,2000s,<18', 'Comedy,K-12 student,2000s,F', 'Comedy,K-12 student,2000s,Long', 'Comedy,K-12 student,Long,2000s', 'Comedy,K-12 student,Long,90s', 'Comedy,K-12 student,Long,M', 'Comedy,K-12 student,2000s,<18,F', 'Comedy,K-12 student,2000s,<18,Long', 'Comedy,K-12 student,2000s,Long,F', 'Comedy,K-12 student,2000s,Long,<18', 'Comedy,K-12 student,Long,2000s,<18', 'Comedy,K-12 student,Long,2000s,F', 'Comedy,K-12 student,Long,90s,M', 'Comedy,K-12 student,Long,90s,<18']\n",
    "labels = ['Comedy', 'Short', '30s', 'retired', 'Long', 'PA', 'M', 'retired', 'F', '90s', 'NC', 'TX', 'F', 'PA', 'M', '25-34', '18-24', '35-44', '25-34', '35-44', '18-24', '50-55', '35-44', '45-49', '25-34', '50-55', '>56', 'MN', 'CA', 'MA', 'executive-managerial', 'CA', 'NY', 'college-grad student', 'CA', '90s', 'M', '>56', 'Long', '>56', 'M', 'Long', 'M', 'Long', 'Long', '90s', '90s', 'M', '>56', 'M', 'college-grad student', 'CA', 'CA', 'technician-engineer', 'K-12 student', 'Long', '2000s', 'M', '<18', 'F', 'Long', '2000s', '90s', 'M', 'F', 'Long', 'F', '<18', '<18', 'F', 'M', '<18']\n",
    "color_sequence = ['', '#636EFA', '#636EFA', '#636EFA', '#636EFA', '#636EFA', '#636EFA', '#636EFA', '#636EFA', '#636EFA', '#636EFA', '#636EFA', '#636EFA', '#636EFA', '#636EFA', '#636EFA', '#636EFA', '#636EFA', '#636EFA', '#636EFA', '#636EFA', '#636EFA', '#636EFA', '#636EFA', '#636EFA', '#636EFA', '#636EFA', '#636EFA', '#636EFA', '#636EFA', '#636EFA', '#636EFA', '#636EFA', '#636EFA', '#636EFA', '#636EFA', '#636EFA', '#636EFA', '#636EFA', '#636EFA', '#636EFA', '#636EFA', '#636EFA', '#636EFA', '#636EFA', '#636EFA', '#636EFA', '#636EFA', '#636EFA', '#636EFA', '#636EFA', '#636EFA', '#636EFA', '#636EFA', '#00CC96', '#00CC96', '#00CC96', '#00CC96', '#00CC96', '#00CC96', '#00CC96', '#00CC96', '#00CC96', '#00CC96', '#00CC96', '#00CC96', '#00CC96', '#00CC96', '#00CC96', '#00CC96', '#00CC96', '#00CC96']\n",
    "parents = ['', 'Comedy', 'Comedy', 'Comedy,30s', 'Comedy,30s', 'Comedy,30s', 'Comedy,30s,Long', 'Comedy,30s,Long', 'Comedy,30s,Long', 'Comedy,Short', 'Comedy,Short', 'Comedy,Short', 'Comedy,Short,90s', 'Comedy,Short,90s', 'Comedy,Short,90s', 'Comedy,Short,90s,M', 'Comedy,Short,90s,M', 'Comedy,Short,90s,M', 'Comedy,Short,90s,F', 'Comedy,Short,90s,F', 'Comedy,Short,90s,F', 'Comedy,30s,Long,M', 'Comedy,30s,Long,M', 'Comedy,30s,Long,M', 'Comedy,30s,Long,F', 'Comedy,30s,Long,F', 'Comedy,30s,Long,F', 'Comedy,Short,90s,M,25-34', 'Comedy,Short,90s,M,25-34', 'Comedy,Short,90s,M,25-34', 'Comedy,30s,Long,M,35-44', 'Comedy,30s,Long,M,35-44', 'Comedy,30s,Long,M,35-44', 'Comedy,Short,90s,M,18-24', 'Comedy,Short,90s,M,18-24', 'Comedy,Short,TX', 'Comedy,Short,TX', 'Comedy,30s,retired', 'Comedy,30s,retired', 'Comedy,30s,retired,Long', 'Comedy,30s,retired,Long', 'Comedy,30s,PA', 'Comedy,30s,PA', 'Comedy,30s,PA,M', 'Comedy,30s,retired,>56', 'Comedy,Short,NC', 'Comedy,Short,TX,M', 'Comedy,30s,PA,Long', 'Comedy,30s,Long,retired', 'Comedy,Short,TX,90s', 'Comedy,Short,90s,F,18-24', 'Comedy,Short,90s,F,25-34', 'Comedy,30s,Long,F,25-34', 'Comedy,Short,90s,M,35-44', 'Comedy', 'Comedy,K-12 student', 'Comedy,K-12 student', 'Comedy,K-12 student', 'Comedy,K-12 student,2000s', 'Comedy,K-12 student,2000s', 'Comedy,K-12 student,2000s', 'Comedy,K-12 student,Long', 'Comedy,K-12 student,Long', 'Comedy,K-12 student,Long', 'Comedy,K-12 student,2000s,<18', 'Comedy,K-12 student,2000s,<18', 'Comedy,K-12 student,2000s,Long', 'Comedy,K-12 student,2000s,Long', 'Comedy,K-12 student,Long,2000s', 'Comedy,K-12 student,Long,2000s', 'Comedy,K-12 student,Long,90s', 'Comedy,K-12 student,Long,90s']\n",
    "user_counts = [6031, 1162, 1328, 31, 1328, 32, 919, 31, 409, 982, 24, 41, 266, 20, 716, 304, 140, 151, 95, 62, 54, 94, 231, 112, 117, 45, 27, 26, 67, 23, 41, 47, 23, 64, 28, 32, 29, 24, 31, 24, 24, 32, 25, 25, 24, 22, 24, 25, 24, 24, 32, 32, 33, 25, 195, 195, 142, 129, 120, 44, 142, 142, 195, 129, 44, 120, 44, 120, 120, 44, 129, 163]\n",
    "\n",
    "ids2 = ['Comedy,AZ', 'Comedy,90s', 'Comedy,unemployed', 'Comedy,90s,Long', 'Comedy,90s,LA', 'Comedy,90s,KS', 'Comedy,90s,Long,M', 'Comedy,90s,Long,F', 'Comedy,90s,Long,LA', 'Comedy,90s,Long,M,35-44', 'Comedy,90s,Long,M,18-24', 'Comedy,90s,Long,M,25-34', 'Comedy,90s,Long,M,18-24,college-grad student', 'Comedy,90s,Long,M,18-24,other', 'Comedy,90s,Long,M,18-24,writer', 'Comedy,90s,Long,F,18-24', 'Comedy,90s,Long,F,NJ', 'Comedy,90s,Long,F,25-34', 'Comedy,90s,Long,F,18-24,college-grad student', 'Comedy,90s,Long,F,18-24,MI', 'Comedy,90s,Long,F,18-24,MN', 'Comedy,90s,Long,M,35-44,executive-managerial', 'Comedy,90s,Long,M,35-44,academic-educator', 'Comedy,90s,Long,M,35-44,technician-engineer', 'Comedy,90s,Long,F,25-34,TX', 'Comedy,90s,Long,F,25-34,CA', 'Comedy,90s,Long,F,25-34,NY', 'Comedy,90s,Long,M,25-34,CA', 'Comedy,90s,Long,M,25-34,NY', 'Comedy,90s,Long,M,25-34,MN', 'Comedy,90s,Long,M,25-34,CA,writer', 'Comedy,90s,Long,M,25-34,CA,other', 'Comedy,90s,Long,M,25-34,CA,technician-engineer', 'Comedy,90s,Long,M,18-24,college-grad student,MA', 'Comedy,90s,Long,M,18-24,college-grad student,MN', 'Comedy,90s,Long,M,18-24,college-grad student,NY', 'Comedy,unemployed,2000s', 'Comedy,unemployed,18-24', 'Comedy,unemployed,Long', 'Comedy,unemployed,Long,2000s', 'Comedy,unemployed,Long,90s', 'Comedy,unemployed,Long,18-24', 'Comedy,AZ,M', 'Comedy,AZ,90s', 'Comedy,AZ,Long', 'Comedy,AZ,M,2000s', 'Comedy,AZ,M,Long', 'Comedy,AZ,M,25-34', 'Comedy,AZ,M,Long,25-34', 'Comedy,AZ,M,Long,2000s', 'Comedy,AZ,M,Long,90s', 'Comedy,AZ,Long,M', 'Comedy,AZ,Long,2000s', 'Comedy,AZ,Long,90s', 'Comedy,AZ,Long,M,2000s', 'Comedy,AZ,Long,M,90s', 'Comedy,AZ,Long,M,25-34', 'Comedy,unemployed,Long,90s,M', 'Comedy,unemployed,Long,90s,18-24', 'Comedy,AZ,Long,90s,M', 'Comedy,AZ,Long,90s,25-34', 'Comedy,unemployed,18-24,M', 'Comedy,unemployed,18-24,90s', 'Comedy,unemployed,18-24,Long', 'Comedy,AZ,90s,Long', 'Comedy,AZ,90s,M', 'Comedy,AZ,90s,M,25-34', 'Comedy,AZ,90s,M,Long', 'Comedy,AZ,90s,Long,M', 'Comedy,AZ,90s,Long,25-34', 'Comedy,unemployed,2000s,Long', 'Comedy,unemployed,2000s,M', 'Comedy,90s,KS,M', 'Comedy,90s,KS,Long', 'Comedy,unemployed,18-24,90s,M', 'Comedy,unemployed,18-24,90s,Long', 'Comedy,unemployed,Long,18-24,M', 'Comedy,unemployed,Long,18-24,90s', 'Comedy,unemployed,18-24,Long,M', 'Comedy,unemployed,18-24,Long,90s', 'Comedy,90s,LA,M', 'Comedy,90s,LA,Long', 'Comedy,unemployed,2000s,M,Long', 'Comedy,AZ,M,2000s,Long', 'Comedy,unemployed,18-24,90s,M,Long', 'Comedy,AZ,90s,M,25-34,Long']\n",
    "labels2 = ['AZ', '90s', 'unemployed', 'Long', 'LA', 'KS', 'M', 'F', 'LA', '35-44', '18-24', '25-34', 'college-grad student', 'other', 'writer', '18-24', 'NJ', '25-34', 'college-grad student', 'MI', 'MN', 'executive-managerial', 'academic-educator', 'technician-engineer', 'TX', 'CA', 'NY', 'CA', 'NY', 'MN', 'writer', 'other', 'technician-engineer', 'MA', 'MN', 'NY', '2000s', '18-24', 'Long', '2000s', '90s', '18-24', 'M', '90s', 'Long', '2000s', 'Long', '25-34', '25-34', '2000s', '90s', 'M', '2000s', '90s', '2000s', '90s', '25-34', 'M', '18-24', 'M', '25-34', 'M', '90s', 'Long', 'Long', 'M', '25-34', 'Long', 'M', '25-34', 'Long', 'M', 'M', 'Long', 'M', 'Long', 'M', '90s', 'M', '90s', 'M', 'Long', 'Long', 'Long', 'Long', 'Long']\n",
    "color_sequence2 = ['#EF553B', '#EF553B', '#EF553B', '#EF553B', '#EF553B', '#EF553B', '#EF553B', '#EF553B', '#EF553B', '#EF553B', '#EF553B', '#EF553B', '#EF553B', '#EF553B', '#EF553B', '#EF553B', '#EF553B', '#EF553B', '#EF553B', '#EF553B', '#EF553B', '#EF553B', '#EF553B', '#EF553B', '#EF553B', '#EF553B', '#EF553B', '#EF553B', '#EF553B', '#EF553B', '#EF553B', '#EF553B', '#EF553B', '#EF553B', '#EF553B', '#EF553B', '#EF553B', '#EF553B', '#EF553B', '#EF553B', '#EF553B', '#EF553B', '#EF553B', '#EF553B', '#EF553B', '#EF553B', '#EF553B', '#EF553B', '#EF553B', '#EF553B', '#EF553B', '#EF553B', '#EF553B', '#EF553B', '#EF553B', '#EF553B', '#EF553B', '#EF553B', '#EF553B', '#EF553B', '#EF553B', '#EF553B', '#EF553B', '#EF553B', '#EF553B', '#EF553B', '#EF553B', '#EF553B', '#EF553B', '#EF553B', '#EF553B', '#EF553B', '#EF553B', '#EF553B', '#EF553B', '#EF553B', '#EF553B', '#EF553B', '#EF553B', '#EF553B', '#EF553B', '#EF553B', '#EF553B', '#EF553B', '#EF553B', '#EF553B']\n",
    "parents2 = ['Comedy', 'Comedy', 'Comedy', 'Comedy,90s', 'Comedy,90s', 'Comedy,90s', 'Comedy,90s,Long', 'Comedy,90s,Long', 'Comedy,90s,Long', 'Comedy,90s,Long,M', 'Comedy,90s,Long,M', 'Comedy,90s,Long,M', 'Comedy,90s,Long,M,18-24', 'Comedy,90s,Long,M,18-24', 'Comedy,90s,Long,M,18-24', 'Comedy,90s,Long,F', 'Comedy,90s,Long,F', 'Comedy,90s,Long,F', 'Comedy,90s,Long,F,18-24', 'Comedy,90s,Long,F,18-24', 'Comedy,90s,Long,F,18-24', 'Comedy,90s,Long,M,35-44', 'Comedy,90s,Long,M,35-44', 'Comedy,90s,Long,M,35-44', 'Comedy,90s,Long,F,25-34', 'Comedy,90s,Long,F,25-34', 'Comedy,90s,Long,F,25-34', 'Comedy,90s,Long,M,25-34', 'Comedy,90s,Long,M,25-34', 'Comedy,90s,Long,M,25-34', 'Comedy,90s,Long,M,25-34,CA', 'Comedy,90s,Long,M,25-34,CA', 'Comedy,90s,Long,M,25-34,CA', 'Comedy,90s,Long,M,18-24,college-grad student', 'Comedy,90s,Long,M,18-24,college-grad student', 'Comedy,90s,Long,M,18-24,college-grad student', 'Comedy,unemployed', 'Comedy,unemployed', 'Comedy,unemployed', 'Comedy,unemployed,Long', 'Comedy,unemployed,Long', 'Comedy,unemployed,Long', 'Comedy,AZ', 'Comedy,AZ', 'Comedy,AZ', 'Comedy,AZ,M', 'Comedy,AZ,M', 'Comedy,AZ,M', 'Comedy,AZ,M,Long', 'Comedy,AZ,M,Long', 'Comedy,AZ,M,Long', 'Comedy,AZ,Long', 'Comedy,AZ,Long', 'Comedy,AZ,Long', 'Comedy,AZ,Long,M', 'Comedy,AZ,Long,M', 'Comedy,AZ,Long,M', 'Comedy,unemployed,Long,90s', 'Comedy,unemployed,Long,90s', 'Comedy,AZ,Long,90s', 'Comedy,AZ,Long,90s', 'Comedy,unemployed,18-24', 'Comedy,unemployed,18-24', 'Comedy,unemployed,18-24', 'Comedy,AZ,90s', 'Comedy,AZ,90s', 'Comedy,AZ,90s,M', 'Comedy,AZ,90s,M', 'Comedy,AZ,90s,Long', 'Comedy,AZ,90s,Long', 'Comedy,unemployed,2000s', 'Comedy,unemployed,2000s', 'Comedy,90s,KS', 'Comedy,90s,KS', 'Comedy,unemployed,18-24,90s', 'Comedy,unemployed,18-24,90s', 'Comedy,unemployed,Long,18-24', 'Comedy,unemployed,Long,18-24', 'Comedy,unemployed,18-24,Long', 'Comedy,unemployed,18-24,Long', 'Comedy,90s,LA', 'Comedy,90s,LA', 'Comedy,unemployed,2000s,M', 'Comedy,AZ,M,2000s', 'Comedy,unemployed,18-24,90s,M', 'Comedy,AZ,90s,M,25-34']\n",
    "user_counts2 = [83, 5907, 72, 5903, 33, 38, 4238, 1665, 33, 828, 800, 1514, 368, 74, 35, 296, 34, 549, 162, 20, 21, 173, 74, 109, 31, 118, 36, 289, 104, 115, 25, 32, 47, 23, 24, 25, 45, 30, 72, 45, 72, 30, 58, 83, 83, 36, 58, 24, 24, 36, 58, 58, 50, 83, 36, 58, 24, 57, 30, 58, 33, 24, 30, 30, 83, 58, 24, 58, 58, 33, 45, 34, 29, 38, 24, 30, 24, 30, 24, 30, 28, 33, 34, 36, 24, 24]\n",
    "\n",
    "\n",
    "{\n",
    "    '#636EFA': 'Mean greater than 4',\n",
    "    '#00CC96': 'Variance greater than 1.4',\n",
    "\n",
    "    \n",
    "}\n",
    "\n",
    "fig =go.Figure(go.Sunburst(\n",
    "    ids=ids+ids2,\n",
    "    labels=labels+labels2,\n",
    "    parents=parents+parents2,\n",
    "    #values=[6031, 5907, 5903, 4238, 800, 1665, 296, 828, 549, 1514, 289, 83, 72, 38, ],\n",
    "    marker=dict(colors=[hex_to_rgba(hex, get_opacity(user_count)) if hex != '' else '' for hex, user_count in zip(color_sequence+color_sequence2, user_counts+user_counts2)])\n",
    "))\n",
    "fig.update_layout(margin = dict(t=0, l=0, r=0, b=0))\n",
    "\n",
    "fig.update_traces(leaf=dict(opacity = 1))\n",
    "\n",
    "fig.show()"
   ]
  },
  {
   "cell_type": "code",
   "execution_count": 63,
   "id": "1d300846-76f8-4967-9429-9ed788e93886",
   "metadata": {},
   "outputs": [
    {
     "data": {
      "text/plain": [
       "[52]"
      ]
     },
     "execution_count": 63,
     "metadata": {},
     "output_type": "execute_result"
    }
   ],
   "source": [
    "[i for i, parent in enumerate(parents) if 'Fiction,norway' in parent]"
   ]
  },
  {
   "cell_type": "code",
   "execution_count": 70,
   "id": "736059d7-a769-49b2-ab4f-d594a9357e61",
   "metadata": {},
   "outputs": [
    {
     "data": {
      "text/html": [
       "<iframe\n",
       "    scrolling=\"no\"\n",
       "    width=\"100%\"\n",
       "    height=\"545px\"\n",
       "    src=\"iframe_figures/figure_70.html\"\n",
       "    frameborder=\"0\"\n",
       "    allowfullscreen\n",
       "></iframe>\n"
      ]
     },
     "metadata": {},
     "output_type": "display_data"
    }
   ],
   "source": [
    "ids = ['Fiction', 'Fiction,en', 'Fiction,it', 'Fiction,en,canada', 'Fiction,en,usa', 'Fiction,en,united kingdom', 'Fiction,en,canada,50-55', 'Fiction,en,canada,90s', 'Fiction,en,canada,<18', 'Fiction,en,canada,90s,18-24', 'Fiction,en,canada,90s,35-44', 'Fiction,en,canada,90s,25-34', 'Fiction,it,35-44', 'Fiction,it,italy', 'Fiction,it,18-24', 'Fiction,it,italy,2000s', 'Fiction,it,italy,18-24', 'Fiction,it,italy,90s', 'Fiction,it,italy,90s,18-24', 'Fiction,it,italy,90s,25-34', 'Fiction,it,italy,90s,35-44', 'Fiction,en,usa,<18', 'Fiction,en,usa,60s', 'Fiction,en,usa,90s', 'Fiction,en,usa,90s,35-44', 'Fiction,en,usa,90s,18-24', 'Fiction,en,usa,90s,25-34', 'Fiction,en,usa,60s,35-44', 'Fiction,en,usa,60s,18-24', 'Fiction,en,usa,60s,25-34', 'Fiction,en,united kingdom,<18', 'Fiction,en,united kingdom,2000s', 'Fiction,en,united kingdom,70s', 'Fiction,en,united kingdom,2000s,18-24', 'Fiction,en,united kingdom,2000s,35-44', 'Fiction,en,united kingdom,2000s,25-34', 'Fiction,en,canada,<18,2000s', 'Fiction,en,canada,<18,90s', 'Fiction,en,canada,<18,80s', 'Fiction,en,usa,<18,2000s', 'Fiction,en,usa,<18,80s', 'Fiction,en,usa,<18,90s', 'Fiction,en,canada,50-55,80s', 'Fiction,en,canada,50-55,90s', 'Fiction,en,canada,50-55,2000s', 'Fiction,it,35-44,2000s', 'Fiction,it,35-44,90s', 'Fiction,it,35-44,italy', 'Fiction,it,18-24,90s', 'Fiction,it,18-24,italy', 'Fiction,it,18-24,90s,italy', 'Fiction,norway,en', 'Fiction,it,35-44,90s,italy', 'Fiction,it,35-44,2000s,italy', 'Fiction,it,italy,18-24,90s', 'Fiction,it,18-24,italy,90s', 'Fiction,it,italy,2000s,25-34', 'Fiction,it,35-44,italy,90s', 'Fiction,en,united kingdom,70s,25-34', 'Fiction,en,united kingdom,<18,90s']\n",
    "labels = ['Fiction', 'en', 'it', 'canada', 'usa', 'united kingdom', '50-55', '90s', '<18', '18-24', '35-44', '25-34', '35-44', 'italy', '18-24', '2000s', '18-24', '90s', '18-24', '25-34', '35-44', '<18', '60s', '90s', '35-44', '18-24', '25-34', '35-44', '18-24', '25-34', '<18', '2000s', '70s', '18-24', '35-44', '25-34', '2000s', '90s', '80s', '2000s', '80s', '90s', '80s', '90s', '2000s', '2000s', '90s', 'italy', '90s', 'italy', 'italy', 'en', 'italy', 'italy', '90s', '90s', '25-34', '90s', '25-34', '90s']\n",
    "color_sequence = ['', '#00CC96', '#00CC96', '#00CC96', '#00CC96', '#00CC96', '#00CC96', '#00CC96', '#00CC96', '#00CC96', '#00CC96', '#00CC96', '#00CC96', '#00CC96', '#00CC96', '#00CC96', '#00CC96', '#00CC96', '#00CC96', '#00CC96', '#00CC96', '#00CC96', '#00CC96', '#00CC96', '#00CC96', '#00CC96', '#00CC96', '#00CC96', '#00CC96', '#00CC96', '#00CC96', '#00CC96', '#00CC96', '#00CC96', '#00CC96', '#00CC96', '#00CC96', '#00CC96', '#00CC96', '#00CC96', '#00CC96', '#00CC96', '#00CC96', '#00CC96', '#00CC96', '#00CC96', '#00CC96', '#00CC96', '#00CC96', '#00CC96', '#00CC96', '#00CC96', '#00CC96', '#00CC96', '#00CC96', '#00CC96', '#00CC96', '#00CC96', '#00CC96', '#00CC96']\n",
    "parents = ['', 'Fiction', 'Fiction', 'Fiction,en', 'Fiction,en', 'Fiction,en', 'Fiction,en,canada', 'Fiction,en,canada', 'Fiction,en,canada', 'Fiction,en,canada,90s', 'Fiction,en,canada,90s', 'Fiction,en,canada,90s', 'Fiction,it', 'Fiction,it', 'Fiction,it', 'Fiction,it,italy', 'Fiction,it,italy', 'Fiction,it,italy', 'Fiction,it,italy,90s', 'Fiction,it,italy,90s', 'Fiction,it,italy,90s', 'Fiction,en,usa', 'Fiction,en,usa', 'Fiction,en,usa', 'Fiction,en,usa,90s', 'Fiction,en,usa,90s', 'Fiction,en,usa,90s', 'Fiction,en,usa,60s', 'Fiction,en,usa,60s', 'Fiction,en,usa,60s', 'Fiction,en,united kingdom', 'Fiction,en,united kingdom', 'Fiction,en,united kingdom', 'Fiction,en,united kingdom,2000s', 'Fiction,en,united kingdom,2000s', 'Fiction,en,united kingdom,2000s', 'Fiction,en,canada,<18', 'Fiction,en,canada,<18', 'Fiction,en,canada,<18', 'Fiction,en,usa,<18', 'Fiction,en,usa,<18', 'Fiction,en,usa,<18', 'Fiction,en,canada,50-55', 'Fiction,en,canada,50-55', 'Fiction,en,canada,50-55', 'Fiction,it,35-44', 'Fiction,it,35-44', 'Fiction,it,35-44', 'Fiction,it,18-24', 'Fiction,it,18-24', 'Fiction,it,18-24,90s', 'Fiction,norway', 'Fiction,it,35-44,90s', 'Fiction,it,35-44,2000s', 'Fiction,it,italy,18-24', 'Fiction,it,18-24,italy', 'Fiction,it,italy,2000s', 'Fiction,it,35-44,italy', 'Fiction,en,united kingdom,70s', 'Fiction,en,united kingdom,<18']\n",
    "user_counts = [46856, 45615, 411, 5002, 34693, 1527, 214, 3417, 102, 308, 403, 2194, 63, 378, 49, 151, 49, 268, 36, 178, 41, 885, 210, 22145, 3044, 1675, 13095, 38, 26, 104, 36, 939, 55, 124, 175, 490, 48, 56, 25, 465, 198, 519, 54, 127, 130, 25, 44, 57, 36, 49, 36, 20, 41, 22, 36, 36, 109, 41, 32, 20]\n",
    "\n",
    "for index in [i for i, parent in enumerate(parents) if 'Fiction,norway' in parent]:\n",
    "    ids.pop(index)\n",
    "    labels.pop(index)\n",
    "    color_sequence.pop(index)\n",
    "    parents.pop(index)\n",
    "    user_counts.pop(index)\n",
    "\n",
    "\n",
    "def capitalize(l):\n",
    "    return [s.capitalize() if s != 'usa' else 'USA' for s in l]\n",
    "\n",
    "ids2 = ['Fiction,>56', 'Fiction,80s', 'Fiction,35-44', 'Fiction,80s,50-55', 'Fiction,80s,en', 'Fiction,80s,>56', 'Fiction,35-44,netherlands', 'Fiction,35-44,en', 'Fiction,35-44,80s', 'Fiction,80s,en,>56', 'Fiction,80s,en,usa', 'Fiction,80s,en,50-55', 'Fiction,>56,80s', 'Fiction,>56,en', 'Fiction,>56,canada', 'Fiction,>56,en,canada', 'Fiction,>56,en,80s', 'Fiction,>56,en,usa', 'Fiction,35-44,en,netherlands', 'Fiction,35-44,en,80s', 'Fiction,35-44,en,usa', 'Fiction,>56,en,usa,80s', 'Fiction,>56,en,usa,90s', 'Fiction,>56,en,usa,70s', 'Fiction,80s,en,usa,35-44', 'Fiction,80s,en,usa,>56', 'Fiction,80s,en,usa,50-55', 'Fiction,35-44,en,usa,80s', 'Fiction,35-44,en,usa,2000s', 'Fiction,35-44,en,usa,90s', 'Fiction,80s,>56,en', 'Fiction,80s,>56,canada', 'Fiction,80s,>56,usa', 'Fiction,>56,80s,en', 'Fiction,>56,80s,canada', 'Fiction,>56,80s,usa', 'Fiction,>56,canada,90s', 'Fiction,>56,canada,80s', 'Fiction,>56,canada,en', 'Fiction,80s,en,>56,usa', 'Fiction,80s,en,>56,canada', 'Fiction,>56,en,80s,usa', 'Fiction,>56,en,80s,canada', 'Fiction,80s,>56,en,usa', 'Fiction,80s,>56,en,canada', 'Fiction,>56,80s,en,canada', 'Fiction,>56,80s,en,usa', 'Fiction,>56,canada,en,90s', 'Fiction,>56,canada,en,80s', 'Fiction,>56,en,canada,90s', 'Fiction,>56,en,canada,80s', 'Fiction,35-44,netherlands,en', 'Fiction,35-44,netherlands,90s', 'Fiction,35-44,80s,usa', 'Fiction,35-44,80s,en', 'Fiction,80s,50-55,en', 'Fiction,80s,50-55,usa', 'Fiction,>56,canada,80s,en', 'Fiction,>56,80s,canada,en', 'Fiction,80s,>56,canada,en', 'Fiction,35-44,netherlands,90s,en', 'Fiction,>56,canada,90s,en', 'Fiction,80s,50-55,usa,en', 'Fiction,>56,80s,usa,en', 'Fiction,80s,>56,usa,en', 'Fiction,35-44,80s,usa,en', 'Fiction,80s,en,50-55,usa', 'Fiction,80s,50-55,en,usa', 'Fiction,35-44,en,80s,usa', 'Fiction,35-44,80s,en,usa']\n",
    "labels2 = ['>56', '80s', '35-44', '50-55', 'en', '>56', 'netherlands', 'en', '80s', '>56', 'usa', '50-55', '80s', 'en', 'canada', 'canada', '80s', 'usa', 'netherlands', '80s', 'usa', '80s', '90s', '70s', '35-44', '>56', '50-55', '80s', '2000s', '90s', 'en', 'canada', 'usa', 'en', 'canada', 'usa', '90s', '80s', 'en', 'usa', 'canada', 'usa', 'canada', 'usa', 'canada', 'canada', 'usa', '90s', '80s', '90s', '80s', 'en', '90s', 'usa', 'en', 'en', 'usa', 'en', 'en', 'en', 'en', 'en', 'en', 'en', 'en', 'en', 'usa', 'usa', 'usa', 'usa']\n",
    "color_sequence2 = ['#EF553B', '#EF553B', '#EF553B', '#EF553B', '#EF553B', '#EF553B', '#EF553B', '#EF553B', '#EF553B', '#EF553B', '#EF553B', '#EF553B', '#EF553B', '#EF553B', '#EF553B', '#EF553B', '#EF553B', '#EF553B', '#EF553B', '#EF553B', '#EF553B', '#EF553B', '#EF553B', '#EF553B', '#EF553B', '#EF553B', '#EF553B', '#EF553B', '#EF553B', '#EF553B', '#EF553B', '#EF553B', '#EF553B', '#EF553B', '#EF553B', '#EF553B', '#EF553B', '#EF553B', '#EF553B', '#EF553B', '#EF553B', '#EF553B', '#EF553B', '#EF553B', '#EF553B', '#EF553B', '#EF553B', '#EF553B', '#EF553B', '#EF553B', '#EF553B', '#EF553B', '#EF553B', '#EF553B', '#EF553B', '#EF553B', '#EF553B', '#EF553B', '#EF553B', '#EF553B', '#EF553B', '#EF553B', '#EF553B', '#EF553B', '#EF553B', '#EF553B', '#EF553B', '#EF553B', '#EF553B', '#EF553B']\n",
    "parents2 = ['Fiction', 'Fiction', 'Fiction', 'Fiction,80s', 'Fiction,80s', 'Fiction,80s', 'Fiction,35-44', 'Fiction,35-44', 'Fiction,35-44', 'Fiction,80s,en', 'Fiction,80s,en', 'Fiction,80s,en', 'Fiction,>56', 'Fiction,>56', 'Fiction,>56', 'Fiction,>56,en', 'Fiction,>56,en', 'Fiction,>56,en', 'Fiction,35-44,en', 'Fiction,35-44,en', 'Fiction,35-44,en', 'Fiction,>56,en,usa', 'Fiction,>56,en,usa', 'Fiction,>56,en,usa', 'Fiction,80s,en,usa', 'Fiction,80s,en,usa', 'Fiction,80s,en,usa', 'Fiction,35-44,en,usa', 'Fiction,35-44,en,usa', 'Fiction,35-44,en,usa', 'Fiction,80s,>56', 'Fiction,80s,>56', 'Fiction,80s,>56', 'Fiction,>56,80s', 'Fiction,>56,80s', 'Fiction,>56,80s', 'Fiction,>56,canada', 'Fiction,>56,canada', 'Fiction,>56,canada', 'Fiction,80s,en,>56', 'Fiction,80s,en,>56', 'Fiction,>56,en,80s', 'Fiction,>56,en,80s', 'Fiction,80s,>56,en', 'Fiction,80s,>56,en', 'Fiction,>56,80s,en', 'Fiction,>56,80s,en', 'Fiction,>56,canada,en', 'Fiction,>56,canada,en', 'Fiction,>56,en,canada', 'Fiction,>56,en,canada', 'Fiction,35-44,netherlands', 'Fiction,35-44,netherlands', 'Fiction,35-44,80s', 'Fiction,35-44,80s', 'Fiction,80s,50-55', 'Fiction,80s,50-55', 'Fiction,>56,canada,80s', 'Fiction,>56,80s,canada', 'Fiction,80s,>56,canada', 'Fiction,35-44,netherlands,90s', 'Fiction,>56,canada,90s', 'Fiction,80s,50-55,usa', 'Fiction,>56,80s,usa', 'Fiction,80s,>56,usa', 'Fiction,35-44,80s,usa', 'Fiction,80s,en,50-55', 'Fiction,80s,50-55,en', 'Fiction,35-44,en,80s', 'Fiction,35-44,80s,en']\n",
    "user_counts2 = [3089, 9098, 6236, 442, 8981, 485, 51, 6036, 1409, 485, 6765, 439, 485, 3073, 269, 269, 485, 2578, 51, 1396, 4595, 388, 1530, 52, 1060, 388, 354, 1060, 3121, 3044, 485, 62, 388, 485, 62, 388, 182, 62, 269, 388, 62, 388, 62, 388, 62, 62, 388, 182, 62, 182, 62, 51, 36, 1060, 1396, 439, 354, 62, 62, 62, 36, 182, 354, 388, 388, 1060, 354, 354, 1060, 1060]\n",
    "\n",
    "ids3 = ['Fiction,philippines', 'Fiction,norway', 'Fiction,philippines,90s', 'Fiction,philippines,en', 'Fiction,norway,en']\n",
    "labels3 = ['philippines', 'norway', '90s', 'en', 'en']\n",
    "color_sequence3 = ['#636EFA', '#636EFA', '#636EFA', '#636EFA', '#636EFA']\n",
    "parents3 = ['Fiction', 'Fiction', 'Fiction,philippines', 'Fiction,philippines', 'Fiction,norway']\n",
    "user_counts3 = [35, 20, 21, 35, 20]\n",
    "\n",
    "fig =go.Figure(go.Sunburst(\n",
    "    ids=ids+ids2+ids3,\n",
    "    labels=capitalize(labels+labels2+labels3),\n",
    "    parents=parents+parents2+parents3,\n",
    "    #values=[6031, 5907, 5903, 4238, 800, 1665, 296, 828, 549, 1514, 289, 83, 72, 38, ],\n",
    "    marker=dict(colors=[hex_to_rgba(hex, get_opacity(user_count)) if hex != '' else '' for hex, user_count in zip(color_sequence+color_sequence2+color_sequence3, user_counts+user_counts2+user_counts3)])\n",
    "))\n",
    "fig.update_layout(margin = dict(t=0, l=0, r=0, b=0))\n",
    "\n",
    "fig.update_traces(leaf=dict(opacity = 1))\n",
    "\n",
    "fig.write_image(\"book.svg\")\n",
    "\n",
    "fig.show()"
   ]
  },
  {
   "cell_type": "code",
   "execution_count": 62,
   "id": "4d720f67-7e74-4dd1-a482-0b88ed449912",
   "metadata": {},
   "outputs": [
    {
     "data": {
      "text/html": [
       "<iframe\n",
       "    scrolling=\"no\"\n",
       "    width=\"100%\"\n",
       "    height=\"545px\"\n",
       "    src=\"iframe_figures/figure_62.html\"\n",
       "    frameborder=\"0\"\n",
       "    allowfullscreen\n",
       "></iframe>\n"
      ]
     },
     "metadata": {},
     "output_type": "display_data"
    }
   ],
   "source": [
    "ids = ['Fiction', 'Fiction,en', 'Fiction,norway', 'Fiction,it', 'Fiction,en,canada', 'Fiction,en,usa', 'Fiction,en,united kingdom', 'Fiction,en,canada,50-55', 'Fiction,en,canada,90s', 'Fiction,en,canada,<18', 'Fiction,en,canada,90s,18-24', 'Fiction,en,canada,90s,35-44', 'Fiction,en,canada,90s,25-34', 'Fiction,it,35-44', 'Fiction,it,italy', 'Fiction,it,18-24', 'Fiction,it,italy,2000s', 'Fiction,it,italy,18-24', 'Fiction,it,italy,90s', 'Fiction,it,italy,90s,18-24', 'Fiction,it,italy,90s,25-34', 'Fiction,it,italy,90s,35-44', 'Fiction,en,usa,<18', 'Fiction,en,usa,60s', 'Fiction,en,usa,90s', 'Fiction,en,usa,90s,35-44', 'Fiction,en,usa,90s,18-24', 'Fiction,en,usa,90s,25-34', 'Fiction,en,usa,60s,35-44', 'Fiction,en,usa,60s,18-24', 'Fiction,en,usa,60s,25-34', 'Fiction,en,united kingdom,<18', 'Fiction,en,united kingdom,2000s', 'Fiction,en,united kingdom,70s', 'Fiction,en,united kingdom,2000s,18-24', 'Fiction,en,united kingdom,2000s,35-44', 'Fiction,en,united kingdom,2000s,25-34', 'Fiction,en,canada,<18,2000s', 'Fiction,en,canada,<18,90s', 'Fiction,en,canada,<18,80s', 'Fiction,en,usa,<18,2000s', 'Fiction,en,usa,<18,80s', 'Fiction,en,usa,<18,90s', 'Fiction,en,canada,50-55,80s', 'Fiction,en,canada,50-55,90s', 'Fiction,en,canada,50-55,2000s', 'Fiction,it,35-44,2000s', 'Fiction,it,35-44,90s', 'Fiction,it,35-44,italy', 'Fiction,it,18-24,90s', 'Fiction,it,18-24,italy', 'Fiction,it,18-24,90s,italy', 'Fiction,norway,en', 'Fiction,it,35-44,90s,italy', 'Fiction,it,35-44,2000s,italy', 'Fiction,it,italy,18-24,90s', 'Fiction,it,18-24,italy,90s', 'Fiction,it,italy,2000s,25-34', 'Fiction,it,35-44,italy,90s', 'Fiction,en,united kingdom,70s,25-34', 'Fiction,en,united kingdom,<18,90s']\n",
    "labels = ['Fiction', 'en', 'norway', 'it', 'canada', 'usa', 'united kingdom', '50-55', '90s', '<18', '18-24', '35-44', '25-34', '35-44', 'italy', '18-24', '2000s', '18-24', '90s', '18-24', '25-34', '35-44', '<18', '60s', '90s', '35-44', '18-24', '25-34', '35-44', '18-24', '25-34', '<18', '2000s', '70s', '18-24', '35-44', '25-34', '2000s', '90s', '80s', '2000s', '80s', '90s', '80s', '90s', '2000s', '2000s', '90s', 'italy', '90s', 'italy', 'italy', 'en', 'italy', 'italy', '90s', '90s', '25-34', '90s', '25-34', '90s']\n",
    "color_sequence = ['', '#00CC96', '#00CC96', '#00CC96', '#00CC96', '#00CC96', '#00CC96', '#00CC96', '#00CC96', '#00CC96', '#00CC96', '#00CC96', '#00CC96', '#00CC96', '#00CC96', '#00CC96', '#00CC96', '#00CC96', '#00CC96', '#00CC96', '#00CC96', '#00CC96', '#00CC96', '#00CC96', '#00CC96', '#00CC96', '#00CC96', '#00CC96', '#00CC96', '#00CC96', '#00CC96', '#00CC96', '#00CC96', '#00CC96', '#00CC96', '#00CC96', '#00CC96', '#00CC96', '#00CC96', '#00CC96', '#00CC96', '#00CC96', '#00CC96', '#00CC96', '#00CC96', '#00CC96', '#00CC96', '#00CC96', '#00CC96', '#00CC96', '#00CC96', '#00CC96', '#00CC96', '#00CC96', '#00CC96', '#00CC96', '#00CC96', '#00CC96', '#00CC96', '#00CC96', '#00CC96']\n",
    "parents = ['', 'Fiction', 'Fiction', 'Fiction', 'Fiction,en', 'Fiction,en', 'Fiction,en', 'Fiction,en,canada', 'Fiction,en,canada', 'Fiction,en,canada', 'Fiction,en,canada,90s', 'Fiction,en,canada,90s', 'Fiction,en,canada,90s', 'Fiction,it', 'Fiction,it', 'Fiction,it', 'Fiction,it,italy', 'Fiction,it,italy', 'Fiction,it,italy', 'Fiction,it,italy,90s', 'Fiction,it,italy,90s', 'Fiction,it,italy,90s', 'Fiction,en,usa', 'Fiction,en,usa', 'Fiction,en,usa', 'Fiction,en,usa,90s', 'Fiction,en,usa,90s', 'Fiction,en,usa,90s', 'Fiction,en,usa,60s', 'Fiction,en,usa,60s', 'Fiction,en,usa,60s', 'Fiction,en,united kingdom', 'Fiction,en,united kingdom', 'Fiction,en,united kingdom', 'Fiction,en,united kingdom,2000s', 'Fiction,en,united kingdom,2000s', 'Fiction,en,united kingdom,2000s', 'Fiction,en,canada,<18', 'Fiction,en,canada,<18', 'Fiction,en,canada,<18', 'Fiction,en,usa,<18', 'Fiction,en,usa,<18', 'Fiction,en,usa,<18', 'Fiction,en,canada,50-55', 'Fiction,en,canada,50-55', 'Fiction,en,canada,50-55', 'Fiction,it,35-44', 'Fiction,it,35-44', 'Fiction,it,35-44', 'Fiction,it,18-24', 'Fiction,it,18-24', 'Fiction,it,18-24,90s', 'Fiction,norway', 'Fiction,it,35-44,90s', 'Fiction,it,35-44,2000s', 'Fiction,it,italy,18-24', 'Fiction,it,18-24,italy', 'Fiction,it,italy,2000s', 'Fiction,it,35-44,italy', 'Fiction,en,united kingdom,70s', 'Fiction,en,united kingdom,<18']\n",
    "user_counts = [46856, 45615, 20, 411, 5002, 34693, 1527, 214, 3417, 102, 308, 403, 2194, 63, 378, 49, 151, 49, 268, 36, 178, 41, 885, 210, 22145, 3044, 1675, 13095, 38, 26, 104, 36, 939, 55, 124, 175, 490, 48, 56, 25, 465, 198, 519, 54, 127, 130, 25, 44, 57, 36, 49, 36, 20, 41, 22, 36, 36, 109, 41, 32, 20]\n",
    "\n",
    "[i for i, parent in enumerate(parents) if 'Fiction,norway' in parent]\n",
    "\n",
    "ids2 = ['Fiction,>56', 'Fiction,80s', 'Fiction,35-44', 'Fiction,80s,50-55', 'Fiction,80s,en', 'Fiction,80s,>56', 'Fiction,35-44,netherlands', 'Fiction,35-44,en', 'Fiction,35-44,80s', 'Fiction,80s,en,>56', 'Fiction,80s,en,usa', 'Fiction,80s,en,50-55', 'Fiction,>56,80s', 'Fiction,>56,en', 'Fiction,>56,canada', 'Fiction,>56,en,canada', 'Fiction,>56,en,80s', 'Fiction,>56,en,usa', 'Fiction,35-44,en,netherlands', 'Fiction,35-44,en,80s', 'Fiction,35-44,en,usa', 'Fiction,>56,en,usa,80s', 'Fiction,>56,en,usa,90s', 'Fiction,>56,en,usa,70s', 'Fiction,80s,en,usa,35-44', 'Fiction,80s,en,usa,>56', 'Fiction,80s,en,usa,50-55', 'Fiction,35-44,en,usa,80s', 'Fiction,35-44,en,usa,2000s', 'Fiction,35-44,en,usa,90s', 'Fiction,80s,>56,en', 'Fiction,80s,>56,canada', 'Fiction,80s,>56,usa', 'Fiction,>56,80s,en', 'Fiction,>56,80s,canada', 'Fiction,>56,80s,usa', 'Fiction,>56,canada,90s', 'Fiction,>56,canada,80s', 'Fiction,>56,canada,en', 'Fiction,80s,en,>56,usa', 'Fiction,80s,en,>56,canada', 'Fiction,>56,en,80s,usa', 'Fiction,>56,en,80s,canada', 'Fiction,80s,>56,en,usa', 'Fiction,80s,>56,en,canada', 'Fiction,>56,80s,en,canada', 'Fiction,>56,80s,en,usa', 'Fiction,>56,canada,en,90s', 'Fiction,>56,canada,en,80s', 'Fiction,>56,en,canada,90s', 'Fiction,>56,en,canada,80s', 'Fiction,35-44,netherlands,en', 'Fiction,35-44,netherlands,90s', 'Fiction,35-44,80s,usa', 'Fiction,35-44,80s,en', 'Fiction,80s,50-55,en', 'Fiction,80s,50-55,usa', 'Fiction,>56,canada,80s,en', 'Fiction,>56,80s,canada,en', 'Fiction,80s,>56,canada,en', 'Fiction,35-44,netherlands,90s,en', 'Fiction,>56,canada,90s,en', 'Fiction,80s,50-55,usa,en', 'Fiction,>56,80s,usa,en', 'Fiction,80s,>56,usa,en', 'Fiction,35-44,80s,usa,en', 'Fiction,80s,en,50-55,usa', 'Fiction,80s,50-55,en,usa', 'Fiction,35-44,en,80s,usa', 'Fiction,35-44,80s,en,usa']\n",
    "labels2 = ['>56', '80s', '35-44', '50-55', 'en', '>56', 'netherlands', 'en', '80s', '>56', 'usa', '50-55', '80s', 'en', 'canada', 'canada', '80s', 'usa', 'netherlands', '80s', 'usa', '80s', '90s', '70s', '35-44', '>56', '50-55', '80s', '2000s', '90s', 'en', 'canada', 'usa', 'en', 'canada', 'usa', '90s', '80s', 'en', 'usa', 'canada', 'usa', 'canada', 'usa', 'canada', 'canada', 'usa', '90s', '80s', '90s', '80s', 'en', '90s', 'usa', 'en', 'en', 'usa', 'en', 'en', 'en', 'en', 'en', 'en', 'en', 'en', 'en', 'usa', 'usa', 'usa', 'usa']\n",
    "color_sequence2 = ['#EF553B', '#EF553B', '#EF553B', '#EF553B', '#EF553B', '#EF553B', '#EF553B', '#EF553B', '#EF553B', '#EF553B', '#EF553B', '#EF553B', '#EF553B', '#EF553B', '#EF553B', '#EF553B', '#EF553B', '#EF553B', '#EF553B', '#EF553B', '#EF553B', '#EF553B', '#EF553B', '#EF553B', '#EF553B', '#EF553B', '#EF553B', '#EF553B', '#EF553B', '#EF553B', '#EF553B', '#EF553B', '#EF553B', '#EF553B', '#EF553B', '#EF553B', '#EF553B', '#EF553B', '#EF553B', '#EF553B', '#EF553B', '#EF553B', '#EF553B', '#EF553B', '#EF553B', '#EF553B', '#EF553B', '#EF553B', '#EF553B', '#EF553B', '#EF553B', '#EF553B', '#EF553B', '#EF553B', '#EF553B', '#EF553B', '#EF553B', '#EF553B', '#EF553B', '#EF553B', '#EF553B', '#EF553B', '#EF553B', '#EF553B', '#EF553B', '#EF553B', '#EF553B', '#EF553B', '#EF553B', '#EF553B']\n",
    "parents2 = ['Fiction', 'Fiction', 'Fiction', 'Fiction,80s', 'Fiction,80s', 'Fiction,80s', 'Fiction,35-44', 'Fiction,35-44', 'Fiction,35-44', 'Fiction,80s,en', 'Fiction,80s,en', 'Fiction,80s,en', 'Fiction,>56', 'Fiction,>56', 'Fiction,>56', 'Fiction,>56,en', 'Fiction,>56,en', 'Fiction,>56,en', 'Fiction,35-44,en', 'Fiction,35-44,en', 'Fiction,35-44,en', 'Fiction,>56,en,usa', 'Fiction,>56,en,usa', 'Fiction,>56,en,usa', 'Fiction,80s,en,usa', 'Fiction,80s,en,usa', 'Fiction,80s,en,usa', 'Fiction,35-44,en,usa', 'Fiction,35-44,en,usa', 'Fiction,35-44,en,usa', 'Fiction,80s,>56', 'Fiction,80s,>56', 'Fiction,80s,>56', 'Fiction,>56,80s', 'Fiction,>56,80s', 'Fiction,>56,80s', 'Fiction,>56,canada', 'Fiction,>56,canada', 'Fiction,>56,canada', 'Fiction,80s,en,>56', 'Fiction,80s,en,>56', 'Fiction,>56,en,80s', 'Fiction,>56,en,80s', 'Fiction,80s,>56,en', 'Fiction,80s,>56,en', 'Fiction,>56,80s,en', 'Fiction,>56,80s,en', 'Fiction,>56,canada,en', 'Fiction,>56,canada,en', 'Fiction,>56,en,canada', 'Fiction,>56,en,canada', 'Fiction,35-44,netherlands', 'Fiction,35-44,netherlands', 'Fiction,35-44,80s', 'Fiction,35-44,80s', 'Fiction,80s,50-55', 'Fiction,80s,50-55', 'Fiction,>56,canada,80s', 'Fiction,>56,80s,canada', 'Fiction,80s,>56,canada', 'Fiction,35-44,netherlands,90s', 'Fiction,>56,canada,90s', 'Fiction,80s,50-55,usa', 'Fiction,>56,80s,usa', 'Fiction,80s,>56,usa', 'Fiction,35-44,80s,usa', 'Fiction,80s,en,50-55', 'Fiction,80s,50-55,en', 'Fiction,35-44,en,80s', 'Fiction,35-44,80s,en']\n",
    "user_counts2 = [3089, 9098, 6236, 442, 8981, 485, 51, 6036, 1409, 485, 6765, 439, 485, 3073, 269, 269, 485, 2578, 51, 1396, 4595, 388, 1530, 52, 1060, 388, 354, 1060, 3121, 3044, 485, 62, 388, 485, 62, 388, 182, 62, 269, 388, 62, 388, 62, 388, 62, 62, 388, 182, 62, 182, 62, 51, 36, 1060, 1396, 439, 354, 62, 62, 62, 36, 182, 354, 388, 388, 1060, 354, 354, 1060, 1060]\n",
    "\n",
    "ids3 = ['Fiction,philippines', 'Fiction,norway', 'Fiction,philippines,90s', 'Fiction,philippines,en', 'Fiction,philippines,90s,en', 'Fiction,norway,en', 'Fiction,philippines,en,90s']\n",
    "labels3 = ['philippines', 'norway', '90s', 'en', 'en', 'en', '90s']\n",
    "color_sequence3 = ['#636EFA', '#636EFA', '#636EFA', '#636EFA', '#636EFA', '#636EFA', '#636EFA']\n",
    "parents3 = ['Fiction', 'Fiction', 'Fiction,philippines', 'Fiction,philippines', 'Fiction,philippines,90s', 'Fiction,norway', 'Fiction,philippines,en']\n",
    "user_counts3 = [35, 20, 21, 35, 21, 20, 21]\n",
    "\n",
    "fig =go.Figure(go.Sunburst(\n",
    "    ids=ids+ids2+ids3,\n",
    "    labels=labels+labels2+labels3,\n",
    "    parents=parents+parents2+parents3,\n",
    "    #values=[6031, 5907, 5903, 4238, 800, 1665, 296, 828, 549, 1514, 289, 83, 72, 38, ],\n",
    "    marker=dict(colors=[hex_to_rgba(hex, get_opacity(user_count)) if hex != '' else '' for hex, user_count in zip(color_sequence+color_sequence2+color_sequence3, user_counts+user_counts2+user_counts3)])\n",
    "))\n",
    "fig.update_layout(margin = dict(t=0, l=0, r=0, b=0))\n",
    "\n",
    "fig.update_traces(leaf=dict(opacity = 1))\n",
    "\n",
    "fig.show()"
   ]
  },
  {
   "cell_type": "code",
   "execution_count": 44,
   "id": "75f67b3d-8718-44d3-8fc7-a10dc63eede0",
   "metadata": {},
   "outputs": [
    {
     "data": {
      "text/plain": [
       "{'', '#00CC96'}"
      ]
     },
     "execution_count": 44,
     "metadata": {},
     "output_type": "execute_result"
    }
   ],
   "source": [
    "set(color_sequence)"
   ]
  },
  {
   "cell_type": "code",
   "execution_count": 39,
   "id": "3db2204b-96ae-4fc2-b078-eab53ce964a2",
   "metadata": {},
   "outputs": [
    {
     "data": {
      "text/plain": [
       "77"
      ]
     },
     "execution_count": 39,
     "metadata": {},
     "output_type": "execute_result"
    }
   ],
   "source": [
    "len(ids)"
   ]
  },
  {
   "cell_type": "code",
   "execution_count": 31,
   "id": "431468c8-d748-4903-91f1-ef80e1a6b0ba",
   "metadata": {},
   "outputs": [
    {
     "data": {
      "text/plain": [
       "['Fiction,philippines,en', 'Fiction,philippines,en,2000s']"
      ]
     },
     "execution_count": 31,
     "metadata": {},
     "output_type": "execute_result"
    }
   ],
   "source": [
    "ids[64:66]"
   ]
  },
  {
   "cell_type": "code",
   "execution_count": 74,
   "id": "d5ce905a-0cf2-44d8-95b9-a3a2c2e7523d",
   "metadata": {},
   "outputs": [
    {
     "data": {
      "text/html": [
       "<iframe\n",
       "    scrolling=\"no\"\n",
       "    width=\"100%\"\n",
       "    height=\"545px\"\n",
       "    src=\"iframe_figures/figure_74.html\"\n",
       "    frameborder=\"0\"\n",
       "    allowfullscreen\n",
       "></iframe>\n"
      ]
     },
     "metadata": {},
     "output_type": "display_data"
    },
    {
     "name": "stderr",
     "output_type": "stream",
     "text": [
      "/Users/vicente/opt/anaconda3/envs/hypo_exploration/lib/python3.10/site-packages/plotly/offline/offline.py:557: UserWarning:\n",
      "\n",
      "Your filename `sunburst.pdf` didn't end with .html. Adding .html to the end of your file.\n",
      "\n"
     ]
    },
    {
     "data": {
      "text/plain": [
       "'sunburst.pdf.html'"
      ]
     },
     "execution_count": 74,
     "metadata": {},
     "output_type": "execute_result"
    }
   ],
   "source": [
    "occupation_renames = {\n",
    "    'executive-managerial': 'Executive',\n",
    "    'retired': 'Retired',\n",
    "    'college-grad student': 'College student',\n",
    "    'technician-engineer':  'Engineer',\n",
    "    'unemployed': 'Unemployed',\n",
    "    'academic-educator': 'Academic'\n",
    "}\n",
    "\n",
    "ids = ['Comedy', 'Comedy,Short', 'Comedy,30s', 'Comedy,30s,retired', 'Comedy,30s,Long', 'Comedy,30s,PA', 'Comedy,30s,Long,M', 'Comedy,30s,Long,retired', 'Comedy,30s,Long,F', 'Comedy,Short,90s', 'Comedy,Short,NC', 'Comedy,Short,TX', 'Comedy,Short,90s,F', 'Comedy,Short,90s,PA', 'Comedy,Short,90s,M', 'Comedy,Short,90s,M,25-34', 'Comedy,Short,90s,M,18-24', 'Comedy,Short,90s,M,35-44', 'Comedy,Short,90s,F,25-34', 'Comedy,Short,90s,F,35-44', 'Comedy,Short,90s,F,18-24', 'Comedy,30s,Long,M,50-55', 'Comedy,30s,Long,M,35-44', 'Comedy,30s,Long,M,45-49', 'Comedy,30s,Long,F,25-34', 'Comedy,30s,Long,F,50-55', 'Comedy,30s,Long,F,>56', 'Comedy,Short,90s,M,25-34,MN', 'Comedy,Short,90s,M,25-34,CA', 'Comedy,Short,90s,M,25-34,MA', 'Comedy,30s,Long,M,35-44,executive-managerial', 'Comedy,30s,Long,M,35-44,CA', 'Comedy,30s,Long,M,35-44,NY', 'Comedy,Short,90s,M,18-24,college-grad student', 'Comedy,Short,90s,M,18-24,CA', 'Comedy,Short,TX,90s', 'Comedy,Short,TX,M', 'Comedy,30s,retired,>56', 'Comedy,30s,retired,Long', 'Comedy,30s,retired,Long,>56', 'Comedy,30s,retired,Long,M', 'Comedy,30s,PA,Long', 'Comedy,30s,PA,M', 'Comedy,30s,PA,M,Long', 'Comedy,30s,retired,>56,Long', 'Comedy,Short,NC,90s', 'Comedy,Short,TX,M,90s', 'Comedy,30s,PA,Long,M', 'Comedy,30s,Long,retired,>56', 'Comedy,Short,TX,90s,M', 'Comedy,Short,90s,F,18-24,college-grad student', 'Comedy,Short,90s,F,25-34,CA', 'Comedy,30s,Long,F,25-34,CA', 'Comedy,Short,90s,M,35-44,technician-engineer', 'Comedy,K-12 student', 'Comedy,K-12 student,Long', 'Comedy,K-12 student,2000s', 'Comedy,K-12 student,M', 'Comedy,K-12 student,2000s,<18', 'Comedy,K-12 student,2000s,F', 'Comedy,K-12 student,2000s,Long', 'Comedy,K-12 student,Long,2000s', 'Comedy,K-12 student,Long,90s', 'Comedy,K-12 student,Long,M', 'Comedy,K-12 student,2000s,<18,F', 'Comedy,K-12 student,2000s,<18,Long', 'Comedy,K-12 student,2000s,Long,F', 'Comedy,K-12 student,2000s,Long,<18', 'Comedy,K-12 student,Long,2000s,<18', 'Comedy,K-12 student,Long,2000s,F', 'Comedy,K-12 student,Long,90s,M', 'Comedy,K-12 student,Long,90s,<18']\n",
    "labels = ['Comedy', 'Short', '30s', 'retired', 'Long', 'PA', 'M', 'retired', 'F', '90s', 'NC', 'TX', 'F', 'PA', 'M', '25-34', '18-24', '35-44', '25-34', '35-44', '18-24', '50-55', '35-44', '45-49', '25-34', '50-55', '>56', 'MN', 'CA', 'MA', 'executive-managerial', 'CA', 'NY', 'college-grad student', 'CA', '90s', 'M', '>56', 'Long', '>56', 'M', 'Long', 'M', 'Long', 'Long', '90s', '90s', 'M', '>56', 'M', 'college-grad student', 'CA', 'CA', 'technician-engineer', 'K-12 student', 'Long', '2000s', 'M', '<18', 'F', 'Long', '2000s', '90s', 'M', 'F', 'Long', 'F', '<18', '<18', 'F', 'M', '<18']\n",
    "color_sequence = ['', '#636EFA', '#636EFA', '#636EFA', '#636EFA', '#636EFA', '#636EFA', '#636EFA', '#636EFA', '#636EFA', '#636EFA', '#636EFA', '#636EFA', '#636EFA', '#636EFA', '#636EFA', '#636EFA', '#636EFA', '#636EFA', '#636EFA', '#636EFA', '#636EFA', '#636EFA', '#636EFA', '#636EFA', '#636EFA', '#636EFA', '#636EFA', '#636EFA', '#636EFA', '#636EFA', '#636EFA', '#636EFA', '#636EFA', '#636EFA', '#636EFA', '#636EFA', '#636EFA', '#636EFA', '#636EFA', '#636EFA', '#636EFA', '#636EFA', '#636EFA', '#636EFA', '#636EFA', '#636EFA', '#636EFA', '#636EFA', '#636EFA', '#636EFA', '#636EFA', '#636EFA', '#636EFA', '#00CC96', '#00CC96', '#00CC96', '#00CC96', '#00CC96', '#00CC96', '#00CC96', '#00CC96', '#00CC96', '#00CC96', '#00CC96', '#00CC96', '#00CC96', '#00CC96', '#00CC96', '#00CC96', '#00CC96', '#00CC96']\n",
    "parents = ['', 'Comedy', 'Comedy', 'Comedy,30s', 'Comedy,30s', 'Comedy,30s', 'Comedy,30s,Long', 'Comedy,30s,Long', 'Comedy,30s,Long', 'Comedy,Short', 'Comedy,Short', 'Comedy,Short', 'Comedy,Short,90s', 'Comedy,Short,90s', 'Comedy,Short,90s', 'Comedy,Short,90s,M', 'Comedy,Short,90s,M', 'Comedy,Short,90s,M', 'Comedy,Short,90s,F', 'Comedy,Short,90s,F', 'Comedy,Short,90s,F', 'Comedy,30s,Long,M', 'Comedy,30s,Long,M', 'Comedy,30s,Long,M', 'Comedy,30s,Long,F', 'Comedy,30s,Long,F', 'Comedy,30s,Long,F', 'Comedy,Short,90s,M,25-34', 'Comedy,Short,90s,M,25-34', 'Comedy,Short,90s,M,25-34', 'Comedy,30s,Long,M,35-44', 'Comedy,30s,Long,M,35-44', 'Comedy,30s,Long,M,35-44', 'Comedy,Short,90s,M,18-24', 'Comedy,Short,90s,M,18-24', 'Comedy,Short,TX', 'Comedy,Short,TX', 'Comedy,30s,retired', 'Comedy,30s,retired', 'Comedy,30s,retired,Long', 'Comedy,30s,retired,Long', 'Comedy,30s,PA', 'Comedy,30s,PA', 'Comedy,30s,PA,M', 'Comedy,30s,retired,>56', 'Comedy,Short,NC', 'Comedy,Short,TX,M', 'Comedy,30s,PA,Long', 'Comedy,30s,Long,retired', 'Comedy,Short,TX,90s', 'Comedy,Short,90s,F,18-24', 'Comedy,Short,90s,F,25-34', 'Comedy,30s,Long,F,25-34', 'Comedy,Short,90s,M,35-44', 'Comedy', 'Comedy,K-12 student', 'Comedy,K-12 student', 'Comedy,K-12 student', 'Comedy,K-12 student,2000s', 'Comedy,K-12 student,2000s', 'Comedy,K-12 student,2000s', 'Comedy,K-12 student,Long', 'Comedy,K-12 student,Long', 'Comedy,K-12 student,Long', 'Comedy,K-12 student,2000s,<18', 'Comedy,K-12 student,2000s,<18', 'Comedy,K-12 student,2000s,Long', 'Comedy,K-12 student,2000s,Long', 'Comedy,K-12 student,Long,2000s', 'Comedy,K-12 student,Long,2000s', 'Comedy,K-12 student,Long,90s', 'Comedy,K-12 student,Long,90s']\n",
    "user_counts = [6031, 1162, 1328, 31, 1328, 32, 919, 31, 409, 982, 24, 41, 266, 20, 716, 304, 140, 151, 95, 62, 54, 94, 231, 112, 117, 45, 27, 26, 67, 23, 41, 47, 23, 64, 28, 32, 29, 24, 31, 24, 24, 32, 25, 25, 24, 22, 24, 25, 24, 24, 32, 32, 33, 25, 195, 195, 142, 129, 120, 44, 142, 142, 195, 129, 44, 120, 44, 120, 120, 44, 129, 163]\n",
    "\n",
    "ids2 = ['Comedy,AZ', 'Comedy,90s', 'Comedy,unemployed', 'Comedy,90s,Long', 'Comedy,90s,LA', 'Comedy,90s,KS', 'Comedy,90s,Long,M', 'Comedy,90s,Long,F', 'Comedy,90s,Long,LA', 'Comedy,90s,Long,M,35-44', 'Comedy,90s,Long,M,18-24', 'Comedy,90s,Long,M,25-34', 'Comedy,90s,Long,M,18-24,college-grad student', 'Comedy,90s,Long,M,18-24,other', 'Comedy,90s,Long,M,18-24,writer', 'Comedy,90s,Long,F,18-24', 'Comedy,90s,Long,F,NJ', 'Comedy,90s,Long,F,25-34', 'Comedy,90s,Long,F,18-24,college-grad student', 'Comedy,90s,Long,F,18-24,MI', 'Comedy,90s,Long,F,18-24,MN', 'Comedy,90s,Long,M,35-44,executive-managerial', 'Comedy,90s,Long,M,35-44,academic-educator', 'Comedy,90s,Long,M,35-44,technician-engineer', 'Comedy,90s,Long,F,25-34,TX', 'Comedy,90s,Long,F,25-34,CA', 'Comedy,90s,Long,F,25-34,NY', 'Comedy,90s,Long,M,25-34,CA', 'Comedy,90s,Long,M,25-34,NY', 'Comedy,90s,Long,M,25-34,MN', 'Comedy,90s,Long,M,25-34,CA,writer', 'Comedy,90s,Long,M,25-34,CA,other', 'Comedy,90s,Long,M,25-34,CA,technician-engineer', 'Comedy,90s,Long,M,18-24,college-grad student,MA', 'Comedy,90s,Long,M,18-24,college-grad student,MN', 'Comedy,90s,Long,M,18-24,college-grad student,NY', 'Comedy,unemployed,2000s', 'Comedy,unemployed,18-24', 'Comedy,unemployed,Long', 'Comedy,unemployed,Long,2000s', 'Comedy,unemployed,Long,90s', 'Comedy,unemployed,Long,18-24', 'Comedy,AZ,M', 'Comedy,AZ,90s', 'Comedy,AZ,Long', 'Comedy,AZ,M,2000s', 'Comedy,AZ,M,Long', 'Comedy,AZ,M,25-34', 'Comedy,AZ,M,Long,25-34', 'Comedy,AZ,M,Long,2000s', 'Comedy,AZ,M,Long,90s', 'Comedy,AZ,Long,M', 'Comedy,AZ,Long,2000s', 'Comedy,AZ,Long,90s', 'Comedy,AZ,Long,M,2000s', 'Comedy,AZ,Long,M,90s', 'Comedy,AZ,Long,M,25-34', 'Comedy,unemployed,Long,90s,M', 'Comedy,unemployed,Long,90s,18-24', 'Comedy,AZ,Long,90s,M', 'Comedy,AZ,Long,90s,25-34', 'Comedy,unemployed,18-24,M', 'Comedy,unemployed,18-24,90s', 'Comedy,unemployed,18-24,Long', 'Comedy,AZ,90s,Long', 'Comedy,AZ,90s,M', 'Comedy,AZ,90s,M,25-34', 'Comedy,AZ,90s,M,Long', 'Comedy,AZ,90s,Long,M', 'Comedy,AZ,90s,Long,25-34', 'Comedy,unemployed,2000s,Long', 'Comedy,unemployed,2000s,M', 'Comedy,90s,KS,M', 'Comedy,90s,KS,Long', 'Comedy,unemployed,18-24,90s,M', 'Comedy,unemployed,18-24,90s,Long', 'Comedy,unemployed,Long,18-24,M', 'Comedy,unemployed,Long,18-24,90s', 'Comedy,unemployed,18-24,Long,M', 'Comedy,unemployed,18-24,Long,90s', 'Comedy,90s,LA,M', 'Comedy,90s,LA,Long', 'Comedy,unemployed,2000s,M,Long', 'Comedy,AZ,M,2000s,Long', 'Comedy,unemployed,18-24,90s,M,Long', 'Comedy,AZ,90s,M,25-34,Long']\n",
    "labels2 = ['AZ', '90s', 'unemployed', 'Long', 'LA', 'KS', 'M', 'F', 'LA', '35-44', '18-24', '25-34', 'college-grad student', 'other', 'writer', '18-24', 'NJ', '25-34', 'college-grad student', 'MI', 'MN', 'executive-managerial', 'academic-educator', 'technician-engineer', 'TX', 'CA', 'NY', 'CA', 'NY', 'MN', 'writer', 'other', 'technician-engineer', 'MA', 'MN', 'NY', '2000s', '18-24', 'Long', '2000s', '90s', '18-24', 'M', '90s', 'Long', '2000s', 'Long', '25-34', '25-34', '2000s', '90s', 'M', '2000s', '90s', '2000s', '90s', '25-34', 'M', '18-24', 'M', '25-34', 'M', '90s', 'Long', 'Long', 'M', '25-34', 'Long', 'M', '25-34', 'Long', 'M', 'M', 'Long', 'M', 'Long', 'M', '90s', 'M', '90s', 'M', 'Long', 'Long', 'Long', 'Long', 'Long']\n",
    "color_sequence2 = ['#EF553B', '#EF553B', '#EF553B', '#EF553B', '#EF553B', '#EF553B', '#EF553B', '#EF553B', '#EF553B', '#EF553B', '#EF553B', '#EF553B', '#EF553B', '#EF553B', '#EF553B', '#EF553B', '#EF553B', '#EF553B', '#EF553B', '#EF553B', '#EF553B', '#EF553B', '#EF553B', '#EF553B', '#EF553B', '#EF553B', '#EF553B', '#EF553B', '#EF553B', '#EF553B', '#EF553B', '#EF553B', '#EF553B', '#EF553B', '#EF553B', '#EF553B', '#EF553B', '#EF553B', '#EF553B', '#EF553B', '#EF553B', '#EF553B', '#EF553B', '#EF553B', '#EF553B', '#EF553B', '#EF553B', '#EF553B', '#EF553B', '#EF553B', '#EF553B', '#EF553B', '#EF553B', '#EF553B', '#EF553B', '#EF553B', '#EF553B', '#EF553B', '#EF553B', '#EF553B', '#EF553B', '#EF553B', '#EF553B', '#EF553B', '#EF553B', '#EF553B', '#EF553B', '#EF553B', '#EF553B', '#EF553B', '#EF553B', '#EF553B', '#EF553B', '#EF553B', '#EF553B', '#EF553B', '#EF553B', '#EF553B', '#EF553B', '#EF553B', '#EF553B', '#EF553B', '#EF553B', '#EF553B', '#EF553B', '#EF553B']\n",
    "parents2 = ['Comedy', 'Comedy', 'Comedy', 'Comedy,90s', 'Comedy,90s', 'Comedy,90s', 'Comedy,90s,Long', 'Comedy,90s,Long', 'Comedy,90s,Long', 'Comedy,90s,Long,M', 'Comedy,90s,Long,M', 'Comedy,90s,Long,M', 'Comedy,90s,Long,M,18-24', 'Comedy,90s,Long,M,18-24', 'Comedy,90s,Long,M,18-24', 'Comedy,90s,Long,F', 'Comedy,90s,Long,F', 'Comedy,90s,Long,F', 'Comedy,90s,Long,F,18-24', 'Comedy,90s,Long,F,18-24', 'Comedy,90s,Long,F,18-24', 'Comedy,90s,Long,M,35-44', 'Comedy,90s,Long,M,35-44', 'Comedy,90s,Long,M,35-44', 'Comedy,90s,Long,F,25-34', 'Comedy,90s,Long,F,25-34', 'Comedy,90s,Long,F,25-34', 'Comedy,90s,Long,M,25-34', 'Comedy,90s,Long,M,25-34', 'Comedy,90s,Long,M,25-34', 'Comedy,90s,Long,M,25-34,CA', 'Comedy,90s,Long,M,25-34,CA', 'Comedy,90s,Long,M,25-34,CA', 'Comedy,90s,Long,M,18-24,college-grad student', 'Comedy,90s,Long,M,18-24,college-grad student', 'Comedy,90s,Long,M,18-24,college-grad student', 'Comedy,unemployed', 'Comedy,unemployed', 'Comedy,unemployed', 'Comedy,unemployed,Long', 'Comedy,unemployed,Long', 'Comedy,unemployed,Long', 'Comedy,AZ', 'Comedy,AZ', 'Comedy,AZ', 'Comedy,AZ,M', 'Comedy,AZ,M', 'Comedy,AZ,M', 'Comedy,AZ,M,Long', 'Comedy,AZ,M,Long', 'Comedy,AZ,M,Long', 'Comedy,AZ,Long', 'Comedy,AZ,Long', 'Comedy,AZ,Long', 'Comedy,AZ,Long,M', 'Comedy,AZ,Long,M', 'Comedy,AZ,Long,M', 'Comedy,unemployed,Long,90s', 'Comedy,unemployed,Long,90s', 'Comedy,AZ,Long,90s', 'Comedy,AZ,Long,90s', 'Comedy,unemployed,18-24', 'Comedy,unemployed,18-24', 'Comedy,unemployed,18-24', 'Comedy,AZ,90s', 'Comedy,AZ,90s', 'Comedy,AZ,90s,M', 'Comedy,AZ,90s,M', 'Comedy,AZ,90s,Long', 'Comedy,AZ,90s,Long', 'Comedy,unemployed,2000s', 'Comedy,unemployed,2000s', 'Comedy,90s,KS', 'Comedy,90s,KS', 'Comedy,unemployed,18-24,90s', 'Comedy,unemployed,18-24,90s', 'Comedy,unemployed,Long,18-24', 'Comedy,unemployed,Long,18-24', 'Comedy,unemployed,18-24,Long', 'Comedy,unemployed,18-24,Long', 'Comedy,90s,LA', 'Comedy,90s,LA', 'Comedy,unemployed,2000s,M', 'Comedy,AZ,M,2000s', 'Comedy,unemployed,18-24,90s,M', 'Comedy,AZ,90s,M,25-34']\n",
    "user_counts2 = [83, 5907, 72, 5903, 33, 38, 4238, 1665, 33, 828, 800, 1514, 368, 74, 35, 296, 34, 549, 162, 20, 21, 173, 74, 109, 31, 118, 36, 289, 104, 115, 25, 32, 47, 23, 24, 25, 45, 30, 72, 45, 72, 30, 58, 83, 83, 36, 58, 24, 24, 36, 58, 58, 50, 83, 36, 58, 24, 57, 30, 58, 33, 24, 30, 30, 83, 58, 24, 58, 58, 33, 45, 34, 29, 38, 24, 30, 24, 30, 24, 30, 28, 33, 34, 36, 24, 24]\n",
    "\n",
    "\n",
    "def rename_occupations(l):\n",
    "    renamed_l = []\n",
    "    for lbl in l:\n",
    "        if lbl in occupation_renames:\n",
    "            renamed_l.append(occupation_renames[lbl])\n",
    "        else:\n",
    "            renamed_l.append(lbl)\n",
    "    return renamed_l\n",
    "    \n",
    "\n",
    "fig = go.Figure(go.Sunburst(\n",
    "    ids=ids+ids2,\n",
    "    labels=rename_occupations(labels+labels2),\n",
    "    parents=parents+parents2,\n",
    "    #values=[6031, 5907, 5903, 4238, 800, 1665, 296, 828, 549, 1514, 289, 83, 72, 38, ],\n",
    "    marker=dict(colors=[hex_to_rgba(hex, get_opacity(user_count)) if hex != '' else '' for hex, user_count in zip(color_sequence+color_sequence2, user_counts+user_counts2)])\n",
    "))\n",
    "fig.update_layout(margin = dict(t=0, l=0, r=0, b=0))\n",
    "\n",
    "fig.update_traces(leaf=dict(opacity = 1))\n",
    "\n",
    "fig.show()\n",
    "\n",
    "import plotly\n",
    "plotly.offline.plot(fig, filename='sunburst.pdf')"
   ]
  },
  {
   "cell_type": "code",
   "execution_count": 15,
   "id": "e3d4196a-430c-46c9-8838-560ef4b75ace",
   "metadata": {},
   "outputs": [
    {
     "data": {
      "text/html": [
       "<iframe\n",
       "    scrolling=\"no\"\n",
       "    width=\"100%\"\n",
       "    height=\"545px\"\n",
       "    src=\"iframe_figures/figure_15.html\"\n",
       "    frameborder=\"0\"\n",
       "    allowfullscreen\n",
       "></iframe>\n"
      ]
     },
     "metadata": {},
     "output_type": "display_data"
    }
   ],
   "source": [
    "fig = go.Figure()\n",
    "\n",
    "fig.add_trace(go.Scatter(\n",
    "    x=[1, 2, 3, 4, 5],\n",
    "    y=[1, 2, 3, 4, 5],\n",
    "    name=\"μ > 4.0\"\n",
    "))\n",
    "\n",
    "fig.add_trace(go.Scatter(\n",
    "    x=[1, 2, 3, 4, 5],\n",
    "    y=[5, 4, 3, 2, 1],\n",
    "    name=\"μ < 3.5\"\n",
    "))\n",
    "\n",
    "fig.add_trace(go.Scatter(\n",
    "    x=[1, 2, 3, 4, 5],\n",
    "    y=[5, 4, 3, 2, 1],\n",
    "    name=\"σ² > 1.4\"\n",
    "))\n",
    "\n",
    "fig.update_layout(legend_title_text='Hypothesis')\n",
    "\n",
    "fig.write_image(\"legend.svg\")\n",
    "\n",
    "fig.show()"
   ]
  },
  {
   "cell_type": "code",
   "execution_count": 72,
   "id": "afbe4b32-351a-4070-8d8b-f0cd1350d600",
   "metadata": {},
   "outputs": [
    {
     "data": {
      "text/html": [
       "<iframe\n",
       "    scrolling=\"no\"\n",
       "    width=\"100%\"\n",
       "    height=\"545px\"\n",
       "    src=\"iframe_figures/figure_72.html\"\n",
       "    frameborder=\"0\"\n",
       "    allowfullscreen\n",
       "></iframe>\n"
      ]
     },
     "metadata": {},
     "output_type": "display_data"
    }
   ],
   "source": [
    "fig = go.Figure()\n",
    "\n",
    "fig.add_trace(go.Scatter(\n",
    "    x=[1, 2, 3, 4, 5],\n",
    "    y=[1, 2, 3, 4, 5],\n",
    "    name=\"μ > 4.0\"\n",
    "))\n",
    "\n",
    "fig.add_trace(go.Scatter(\n",
    "    x=[1, 2, 3, 4, 5],\n",
    "    y=[5, 4, 3, 2, 1],\n",
    "    name=\"μ < 2.5\"\n",
    "))\n",
    "\n",
    "fig.add_trace(go.Scatter(\n",
    "    x=[1, 2, 3, 4, 5],\n",
    "    y=[5, 4, 3, 2, 1],\n",
    "    name=\"σ² > 7.0\"\n",
    "))\n",
    "\n",
    "fig.update_layout(legend_title_text='Hypothesis')\n",
    "\n",
    "fig.write_image(\"book_legend.svg\")\n",
    "\n",
    "fig.show()"
   ]
  },
  {
   "cell_type": "code",
   "execution_count": 47,
   "id": "87b84db6-0f3c-4f6a-ab87-f7126dacad3d",
   "metadata": {},
   "outputs": [
    {
     "data": {
      "text/html": [
       "<iframe\n",
       "    scrolling=\"no\"\n",
       "    width=\"100%\"\n",
       "    height=\"545px\"\n",
       "    src=\"iframe_figures/figure_47.html\"\n",
       "    frameborder=\"0\"\n",
       "    allowfullscreen\n",
       "></iframe>\n"
      ]
     },
     "metadata": {},
     "output_type": "display_data"
    }
   ],
   "source": [
    "fig = go.Figure()\n",
    "\n",
    "fig.add_trace(go.Scatter(\n",
    "    x=[1, 2, 3, 4, 5],\n",
    "    y=[1, 2, 3, 4, 5],\n",
    "    name=\"μ > 4.0\"\n",
    "))\n",
    "\n",
    "fig.add_trace(go.Scatter(\n",
    "    x=[1, 2, 3, 4, 5],\n",
    "    y=[5, 4, 3, 2, 1],\n",
    "    name=\"μ < 3.5\"\n",
    "))\n",
    "\n",
    "fig.add_trace(go.Scatter(\n",
    "    x=[1, 2, 3, 4, 5],\n",
    "    y=[5, 4, 3, 2, 1],\n",
    "    name=\"σ² > 1.6\"\n",
    "))\n",
    "\n",
    "fig.update_layout(legend_title_text='Hypothesis')\n",
    "\n",
    "fig.write_image(\"yelp_legend.svg\")\n",
    "\n",
    "fig.show()"
   ]
  },
  {
   "cell_type": "code",
   "execution_count": 62,
   "id": "5c576737-bdd6-48c1-bfd4-160c980539c3",
   "metadata": {},
   "outputs": [
    {
     "name": "stdout",
     "output_type": "stream",
     "text": [
      "Collecting kaleido\n",
      "  Downloading kaleido-0.2.1-py2.py3-none-macosx_10_11_x86_64.whl.metadata (15 kB)\n",
      "Downloading kaleido-0.2.1-py2.py3-none-macosx_10_11_x86_64.whl (85.2 MB)\n",
      "\u001b[2K   \u001b[90m━━━━━━━━━━━━━━━━━━━━━━━━━━━━━━━━━━━━━━━━\u001b[0m \u001b[32m85.2/85.2 MB\u001b[0m \u001b[31m33.3 MB/s\u001b[0m eta \u001b[36m0:00:00\u001b[0m00:01\u001b[0m00:01\u001b[0m\n",
      "\u001b[?25hInstalling collected packages: kaleido\n",
      "Successfully installed kaleido-0.2.1\n"
     ]
    }
   ],
   "source": [
    "!pip install -U kaleido"
   ]
  },
  {
   "cell_type": "code",
   "execution_count": 61,
   "id": "178cfbb3-3ba8-46dc-a4d3-3e7cc261361c",
   "metadata": {},
   "outputs": [
    {
     "data": {
      "text/html": [
       "<iframe\n",
       "    scrolling=\"no\"\n",
       "    width=\"100%\"\n",
       "    height=\"545px\"\n",
       "    src=\"iframe_figures/figure_61.html\"\n",
       "    frameborder=\"0\"\n",
       "    allowfullscreen\n",
       "></iframe>\n"
      ]
     },
     "metadata": {},
     "output_type": "display_data"
    }
   ],
   "source": [
    "occupation_renames = {\n",
    "    'executive-managerial': 'Executive',\n",
    "    'retired': 'Retired',\n",
    "    'college-grad student': 'College student',\n",
    "    'technician-engineer':  'Engineer',\n",
    "    'unemployed': 'Unemployed',\n",
    "    'academic-educator': 'Academic'\n",
    "}\n",
    "\n",
    "ids = ['Comedy', 'Comedy,Short', 'Comedy,30s', 'Comedy,30s,retired', 'Comedy,30s,Long', 'Comedy,30s,PA', 'Comedy,30s,Long,M', 'Comedy,30s,Long,retired', 'Comedy,30s,Long,F', 'Comedy,Short,90s', 'Comedy,Short,NC', 'Comedy,Short,TX', 'Comedy,Short,90s,F', 'Comedy,Short,90s,PA', 'Comedy,Short,90s,M', 'Comedy,Short,90s,M,25-34', 'Comedy,Short,90s,M,18-24', 'Comedy,Short,90s,M,35-44', 'Comedy,Short,90s,F,25-34', 'Comedy,Short,90s,F,35-44', 'Comedy,Short,90s,F,18-24', 'Comedy,30s,Long,M,50-55', 'Comedy,30s,Long,M,35-44', 'Comedy,30s,Long,M,45-49', 'Comedy,30s,Long,F,25-34', 'Comedy,30s,Long,F,50-55', 'Comedy,30s,Long,F,>56', 'Comedy,Short,90s,M,25-34,MN', 'Comedy,Short,90s,M,25-34,CA', 'Comedy,Short,90s,M,25-34,MA', 'Comedy,30s,Long,M,35-44,executive-managerial', 'Comedy,30s,Long,M,35-44,CA', 'Comedy,30s,Long,M,35-44,NY', 'Comedy,Short,90s,M,18-24,college-grad student', 'Comedy,Short,90s,M,18-24,CA', 'Comedy,Short,TX,90s', 'Comedy,Short,TX,M', 'Comedy,30s,retired,>56', 'Comedy,30s,retired,Long', 'Comedy,30s,retired,Long,>56', 'Comedy,30s,retired,Long,M', 'Comedy,30s,PA,Long', 'Comedy,30s,PA,M', 'Comedy,30s,PA,M,Long', 'Comedy,30s,retired,>56,Long', 'Comedy,Short,NC,90s', 'Comedy,Short,TX,M,90s', 'Comedy,30s,PA,Long,M', 'Comedy,30s,Long,retired,>56', 'Comedy,Short,TX,90s,M', 'Comedy,Short,90s,F,18-24,college-grad student', 'Comedy,Short,90s,F,25-34,CA', 'Comedy,30s,Long,F,25-34,CA', 'Comedy,Short,90s,M,35-44,technician-engineer', 'Comedy,K-12 student', 'Comedy,K-12 student,Long', 'Comedy,K-12 student,2000s', 'Comedy,K-12 student,M', 'Comedy,K-12 student,2000s,<18', 'Comedy,K-12 student,2000s,F', 'Comedy,K-12 student,2000s,Long', 'Comedy,K-12 student,Long,2000s', 'Comedy,K-12 student,Long,90s', 'Comedy,K-12 student,Long,M', 'Comedy,K-12 student,2000s,<18,F', 'Comedy,K-12 student,2000s,<18,Long', 'Comedy,K-12 student,2000s,Long,F', 'Comedy,K-12 student,2000s,Long,<18', 'Comedy,K-12 student,Long,2000s,<18', 'Comedy,K-12 student,Long,2000s,F', 'Comedy,K-12 student,Long,90s,M', 'Comedy,K-12 student,Long,90s,<18']\n",
    "labels = ['Comedy', 'Short', '30s', 'retired', 'Long', 'PA', 'M', 'retired', 'F', '90s', 'NC', 'TX', 'F', 'PA', 'M', '25-34', '18-24', '35-44', '25-34', '35-44', '18-24', '50-55', '35-44', '45-49', '25-34', '50-55', '>56', 'MN', 'CA', 'MA', 'executive-managerial', 'CA', 'NY', 'college-grad student', 'CA', '90s', 'M', '>56', 'Long', '>56', 'M', 'Long', 'M', 'Long', 'Long', '90s', '90s', 'M', '>56', 'M', 'college-grad student', 'CA', 'CA', 'technician-engineer', 'K-12 student', 'Long', '2000s', 'M', '<18', 'F', 'Long', '2000s', '90s', 'M', 'F', 'Long', 'F', '<18', '<18', 'F', 'M', '<18']\n",
    "color_sequence = ['', '#636EFA', '#636EFA', '#636EFA', '#636EFA', '#636EFA', '#636EFA', '#636EFA', '#636EFA', '#636EFA', '#636EFA', '#636EFA', '#636EFA', '#636EFA', '#636EFA', '#636EFA', '#636EFA', '#636EFA', '#636EFA', '#636EFA', '#636EFA', '#636EFA', '#636EFA', '#636EFA', '#636EFA', '#636EFA', '#636EFA', '#636EFA', '#636EFA', '#636EFA', '#636EFA', '#636EFA', '#636EFA', '#636EFA', '#636EFA', '#636EFA', '#636EFA', '#636EFA', '#636EFA', '#636EFA', '#636EFA', '#636EFA', '#636EFA', '#636EFA', '#636EFA', '#636EFA', '#636EFA', '#636EFA', '#636EFA', '#636EFA', '#636EFA', '#636EFA', '#636EFA', '#636EFA', '#00CC96', '#00CC96', '#00CC96', '#00CC96', '#00CC96', '#00CC96', '#00CC96', '#00CC96', '#00CC96', '#00CC96', '#00CC96', '#00CC96', '#00CC96', '#00CC96', '#00CC96', '#00CC96', '#00CC96', '#00CC96']\n",
    "parents = ['', 'Comedy', 'Comedy', 'Comedy,30s', 'Comedy,30s', 'Comedy,30s', 'Comedy,30s,Long', 'Comedy,30s,Long', 'Comedy,30s,Long', 'Comedy,Short', 'Comedy,Short', 'Comedy,Short', 'Comedy,Short,90s', 'Comedy,Short,90s', 'Comedy,Short,90s', 'Comedy,Short,90s,M', 'Comedy,Short,90s,M', 'Comedy,Short,90s,M', 'Comedy,Short,90s,F', 'Comedy,Short,90s,F', 'Comedy,Short,90s,F', 'Comedy,30s,Long,M', 'Comedy,30s,Long,M', 'Comedy,30s,Long,M', 'Comedy,30s,Long,F', 'Comedy,30s,Long,F', 'Comedy,30s,Long,F', 'Comedy,Short,90s,M,25-34', 'Comedy,Short,90s,M,25-34', 'Comedy,Short,90s,M,25-34', 'Comedy,30s,Long,M,35-44', 'Comedy,30s,Long,M,35-44', 'Comedy,30s,Long,M,35-44', 'Comedy,Short,90s,M,18-24', 'Comedy,Short,90s,M,18-24', 'Comedy,Short,TX', 'Comedy,Short,TX', 'Comedy,30s,retired', 'Comedy,30s,retired', 'Comedy,30s,retired,Long', 'Comedy,30s,retired,Long', 'Comedy,30s,PA', 'Comedy,30s,PA', 'Comedy,30s,PA,M', 'Comedy,30s,retired,>56', 'Comedy,Short,NC', 'Comedy,Short,TX,M', 'Comedy,30s,PA,Long', 'Comedy,30s,Long,retired', 'Comedy,Short,TX,90s', 'Comedy,Short,90s,F,18-24', 'Comedy,Short,90s,F,25-34', 'Comedy,30s,Long,F,25-34', 'Comedy,Short,90s,M,35-44', 'Comedy', 'Comedy,K-12 student', 'Comedy,K-12 student', 'Comedy,K-12 student', 'Comedy,K-12 student,2000s', 'Comedy,K-12 student,2000s', 'Comedy,K-12 student,2000s', 'Comedy,K-12 student,Long', 'Comedy,K-12 student,Long', 'Comedy,K-12 student,Long', 'Comedy,K-12 student,2000s,<18', 'Comedy,K-12 student,2000s,<18', 'Comedy,K-12 student,2000s,Long', 'Comedy,K-12 student,2000s,Long', 'Comedy,K-12 student,Long,2000s', 'Comedy,K-12 student,Long,2000s', 'Comedy,K-12 student,Long,90s', 'Comedy,K-12 student,Long,90s']\n",
    "user_counts = [6031, 1162, 1328, 31, 1328, 32, 919, 31, 409, 982, 24, 41, 266, 20, 716, 304, 140, 151, 95, 62, 54, 94, 231, 112, 117, 45, 27, 26, 67, 23, 41, 47, 23, 64, 28, 32, 29, 24, 31, 24, 24, 32, 25, 25, 24, 22, 24, 25, 24, 24, 32, 32, 33, 25, 195, 195, 142, 129, 120, 44, 142, 142, 195, 129, 44, 120, 44, 120, 120, 44, 129, 163]\n",
    "\n",
    "ids2 = ['Comedy,AZ', 'Comedy,90s', 'Comedy,unemployed', 'Comedy,90s,Long', 'Comedy,90s,LA', 'Comedy,90s,KS', 'Comedy,90s,Long,M', 'Comedy,90s,Long,F', 'Comedy,90s,Long,LA', 'Comedy,90s,Long,M,35-44', 'Comedy,90s,Long,M,18-24', 'Comedy,90s,Long,M,25-34', 'Comedy,90s,Long,M,18-24,college-grad student', 'Comedy,90s,Long,M,18-24,other', 'Comedy,90s,Long,M,18-24,writer', 'Comedy,90s,Long,F,18-24', 'Comedy,90s,Long,F,NJ', 'Comedy,90s,Long,F,25-34', 'Comedy,90s,Long,F,18-24,college-grad student', 'Comedy,90s,Long,F,18-24,MI', 'Comedy,90s,Long,F,18-24,MN', 'Comedy,90s,Long,M,35-44,executive-managerial', 'Comedy,90s,Long,M,35-44,academic-educator', 'Comedy,90s,Long,M,35-44,technician-engineer', 'Comedy,90s,Long,F,25-34,TX', 'Comedy,90s,Long,F,25-34,CA', 'Comedy,90s,Long,F,25-34,NY', 'Comedy,90s,Long,M,25-34,CA', 'Comedy,90s,Long,M,25-34,NY', 'Comedy,90s,Long,M,25-34,MN', 'Comedy,90s,Long,M,25-34,CA,writer', 'Comedy,90s,Long,M,25-34,CA,other', 'Comedy,90s,Long,M,25-34,CA,technician-engineer', 'Comedy,90s,Long,M,18-24,college-grad student,MA', 'Comedy,90s,Long,M,18-24,college-grad student,MN', 'Comedy,90s,Long,M,18-24,college-grad student,NY', 'Comedy,unemployed,2000s', 'Comedy,unemployed,18-24', 'Comedy,unemployed,Long', 'Comedy,unemployed,Long,2000s', 'Comedy,unemployed,Long,90s', 'Comedy,unemployed,Long,18-24', 'Comedy,AZ,M', 'Comedy,AZ,90s', 'Comedy,AZ,Long', 'Comedy,AZ,M,2000s', 'Comedy,AZ,M,Long', 'Comedy,AZ,M,25-34', 'Comedy,AZ,M,Long,25-34', 'Comedy,AZ,M,Long,2000s', 'Comedy,AZ,M,Long,90s', 'Comedy,AZ,Long,M', 'Comedy,AZ,Long,2000s', 'Comedy,AZ,Long,90s', 'Comedy,AZ,Long,M,2000s', 'Comedy,AZ,Long,M,90s', 'Comedy,AZ,Long,M,25-34', 'Comedy,unemployed,Long,90s,M', 'Comedy,unemployed,Long,90s,18-24', 'Comedy,AZ,Long,90s,M', 'Comedy,AZ,Long,90s,25-34', 'Comedy,unemployed,18-24,M', 'Comedy,unemployed,18-24,90s', 'Comedy,unemployed,18-24,Long', 'Comedy,AZ,90s,Long', 'Comedy,AZ,90s,M', 'Comedy,AZ,90s,M,25-34', 'Comedy,AZ,90s,M,Long', 'Comedy,AZ,90s,Long,M', 'Comedy,AZ,90s,Long,25-34', 'Comedy,unemployed,2000s,Long', 'Comedy,unemployed,2000s,M', 'Comedy,90s,KS,M', 'Comedy,90s,KS,Long', 'Comedy,unemployed,18-24,90s,M', 'Comedy,unemployed,18-24,90s,Long', 'Comedy,unemployed,Long,18-24,M', 'Comedy,unemployed,Long,18-24,90s', 'Comedy,unemployed,18-24,Long,M', 'Comedy,unemployed,18-24,Long,90s', 'Comedy,90s,LA,M', 'Comedy,90s,LA,Long', 'Comedy,unemployed,2000s,M,Long', 'Comedy,AZ,M,2000s,Long', 'Comedy,unemployed,18-24,90s,M,Long', 'Comedy,AZ,90s,M,25-34,Long']\n",
    "labels2 = ['AZ', '90s', 'unemployed', 'Long', 'LA', 'KS', 'M', 'F', 'LA', '35-44', '18-24', '25-34', 'college-grad student', 'other', 'writer', '18-24', 'NJ', '25-34', 'college-grad student', 'MI', 'MN', 'executive-managerial', 'academic-educator', 'technician-engineer', 'TX', 'CA', 'NY', 'CA', 'NY', 'MN', 'writer', 'other', 'technician-engineer', 'MA', 'MN', 'NY', '2000s', '18-24', 'Long', '2000s', '90s', '18-24', 'M', '90s', 'Long', '2000s', 'Long', '25-34', '25-34', '2000s', '90s', 'M', '2000s', '90s', '2000s', '90s', '25-34', 'M', '18-24', 'M', '25-34', 'M', '90s', 'Long', 'Long', 'M', '25-34', 'Long', 'M', '25-34', 'Long', 'M', 'M', 'Long', 'M', 'Long', 'M', '90s', 'M', '90s', 'M', 'Long', 'Long', 'Long', 'Long', 'Long']\n",
    "color_sequence2 = ['#EF553B', '#EF553B', '#EF553B', '#EF553B', '#EF553B', '#EF553B', '#EF553B', '#EF553B', '#EF553B', '#EF553B', '#EF553B', '#EF553B', '#EF553B', '#EF553B', '#EF553B', '#EF553B', '#EF553B', '#EF553B', '#EF553B', '#EF553B', '#EF553B', '#EF553B', '#EF553B', '#EF553B', '#EF553B', '#EF553B', '#EF553B', '#EF553B', '#EF553B', '#EF553B', '#EF553B', '#EF553B', '#EF553B', '#EF553B', '#EF553B', '#EF553B', '#EF553B', '#EF553B', '#EF553B', '#EF553B', '#EF553B', '#EF553B', '#EF553B', '#EF553B', '#EF553B', '#EF553B', '#EF553B', '#EF553B', '#EF553B', '#EF553B', '#EF553B', '#EF553B', '#EF553B', '#EF553B', '#EF553B', '#EF553B', '#EF553B', '#EF553B', '#EF553B', '#EF553B', '#EF553B', '#EF553B', '#EF553B', '#EF553B', '#EF553B', '#EF553B', '#EF553B', '#EF553B', '#EF553B', '#EF553B', '#EF553B', '#EF553B', '#EF553B', '#EF553B', '#EF553B', '#EF553B', '#EF553B', '#EF553B', '#EF553B', '#EF553B', '#EF553B', '#EF553B', '#EF553B', '#EF553B', '#EF553B', '#EF553B']\n",
    "parents2 = ['Comedy', 'Comedy', 'Comedy', 'Comedy,90s', 'Comedy,90s', 'Comedy,90s', 'Comedy,90s,Long', 'Comedy,90s,Long', 'Comedy,90s,Long', 'Comedy,90s,Long,M', 'Comedy,90s,Long,M', 'Comedy,90s,Long,M', 'Comedy,90s,Long,M,18-24', 'Comedy,90s,Long,M,18-24', 'Comedy,90s,Long,M,18-24', 'Comedy,90s,Long,F', 'Comedy,90s,Long,F', 'Comedy,90s,Long,F', 'Comedy,90s,Long,F,18-24', 'Comedy,90s,Long,F,18-24', 'Comedy,90s,Long,F,18-24', 'Comedy,90s,Long,M,35-44', 'Comedy,90s,Long,M,35-44', 'Comedy,90s,Long,M,35-44', 'Comedy,90s,Long,F,25-34', 'Comedy,90s,Long,F,25-34', 'Comedy,90s,Long,F,25-34', 'Comedy,90s,Long,M,25-34', 'Comedy,90s,Long,M,25-34', 'Comedy,90s,Long,M,25-34', 'Comedy,90s,Long,M,25-34,CA', 'Comedy,90s,Long,M,25-34,CA', 'Comedy,90s,Long,M,25-34,CA', 'Comedy,90s,Long,M,18-24,college-grad student', 'Comedy,90s,Long,M,18-24,college-grad student', 'Comedy,90s,Long,M,18-24,college-grad student', 'Comedy,unemployed', 'Comedy,unemployed', 'Comedy,unemployed', 'Comedy,unemployed,Long', 'Comedy,unemployed,Long', 'Comedy,unemployed,Long', 'Comedy,AZ', 'Comedy,AZ', 'Comedy,AZ', 'Comedy,AZ,M', 'Comedy,AZ,M', 'Comedy,AZ,M', 'Comedy,AZ,M,Long', 'Comedy,AZ,M,Long', 'Comedy,AZ,M,Long', 'Comedy,AZ,Long', 'Comedy,AZ,Long', 'Comedy,AZ,Long', 'Comedy,AZ,Long,M', 'Comedy,AZ,Long,M', 'Comedy,AZ,Long,M', 'Comedy,unemployed,Long,90s', 'Comedy,unemployed,Long,90s', 'Comedy,AZ,Long,90s', 'Comedy,AZ,Long,90s', 'Comedy,unemployed,18-24', 'Comedy,unemployed,18-24', 'Comedy,unemployed,18-24', 'Comedy,AZ,90s', 'Comedy,AZ,90s', 'Comedy,AZ,90s,M', 'Comedy,AZ,90s,M', 'Comedy,AZ,90s,Long', 'Comedy,AZ,90s,Long', 'Comedy,unemployed,2000s', 'Comedy,unemployed,2000s', 'Comedy,90s,KS', 'Comedy,90s,KS', 'Comedy,unemployed,18-24,90s', 'Comedy,unemployed,18-24,90s', 'Comedy,unemployed,Long,18-24', 'Comedy,unemployed,Long,18-24', 'Comedy,unemployed,18-24,Long', 'Comedy,unemployed,18-24,Long', 'Comedy,90s,LA', 'Comedy,90s,LA', 'Comedy,unemployed,2000s,M', 'Comedy,AZ,M,2000s', 'Comedy,unemployed,18-24,90s,M', 'Comedy,AZ,90s,M,25-34']\n",
    "user_counts2 = [83, 5907, 72, 5903, 33, 38, 4238, 1665, 33, 828, 800, 1514, 368, 74, 35, 296, 34, 549, 162, 20, 21, 173, 74, 109, 31, 118, 36, 289, 104, 115, 25, 32, 47, 23, 24, 25, 45, 30, 72, 45, 72, 30, 58, 83, 83, 36, 58, 24, 24, 36, 58, 58, 50, 83, 36, 58, 24, 57, 30, 58, 33, 24, 30, 30, 83, 58, 24, 58, 58, 33, 45, 34, 29, 38, 24, 30, 24, 30, 24, 30, 28, 33, 34, 36, 24, 24]\n",
    "\n",
    "\n",
    "def rename_occupations(l):\n",
    "    renamed_l = []\n",
    "    for lbl in l:\n",
    "        if lbl in occupation_renames:\n",
    "            renamed_l.append(occupation_renames[lbl])\n",
    "        else:\n",
    "            renamed_l.append(lbl)\n",
    "    return renamed_l\n",
    "    \n",
    "\n",
    "fig =go.Figure(go.Sunburst(\n",
    "    ids=ids+ids2,\n",
    "    labels=rename_occupations(labels+labels2),\n",
    "    parents=parents+parents2,\n",
    "    #values=[6031, 5907, 5903, 4238, 800, 1665, 296, 828, 549, 1514, 289, 83, 72, 38, ],\n",
    "    marker=dict(colors=[hex_to_rgba(hex, get_opacity(user_count)) if hex != '' else '' for hex, user_count in zip(color_sequence+color_sequence2, user_counts+user_counts2)])\n",
    "))\n",
    "fig.update_layout(margin = dict(t=0, l=0, r=0, b=0))\n",
    "\n",
    "fig.update_traces(leaf=dict(opacity = 1))\n",
    "\n",
    "fig.add_trace(go.Scatter(\n",
    "    x=[1],\n",
    "    y=[1],\n",
    "    name=\"μ > 4.0\"\n",
    "))\n",
    "\n",
    "fig.add_trace(go.Scatter(\n",
    "    x=[1],\n",
    "    y=[5],\n",
    "    name=\"μ < 3.5\"\n",
    "))\n",
    "\n",
    "fig.add_trace(go.Scatter(\n",
    "    x=[1],\n",
    "    y=[5],\n",
    "    name=\"σ² > 1.4\"\n",
    "))\n",
    "\n",
    "fig.update_layout(legend_title_text='Hypothesis')\n",
    "\n",
    "fig.show()"
   ]
  },
  {
   "cell_type": "code",
   "execution_count": null,
   "id": "86ed2ba4-6b96-48fe-b69d-7c7f267374e5",
   "metadata": {},
   "outputs": [],
   "source": []
  },
  {
   "cell_type": "code",
   "execution_count": null,
   "id": "92424af4-d0ad-4fd4-a168-338a6c17e108",
   "metadata": {},
   "outputs": [],
   "source": [
    "ids2 = ['Comedy,AZ', 'Comedy,90s', 'Comedy,unemployed', 'Comedy,90s,Long', 'Comedy,90s,LA', 'Comedy,90s,KS', 'Comedy,90s,Long,M', 'Comedy,90s,Long,F', 'Comedy,90s,Long,LA', 'Comedy,90s,Long,M,35-44', 'Comedy,90s,Long,M,18-24', 'Comedy,90s,Long,M,25-34', 'Comedy,90s,Long,M,18-24,college-grad student', 'Comedy,90s,Long,M,18-24,other', 'Comedy,90s,Long,M,18-24,writer', 'Comedy,90s,Long,F,18-24', 'Comedy,90s,Long,F,NJ', 'Comedy,90s,Long,F,25-34', 'Comedy,90s,Long,F,18-24,college-grad student', 'Comedy,90s,Long,F,18-24,MI', 'Comedy,90s,Long,F,18-24,MN', 'Comedy,90s,Long,M,35-44,executive-managerial', 'Comedy,90s,Long,M,35-44,academic-educator', 'Comedy,90s,Long,M,35-44,technician-engineer', 'Comedy,90s,Long,F,25-34,TX', 'Comedy,90s,Long,F,25-34,CA', 'Comedy,90s,Long,F,25-34,NY', 'Comedy,90s,Long,M,25-34,CA', 'Comedy,90s,Long,M,25-34,NY', 'Comedy,90s,Long,M,25-34,MN', 'Comedy,90s,Long,M,25-34,CA,writer', 'Comedy,90s,Long,M,25-34,CA,other', 'Comedy,90s,Long,M,25-34,CA,technician-engineer', 'Comedy,90s,Long,M,18-24,college-grad student,MA', 'Comedy,90s,Long,M,18-24,college-grad student,MN', 'Comedy,90s,Long,M,18-24,college-grad student,NY', 'Comedy,unemployed,2000s', 'Comedy,unemployed,18-24', 'Comedy,unemployed,Long', 'Comedy,unemployed,Long,2000s', 'Comedy,unemployed,Long,90s', 'Comedy,unemployed,Long,18-24', 'Comedy,AZ,M', 'Comedy,AZ,90s', 'Comedy,AZ,Long', 'Comedy,AZ,M,2000s', 'Comedy,AZ,M,Long', 'Comedy,AZ,M,25-34', 'Comedy,AZ,M,Long,25-34', 'Comedy,AZ,M,Long,2000s', 'Comedy,AZ,M,Long,90s', 'Comedy,AZ,Long,M', 'Comedy,AZ,Long,2000s', 'Comedy,AZ,Long,90s', 'Comedy,AZ,Long,M,2000s', 'Comedy,AZ,Long,M,90s', 'Comedy,AZ,Long,M,25-34', 'Comedy,unemployed,Long,90s,M', 'Comedy,unemployed,Long,90s,18-24', 'Comedy,AZ,Long,90s,M', 'Comedy,AZ,Long,90s,25-34', 'Comedy,unemployed,18-24,M', 'Comedy,unemployed,18-24,90s', 'Comedy,unemployed,18-24,Long', 'Comedy,AZ,90s,Long', 'Comedy,AZ,90s,M', 'Comedy,AZ,90s,M,25-34', 'Comedy,AZ,90s,M,Long', 'Comedy,AZ,90s,Long,M', 'Comedy,AZ,90s,Long,25-34', 'Comedy,unemployed,2000s,Long', 'Comedy,unemployed,2000s,M', 'Comedy,90s,KS,M', 'Comedy,90s,KS,Long', 'Comedy,unemployed,18-24,90s,M', 'Comedy,unemployed,18-24,90s,Long', 'Comedy,unemployed,Long,18-24,M', 'Comedy,unemployed,Long,18-24,90s', 'Comedy,unemployed,18-24,Long,M', 'Comedy,unemployed,18-24,Long,90s', 'Comedy,90s,LA,M', 'Comedy,90s,LA,Long', 'Comedy,unemployed,2000s,M,Long', 'Comedy,AZ,M,2000s,Long', 'Comedy,unemployed,18-24,90s,M,Long', 'Comedy,AZ,90s,M,25-34,Long']\n",
    "labels2 = ['AZ', '90s', 'unemployed', 'Long', 'LA', 'KS', 'M', 'F', 'LA', '35-44', '18-24', '25-34', 'college-grad student', 'other', 'writer', '18-24', 'NJ', '25-34', 'college-grad student', 'MI', 'MN', 'executive-managerial', 'academic-educator', 'technician-engineer', 'TX', 'CA', 'NY', 'CA', 'NY', 'MN', 'writer', 'other', 'technician-engineer', 'MA', 'MN', 'NY', '2000s', '18-24', 'Long', '2000s', '90s', '18-24', 'M', '90s', 'Long', '2000s', 'Long', '25-34', '25-34', '2000s', '90s', 'M', '2000s', '90s', '2000s', '90s', '25-34', 'M', '18-24', 'M', '25-34', 'M', '90s', 'Long', 'Long', 'M', '25-34', 'Long', 'M', '25-34', 'Long', 'M', 'M', 'Long', 'M', 'Long', 'M', '90s', 'M', '90s', 'M', 'Long', 'Long', 'Long', 'Long', 'Long']\n",
    "color_sequence2 = ['#EF553B', '#EF553B', '#EF553B', '#EF553B', '#EF553B', '#EF553B', '#EF553B', '#EF553B', '#EF553B', '#EF553B', '#EF553B', '#EF553B', '#EF553B', '#EF553B', '#EF553B', '#EF553B', '#EF553B', '#EF553B', '#EF553B', '#EF553B', '#EF553B', '#EF553B', '#EF553B', '#EF553B', '#EF553B', '#EF553B', '#EF553B', '#EF553B', '#EF553B', '#EF553B', '#EF553B', '#EF553B', '#EF553B', '#EF553B', '#EF553B', '#EF553B', '#EF553B', '#EF553B', '#EF553B', '#EF553B', '#EF553B', '#EF553B', '#EF553B', '#EF553B', '#EF553B', '#EF553B', '#EF553B', '#EF553B', '#EF553B', '#EF553B', '#EF553B', '#EF553B', '#EF553B', '#EF553B', '#EF553B', '#EF553B', '#EF553B', '#EF553B', '#EF553B', '#EF553B', '#EF553B', '#EF553B', '#EF553B', '#EF553B', '#EF553B', '#EF553B', '#EF553B', '#EF553B', '#EF553B', '#EF553B', '#EF553B', '#EF553B', '#EF553B', '#EF553B', '#EF553B', '#EF553B', '#EF553B', '#EF553B', '#EF553B', '#EF553B', '#EF553B', '#EF553B', '#EF553B', '#EF553B', '#EF553B', '#EF553B']\n",
    "parents2 = ['Comedy', 'Comedy', 'Comedy', 'Comedy,90s', 'Comedy,90s', 'Comedy,90s', 'Comedy,90s,Long', 'Comedy,90s,Long', 'Comedy,90s,Long', 'Comedy,90s,Long,M', 'Comedy,90s,Long,M', 'Comedy,90s,Long,M', 'Comedy,90s,Long,M,18-24', 'Comedy,90s,Long,M,18-24', 'Comedy,90s,Long,M,18-24', 'Comedy,90s,Long,F', 'Comedy,90s,Long,F', 'Comedy,90s,Long,F', 'Comedy,90s,Long,F,18-24', 'Comedy,90s,Long,F,18-24', 'Comedy,90s,Long,F,18-24', 'Comedy,90s,Long,M,35-44', 'Comedy,90s,Long,M,35-44', 'Comedy,90s,Long,M,35-44', 'Comedy,90s,Long,F,25-34', 'Comedy,90s,Long,F,25-34', 'Comedy,90s,Long,F,25-34', 'Comedy,90s,Long,M,25-34', 'Comedy,90s,Long,M,25-34', 'Comedy,90s,Long,M,25-34', 'Comedy,90s,Long,M,25-34,CA', 'Comedy,90s,Long,M,25-34,CA', 'Comedy,90s,Long,M,25-34,CA', 'Comedy,90s,Long,M,18-24,college-grad student', 'Comedy,90s,Long,M,18-24,college-grad student', 'Comedy,90s,Long,M,18-24,college-grad student', 'Comedy,unemployed', 'Comedy,unemployed', 'Comedy,unemployed', 'Comedy,unemployed,Long', 'Comedy,unemployed,Long', 'Comedy,unemployed,Long', 'Comedy,AZ', 'Comedy,AZ', 'Comedy,AZ', 'Comedy,AZ,M', 'Comedy,AZ,M', 'Comedy,AZ,M', 'Comedy,AZ,M,Long', 'Comedy,AZ,M,Long', 'Comedy,AZ,M,Long', 'Comedy,AZ,Long', 'Comedy,AZ,Long', 'Comedy,AZ,Long', 'Comedy,AZ,Long,M', 'Comedy,AZ,Long,M', 'Comedy,AZ,Long,M', 'Comedy,unemployed,Long,90s', 'Comedy,unemployed,Long,90s', 'Comedy,AZ,Long,90s', 'Comedy,AZ,Long,90s', 'Comedy,unemployed,18-24', 'Comedy,unemployed,18-24', 'Comedy,unemployed,18-24', 'Comedy,AZ,90s', 'Comedy,AZ,90s', 'Comedy,AZ,90s,M', 'Comedy,AZ,90s,M', 'Comedy,AZ,90s,Long', 'Comedy,AZ,90s,Long', 'Comedy,unemployed,2000s', 'Comedy,unemployed,2000s', 'Comedy,90s,KS', 'Comedy,90s,KS', 'Comedy,unemployed,18-24,90s', 'Comedy,unemployed,18-24,90s', 'Comedy,unemployed,Long,18-24', 'Comedy,unemployed,Long,18-24', 'Comedy,unemployed,18-24,Long', 'Comedy,unemployed,18-24,Long', 'Comedy,90s,LA', 'Comedy,90s,LA', 'Comedy,unemployed,2000s,M', 'Comedy,AZ,M,2000s', 'Comedy,unemployed,18-24,90s,M', 'Comedy,AZ,90s,M,25-34']\n",
    "user_counts2 = [83, 5907, 72, 5903, 33, 38, 4238, 1665, 33, 828, 800, 1514, 368, 74, 35, 296, 34, 549, 162, 20, 21, 173, 74, 109, 31, 118, 36, 289, 104, 115, 25, 32, 47, 23, 24, 25, 45, 30, 72, 45, 72, 30, 58, 83, 83, 36, 58, 24, 24, 36, 58, 58, 50, 83, 36, 58, 24, 57, 30, 58, 33, 24, 30, 30, 83, 58, 24, 58, 58, 33, 45, 34, 29, 38, 24, 30, 24, 30, 24, 30, 28, 33, 34, 36, 24, 24]\n"
   ]
  },
  {
   "cell_type": "code",
   "execution_count": null,
   "id": "2225699d-6382-45c6-9641-09b8caa92714",
   "metadata": {},
   "outputs": [],
   "source": []
  },
  {
   "cell_type": "code",
   "execution_count": null,
   "id": "303964fa-7d09-4019-ad08-af9703f23c20",
   "metadata": {},
   "outputs": [],
   "source": []
  },
  {
   "cell_type": "code",
   "execution_count": null,
   "id": "b443a066-9bcc-4b38-8695-e363a05a119e",
   "metadata": {},
   "outputs": [],
   "source": []
  },
  {
   "cell_type": "code",
   "execution_count": 23,
   "id": "c33fce8e-6478-4df3-a80c-47238c049ba5",
   "metadata": {},
   "outputs": [
    {
     "data": {
      "text/html": [
       "<iframe\n",
       "    scrolling=\"no\"\n",
       "    width=\"100%\"\n",
       "    height=\"545px\"\n",
       "    src=\"iframe_figures/figure_23.html\"\n",
       "    frameborder=\"0\"\n",
       "    allowfullscreen\n",
       "></iframe>\n"
      ]
     },
     "metadata": {},
     "output_type": "display_data"
    }
   ],
   "source": [
    "ids = ['Comedy', 'Comedy,Short', 'Comedy,30s', 'Comedy,30s,clerical-admin', 'Comedy,30s,Long', 'Comedy,30s,PA', 'Comedy,30s,Long,M', 'Comedy,30s,Long,F', 'Comedy,30s,Long,PA', 'Comedy,30s,Long,M,45-49', 'Comedy,30s,Long,M,35-44', 'Comedy,30s,Long,M,50-55', 'Comedy,30s,Long,F,25-34', 'Comedy,30s,Long,F,50-55', 'Comedy,30s,Long,F,>56', 'Comedy,Short,NC', 'Comedy,Short,90s', 'Comedy,Short,OR', 'Comedy,Short,90s,F', 'Comedy,Short,90s,M', 'Comedy,Short,90s,PA', 'Comedy,Short,90s,M,35-44', 'Comedy,Short,90s,M,18-24', 'Comedy,Short,90s,M,25-34', 'Comedy,Short,90s,F,35-44', 'Comedy,Short,90s,F,25-34', 'Comedy,Short,90s,F,18-24', 'Comedy,Short,90s,M,25-34,MN', 'Comedy,Short,90s,M,25-34,MA', 'Comedy,Short,90s,M,25-34,CA', 'Comedy,30s,Long,M,35-44,NY', 'Comedy,30s,Long,M,35-44,executive-managerial', 'Comedy,Short,90s,M,18-24,CA', 'Comedy,Short,90s,M,18-24,college-grad student', 'Comedy,30s,clerical-admin,F', 'Comedy,30s,clerical-admin,Long', 'Comedy,Short,OR,M', 'Comedy,Short,OR,90s', 'Comedy,30s,PA,M', 'Comedy,30s,PA,Long', 'Comedy,30s,PA,M,Long', 'Comedy,30s,clerical-admin,F,Long', 'Comedy,Short,NC,90s', 'Comedy,Short,OR,M,90s', 'Comedy,30s,PA,Long,M', 'Comedy,30s,Long,PA,M', 'Comedy,Short,OR,90s,M', 'Comedy,Short,90s,F,18-24,college-grad student', 'Comedy,30s,clerical-admin,Long,F', 'Comedy,Short,90s,F,25-34,CA', 'Comedy,30s,Long,F,25-34,CA', 'Comedy,Short,90s,M,35-44,technician-engineer', 'Comedy,K-12 student', 'Comedy,K-12 student,2000s', 'Comedy,K-12 student,<18', 'Comedy,K-12 student,Long', 'Comedy,K-12 student,2000s,F', 'Comedy,K-12 student,2000s,Long', 'Comedy,K-12 student,2000s,<18', 'Comedy,K-12 student,<18,M', 'Comedy,K-12 student,<18,Long', 'Comedy,K-12 student,<18,2000s', 'Comedy,K-12 student,<18,Long,90s', 'Comedy,K-12 student,<18,Long,2000s', 'Comedy,K-12 student,<18,Long,M', 'Comedy,K-12 student,Long,2000s', 'Comedy,K-12 student,Long,<18', 'Comedy,K-12 student,Long,90s', 'Comedy,K-12 student,Long,<18,2000s', 'Comedy,K-12 student,Long,<18,90s', 'Comedy,K-12 student,Long,<18,M', 'Comedy,K-12 student,30s', 'Comedy,K-12 student,Short']\n",
    "labels = ['Comedy', 'Short', '30s', 'clerical-admin', 'Long', 'PA', 'M', 'F', 'PA', '45-49', '35-44', '50-55', '25-34', '50-55', '>56', 'NC', '90s', 'OR', 'F', 'M', 'PA', '35-44', '18-24', '25-34', '35-44', '25-34', '18-24', 'MN', 'MA', 'CA', 'NY', 'executive-managerial', 'CA', 'college-grad student', 'F', 'Long', 'M', '90s', 'M', 'Long', 'Long', 'Long', '90s', '90s', 'M', 'M', 'M', 'college-grad student', 'F', 'CA', 'CA', 'technician-engineer', 'K-12 student', '2000s', '<18', 'Long', 'F', 'Long', '<18', 'M', 'Long', '2000s', '90s', '2000s', 'M', '2000s', '<18', '90s', '2000s', '90s', 'M', '30s', 'Short']\n",
    "color_sequence = ['', '#636EFA', '#636EFA', '#636EFA', '#636EFA', '#636EFA', '#636EFA', '#636EFA', '#636EFA', '#636EFA', '#636EFA', '#636EFA', '#636EFA', '#636EFA', '#636EFA', '#636EFA', '#636EFA', '#636EFA', '#636EFA', '#636EFA', '#636EFA', '#636EFA', '#636EFA', '#636EFA', '#636EFA', '#636EFA', '#636EFA', '#636EFA', '#636EFA', '#636EFA', '#636EFA', '#636EFA', '#636EFA', '#636EFA', '#636EFA', '#636EFA', '#636EFA', '#636EFA', '#636EFA', '#636EFA', '#636EFA', '#636EFA', '#636EFA', '#636EFA', '#636EFA', '#636EFA', '#636EFA', '#636EFA', '#636EFA', '#636EFA', '#636EFA', '#636EFA', '#00CC96', '#00CC96', '#00CC96', '#00CC96', '#00CC96', '#00CC96', '#00CC96', '#00CC96', '#00CC96', '#00CC96', '#00CC96', '#00CC96', '#00CC96', '#00CC96', '#00CC96', '#00CC96', '#00CC96', '#00CC96', '#00CC96', '#636EFA', '#636EFA']\n",
    "parents = ['', 'Comedy', 'Comedy', 'Comedy,30s', 'Comedy,30s', 'Comedy,30s', 'Comedy,30s,Long', 'Comedy,30s,Long', 'Comedy,30s,Long', 'Comedy,30s,Long,M', 'Comedy,30s,Long,M', 'Comedy,30s,Long,M', 'Comedy,30s,Long,F', 'Comedy,30s,Long,F', 'Comedy,30s,Long,F', 'Comedy,Short', 'Comedy,Short', 'Comedy,Short', 'Comedy,Short,90s', 'Comedy,Short,90s', 'Comedy,Short,90s', 'Comedy,Short,90s,M', 'Comedy,Short,90s,M', 'Comedy,Short,90s,M', 'Comedy,Short,90s,F', 'Comedy,Short,90s,F', 'Comedy,Short,90s,F', 'Comedy,Short,90s,M,25-34', 'Comedy,Short,90s,M,25-34', 'Comedy,Short,90s,M,25-34', 'Comedy,30s,Long,M,35-44', 'Comedy,30s,Long,M,35-44', 'Comedy,Short,90s,M,18-24', 'Comedy,Short,90s,M,18-24', 'Comedy,30s,clerical-admin', 'Comedy,30s,clerical-admin', 'Comedy,Short,OR', 'Comedy,Short,OR', 'Comedy,30s,PA', 'Comedy,30s,PA', 'Comedy,30s,PA,M', 'Comedy,30s,clerical-admin,F', 'Comedy,Short,NC', 'Comedy,Short,OR,M', 'Comedy,30s,PA,Long', 'Comedy,30s,Long,PA', 'Comedy,Short,OR,90s', 'Comedy,Short,90s,F,18-24', 'Comedy,30s,clerical-admin,Long', 'Comedy,Short,90s,F,25-34', 'Comedy,30s,Long,F,25-34', 'Comedy,Short,90s,M,35-44', 'Comedy', 'Comedy,K-12 student', 'Comedy,K-12 student', 'Comedy,K-12 student', 'Comedy,K-12 student,2000s', 'Comedy,K-12 student,2000s', 'Comedy,K-12 student,2000s', 'Comedy,K-12 student,<18', 'Comedy,K-12 student,<18', 'Comedy,K-12 student,<18', 'Comedy,K-12 student,<18,Long', 'Comedy,K-12 student,<18,Long', 'Comedy,K-12 student,<18,Long', 'Comedy,K-12 student,Long', 'Comedy,K-12 student,Long', 'Comedy,K-12 student,Long', 'Comedy,K-12 student,Long,<18', 'Comedy,K-12 student,Long,<18', 'Comedy,K-12 student,Long,<18', 'Comedy,K-12 student', 'Comedy,K-12 student']\n",
    "user_counts = [6031, 1162, 1328, 47, 1328, 32, 919, 409, 32, 112, 231, 94, 117, 45, 27, 24, 982, 35, 266, 716, 20, 151, 140, 304, 62, 95, 54, 26, 23, 67, 23, 41, 28, 64, 26, 47, 25, 29, 25, 32, 25, 26, 22, 21, 25, 25, 21, 32, 26, 32, 33, 25, 195, 142, 163, 195, 44, 142, 120, 100, 163, 120, 163, 120, 100, 142, 163, 195, 120, 163, 100, 22, 44]\n",
    "\n",
    "\n",
    "def get_opacity(user_count):\n",
    "    max_opacity = 1\n",
    "    min_opacity = 0.15\n",
    "    total_users = 6040\n",
    "    opacity_step = (max_opacity - min_opacity) / total_users\n",
    "    return user_count * opacity_step + min_opacity\n",
    "\n",
    "fig =go.Figure(go.Sunburst(\n",
    "    ids=ids,\n",
    "    labels=labels,\n",
    "    parents=parents,\n",
    "    #values=[6031, 5907, 5903, 4238, 800, 1665, 296, 828, 549, 1514, 289, 83, 72, 38, ],\n",
    "    marker=dict(colors=[hex_to_rgba(hex, get_opacity(user_count)) if hex != '' else '' for hex, user_count in zip(color_sequence, user_counts)])\n",
    "))\n",
    "fig.update_layout(margin = dict(t=0, l=0, r=0, b=0))\n",
    "\n",
    "fig.update_traces(leaf=dict(opacity = 1))\n",
    "\n",
    "fig.show()"
   ]
  },
  {
   "cell_type": "code",
   "execution_count": 42,
   "id": "1fce1277-842d-44f4-ac92-e8f085221260",
   "metadata": {},
   "outputs": [
    {
     "data": {
      "text/html": [
       "<iframe\n",
       "    scrolling=\"no\"\n",
       "    width=\"100%\"\n",
       "    height=\"545px\"\n",
       "    src=\"iframe_figures/figure_42.html\"\n",
       "    frameborder=\"0\"\n",
       "    allowfullscreen\n",
       "></iframe>\n"
      ]
     },
     "metadata": {},
     "output_type": "display_data"
    }
   ],
   "source": [
    "ids = ['', 'Horror', 'unemployed', 'Horror,Long', 'Horror,UT', 'Horror,Long,M', 'Horror,Long,F', 'Horror,Long,M', 'Horror,Long,F', 'Horror,Long', 'Horror,NH', 'Horror,Long,F', 'Horror,Long,M', 'Horror,Long,M', 'Horror,Long,F', 'Horror,Long,M,ME', 'Horror,Long,M,90s', 'Horror,Long,M,90s', 'Horror,Long,M,ME', 'Horror,Long,M,ME', 'Horror,Long,M,90s', 'Horror,Long,M,90s', 'Horror,Long,M,ME', 'Horror,Long,M,LA', 'Horror,Long,M,80s', 'Horror,Long,M,LA', 'Horror,Long,M,80s', 'Horror,Long,M,LA', 'Horror,Long,M,80s', 'Horror,Long,M,LA', 'Horror,Long,M,80s', 'Horror,Long,M,90s,25-34', 'Horror,Long,M,90s,18-24', 'Horror,Long,M,90s,18-24', 'Horror,Long,M,90s,25-34', 'Horror,Long,M,90s,25-34', 'Horror,Long,M,90s,18-24', 'Horror,Long,M,90s,18-24', 'Horror,Long,M,90s,25-34', 'Horror,Long,M,80s,25-34', 'Horror,Long,M,80s,35-44', 'Horror,Long,M,80s,35-44', 'Horror,Long,M,80s,25-34', 'Horror,Long,M,80s,25-34', 'Horror,Long,M,80s,35-44', 'Horror,Long,M,80s,25-34', 'Horror,Long,M,80s,35-44', 'Horror,Long,M,90s,18-24,college-grad student', 'Horror,Long,M,90s,18-24,other', 'Horror,Long,M,90s,18-24,other', 'Horror,Long,M,90s,18-24,college-grad student', 'Horror,Long,M,90s,18-24,college-grad student', 'Horror,Long,M,90s,18-24,other', 'Horror,Long,M,90s,18-24,other', 'Horror,Long,M,90s,18-24,college-grad student', 'Horror,Long,F,90s', 'Horror,Long,F,CO', 'Horror,Long,F,90s,25-34', 'Horror,Long,F,90s,18-24', 'Horror,Long,F,90s,18-24,other', 'Horror,Long,F,90s,18-24,college-grad student', 'Horror,Long,F,90s', 'Horror,Long,F,CO', 'Horror,Long,F,90s,25-34', 'Horror,Long,F,90s,18-24', 'Horror,Long,F,90s,18-24,other', 'Horror,Long,F,90s,18-24,college-grad student', 'Horror,Long,F,CO', 'Horror,Long,F,90s', 'Horror,Long,F,90s,18-24', 'Horror,Long,F,90s,25-34']\n",
    "labels = ['MovieLens', 'Horror', 'unemployed', 'Long', 'UT', 'M', 'F', 'M', 'F', 'Long', 'NH', 'F', 'M', 'M', 'F', 'ME', '90s', '90s', 'ME', 'ME', '90s', '90s', 'ME', 'LA', '80s', 'LA', '80s', 'LA', '80s', 'LA', '80s', '25-34', '18-24', '18-24', '25-34', '25-34', '18-24', '18-24', '25-34', '25-34', '35-44', '35-44', '25-34', '25-34', '35-44', '25-34', '35-44', 'college-grad student', 'other', 'other', 'college-grad student', 'college-grad student', 'other', 'other', 'college-grad student', '90s', 'CO', '25-34', '18-24', 'other', 'college-grad student', '90s', 'CO', '25-34', '18-24', 'other', 'college-grad student', 'CO', '90s', '18-24', '25-34']\n",
    "color_sequence = ['', '#00CC96', '#00CC96', '#EF553B', '#EF553B', '#00CC96', '#00CC96', '#EF553B', '#EF553B', '#00CC96', '#00CC96', '#00CC96', '#00CC96', '#EF553B', '#EF553B', '#EF553B', '#EF553B', '#EF553B', '#EF553B', '#EF553B', '#EF553B', '#EF553B', '#EF553B', '#00CC96', '#00CC96', '#00CC96', '#00CC96', '#00CC96', '#00CC96', '#00CC96', '#00CC96', '#EF553B', '#EF553B', '#EF553B', '#EF553B', '#EF553B', '#EF553B', '#EF553B', '#EF553B', '#EF553B', '#EF553B', '#EF553B', '#EF553B', '#EF553B', '#EF553B', '#EF553B', '#EF553B', '#EF553B', '#EF553B', '#EF553B', '#EF553B', '#EF553B', '#EF553B', '#EF553B', '#EF553B', '#EF553B', '#EF553B', '#EF553B', '#EF553B', '#EF553B', '#EF553B', '#EF553B', '#EF553B', '#EF553B', '#EF553B', '#EF553B', '#EF553B', '#EF553B', '#EF553B', '#EF553B', '#EF553B']\n",
    "parents = ['', '', '', 'Horror', 'Horror', 'Horror,Long', 'Horror,Long', 'Horror,Long', 'Horror,Long', 'Horror', 'Horror', 'Horror,Long', 'Horror,Long', 'Horror,Long', 'Horror,Long', 'Horror,Long,M', 'Horror,Long,M', 'Horror,Long,M', 'Horror,Long,M', 'Horror,Long,M', 'Horror,Long,M', 'Horror,Long,M', 'Horror,Long,M', 'Horror,Long,M', 'Horror,Long,M', 'Horror,Long,M', 'Horror,Long,M', 'Horror,Long,M', 'Horror,Long,M', 'Horror,Long,M', 'Horror,Long,M', 'Horror,Long,M,90s', 'Horror,Long,M,90s', 'Horror,Long,M,90s', 'Horror,Long,M,90s', 'Horror,Long,M,90s', 'Horror,Long,M,90s', 'Horror,Long,M,90s', 'Horror,Long,M,90s', 'Horror,Long,M,80s', 'Horror,Long,M,80s', 'Horror,Long,M,80s', 'Horror,Long,M,80s', 'Horror,Long,M,80s', 'Horror,Long,M,80s', 'Horror,Long,M,80s', 'Horror,Long,M,80s', 'Horror,Long,M,90s,18-24', 'Horror,Long,M,90s,18-24', 'Horror,Long,M,90s,18-24', 'Horror,Long,M,90s,18-24', 'Horror,Long,M,90s,18-24', 'Horror,Long,M,90s,18-24', 'Horror,Long,M,90s,18-24', 'Horror,Long,M,90s,18-24', 'Horror,Long,F', 'Horror,Long,F', 'Horror,Long,F,90s', 'Horror,Long,F,90s', 'Horror,Long,F,90s,18-24', 'Horror,Long,F,90s,18-24', 'Horror,Long,F', 'Horror,Long,F', 'Horror,Long,F,90s', 'Horror,Long,F,90s', 'Horror,Long,F,90s,18-24', 'Horror,Long,F,90s,18-24', 'Horror,Long,F', 'Horror,Long,F', 'Horror,Long,F,90s', 'Horror,Long,F,90s']\n",
    "user_counts = [6040, 5297, 72, 5297, 24, 3928, 1369, 3928, 1369, 5297, 37, 1369, 3928, 3928, 1369, 25, 2913, 2913, 25, 25, 2913, 2913, 25, 23, 2774, 23, 2774, 23, 2774, 23, 2774, 1158, 629, 629, 1158, 1158, 629, 629, 1158, 1093, 561, 561, 1093, 1093, 561, 1093, 561, 293, 55, 55, 293, 293, 55, 55, 293, 919, 21, 340, 193, 21, 102, 919, 21, 340, 193, 21, 102, 21, 919, 193, 340]\n",
    "fig = go.Figure(go.Sunburst(\n",
    "    ids=ids,\n",
    "    labels=labels,\n",
    "    parents=parents,\n",
    "    #values=[6031, 5907, 5903, 4238, 800, 1665, 296, 828, 549, 1514, 289, 83, 72, 38, ],\n",
    "    marker=dict(colors=[hex_to_rgba(hex, get_opacity(user_count)) if hex != '' else '' for hex, user_count in zip(color_sequence, user_counts)])\n",
    "))\n",
    "fig.update_layout(margin = dict(t=0, l=0, r=0, b=0))\n",
    "\n",
    "fig.update_traces(leaf=dict(opacity = 1))\n",
    "\n",
    "fig.show()"
   ]
  },
  {
   "cell_type": "code",
   "execution_count": 40,
   "id": "53c2ba45-26cc-4dc4-84d0-2f0196a9b21b",
   "metadata": {},
   "outputs": [
    {
     "data": {
      "text/plain": [
       "['Comedy',\n",
       " 'Comedy,30s',\n",
       " 'Comedy,Short',\n",
       " 'Comedy,30s,PA',\n",
       " 'Comedy,30s,Long',\n",
       " 'Comedy,30s,Long,M',\n",
       " 'Comedy,30s,Long,F',\n",
       " 'Comedy,Short,90s',\n",
       " 'Comedy,Short,NC',\n",
       " 'Comedy,Short,90s,M',\n",
       " 'Comedy,Short,90s,F',\n",
       " 'Comedy,Short,90s,M,25-34',\n",
       " 'Comedy,Short,90s,M,35-44',\n",
       " 'Comedy,Short,90s,F,25-34',\n",
       " 'Comedy,Short,90s,F,35-44',\n",
       " 'Comedy,30s,Long,F,50-55',\n",
       " 'Comedy,30s,Long,F,25-34',\n",
       " 'Comedy,30s,Long,M,45-49',\n",
       " 'Comedy,30s,Long,M,35-44',\n",
       " 'Comedy,Short,90s,M,25-34,CA',\n",
       " 'Comedy,Short,90s,M,25-34,MN',\n",
       " 'Comedy,30s,Long,M,35-44,executive-managerial',\n",
       " 'Comedy,30s,Long,M,35-44,NY',\n",
       " 'Comedy,30s,PA,Long',\n",
       " 'Comedy,30s,PA,M',\n",
       " 'Comedy,30s,PA,M,Long',\n",
       " 'Comedy,Short,NC,90s',\n",
       " 'Comedy,30s,PA,Long,M',\n",
       " 'Comedy,Short,90s,F,25-34,CA',\n",
       " 'Comedy,30s,Long,F,25-34,CA',\n",
       " 'Comedy,Short,90s,M,35-44,technician-engineer',\n",
       " 'Comedy,K-12 student',\n",
       " 'Comedy,K-12 student,Long',\n",
       " 'Comedy,K-12 student,2000s',\n",
       " 'Comedy,K-12 student,2000s,Long',\n",
       " 'Comedy,K-12 student,2000s,F',\n",
       " 'Comedy,K-12 student,2000s,Long,F',\n",
       " 'Comedy,K-12 student,2000s,Long,<18',\n",
       " 'Comedy,K-12 student,Long,90s',\n",
       " 'Comedy,K-12 student,Long,2000s',\n",
       " 'Comedy,K-12 student,Long,2000s,<18',\n",
       " 'Comedy,K-12 student,Long,2000s,F',\n",
       " 'Comedy,K-12 student,Long,90s,<18',\n",
       " 'Comedy,K-12 student,Long,90s,M',\n",
       " 'Comedy,K-12 student,Long,2000s,F,<18',\n",
       " 'Comedy,K-12 student,Long,2000s,F,<18',\n",
       " 'Comedy,K-12 student,2000s,F,<18',\n",
       " 'Comedy,K-12 student,2000s,F,Long',\n",
       " 'Comedy,K-12 student,2000s,F,Long',\n",
       " 'Comedy,K-12 student,2000s,F,<18,Long',\n",
       " 'Comedy,K-12 student,2000s,F,<18,Long',\n",
       " 'Comedy,K-12 student,2000s,F,Long,<18',\n",
       " 'Comedy,K-12 student,2000s,F,Long,<18',\n",
       " 'Comedy,K-12 student,2000s,F,Long,<18',\n",
       " 'Comedy,K-12 student,2000s,F,Long,<18']"
      ]
     },
     "execution_count": 40,
     "metadata": {},
     "output_type": "execute_result"
    }
   ],
   "source": [
    "ids"
   ]
  },
  {
   "cell_type": "code",
   "execution_count": 19,
   "id": "2b1f9dbd-cf98-4b97-beb9-3035bdddb2cc",
   "metadata": {},
   "outputs": [
    {
     "data": {
      "text/html": [
       "<iframe\n",
       "    scrolling=\"no\"\n",
       "    width=\"100%\"\n",
       "    height=\"545px\"\n",
       "    src=\"iframe_figures/figure_19.html\"\n",
       "    frameborder=\"0\"\n",
       "    allowfullscreen\n",
       "></iframe>\n"
      ]
     },
     "metadata": {},
     "output_type": "display_data"
    }
   ],
   "source": [
    "ids = ['Comedy', 'Comedy,Long', 'Comedy,UT', 'Comedy,LA', 'Comedy,Long,90s', 'Comedy,Long,UT', 'Comedy,Long,NE', 'Comedy,Long,90s,F', 'Comedy,Long,90s,M', 'Comedy,Long,90s,LA', 'Comedy,Long,90s,MO', 'Comedy,Long,90s,LA', 'Comedy,Long,90s,M', 'Comedy,Long,90s,MO,M', 'Comedy,Long,90s,MO,25-34', 'Comedy,Long,90s,MO,F', 'Comedy,Long,90s,M,18-24', 'Comedy,Long,90s,M,<18', 'Comedy,Long,90s,M,25-34', 'Comedy,Long,90s,M,18-24,college-grad student', 'Comedy,Long,90s,M,18-24,writer', 'Comedy,Long,90s,M,18-24,other', 'Comedy,Long,90s,M,18-24,writer', 'Comedy,Long,90s,M,18-24,other', 'Comedy,Long,90s,M,18-24,college-grad student', 'Comedy,Long,90s,M,<18', 'Comedy,Long,90s,M,25-34', 'Comedy,Long,90s,M,18-24', 'Comedy,Long,90s,M,18-24,other', 'Comedy,Long,90s,M,18-24,college-grad student', 'Comedy,Long,90s,M,18-24,writer', 'Comedy,Long,90s,M,18-24,writer', 'Comedy,Long,90s,M,18-24,college-grad student', 'Comedy,Long,90s,M,18-24,other', 'Comedy,Long,90s,M,18-24', 'Comedy,Long,90s,M,<18', 'Comedy,Long,90s,M,25-34', 'Comedy,Long,90s,M,18-24,other', 'Comedy,Long,90s,M,18-24,college-grad student', 'Comedy,Long,90s,M,18-24,writer', 'Comedy,Long,90s,M,18-24,other', 'Comedy,Long,90s,M,18-24,college-grad student', 'Comedy,Long,90s,M,18-24,writer', 'Comedy,Long,90s,M,<18', 'Comedy,Long,90s,M,18-24', 'Comedy,Long,90s,M,25-34', 'Comedy,Long,90s,M,18-24,college-grad student', 'Comedy,Long,90s,M,18-24,other', 'Comedy,Long,90s,M,18-24,writer', 'Comedy,Long,90s,M,18-24,college-grad student', 'Comedy,Long,90s,M,18-24,other', 'Comedy,Long,90s,M,18-24,writer', 'Comedy,Long,90s,F,18-24', 'Comedy,Long,90s,F,25-34', 'Comedy,Long,90s,F,<18', 'Comedy,Long,90s,F,18-24,college-grad student', 'Comedy,Long,90s,F,18-24,MI', 'Comedy,Long,90s,F,18-24,MN', 'Comedy,Long,90s,F,18-24,MI', 'Comedy,Long,90s,F,18-24,college-grad student', 'Comedy,Long,90s,F,18-24,OH', 'Comedy,Long,90s,M,25-34,NY', 'Comedy,Long,90s,M,25-34,IL', 'Comedy,Long,90s,M,25-34,CA', 'Comedy,Long,90s,M,25-34,CA,other', 'Comedy,Long,90s,M,25-34,CA,technician-engineer', 'Comedy,Long,90s,M,25-34,CA,writer', 'Comedy,Long,90s,M,25-34,IL', 'Comedy,Long,90s,M,25-34,NY', 'Comedy,Long,90s,M,25-34,CA', 'Comedy,Long,90s,M,25-34,CA,writer', 'Comedy,Long,90s,M,25-34,CA,other', 'Comedy,Long,90s,M,25-34,CA,technician-engineer', 'Comedy,Long,90s,M,25-34,NY', 'Comedy,Long,90s,M,25-34,CA', 'Comedy,Long,90s,M,25-34,IL', 'Comedy,Long,90s,M,25-34,CA,other', 'Comedy,Long,90s,M,25-34,CA,writer', 'Comedy,Long,90s,M,25-34,CA,technician-engineer', 'Comedy,Long,90s,M,25-34,IL', 'Comedy,Long,90s,M,25-34,CA', 'Comedy,Long,90s,M,25-34,NY', 'Comedy,Long,90s,M,25-34,CA,writer', 'Comedy,Long,90s,M,25-34,CA,other', 'Comedy,Long,90s,M,25-34,CA,technician-engineer', 'Comedy,Long,90s,M,25-34,NY', 'Comedy,Long,90s,M,25-34,IL', 'Comedy,Long,90s,M,25-34,CA', 'Comedy,Long,90s,M,25-34,CA,other', 'Comedy,Long,90s,M,25-34,CA,writer', 'Comedy,Long,90s,M,25-34,CA,technician-engineer', 'Comedy,Long,90s,M,25-34,NY', 'Comedy,Long,90s,M,25-34,IL', 'Comedy,Long,90s,M,25-34,CA', 'Comedy,Long,90s,M,25-34,CA,writer', 'Comedy,Long,90s,M,25-34,CA,other', 'Comedy,Long,90s,M,25-34,CA,technician-engineer', 'Comedy,Long,90s,M,25-34,CA', 'Comedy,Long,90s,M,25-34,NY', 'Comedy,Long,90s,M,25-34,IL', 'Comedy,Long,90s,M,25-34,CA,technician-engineer', 'Comedy,Long,90s,M,25-34,CA,writer', 'Comedy,Long,90s,M,25-34,CA,other', 'Comedy,Long,90s,M,25-34,IL', 'Comedy,Long,90s,M,25-34,CA', 'Comedy,Long,90s,M,25-34,NY']\n",
    "labels = ['Comedy', 'Long', 'UT', 'LA', '90s', 'UT', 'NE', 'F', 'M', 'LA', 'MO', 'LA', 'M', 'M', '25-34', 'F', '18-24', '<18', '25-34', 'college-grad student', 'writer', 'other', 'writer', 'other', 'college-grad student', '<18', '25-34', '18-24', 'other', 'college-grad student', 'writer', 'writer', 'college-grad student', 'other', '18-24', '<18', '25-34', 'other', 'college-grad student', 'writer', 'other', 'college-grad student', 'writer', '<18', '18-24', '25-34', 'college-grad student', 'other', 'writer', 'college-grad student', 'other', 'writer', '18-24', '25-34', '<18', 'college-grad student', 'MI', 'MN', 'MI', 'college-grad student', 'OH', 'NY', 'IL', 'CA', 'other', 'technician-engineer', 'writer', 'IL', 'NY', 'CA', 'writer', 'other', 'technician-engineer', 'NY', 'CA', 'IL', 'other', 'writer', 'technician-engineer', 'IL', 'CA', 'NY', 'writer', 'other', 'technician-engineer', 'NY', 'IL', 'CA', 'other', 'writer', 'technician-engineer', 'NY', 'IL', 'CA', 'writer', 'other', 'technician-engineer', 'CA', 'NY', 'IL', 'technician-engineer', 'writer', 'other', 'IL', 'CA', 'NY']\n",
    "color_sequence = ['', '#00CC96', '#00CC96', '#00CC96', '#00CC96', '#00CC96', '#00CC96', '#00CC96', '#00CC96', '#00CC96', '#636EFA', '#636EFA', '#636EFA', '#00CC96', '#00CC96', '#00CC96', '#00CC96', '#00CC96', '#00CC96', '#00CC96', '#00CC96', '#00CC96', '#636EFA', '#636EFA', '#636EFA', '#636EFA', '#636EFA', '#636EFA', '#00CC96', '#00CC96', '#00CC96', '#636EFA', '#636EFA', '#636EFA', '#00CC96', '#00CC96', '#00CC96', '#00CC96', '#00CC96', '#00CC96', '#636EFA', '#636EFA', '#636EFA', '#636EFA', '#636EFA', '#636EFA', '#00CC96', '#00CC96', '#00CC96', '#636EFA', '#636EFA', '#636EFA', '#00CC96', '#00CC96', '#00CC96', '#00CC96', '#00CC96', '#00CC96', '#636EFA', '#636EFA', '#636EFA', '#00CC96', '#00CC96', '#00CC96', '#636EFA', '#636EFA', '#636EFA', '#636EFA', '#636EFA', '#636EFA', '#636EFA', '#636EFA', '#636EFA', '#00CC96', '#00CC96', '#00CC96', '#636EFA', '#636EFA', '#636EFA', '#636EFA', '#636EFA', '#636EFA', '#636EFA', '#636EFA', '#636EFA', '#636EFA', '#636EFA', '#636EFA', '#636EFA', '#636EFA', '#636EFA', '#00CC96', '#00CC96', '#00CC96', '#636EFA', '#636EFA', '#636EFA', '#00CC96', '#00CC96', '#00CC96', '#636EFA', '#636EFA', '#636EFA', '#636EFA', '#636EFA', '#636EFA']\n",
    "parents = ['', 'Comedy', 'Comedy', 'Comedy', 'Comedy,Long', 'Comedy,Long', 'Comedy,Long', 'Comedy,Long,90s', 'Comedy,Long,90s', 'Comedy,Long,90s', 'Comedy,Long,90s', 'Comedy,Long,90s', 'Comedy,Long,90s', 'Comedy,Long,90s,MO', 'Comedy,Long,90s,MO', 'Comedy,Long,90s,MO', 'Comedy,Long,90s,M', 'Comedy,Long,90s,M', 'Comedy,Long,90s,M', 'Comedy,Long,90s,M,18-24', 'Comedy,Long,90s,M,18-24', 'Comedy,Long,90s,M,18-24', 'Comedy,Long,90s,M,18-24', 'Comedy,Long,90s,M,18-24', 'Comedy,Long,90s,M,18-24', 'Comedy,Long,90s,M', 'Comedy,Long,90s,M', 'Comedy,Long,90s,M', 'Comedy,Long,90s,M,18-24', 'Comedy,Long,90s,M,18-24', 'Comedy,Long,90s,M,18-24', 'Comedy,Long,90s,M,18-24', 'Comedy,Long,90s,M,18-24', 'Comedy,Long,90s,M,18-24', 'Comedy,Long,90s,M', 'Comedy,Long,90s,M', 'Comedy,Long,90s,M', 'Comedy,Long,90s,M,18-24', 'Comedy,Long,90s,M,18-24', 'Comedy,Long,90s,M,18-24', 'Comedy,Long,90s,M,18-24', 'Comedy,Long,90s,M,18-24', 'Comedy,Long,90s,M,18-24', 'Comedy,Long,90s,M', 'Comedy,Long,90s,M', 'Comedy,Long,90s,M', 'Comedy,Long,90s,M,18-24', 'Comedy,Long,90s,M,18-24', 'Comedy,Long,90s,M,18-24', 'Comedy,Long,90s,M,18-24', 'Comedy,Long,90s,M,18-24', 'Comedy,Long,90s,M,18-24', 'Comedy,Long,90s,F', 'Comedy,Long,90s,F', 'Comedy,Long,90s,F', 'Comedy,Long,90s,F,18-24', 'Comedy,Long,90s,F,18-24', 'Comedy,Long,90s,F,18-24', 'Comedy,Long,90s,F,18-24', 'Comedy,Long,90s,F,18-24', 'Comedy,Long,90s,F,18-24', 'Comedy,Long,90s,M,25-34', 'Comedy,Long,90s,M,25-34', 'Comedy,Long,90s,M,25-34', 'Comedy,Long,90s,M,25-34,CA', 'Comedy,Long,90s,M,25-34,CA', 'Comedy,Long,90s,M,25-34,CA', 'Comedy,Long,90s,M,25-34', 'Comedy,Long,90s,M,25-34', 'Comedy,Long,90s,M,25-34', 'Comedy,Long,90s,M,25-34,CA', 'Comedy,Long,90s,M,25-34,CA', 'Comedy,Long,90s,M,25-34,CA', 'Comedy,Long,90s,M,25-34', 'Comedy,Long,90s,M,25-34', 'Comedy,Long,90s,M,25-34', 'Comedy,Long,90s,M,25-34,CA', 'Comedy,Long,90s,M,25-34,CA', 'Comedy,Long,90s,M,25-34,CA', 'Comedy,Long,90s,M,25-34', 'Comedy,Long,90s,M,25-34', 'Comedy,Long,90s,M,25-34', 'Comedy,Long,90s,M,25-34,CA', 'Comedy,Long,90s,M,25-34,CA', 'Comedy,Long,90s,M,25-34,CA', 'Comedy,Long,90s,M,25-34', 'Comedy,Long,90s,M,25-34', 'Comedy,Long,90s,M,25-34', 'Comedy,Long,90s,M,25-34,CA', 'Comedy,Long,90s,M,25-34,CA', 'Comedy,Long,90s,M,25-34,CA', 'Comedy,Long,90s,M,25-34', 'Comedy,Long,90s,M,25-34', 'Comedy,Long,90s,M,25-34', 'Comedy,Long,90s,M,25-34,CA', 'Comedy,Long,90s,M,25-34,CA', 'Comedy,Long,90s,M,25-34,CA', 'Comedy,Long,90s,M,25-34', 'Comedy,Long,90s,M,25-34', 'Comedy,Long,90s,M,25-34', 'Comedy,Long,90s,M,25-34,CA', 'Comedy,Long,90s,M,25-34,CA', 'Comedy,Long,90s,M,25-34,CA', 'Comedy,Long,90s,M,25-34', 'Comedy,Long,90s,M,25-34', 'Comedy,Long,90s,M,25-34']\n",
    "user_counts = [6031, 6030, 30, 34, 5903, 30, 20, 1665, 4238, 33, 76, 33, 4238, 53, 20, 23, 800, 144, 1514, 368, 35, 74, 35, 74, 368, 144, 1514, 800, 74, 368, 35, 35, 368, 74, 800, 144, 1514, 74, 368, 35, 74, 368, 35, 144, 800, 1514, 368, 74, 35, 368, 74, 35, 296, 549, 77, 162, 20, 21, 20, 162, 22, 104, 88, 289, 32, 47, 25, 88, 104, 289, 25, 32, 47, 104, 289, 88, 32, 25, 47, 88, 289, 104, 25, 32, 47, 104, 88, 289, 32, 25, 47, 104, 88, 289, 25, 32, 47, 289, 104, 88, 47, 25, 32, 88, 289, 104]\n",
    "\n",
    "def get_opacity(user_count):\n",
    "    max_opacity = 1\n",
    "    min_opacity = 0.15\n",
    "    total_users = 6040\n",
    "    opacity_step = (max_opacity - min_opacity) / total_users\n",
    "    return user_count * opacity_step + min_opacity\n",
    "\n",
    "fig =go.Figure(go.Sunburst(\n",
    "    ids=ids[:16],\n",
    "    labels=labels[:16],\n",
    "    parents=parents[:15],\n",
    "    #values=[6031, 5907, 5903, 4238, 800, 1665, 296, 828, 549, 1514, 289, 83, 72, 38, ],\n",
    "    marker=dict(colors=[hex_to_rgba(hex, get_opacity(user_count)) if hex != '' else '' for hex, user_count in zip(color_sequence, user_counts)])\n",
    "))\n",
    "fig.update_layout(margin = dict(t=0, l=0, r=0, b=0))\n",
    "\n",
    "fig.update_traces(leaf=dict(opacity = 1))\n",
    "\n",
    "fig.show()"
   ]
  },
  {
   "cell_type": "code",
   "execution_count": null,
   "id": "a7a240c4-bffc-4281-91d2-2b15c043072e",
   "metadata": {},
   "outputs": [],
   "source": []
  },
  {
   "cell_type": "code",
   "execution_count": 208,
   "id": "4052df44-3264-4f79-b1c9-f828e5b93138",
   "metadata": {},
   "outputs": [
    {
     "data": {
      "text/plain": [
       "0.00014072847682119205"
      ]
     },
     "execution_count": 208,
     "metadata": {},
     "output_type": "execute_result"
    }
   ],
   "source": [
    "(1 - .15) / 6040"
   ]
  },
  {
   "cell_type": "code",
   "execution_count": 213,
   "id": "a4c3c042-4ebe-4339-8bc0-388a75f209c6",
   "metadata": {},
   "outputs": [
    {
     "data": {
      "text/plain": [
       "1.0"
      ]
     },
     "execution_count": 213,
     "metadata": {},
     "output_type": "execute_result"
    }
   ],
   "source": [
    "6040 * 0.00014072847682119205 + .15"
   ]
  },
  {
   "cell_type": "code",
   "execution_count": 202,
   "id": "48f0ec4d-1eb7-4bac-beaf-43bdee4945a3",
   "metadata": {},
   "outputs": [
    {
     "data": {
      "text/plain": [
       "['',\n",
       " 'rgba(99, 110, 250, 0.9779801324503311)',\n",
       " 'rgba(99, 110, 250, 0.4)',\n",
       " 'rgba(99, 110, 250, 0.4)',\n",
       " 'rgba(99, 110, 250, 0.9773178807947019)',\n",
       " 'rgba(99, 110, 250, 0.4)',\n",
       " 'rgba(99, 110, 250, 0.4)',\n",
       " 'rgba(99, 110, 250, 0.4)',\n",
       " 'rgba(99, 110, 250, 0.7016556291390729)',\n",
       " 'rgba(99, 110, 250, 0.4)',\n",
       " 'rgba(99, 110, 250, 0.4)',\n",
       " 'rgba(99, 110, 250, 0.4)',\n",
       " 'rgba(99, 110, 250, 0.4)',\n",
       " 'rgba(99, 110, 250, 0.4)',\n",
       " 'rgba(99, 110, 250, 0.4)',\n",
       " 'rgba(99, 110, 250, 0.4)',\n",
       " 'rgba(99, 110, 250, 0.4)',\n",
       " 'rgba(99, 110, 250, 0.4)',\n",
       " 'rgba(99, 110, 250, 0.4)',\n",
       " 'rgba(99, 110, 250, 0.4)',\n",
       " 'rgba(99, 110, 250, 0.4)',\n",
       " 'rgba(99, 110, 250, 0.4)',\n",
       " 'rgba(99, 110, 250, 0.4)',\n",
       " 'rgba(99, 110, 250, 0.4)',\n",
       " 'rgba(99, 110, 250, 0.4)',\n",
       " 'rgba(99, 110, 250, 0.4)',\n",
       " 'rgba(99, 110, 250, 0.4)',\n",
       " 'rgba(99, 110, 250, 0.4)',\n",
       " 'rgba(99, 110, 250, 0.4)',\n",
       " 'rgba(99, 110, 250, 0.4)',\n",
       " 'rgba(99, 110, 250, 0.4)',\n",
       " 'rgba(99, 110, 250, 0.4)',\n",
       " 'rgba(99, 110, 250, 0.4)',\n",
       " 'rgba(99, 110, 250, 0.4)',\n",
       " 'rgba(99, 110, 250, 0.4)',\n",
       " 'rgba(99, 110, 250, 0.4)',\n",
       " 'rgba(99, 110, 250, 0.4)',\n",
       " 'rgba(99, 110, 250, 0.4)',\n",
       " 'rgba(99, 110, 250, 0.4)',\n",
       " 'rgba(99, 110, 250, 0.4)',\n",
       " 'rgba(99, 110, 250, 0.4)',\n",
       " 'rgba(99, 110, 250, 0.4)',\n",
       " 'rgba(99, 110, 250, 0.4)',\n",
       " 'rgba(99, 110, 250, 0.4)',\n",
       " 'rgba(99, 110, 250, 0.4)',\n",
       " 'rgba(99, 110, 250, 0.4)',\n",
       " 'rgba(99, 110, 250, 0.4)',\n",
       " 'rgba(99, 110, 250, 0.4)',\n",
       " 'rgba(99, 110, 250, 0.4)',\n",
       " 'rgba(99, 110, 250, 0.4)',\n",
       " 'rgba(99, 110, 250, 0.4)',\n",
       " 'rgba(99, 110, 250, 0.4)',\n",
       " 'rgba(99, 110, 250, 0.4)',\n",
       " 'rgba(99, 110, 250, 0.4)',\n",
       " 'rgba(99, 110, 250, 0.4)',\n",
       " 'rgba(99, 110, 250, 0.4)',\n",
       " 'rgba(99, 110, 250, 0.4)',\n",
       " 'rgba(99, 110, 250, 0.4)',\n",
       " 'rgba(99, 110, 250, 0.4)',\n",
       " 'rgba(99, 110, 250, 0.4)',\n",
       " 'rgba(99, 110, 250, 0.4)',\n",
       " 'rgba(99, 110, 250, 0.4)',\n",
       " 'rgba(99, 110, 250, 0.4)',\n",
       " 'rgba(99, 110, 250, 0.4)',\n",
       " 'rgba(99, 110, 250, 0.4)',\n",
       " 'rgba(99, 110, 250, 0.4)',\n",
       " 'rgba(99, 110, 250, 0.4)',\n",
       " 'rgba(99, 110, 250, 0.4)',\n",
       " 'rgba(99, 110, 250, 0.4)',\n",
       " 'rgba(99, 110, 250, 0.4)',\n",
       " 'rgba(99, 110, 250, 0.4)',\n",
       " 'rgba(99, 110, 250, 0.4)',\n",
       " 'rgba(99, 110, 250, 0.4)',\n",
       " 'rgba(99, 110, 250, 0.4)',\n",
       " 'rgba(99, 110, 250, 0.4)',\n",
       " 'rgba(99, 110, 250, 0.4)',\n",
       " 'rgba(99, 110, 250, 0.4)',\n",
       " 'rgba(99, 110, 250, 0.4)',\n",
       " 'rgba(99, 110, 250, 0.4)',\n",
       " 'rgba(99, 110, 250, 0.4)',\n",
       " 'rgba(99, 110, 250, 0.4)',\n",
       " 'rgba(99, 110, 250, 0.4)',\n",
       " 'rgba(99, 110, 250, 0.4)',\n",
       " 'rgba(99, 110, 250, 0.4)',\n",
       " 'rgba(99, 110, 250, 0.4)',\n",
       " 'rgba(99, 110, 250, 0.4)',\n",
       " 'rgba(239, 85, 59, 0.4)',\n",
       " 'rgba(239, 85, 59, 0.4)',\n",
       " 'rgba(239, 85, 59, 0.4)',\n",
       " 'rgba(239, 85, 59, 0.4)',\n",
       " 'rgba(239, 85, 59, 0.4)',\n",
       " 'rgba(239, 85, 59, 0.4)',\n",
       " 'rgba(239, 85, 59, 0.4)',\n",
       " 'rgba(239, 85, 59, 0.4)']"
      ]
     },
     "execution_count": 202,
     "metadata": {},
     "output_type": "execute_result"
    }
   ],
   "source": [
    "[hex_to_rgba(hex, max(user_count/6040, 0.4)) if hex != '' else '' for hex, user_count in zip(color_sequence, user_counts)]"
   ]
  },
  {
   "cell_type": "code",
   "execution_count": 195,
   "id": "e45cb9e5-7e18-4d38-9e74-29e7d2eaf5d9",
   "metadata": {},
   "outputs": [
    {
     "data": {
      "text/plain": [
       "(35, 169, 221)"
      ]
     },
     "execution_count": 195,
     "metadata": {},
     "output_type": "execute_result"
    }
   ],
   "source": [
    "ImageColor.getcolor(\"#23a9dd\", \"RGB\")"
   ]
  },
  {
   "cell_type": "code",
   "execution_count": 147,
   "id": "5715e66b-e155-466a-9de0-75d55c0cb462",
   "metadata": {},
   "outputs": [
    {
     "data": {
      "text/plain": [
       "['',\n",
       " (99, 110, 250),\n",
       " (99, 110, 250),\n",
       " (99, 110, 250),\n",
       " (99, 110, 250),\n",
       " (99, 110, 250),\n",
       " (99, 110, 250),\n",
       " (99, 110, 250),\n",
       " (99, 110, 250),\n",
       " (99, 110, 250),\n",
       " (99, 110, 250),\n",
       " (99, 110, 250),\n",
       " (99, 110, 250),\n",
       " (99, 110, 250),\n",
       " (99, 110, 250),\n",
       " (99, 110, 250),\n",
       " (99, 110, 250),\n",
       " (99, 110, 250),\n",
       " (99, 110, 250),\n",
       " (99, 110, 250),\n",
       " (99, 110, 250),\n",
       " (99, 110, 250),\n",
       " (99, 110, 250),\n",
       " (99, 110, 250),\n",
       " (99, 110, 250),\n",
       " (99, 110, 250),\n",
       " (99, 110, 250),\n",
       " (99, 110, 250),\n",
       " (99, 110, 250),\n",
       " (99, 110, 250),\n",
       " (99, 110, 250),\n",
       " (99, 110, 250),\n",
       " (99, 110, 250),\n",
       " (99, 110, 250),\n",
       " (99, 110, 250),\n",
       " (99, 110, 250),\n",
       " (99, 110, 250),\n",
       " (99, 110, 250),\n",
       " (99, 110, 250),\n",
       " (99, 110, 250),\n",
       " (99, 110, 250),\n",
       " (99, 110, 250),\n",
       " (99, 110, 250),\n",
       " (99, 110, 250),\n",
       " (99, 110, 250),\n",
       " (99, 110, 250),\n",
       " (99, 110, 250),\n",
       " (99, 110, 250),\n",
       " (99, 110, 250),\n",
       " (99, 110, 250),\n",
       " (99, 110, 250),\n",
       " (99, 110, 250),\n",
       " (99, 110, 250),\n",
       " (99, 110, 250),\n",
       " (99, 110, 250),\n",
       " (99, 110, 250),\n",
       " (99, 110, 250),\n",
       " (99, 110, 250),\n",
       " (99, 110, 250),\n",
       " (99, 110, 250),\n",
       " (99, 110, 250),\n",
       " (99, 110, 250),\n",
       " (99, 110, 250),\n",
       " (99, 110, 250),\n",
       " (99, 110, 250),\n",
       " (99, 110, 250),\n",
       " (99, 110, 250),\n",
       " (99, 110, 250),\n",
       " (99, 110, 250),\n",
       " (99, 110, 250),\n",
       " (99, 110, 250),\n",
       " (99, 110, 250),\n",
       " (99, 110, 250),\n",
       " (99, 110, 250),\n",
       " (99, 110, 250),\n",
       " (99, 110, 250),\n",
       " (99, 110, 250),\n",
       " (99, 110, 250),\n",
       " (99, 110, 250),\n",
       " (99, 110, 250),\n",
       " (99, 110, 250),\n",
       " (99, 110, 250),\n",
       " (99, 110, 250),\n",
       " (99, 110, 250),\n",
       " (99, 110, 250),\n",
       " (99, 110, 250),\n",
       " (239, 85, 59),\n",
       " (239, 85, 59),\n",
       " (239, 85, 59),\n",
       " (239, 85, 59),\n",
       " (239, 85, 59),\n",
       " (239, 85, 59),\n",
       " (239, 85, 59),\n",
       " (239, 85, 59)]"
      ]
     },
     "execution_count": 147,
     "metadata": {},
     "output_type": "execute_result"
    }
   ],
   "source": [
    "[hex_to_rgb(hex) if hex != '' else '' for hex in color_sequence ]"
   ]
  },
  {
   "cell_type": "code",
   "execution_count": 64,
   "id": "efe2a08f-fdd9-4315-807b-41f2f1ae1956",
   "metadata": {},
   "outputs": [
    {
     "data": {
      "text/html": [
       "<iframe\n",
       "    scrolling=\"no\"\n",
       "    width=\"100%\"\n",
       "    height=\"545px\"\n",
       "    src=\"iframe_figures/figure_64.html\"\n",
       "    frameborder=\"0\"\n",
       "    allowfullscreen\n",
       "></iframe>\n"
      ]
     },
     "metadata": {},
     "output_type": "display_data"
    }
   ],
   "source": [
    "ids = ['Comedy', 'Comedy,90s', 'Comedy,AZ', 'Comedy,unemployed', 'Comedy,90s,LA', 'Comedy,90s,KS', 'Comedy,90s,Long', 'Comedy,90s,Long,F', 'Comedy,90s,Long,M', 'Comedy,90s,Long,LA', 'Comedy,90s,Long,M,35-44', 'Comedy,90s,Long,M,25-34', 'Comedy,90s,Long,M,18-24', 'Comedy,90s,Long,M,18-24,other', 'Comedy,90s,Long,M,18-24,writer', 'Comedy,90s,Long,M,18-24,college-grad student', 'Comedy,90s,Long,F,25-34', 'Comedy,90s,Long,F,18-24', 'Comedy,90s,Long,F,NJ', 'Comedy,90s,Long,F,18-24,MN', 'Comedy,90s,Long,F,18-24,MI', 'Comedy,90s,Long,F,18-24,college-grad student', 'Comedy,90s,Long,M,35-44,executive-managerial', 'Comedy,90s,Long,M,35-44,technician-engineer', 'Comedy,90s,Long,M,35-44,academic-educator', 'Comedy,90s,Long,F,25-34,CA', 'Comedy,90s,Long,F,25-34,TX', 'Comedy,90s,Long,F,25-34,NY', 'Comedy,90s,Long,M,25-34,MN', 'Comedy,90s,Long,M,25-34,CA', 'Comedy,90s,Long,M,25-34,NY', 'Comedy,90s,Long,M,25-34,CA,writer', 'Comedy,90s,Long,M,25-34,CA,technician-engineer', 'Comedy,90s,Long,M,25-34,CA,other', 'Comedy,90s,Long,M,18-24,college-grad student,MN', 'Comedy,90s,Long,M,18-24,college-grad student,NY', 'Comedy,90s,Long,M,18-24,college-grad student,MA', 'Comedy,unemployed,18-24', 'Comedy,unemployed,2000s', 'Comedy,unemployed,Long', 'Comedy,unemployed,Long,18-24', 'Comedy,unemployed,Long,90s', 'Comedy,unemployed,Long,2000s', 'Comedy,AZ,90s', 'Comedy,AZ,M', 'Comedy,AZ,Long', 'Comedy,AZ,M,25-34', 'Comedy,AZ,M,2000s', 'Comedy,AZ,M,Long', 'Comedy,AZ,M,Long,90s', 'Comedy,AZ,M,Long,25-34', 'Comedy,AZ,M,Long,2000s', 'Comedy,AZ,90s,M', 'Comedy,AZ,90s,Long', 'Comedy,AZ,90s,25-34', 'Comedy,AZ,Long,M', 'Comedy,AZ,Long,2000s', 'Comedy,AZ,Long,90s', 'Comedy,AZ,Long,M,90s', 'Comedy,AZ,Long,M,2000s', 'Comedy,AZ,Long,M,25-34', 'Comedy,AZ,90s,M,25-34', 'Comedy,AZ,90s,M,Long', 'Comedy,unemployed,Long,90s,18-24', 'Comedy,unemployed,Long,90s,M', 'Comedy,AZ,90s,Long,25-34', 'Comedy,AZ,90s,Long,M', 'Comedy,AZ,Long,90s,M', 'Comedy,AZ,Long,90s,25-34', 'Comedy,unemployed,18-24,Long', 'Comedy,unemployed,18-24,M', 'Comedy,unemployed,18-24,90s', 'Comedy,AZ,90s,25-34,Long', 'Comedy,AZ,90s,25-34,M', 'Comedy,unemployed,2000s,M', 'Comedy,unemployed,2000s,Long', 'Comedy,90s,KS,M', 'Comedy,90s,KS,Long', 'Comedy,unemployed,18-24,90s,M', 'Comedy,unemployed,18-24,90s,Long', 'Comedy,unemployed,Long,18-24,M', 'Comedy,unemployed,Long,18-24,90s', 'Comedy,unemployed,18-24,Long,90s', 'Comedy,unemployed,18-24,Long,M', 'Comedy,90s,LA,M', 'Comedy,90s,LA,Long', 'Comedy,unemployed,2000s,M,Long', 'Comedy,AZ,M,2000s,Long', 'Comedy,unemployed,18-24,90s,M,Long']\n",
    "labels = ['Comedy', '90s', 'AZ', 'unemployed', 'LA', 'KS', 'Long', 'F', 'M', 'LA', '35-44', '25-34', '18-24', 'other', 'writer', 'college-grad student', '25-34', '18-24', 'NJ', 'MN', 'MI', 'college-grad student', 'executive-managerial', 'technician-engineer', 'academic-educator', 'CA', 'TX', 'NY', 'MN', 'CA', 'NY', 'writer', 'technician-engineer', 'other', 'MN', 'NY', 'MA', '18-24', '2000s', 'Long', '18-24', '90s', '2000s', '90s', 'M', 'Long', '25-34', '2000s', 'Long', '90s', '25-34', '2000s', 'M', 'Long', '25-34', 'M', '2000s', '90s', '90s', '2000s', '25-34', '25-34', 'Long', '18-24', 'M', '25-34', 'M', 'M', '25-34', 'Long', 'M', '90s', 'Long', 'M', 'M', 'Long', 'M', 'Long', 'M', 'Long', 'M', '90s', '90s', 'M', 'M', 'Long', 'Long', 'Long', 'Long']\n",
    "parents = ['', 'Comedy', 'Comedy', 'Comedy', 'Comedy,90s', 'Comedy,90s', 'Comedy,90s', 'Comedy,90s,Long', 'Comedy,90s,Long', 'Comedy,90s,Long', 'Comedy,90s,Long,M', 'Comedy,90s,Long,M', 'Comedy,90s,Long,M', 'Comedy,90s,Long,M,18-24', 'Comedy,90s,Long,M,18-24', 'Comedy,90s,Long,M,18-24', 'Comedy,90s,Long,F', 'Comedy,90s,Long,F', 'Comedy,90s,Long,F', 'Comedy,90s,Long,F,18-24', 'Comedy,90s,Long,F,18-24', 'Comedy,90s,Long,F,18-24', 'Comedy,90s,Long,M,35-44', 'Comedy,90s,Long,M,35-44', 'Comedy,90s,Long,M,35-44', 'Comedy,90s,Long,F,25-34', 'Comedy,90s,Long,F,25-34', 'Comedy,90s,Long,F,25-34', 'Comedy,90s,Long,M,25-34', 'Comedy,90s,Long,M,25-34', 'Comedy,90s,Long,M,25-34', 'Comedy,90s,Long,M,25-34,CA', 'Comedy,90s,Long,M,25-34,CA', 'Comedy,90s,Long,M,25-34,CA', 'Comedy,90s,Long,M,18-24,college-grad student', 'Comedy,90s,Long,M,18-24,college-grad student', 'Comedy,90s,Long,M,18-24,college-grad student', 'Comedy,unemployed', 'Comedy,unemployed', 'Comedy,unemployed', 'Comedy,unemployed,Long', 'Comedy,unemployed,Long', 'Comedy,unemployed,Long', 'Comedy,AZ', 'Comedy,AZ', 'Comedy,AZ', 'Comedy,AZ,M', 'Comedy,AZ,M', 'Comedy,AZ,M', 'Comedy,AZ,M,Long', 'Comedy,AZ,M,Long', 'Comedy,AZ,M,Long', 'Comedy,AZ,90s', 'Comedy,AZ,90s', 'Comedy,AZ,90s', 'Comedy,AZ,Long', 'Comedy,AZ,Long', 'Comedy,AZ,Long', 'Comedy,AZ,Long,M', 'Comedy,AZ,Long,M', 'Comedy,AZ,Long,M', 'Comedy,AZ,90s,M', 'Comedy,AZ,90s,M', 'Comedy,unemployed,Long,90s', 'Comedy,unemployed,Long,90s', 'Comedy,AZ,90s,Long', 'Comedy,AZ,90s,Long', 'Comedy,AZ,Long,90s', 'Comedy,AZ,Long,90s', 'Comedy,unemployed,18-24', 'Comedy,unemployed,18-24', 'Comedy,unemployed,18-24', 'Comedy,AZ,90s,25-34', 'Comedy,AZ,90s,25-34', 'Comedy,unemployed,2000s', 'Comedy,unemployed,2000s', 'Comedy,90s,KS', 'Comedy,90s,KS', 'Comedy,unemployed,18-24,90s', 'Comedy,unemployed,18-24,90s', 'Comedy,unemployed,Long,18-24', 'Comedy,unemployed,Long,18-24', 'Comedy,unemployed,18-24,Long', 'Comedy,unemployed,18-24,Long', 'Comedy,90s,LA', 'Comedy,90s,LA', 'Comedy,unemployed,2000s,M', 'Comedy,AZ,M,2000s', 'Comedy,unemployed,18-24,90s,M']\n",
    "\n",
    "import plotly.graph_objects as go\n",
    "\n",
    "color_discrete_sequence = ['', '#FFAA00', '#2D5F91','#819FBD','#819FBD','#91D4D2', '#96BEE6', '#C0D8F0','#E8655F','#F1A39F','#48B7B4']\n",
    "color_discrete_sequence = [''] + list(sns.color_palette().as_hex())\n",
    "\n",
    "fig =go.Figure(go.Sunburst(\n",
    "    ids=ids,\n",
    "    labels=labels,\n",
    "    parents=parents,\n",
    "    #values=[6031, 5907, 5903, 4238, 800, 1665, 296, 828, 549, 1514, 289, 83, 72, 38, ],\n",
    "    # marker=dict(colors=color_discrete_sequence)\n",
    "))\n",
    "fig.update_layout(margin = dict(t=0, l=0, r=0, b=0))\n",
    "\n",
    "fig.show()"
   ]
  },
  {
   "cell_type": "code",
   "execution_count": 65,
   "id": "1e48024f-beda-4495-b997-130dc8e87973",
   "metadata": {},
   "outputs": [
    {
     "data": {
      "text/html": [
       "<iframe\n",
       "    scrolling=\"no\"\n",
       "    width=\"100%\"\n",
       "    height=\"545px\"\n",
       "    src=\"iframe_figures/figure_65.html\"\n",
       "    frameborder=\"0\"\n",
       "    allowfullscreen\n",
       "></iframe>\n"
      ]
     },
     "metadata": {},
     "output_type": "display_data"
    }
   ],
   "source": [
    "ids = ['Comedy', 'Comedy,Short', 'Comedy,30s', 'Comedy,30s,retired', 'Comedy,30s,PA', 'Comedy,30s,Long', 'Comedy,30s,Long,retired', 'Comedy,30s,Long,M', 'Comedy,30s,Long,F', 'Comedy,Short,TX', 'Comedy,Short,NC', 'Comedy,Short,90s', 'Comedy,Short,90s,M', 'Comedy,Short,90s,PA', 'Comedy,Short,90s,F', 'Comedy,Short,90s,M,35-44', 'Comedy,Short,90s,M,18-24', 'Comedy,Short,90s,M,25-34', 'Comedy,Short,90s,F,18-24', 'Comedy,Short,90s,F,25-34', 'Comedy,Short,90s,F,35-44', 'Comedy,30s,Long,M,35-44', 'Comedy,30s,Long,M,50-55', 'Comedy,30s,Long,M,45-49', 'Comedy,30s,Long,F,25-34', 'Comedy,30s,Long,F,>56', 'Comedy,30s,Long,F,50-55', 'Comedy,Short,90s,M,25-34,CA', 'Comedy,Short,90s,M,25-34,MA', 'Comedy,Short,90s,M,25-34,MN', 'Comedy,30s,Long,M,35-44,executive-managerial', 'Comedy,30s,Long,M,35-44,CA', 'Comedy,30s,Long,M,35-44,NY', 'Comedy,Short,90s,M,18-24,college-grad student', 'Comedy,Short,90s,M,18-24,CA', 'Comedy,Short,TX,M', 'Comedy,Short,TX,90s', 'Comedy,30s,retired,>56', 'Comedy,30s,retired,Long', 'Comedy,30s,retired,Long,>56', 'Comedy,30s,retired,Long,M', 'Comedy,30s,PA,M', 'Comedy,30s,PA,Long', 'Comedy,30s,PA,M,Long', 'Comedy,30s,retired,>56,Long', 'Comedy,Short,NC,90s', 'Comedy,Short,TX,M,90s', 'Comedy,30s,PA,Long,M', 'Comedy,30s,Long,retired,>56', 'Comedy,Short,TX,90s,M', 'Comedy,Short,90s,F,18-24,college-grad student', 'Comedy,Short,90s,F,25-34,CA', 'Comedy,30s,Long,F,25-34,CA', 'Comedy,Short,90s,M,35-44,technician-engineer']\n",
    "labels = ['Comedy', 'Short', '30s', 'retired', 'PA', 'Long', 'retired', 'M', 'F', 'TX', 'NC', '90s', 'M', 'PA', 'F', '35-44', '18-24', '25-34', '18-24', '25-34', '35-44', '35-44', '50-55', '45-49', '25-34', '>56', '50-55', 'CA', 'MA', 'MN', 'executive-managerial', 'CA', 'NY', 'college-grad student', 'CA', 'M', '90s', '>56', 'Long', '>56', 'M', 'M', 'Long', 'Long', 'Long', '90s', '90s', 'M', '>56', 'M', 'college-grad student', 'CA', 'CA', 'technician-engineer']\n",
    "parents = ['', 'Comedy', 'Comedy', 'Comedy,30s', 'Comedy,30s', 'Comedy,30s', 'Comedy,30s,Long', 'Comedy,30s,Long', 'Comedy,30s,Long', 'Comedy,Short', 'Comedy,Short', 'Comedy,Short', 'Comedy,Short,90s', 'Comedy,Short,90s', 'Comedy,Short,90s', 'Comedy,Short,90s,M', 'Comedy,Short,90s,M', 'Comedy,Short,90s,M', 'Comedy,Short,90s,F', 'Comedy,Short,90s,F', 'Comedy,Short,90s,F', 'Comedy,30s,Long,M', 'Comedy,30s,Long,M', 'Comedy,30s,Long,M', 'Comedy,30s,Long,F', 'Comedy,30s,Long,F', 'Comedy,30s,Long,F', 'Comedy,Short,90s,M,25-34', 'Comedy,Short,90s,M,25-34', 'Comedy,Short,90s,M,25-34', 'Comedy,30s,Long,M,35-44', 'Comedy,30s,Long,M,35-44', 'Comedy,30s,Long,M,35-44', 'Comedy,Short,90s,M,18-24', 'Comedy,Short,90s,M,18-24', 'Comedy,Short,TX', 'Comedy,Short,TX', 'Comedy,30s,retired', 'Comedy,30s,retired', 'Comedy,30s,retired,Long', 'Comedy,30s,retired,Long', 'Comedy,30s,PA', 'Comedy,30s,PA', 'Comedy,30s,PA,M', 'Comedy,30s,retired,>56', 'Comedy,Short,NC', 'Comedy,Short,TX,M', 'Comedy,30s,PA,Long', 'Comedy,30s,Long,retired', 'Comedy,Short,TX,90s', 'Comedy,Short,90s,F,18-24', 'Comedy,Short,90s,F,25-34', 'Comedy,30s,Long,F,25-34', 'Comedy,Short,90s,M,35-44']\n",
    "\n",
    "import plotly.graph_objects as go\n",
    "\n",
    "color_discrete_sequence = ['', '#FFAA00', '#2D5F91','#819FBD','#819FBD','#91D4D2', '#96BEE6', '#C0D8F0','#E8655F','#F1A39F','#48B7B4']\n",
    "color_discrete_sequence = [''] + list(sns.color_palette().as_hex())\n",
    "\n",
    "fig =go.Figure(go.Sunburst(\n",
    "    ids=ids,\n",
    "    labels=labels,\n",
    "    parents=parents,\n",
    "    #values=[6031, 5907, 5903, 4238, 800, 1665, 296, 828, 549, 1514, 289, 83, 72, 38, ],\n",
    "    # marker=dict(colors=color_discrete_sequence)\n",
    "))\n",
    "fig.update_layout(margin = dict(t=0, l=0, r=0, b=0))\n",
    "\n",
    "fig.show()"
   ]
  },
  {
   "cell_type": "code",
   "execution_count": 67,
   "id": "bf24b09e-0d50-490e-bff6-e311de125cfc",
   "metadata": {},
   "outputs": [
    {
     "data": {
      "text/html": [
       "<iframe\n",
       "    scrolling=\"no\"\n",
       "    width=\"100%\"\n",
       "    height=\"545px\"\n",
       "    src=\"iframe_figures/figure_67.html\"\n",
       "    frameborder=\"0\"\n",
       "    allowfullscreen\n",
       "></iframe>\n"
      ]
     },
     "metadata": {},
     "output_type": "display_data"
    }
   ],
   "source": [
    "ids = ['H', 'Comedy', 'Comedy,Short', 'Comedy,30s', 'Comedy,30s,retired', 'Comedy,30s,PA', 'Comedy,30s,Long', 'Comedy,30s,Long,retired', 'Comedy,30s,Long,M', 'Comedy,30s,Long,F', 'Comedy,Short,TX', 'Comedy,Short,NC', 'Comedy,Short,90s', 'Comedy,Short,90s,M', 'Comedy,Short,90s,PA', 'Comedy,Short,90s,F', 'Comedy,Short,90s,M,35-44', 'Comedy,Short,90s,M,18-24', 'Comedy,Short,90s,M,25-34', 'Comedy,Short,90s,F,18-24', 'Comedy,Short,90s,F,25-34', 'Comedy,Short,90s,F,35-44', 'Comedy,30s,Long,M,35-44', 'Comedy,30s,Long,M,50-55', 'Comedy,30s,Long,M,45-49', 'Comedy,30s,Long,F,25-34', 'Comedy,30s,Long,F,>56', 'Comedy,30s,Long,F,50-55', 'Comedy,Short,90s,M,25-34,CA', 'Comedy,Short,90s,M,25-34,MA', 'Comedy,Short,90s,M,25-34,MN', 'Comedy,30s,Long,M,35-44,executive-managerial', 'Comedy,30s,Long,M,35-44,CA', 'Comedy,30s,Long,M,35-44,NY', 'Comedy,Short,90s,M,18-24,college-grad student', 'Comedy,Short,90s,M,18-24,CA', 'Comedy,Short,TX,M', 'Comedy,Short,TX,90s', 'Comedy,30s,retired,>56', 'Comedy,30s,retired,Long', 'Comedy,30s,retired,Long,>56', 'Comedy,30s,retired,Long,M', 'Comedy,30s,PA,M', 'Comedy,30s,PA,Long', 'Comedy,30s,PA,M,Long', 'Comedy,30s,retired,>56,Long', 'Comedy,Short,NC,90s', 'Comedy,Short,TX,M,90s', 'Comedy,30s,PA,Long,M', 'Comedy,30s,Long,retired,>56', 'Comedy,Short,TX,90s,M', 'Comedy,Short,90s,F,18-24,college-grad student', 'Comedy,Short,90s,F,25-34,CA', 'Comedy,30s,Long,F,25-34,CA', 'Comedy,Short,90s,M,35-44,technician-engineer']\n",
    "labels = ['μ > 4', 'Comedy', 'Short', '30s', 'retired', 'PA', 'Long', 'retired', 'M', 'F', 'TX', 'NC', '90s', 'M', 'PA', 'F', '35-44', '18-24', '25-34', '18-24', '25-34', '35-44', '35-44', '50-55', '45-49', '25-34', '>56', '50-55', 'CA', 'MA', 'MN', 'executive-managerial', 'CA', 'NY', 'college-grad student', 'CA', 'M', '90s', '>56', 'Long', '>56', 'M', 'M', 'Long', 'Long', 'Long', '90s', '90s', 'M', '>56', 'M', 'college-grad student', 'CA', 'CA', 'technician-engineer']\n",
    "parents = ['', 'H', 'Comedy', 'Comedy', 'Comedy,30s', 'Comedy,30s', 'Comedy,30s', 'Comedy,30s,Long', 'Comedy,30s,Long', 'Comedy,30s,Long', 'Comedy,Short', 'Comedy,Short', 'Comedy,Short', 'Comedy,Short,90s', 'Comedy,Short,90s', 'Comedy,Short,90s', 'Comedy,Short,90s,M', 'Comedy,Short,90s,M', 'Comedy,Short,90s,M', 'Comedy,Short,90s,F', 'Comedy,Short,90s,F', 'Comedy,Short,90s,F', 'Comedy,30s,Long,M', 'Comedy,30s,Long,M', 'Comedy,30s,Long,M', 'Comedy,30s,Long,F', 'Comedy,30s,Long,F', 'Comedy,30s,Long,F', 'Comedy,Short,90s,M,25-34', 'Comedy,Short,90s,M,25-34', 'Comedy,Short,90s,M,25-34', 'Comedy,30s,Long,M,35-44', 'Comedy,30s,Long,M,35-44', 'Comedy,30s,Long,M,35-44', 'Comedy,Short,90s,M,18-24', 'Comedy,Short,90s,M,18-24', 'Comedy,Short,TX', 'Comedy,Short,TX', 'Comedy,30s,retired', 'Comedy,30s,retired', 'Comedy,30s,retired,Long', 'Comedy,30s,retired,Long', 'Comedy,30s,PA', 'Comedy,30s,PA', 'Comedy,30s,PA,M', 'Comedy,30s,retired,>56', 'Comedy,Short,NC', 'Comedy,Short,TX,M', 'Comedy,30s,PA,Long', 'Comedy,30s,Long,retired', 'Comedy,Short,TX,90s', 'Comedy,Short,90s,F,18-24', 'Comedy,Short,90s,F,25-34', 'Comedy,30s,Long,F,25-34', 'Comedy,Short,90s,M,35-44']\n",
    "\n",
    "import plotly.graph_objects as go\n",
    "\n",
    "color_discrete_sequence = ['', '#FFAA00', '#2D5F91','#819FBD','#819FBD','#91D4D2', '#96BEE6', '#C0D8F0','#E8655F','#F1A39F','#48B7B4']\n",
    "color_discrete_sequence = [''] + list(sns.color_palette().as_hex())\n",
    "\n",
    "fig =go.Figure(go.Sunburst(\n",
    "    ids=ids,\n",
    "    labels=labels,\n",
    "    parents=parents,\n",
    "    #values=[6031, 5907, 5903, 4238, 800, 1665, 296, 828, 549, 1514, 289, 83, 72, 38, ],\n",
    "    # marker=dict(colors=color_discrete_sequence)\n",
    "))\n",
    "fig.update_layout(margin = dict(t=0, l=0, r=0, b=0))\n",
    "\n",
    "fig.show()"
   ]
  },
  {
   "cell_type": "code",
   "execution_count": 138,
   "id": "4515af51-ae6c-4475-a48a-b292eb44a6cb",
   "metadata": {},
   "outputs": [
    {
     "data": {
      "text/html": [
       "<iframe\n",
       "    scrolling=\"no\"\n",
       "    width=\"100%\"\n",
       "    height=\"545px\"\n",
       "    src=\"iframe_figures/figure_138.html\"\n",
       "    frameborder=\"0\"\n",
       "    allowfullscreen\n",
       "></iframe>\n"
      ]
     },
     "metadata": {},
     "output_type": "display_data"
    }
   ],
   "source": [
    "ids = ['H', 'Comedy', 'Comedy,30s', 'Comedy,Short', 'Comedy,30s,clerical-admin', 'Comedy,30s,Long', 'Comedy,30s,PA', 'Comedy,30s,Long,retired', 'Comedy,30s,Long,F', 'Comedy,30s,Long,M', 'Comedy,Short,OR', 'Comedy,Short,90s', 'Comedy,Short,NC', 'Comedy,Short,90s,M', 'Comedy,Short,90s,PA', 'Comedy,Short,90s,F', 'Comedy,Short,90s,M,18-24', 'Comedy,Short,90s,M,35-44', 'Comedy,Short,90s,M,25-34', 'Comedy,Short,90s,F,35-44', 'Comedy,Short,90s,F,25-34', 'Comedy,Short,90s,F,18-24', 'Comedy,30s,Long,M,45-49', 'Comedy,30s,Long,M,35-44', 'Comedy,30s,Long,M,50-55', 'Comedy,30s,Long,F,>56', 'Comedy,30s,Long,F,25-34', 'Comedy,30s,Long,F,50-55', 'Comedy,Short,90s,M,25-34,CA', 'Comedy,Short,90s,M,25-34,MN', 'Comedy,Short,90s,M,25-34,MA', 'Comedy,30s,Long,M,35-44,NY', 'Comedy,30s,Long,M,35-44,CA', 'Comedy,30s,Long,M,35-44,executive-managerial', 'Comedy,Short,90s,M,18-24,CA', 'Comedy,Short,90s,M,18-24,college-grad student', 'Comedy,30s,clerical-admin,F', 'Comedy,30s,clerical-admin,Long', 'Comedy,Short,OR,90s', 'Comedy,Short,OR,M', 'Comedy,30s,PA,M', 'Comedy,30s,PA,Long', 'Comedy,30s,PA,M,Long', 'Comedy,30s,clerical-admin,F,Long', 'Comedy,Short,NC,90s', 'Comedy,Short,OR,M,90s', 'Comedy,30s,PA,Long,M', 'Comedy,30s,Long,retired,>56', 'Comedy,Short,OR,90s,M', 'Comedy,Short,90s,F,18-24,college-grad student', 'Comedy,30s,clerical-admin,Long,F', 'Comedy,Short,90s,F,25-34,CA', 'Comedy,30s,Long,F,25-34,CA', 'Comedy,Short,90s,M,35-44,technician-engineer']\n",
    "labels = ['μ > 4', 'Comedy', '30s', 'Short', 'clerical-admin', 'Long', 'PA', 'retired', 'F', 'M', 'OR', '90s', 'NC', 'M', 'PA', 'F', '18-24', '35-44', '25-34', '35-44', '25-34', '18-24', '45-49', '35-44', '50-55', '>56', '25-34', '50-55', 'CA', 'MN', 'MA', 'NY', 'CA', 'executive-managerial', 'CA', 'college-grad student', 'F', 'Long', '90s', 'M', 'M', 'Long', 'Long', 'Long', '90s', '90s', 'M', '>56', 'M', 'college-grad student', 'F', 'CA', 'CA', 'technician-engineer']\n",
    "color_sequence = ['#636EFA', '#00CC96', '#EF553B', '#19D3F3', '#EF553B', '#FF6692', '#19D3F3', '#AB63FA', '#AB63FA', '#FF6692', '#00CC96', '#FF6692', '#AB63FA', '#FF6692', '#AB63FA', '#FFA15A', '#FFA15A', '#FFA15A', '#FFA15A', '#FFA15A', '#FFA15A', '#FFA15A', '#FFA15A', '#FFA15A', '#FFA15A', '#FFA15A', '#FFA15A', '#FF6692', '#FF6692', '#FF6692', '#FF6692', '#FF6692', '#19D3F3', '#FF6692', '#19D3F3', '#AB63FA', '#EF553B', '#00CC96', '#AB63FA', '#AB63FA', '#EF553B', '#EF553B', '#EF553B', '#00CC96', '#00CC96', '#AB63FA', '#FFA15A', '#AB63FA', '#19D3F3', '#AB63FA', '#FF6692', '#FF6692', '#19D3F3']\n",
    "parents = ['', 'H', 'Comedy', 'Comedy', 'Comedy,30s', 'Comedy,30s', 'Comedy,30s', 'Comedy,30s,Long', 'Comedy,30s,Long', 'Comedy,30s,Long', 'Comedy,Short', 'Comedy,Short', 'Comedy,Short', 'Comedy,Short,90s', 'Comedy,Short,90s', 'Comedy,Short,90s', 'Comedy,Short,90s,M', 'Comedy,Short,90s,M', 'Comedy,Short,90s,M', 'Comedy,Short,90s,F', 'Comedy,Short,90s,F', 'Comedy,Short,90s,F', 'Comedy,30s,Long,M', 'Comedy,30s,Long,M', 'Comedy,30s,Long,M', 'Comedy,30s,Long,F', 'Comedy,30s,Long,F', 'Comedy,30s,Long,F', 'Comedy,Short,90s,M,25-34', 'Comedy,Short,90s,M,25-34', 'Comedy,Short,90s,M,25-34', 'Comedy,30s,Long,M,35-44', 'Comedy,30s,Long,M,35-44', 'Comedy,30s,Long,M,35-44', 'Comedy,Short,90s,M,18-24', 'Comedy,Short,90s,M,18-24', 'Comedy,30s,clerical-admin', 'Comedy,30s,clerical-admin', 'Comedy,Short,OR', 'Comedy,Short,OR', 'Comedy,30s,PA', 'Comedy,30s,PA', 'Comedy,30s,PA,M', 'Comedy,30s,clerical-admin,F', 'Comedy,Short,NC', 'Comedy,Short,OR,M', 'Comedy,30s,PA,Long', 'Comedy,30s,Long,retired', 'Comedy,Short,OR,90s', 'Comedy,Short,90s,F,18-24', 'Comedy,30s,clerical-admin,Long', 'Comedy,Short,90s,F,25-34', 'Comedy,30s,Long,F,25-34', 'Comedy,Short,90s,M,35-44']\n",
    "user_counts = [0, 6031, 1328, 1162, 47, 1328, 32, 31, 409, 919, 35, 982, 24, 716, 20, 266, 140, 151, 304, 62, 95, 54, 112, 231, 94, 27, 117, 45, 67, 26, 23, 23, 47, 41, 28, 64, 26, 47, 29, 25, 25, 32, 25, 26, 22, 21, 25, 24, 21, 32, 26, 32, 33, 25]\n",
    "strength = [u/6040 for u in user_counts]\n",
    "\n",
    "import plotly.graph_objects as go\n",
    "\n",
    "color_discrete_sequence = ['', '#FFAA00', '#2D5F91','#819FBD','#819FBD','#91D4D2', '#96BEE6', '#C0D8F0','#E8655F','#F1A39F','#48B7B4']\n",
    "color_discrete_sequence = [''] + list(sns.color_palette().as_hex())\n",
    "\n",
    "fig =go.Figure(go.Sunburst(\n",
    "    ids=ids,\n",
    "    labels=labels,\n",
    "    parents=parents,\n",
    "    marker=dict(\n",
    "        # size=16,\n",
    "        cmax=6040,\n",
    "        cmin=0,\n",
    "        colors=user_counts,\n",
    "        colorbar=dict(\n",
    "            title=\"User count\"\n",
    "        ),\n",
    "        colorscale=\"Plasma\"\n",
    "    ),\n",
    "    #values=user_counts,\n",
    "))\n",
    "fig.update_layout(margin = dict(t=0, l=0, r=0, b=0))\n",
    "\n",
    "fig.show()"
   ]
  },
  {
   "cell_type": "code",
   "execution_count": 124,
   "id": "931b93e9-13b6-4b1b-b533-132e97c2ebc6",
   "metadata": {},
   "outputs": [
    {
     "data": {
      "text/html": [
       "<iframe\n",
       "    scrolling=\"no\"\n",
       "    width=\"100%\"\n",
       "    height=\"545px\"\n",
       "    src=\"iframe_figures/figure_124.html\"\n",
       "    frameborder=\"0\"\n",
       "    allowfullscreen\n",
       "></iframe>\n"
      ]
     },
     "metadata": {},
     "output_type": "display_data"
    }
   ],
   "source": [
    "import plotly.express as px\n",
    "import numpy as np\n",
    "df = px.data.gapminder().query(\"year == 2007\")\n",
    "fig = px.sunburst(df, path=['continent', 'country'], values='pop',\n",
    "                  color='lifeExp', hover_data=['iso_alpha'],\n",
    "                  color_continuous_scale='Plasma',\n",
    "                  color_continuous_midpoint=np.average(df['lifeExp'], weights=df['pop']))\n",
    "fig.show()"
   ]
  },
  {
   "cell_type": "code",
   "execution_count": 104,
   "id": "c8b6b5d1-b46b-4e70-b6cd-54b1904616c5",
   "metadata": {},
   "outputs": [
    {
     "data": {
      "text/html": [
       "<iframe\n",
       "    scrolling=\"no\"\n",
       "    width=\"100%\"\n",
       "    height=\"545px\"\n",
       "    src=\"iframe_figures/figure_104.html\"\n",
       "    frameborder=\"0\"\n",
       "    allowfullscreen\n",
       "></iframe>\n"
      ]
     },
     "metadata": {},
     "output_type": "display_data"
    }
   ],
   "source": [
    "ids = ['H', 'Comedy', 'Comedy,30s', 'Comedy,Short', 'Comedy,30s,PA', 'Comedy,30s,Long', 'Comedy,30s,clerical-admin', 'Comedy,30s,Long,F', 'Comedy,30s,Long,M', 'Comedy,30s,Long,retired', 'Comedy,Short,OR', 'Comedy,Short,NC', 'Comedy,Short,90s', 'Comedy,Short,90s,PA', 'Comedy,Short,90s,M', 'Comedy,Short,90s,F', 'Comedy,Short,90s,M,25-34', 'Comedy,Short,90s,M,18-24', 'Comedy,Short,90s,M,35-44', 'Comedy,Short,90s,F,35-44', 'Comedy,Short,90s,F,18-24', 'Comedy,Short,90s,F,25-34', 'Comedy,30s,Long,M,45-49', 'Comedy,30s,Long,M,50-55', 'Comedy,30s,Long,M,35-44', 'Comedy,30s,Long,F,>56', 'Comedy,30s,Long,F,25-34', 'Comedy,30s,Long,F,50-55', 'Comedy,Short,90s,M,25-34,CA', 'Comedy,Short,90s,M,25-34,MA', 'Comedy,Short,90s,M,25-34,MN', 'Comedy,30s,Long,M,35-44,CA', 'Comedy,30s,Long,M,35-44,executive-managerial', 'Comedy,30s,Long,M,35-44,NY', 'Comedy,Short,90s,M,18-24,college-grad student', 'Comedy,Short,90s,M,18-24,CA', 'Comedy,30s,clerical-admin,Long', 'Comedy,30s,clerical-admin,F', 'Comedy,Short,OR,M', 'Comedy,Short,OR,90s', 'Comedy,30s,PA,M', 'Comedy,30s,PA,Long', 'Comedy,30s,PA,M,Long', 'Comedy,30s,clerical-admin,F,Long', 'Comedy,Short,NC,90s', 'Comedy,Short,OR,M,90s', 'Comedy,30s,PA,Long,M', 'Comedy,30s,Long,retired,>56', 'Comedy,Short,OR,90s,M', 'Comedy,Short,90s,F,18-24,college-grad student', 'Comedy,30s,clerical-admin,Long,F', 'Comedy,Short,90s,F,25-34,CA', 'Comedy,30s,Long,F,25-34,CA', 'Comedy,Short,90s,M,35-44,technician-engineer']\n",
    "labels = ['μ > 4', 'Comedy', '30s', 'Short', 'PA', 'Long', 'clerical-admin', 'F', 'M', 'retired', 'OR', 'NC', '90s', 'PA', 'M', 'F', '25-34', '18-24', '35-44', '35-44', '18-24', '25-34', '45-49', '50-55', '35-44', '>56', '25-34', '50-55', 'CA', 'MA', 'MN', 'CA', 'executive-managerial', 'NY', 'college-grad student', 'CA', 'Long', 'F', 'M', '90s', 'M', 'Long', 'Long', 'Long', '90s', '90s', 'M', '>56', 'M', 'college-grad student', 'F', 'CA', 'CA', 'technician-engineer']\n",
    "color_sequence = ['', '#636EFA', '#00CC96', '#EF553B', '#FF6692', '#EF553B', '#19D3F3', '#AB63FA', '#AB63FA', '#19D3F3', '#FF6692', '#FF6692', '#00CC96', '#FF6692', '#AB63FA', '#AB63FA', '#FFA15A', '#FFA15A', '#FFA15A', '#FFA15A', '#FFA15A', '#FFA15A', '#FFA15A', '#FFA15A', '#FFA15A', '#FFA15A', '#FFA15A', '#FFA15A', '#FF6692', '#FF6692', '#FF6692', '#FF6692', '#19D3F3', '#FF6692', '#19D3F3', '#FF6692', '#EF553B', '#AB63FA', '#AB63FA', '#00CC96', '#AB63FA', '#EF553B', '#EF553B', '#EF553B', '#00CC96', '#00CC96', '#AB63FA', '#FFA15A', '#AB63FA', '#19D3F3', '#AB63FA', '#FF6692', '#FF6692', '#19D3F3']\n",
    "parents = ['', 'H', 'Comedy', 'Comedy', 'Comedy,30s', 'Comedy,30s', 'Comedy,30s', 'Comedy,30s,Long', 'Comedy,30s,Long', 'Comedy,30s,Long', 'Comedy,Short', 'Comedy,Short', 'Comedy,Short', 'Comedy,Short,90s', 'Comedy,Short,90s', 'Comedy,Short,90s', 'Comedy,Short,90s,M', 'Comedy,Short,90s,M', 'Comedy,Short,90s,M', 'Comedy,Short,90s,F', 'Comedy,Short,90s,F', 'Comedy,Short,90s,F', 'Comedy,30s,Long,M', 'Comedy,30s,Long,M', 'Comedy,30s,Long,M', 'Comedy,30s,Long,F', 'Comedy,30s,Long,F', 'Comedy,30s,Long,F', 'Comedy,Short,90s,M,25-34', 'Comedy,Short,90s,M,25-34', 'Comedy,Short,90s,M,25-34', 'Comedy,30s,Long,M,35-44', 'Comedy,30s,Long,M,35-44', 'Comedy,30s,Long,M,35-44', 'Comedy,Short,90s,M,18-24', 'Comedy,Short,90s,M,18-24', 'Comedy,30s,clerical-admin', 'Comedy,30s,clerical-admin', 'Comedy,Short,OR', 'Comedy,Short,OR', 'Comedy,30s,PA', 'Comedy,30s,PA', 'Comedy,30s,PA,M', 'Comedy,30s,clerical-admin,F', 'Comedy,Short,NC', 'Comedy,Short,OR,M', 'Comedy,30s,PA,Long', 'Comedy,30s,Long,retired', 'Comedy,Short,OR,90s', 'Comedy,Short,90s,F,18-24', 'Comedy,30s,clerical-admin,Long', 'Comedy,Short,90s,F,25-34', 'Comedy,30s,Long,F,25-34', 'Comedy,Short,90s,M,35-44']\n",
    "\n",
    "import plotly.graph_objects as go\n",
    "\n",
    "color_discrete_sequence = ['', '#FFAA00', '#2D5F91','#819FBD','#819FBD','#91D4D2', '#96BEE6', '#C0D8F0','#E8655F','#F1A39F','#48B7B4']\n",
    "color_discrete_sequence = [''] + list(sns.color_palette().as_hex())\n",
    "\n",
    "fig =go.Figure(go.Sunburst(\n",
    "    ids=ids,\n",
    "    labels=labels,\n",
    "    parents=parents,\n",
    "    #values=[6031, 5907, 5903, 4238, 800, 1665, 296, 828, 549, 1514, 289, 83, 72, 38, ],\n",
    "    marker=dict(colors=color_sequence),\n",
    "))\n",
    "fig.update_layout(margin=dict(t=0, l=0, r=0, b=0))\n",
    "fig.update_traces(leaf=dict(opacity = 1))\n",
    "\n",
    "\n",
    "\n",
    "\n",
    "fig.show()"
   ]
  },
  {
   "cell_type": "code",
   "execution_count": 95,
   "id": "486d3997-83eb-4375-832c-baeaba066f3a",
   "metadata": {},
   "outputs": [
    {
     "data": {
      "text/html": [
       "<iframe\n",
       "    scrolling=\"no\"\n",
       "    width=\"100%\"\n",
       "    height=\"545px\"\n",
       "    src=\"iframe_figures/figure_95.html\"\n",
       "    frameborder=\"0\"\n",
       "    allowfullscreen\n",
       "></iframe>\n"
      ]
     },
     "metadata": {},
     "output_type": "display_data"
    }
   ],
   "source": [
    "fig = go.Figure()\n",
    "\n",
    "fig.add_trace(go.Scatter(\n",
    "    x=[1, 2, 3, 4, 5],\n",
    "    y=[1, 2, 3, 4, 5],\n",
    "    name=\"Genre\"\n",
    "))\n",
    "\n",
    "fig.add_trace(go.Scatter(\n",
    "    x=[1, 2, 3, 4, 5],\n",
    "    y=[5, 4, 3, 2, 1],\n",
    "    name=\"Runtime minutes\"\n",
    "))\n",
    "\n",
    "fig.add_trace(go.Scatter(\n",
    "    x=[1, 2, 3, 4, 5],\n",
    "    y=[5, 4, 3, 2, 1],\n",
    "    name=\"Year\"\n",
    "))\n",
    "\n",
    "fig.add_trace(go.Scatter(\n",
    "    x=[1, 2, 3, 4, 5],\n",
    "    y=[5, 4, 3, 2, 1],\n",
    "    name=\"Gender\"\n",
    "))\n",
    "\n",
    "fig.add_trace(go.Scatter(\n",
    "    x=[1, 2, 3, 4, 5],\n",
    "    y=[5, 4, 3, 2, 1],\n",
    "    name=\"Age\"\n",
    "))\n",
    "\n",
    "fig.add_trace(go.Scatter(\n",
    "    x=[1, 2, 3, 4, 5],\n",
    "    y=[5, 4, 3, 2, 1],\n",
    "    name=\"Occupation\"\n",
    "))\n",
    "\n",
    "fig.add_trace(go.Scatter(\n",
    "    x=[1, 2, 3, 4, 5],\n",
    "    y=[5, 4, 3, 2, 1],\n",
    "    name=\"Location\"\n",
    "))\n",
    "\n",
    "fig.update_layout(legend_title_text='Attribute')\n",
    "fig.show()"
   ]
  },
  {
   "cell_type": "code",
   "execution_count": 72,
   "id": "77fa41a8-611c-4b8f-a8b1-934e35b56aea",
   "metadata": {},
   "outputs": [
    {
     "data": {
      "text/plain": [
       "['#636EFA',\n",
       " '#EF553B',\n",
       " '#00CC96',\n",
       " '#AB63FA',\n",
       " '#FFA15A',\n",
       " '#19D3F3',\n",
       " '#FF6692',\n",
       " '#B6E880',\n",
       " '#FF97FF',\n",
       " '#FECB52']"
      ]
     },
     "execution_count": 72,
     "metadata": {},
     "output_type": "execute_result"
    }
   ],
   "source": [
    "import plotly\n",
    "plotly.colors.qualitative.Plotly"
   ]
  },
  {
   "cell_type": "code",
   "execution_count": 105,
   "id": "2954a1c0-8e6d-4618-9eff-6724d9de2668",
   "metadata": {},
   "outputs": [
    {
     "data": {
      "text/plain": [
       "['#0d0887',\n",
       " '#46039f',\n",
       " '#7201a8',\n",
       " '#9c179e',\n",
       " '#bd3786',\n",
       " '#d8576b',\n",
       " '#ed7953',\n",
       " '#fb9f3a',\n",
       " '#fdca26',\n",
       " '#f0f921']"
      ]
     },
     "execution_count": 105,
     "metadata": {},
     "output_type": "execute_result"
    }
   ],
   "source": [
    "plotly.colors.sequential.Plasma"
   ]
  },
  {
   "cell_type": "code",
   "execution_count": 49,
   "id": "bc8eaad7-d1f7-497d-85b6-d72bd20537d9",
   "metadata": {},
   "outputs": [
    {
     "data": {
      "text/html": [
       "<svg  width=\"550\" height=\"55\"><rect x=\"0\" y=\"0\" width=\"55\" height=\"55\" style=\"fill:#1f77b4;stroke-width:2;stroke:rgb(255,255,255)\"/><rect x=\"55\" y=\"0\" width=\"55\" height=\"55\" style=\"fill:#ff7f0e;stroke-width:2;stroke:rgb(255,255,255)\"/><rect x=\"110\" y=\"0\" width=\"55\" height=\"55\" style=\"fill:#2ca02c;stroke-width:2;stroke:rgb(255,255,255)\"/><rect x=\"165\" y=\"0\" width=\"55\" height=\"55\" style=\"fill:#d62728;stroke-width:2;stroke:rgb(255,255,255)\"/><rect x=\"220\" y=\"0\" width=\"55\" height=\"55\" style=\"fill:#9467bd;stroke-width:2;stroke:rgb(255,255,255)\"/><rect x=\"275\" y=\"0\" width=\"55\" height=\"55\" style=\"fill:#8c564b;stroke-width:2;stroke:rgb(255,255,255)\"/><rect x=\"330\" y=\"0\" width=\"55\" height=\"55\" style=\"fill:#e377c2;stroke-width:2;stroke:rgb(255,255,255)\"/><rect x=\"385\" y=\"0\" width=\"55\" height=\"55\" style=\"fill:#7f7f7f;stroke-width:2;stroke:rgb(255,255,255)\"/><rect x=\"440\" y=\"0\" width=\"55\" height=\"55\" style=\"fill:#bcbd22;stroke-width:2;stroke:rgb(255,255,255)\"/><rect x=\"495\" y=\"0\" width=\"55\" height=\"55\" style=\"fill:#17becf;stroke-width:2;stroke:rgb(255,255,255)\"/></svg>"
      ],
      "text/plain": [
       "[(0.12156862745098039, 0.4666666666666667, 0.7058823529411765),\n",
       " (1.0, 0.4980392156862745, 0.054901960784313725),\n",
       " (0.17254901960784313, 0.6274509803921569, 0.17254901960784313),\n",
       " (0.8392156862745098, 0.15294117647058825, 0.1568627450980392),\n",
       " (0.5803921568627451, 0.403921568627451, 0.7411764705882353),\n",
       " (0.5490196078431373, 0.33725490196078434, 0.29411764705882354),\n",
       " (0.8901960784313725, 0.4666666666666667, 0.7607843137254902),\n",
       " (0.4980392156862745, 0.4980392156862745, 0.4980392156862745),\n",
       " (0.7372549019607844, 0.7411764705882353, 0.13333333333333333),\n",
       " (0.09019607843137255, 0.7450980392156863, 0.8117647058823529)]"
      ]
     },
     "execution_count": 49,
     "metadata": {},
     "output_type": "execute_result"
    }
   ],
   "source": [
    "import seaborn as sns\n",
    "sns.color_palette()"
   ]
  },
  {
   "cell_type": "code",
   "execution_count": 53,
   "id": "5bf45db9-254f-4a2a-bd7e-cd197861c0b4",
   "metadata": {},
   "outputs": [
    {
     "data": {
      "text/plain": [
       "['#1f77b4',\n",
       " '#ff7f0e',\n",
       " '#2ca02c',\n",
       " '#d62728',\n",
       " '#9467bd',\n",
       " '#8c564b',\n",
       " '#e377c2',\n",
       " '#7f7f7f',\n",
       " '#bcbd22',\n",
       " '#17becf']"
      ]
     },
     "execution_count": 53,
     "metadata": {},
     "output_type": "execute_result"
    }
   ],
   "source": [
    "list(sns.color_palette().as_hex())"
   ]
  },
  {
   "cell_type": "code",
   "execution_count": 27,
   "id": "578ffef7-44c9-43fe-8420-a4593efc6be6",
   "metadata": {},
   "outputs": [
    {
     "data": {
      "text/html": [
       "<iframe\n",
       "    scrolling=\"no\"\n",
       "    width=\"100%\"\n",
       "    height=\"545px\"\n",
       "    src=\"iframe_figures/figure_27.html\"\n",
       "    frameborder=\"0\"\n",
       "    allowfullscreen\n",
       "></iframe>\n"
      ]
     },
     "metadata": {},
     "output_type": "display_data"
    }
   ],
   "source": [
    "import plotly.graph_objects as go\n",
    "\n",
    "fig =go.Figure(go.Sunburst(\n",
    "    ids=['Comedy'],\n",
    "    labels=['Comedy'],\n",
    "    parents=[''],\n",
    "    #values=[6031, 5907, 5903, 4238, 800, 1665, 296, 828, 549, 1514, 289, 83, 72, 38, ],\n",
    "    branchvalues=\"total\",\n",
    "))\n",
    "fig.update_layout(margin = dict(t=0, l=0, r=0, b=0))\n",
    "fig.update_traces(\n",
    "    marker_colors=[\n",
    "        ['red']\n",
    "    ],\n",
    "    leaf_opacity=1,\n",
    ")\n",
    "\n",
    "fig.show()"
   ]
  },
  {
   "cell_type": "code",
   "execution_count": 43,
   "id": "15cd6464-d73e-4ab0-b9f1-dedeb80aee11",
   "metadata": {},
   "outputs": [
    {
     "data": {
      "text/html": [
       "<iframe\n",
       "    scrolling=\"no\"\n",
       "    width=\"100%\"\n",
       "    height=\"545px\"\n",
       "    src=\"iframe_figures/figure_43.html\"\n",
       "    frameborder=\"0\"\n",
       "    allowfullscreen\n",
       "></iframe>\n"
      ]
     },
     "metadata": {},
     "output_type": "display_data"
    }
   ],
   "source": [
    "import plotly.graph_objects as go\n",
    "\n",
    "fig =go.Figure(go.Sunburst(\n",
    "    ids=['A', 'B', 'C'],\n",
    "    labels=['A', 'B', 'C'],\n",
    "    parents=['', 'A', 'A'],\n",
    "    values=[100, 80, 20],\n",
    "    branchvalues=\"total\",\n",
    "))\n",
    "fig.update_layout(margin = dict(t=0, l=0, r=0, b=0))\n",
    "\n",
    "fig.show()"
   ]
  },
  {
   "cell_type": "code",
   "execution_count": 34,
   "id": "feefc539-f822-40c0-afb6-055073324711",
   "metadata": {},
   "outputs": [
    {
     "data": {
      "text/html": [
       "<iframe\n",
       "    scrolling=\"no\"\n",
       "    width=\"100%\"\n",
       "    height=\"545px\"\n",
       "    src=\"iframe_figures/figure_34.html\"\n",
       "    frameborder=\"0\"\n",
       "    allowfullscreen\n",
       "></iframe>\n"
      ]
     },
     "metadata": {},
     "output_type": "display_data"
    }
   ],
   "source": [
    "import plotly.graph_objects as go\n",
    "\n",
    "fig =go.Figure(go.Sunburst(\n",
    " ids=[\n",
    "    \"North America\", \"Europe\", \"Australia\", \"North America - Football\", \"Soccer\",\n",
    "    \"North America - Rugby\", \"Europe - Football\", \"Rugby\",\n",
    "    \"Europe - American Football\",\"Australia - Football\", \"Association\",\n",
    "    \"Australian Rules\", \"Autstralia - American Football\", \"Australia - Rugby\",\n",
    "    \"Rugby League\", \"Rugby Union\"\n",
    "  ],\n",
    "  labels= [\n",
    "    \"North<br>America\", \"Europe\", \"Australia\", \"Football\", \"Soccer\", \"Rugby\",\n",
    "    \"Football\", \"Rugby\", \"American<br>Football\", \"Football\", \"Association\",\n",
    "    \"Australian<br>Rules\", \"American<br>Football\", \"Rugby\", \"Rugby<br>League\",\n",
    "    \"Rugby<br>Union\"\n",
    "  ],\n",
    "  parents=[\n",
    "    \"\", \"\", \"\", \"North America\", \"North America\", \"North America\", \"Europe\",\n",
    "    \"Europe\", \"Europe\",\"Australia\", \"Australia - Football\", \"Australia - Football\",\n",
    "    \"Australia - Football\", \"Australia - Football\", \"Australia - Rugby\",\n",
    "    \"Australia - Rugby\"\n",
    "  ],\n",
    "    values=[i for i in range(16, 0, -1)]\n",
    "))\n",
    "fig.update_layout(margin = dict(t=0, l=0, r=0, b=0))\n",
    "\n",
    "fig.show()"
   ]
  },
  {
   "cell_type": "code",
   "execution_count": 31,
   "id": "1ead70c0-f940-49ad-8078-87d46b7a0c66",
   "metadata": {},
   "outputs": [
    {
     "data": {
      "text/plain": [
       "16"
      ]
     },
     "execution_count": 31,
     "metadata": {},
     "output_type": "execute_result"
    }
   ],
   "source": [
    "len([\n",
    "    \"\", \"\", \"\", \"North America\", \"North America\", \"North America\", \"Europe\",\n",
    "    \"Europe\", \"Europe\",\"Australia\", \"Australia - Football\", \"Australia - Football\",\n",
    "    \"Australia - Football\", \"Australia - Football\", \"Australia - Rugby\",\n",
    "    \"Australia - Rugby\"\n",
    "  ])"
   ]
  },
  {
   "cell_type": "code",
   "execution_count": 33,
   "id": "d6c8872f-07dd-4544-a3cc-eb895d2259ae",
   "metadata": {},
   "outputs": [
    {
     "data": {
      "text/plain": [
       "[16, 15, 14, 13, 12, 11, 10, 9, 8, 7, 6, 5, 4, 3, 2, 1]"
      ]
     },
     "execution_count": 33,
     "metadata": {},
     "output_type": "execute_result"
    }
   ],
   "source": [
    "[i for i in range(16, 0, -1)]"
   ]
  },
  {
   "cell_type": "code",
   "execution_count": 4,
   "id": "8f20195d-a5d6-4482-bad2-e6a20af19136",
   "metadata": {},
   "outputs": [
    {
     "data": {
      "text/html": [
       "<div>\n",
       "<style scoped>\n",
       "    .dataframe tbody tr th:only-of-type {\n",
       "        vertical-align: middle;\n",
       "    }\n",
       "\n",
       "    .dataframe tbody tr th {\n",
       "        vertical-align: top;\n",
       "    }\n",
       "\n",
       "    .dataframe thead th {\n",
       "        text-align: right;\n",
       "    }\n",
       "</style>\n",
       "<table border=\"1\" class=\"dataframe\">\n",
       "  <thead>\n",
       "    <tr style=\"text-align: right;\">\n",
       "      <th></th>\n",
       "      <th>total_bill</th>\n",
       "      <th>tip</th>\n",
       "      <th>sex</th>\n",
       "      <th>smoker</th>\n",
       "      <th>day</th>\n",
       "      <th>time</th>\n",
       "      <th>size</th>\n",
       "    </tr>\n",
       "  </thead>\n",
       "  <tbody>\n",
       "    <tr>\n",
       "      <th>0</th>\n",
       "      <td>16.99</td>\n",
       "      <td>1.01</td>\n",
       "      <td>Female</td>\n",
       "      <td>No</td>\n",
       "      <td>Sun</td>\n",
       "      <td>Dinner</td>\n",
       "      <td>2</td>\n",
       "    </tr>\n",
       "    <tr>\n",
       "      <th>1</th>\n",
       "      <td>10.34</td>\n",
       "      <td>1.66</td>\n",
       "      <td>Male</td>\n",
       "      <td>No</td>\n",
       "      <td>Sun</td>\n",
       "      <td>Dinner</td>\n",
       "      <td>3</td>\n",
       "    </tr>\n",
       "    <tr>\n",
       "      <th>2</th>\n",
       "      <td>21.01</td>\n",
       "      <td>3.50</td>\n",
       "      <td>Male</td>\n",
       "      <td>No</td>\n",
       "      <td>Sun</td>\n",
       "      <td>Dinner</td>\n",
       "      <td>3</td>\n",
       "    </tr>\n",
       "    <tr>\n",
       "      <th>3</th>\n",
       "      <td>23.68</td>\n",
       "      <td>3.31</td>\n",
       "      <td>Male</td>\n",
       "      <td>No</td>\n",
       "      <td>Sun</td>\n",
       "      <td>Dinner</td>\n",
       "      <td>2</td>\n",
       "    </tr>\n",
       "    <tr>\n",
       "      <th>4</th>\n",
       "      <td>24.59</td>\n",
       "      <td>3.61</td>\n",
       "      <td>Female</td>\n",
       "      <td>No</td>\n",
       "      <td>Sun</td>\n",
       "      <td>Dinner</td>\n",
       "      <td>4</td>\n",
       "    </tr>\n",
       "    <tr>\n",
       "      <th>...</th>\n",
       "      <td>...</td>\n",
       "      <td>...</td>\n",
       "      <td>...</td>\n",
       "      <td>...</td>\n",
       "      <td>...</td>\n",
       "      <td>...</td>\n",
       "      <td>...</td>\n",
       "    </tr>\n",
       "    <tr>\n",
       "      <th>239</th>\n",
       "      <td>29.03</td>\n",
       "      <td>5.92</td>\n",
       "      <td>Male</td>\n",
       "      <td>No</td>\n",
       "      <td>Sat</td>\n",
       "      <td>Dinner</td>\n",
       "      <td>3</td>\n",
       "    </tr>\n",
       "    <tr>\n",
       "      <th>240</th>\n",
       "      <td>27.18</td>\n",
       "      <td>2.00</td>\n",
       "      <td>Female</td>\n",
       "      <td>Yes</td>\n",
       "      <td>Sat</td>\n",
       "      <td>Dinner</td>\n",
       "      <td>2</td>\n",
       "    </tr>\n",
       "    <tr>\n",
       "      <th>241</th>\n",
       "      <td>22.67</td>\n",
       "      <td>2.00</td>\n",
       "      <td>Male</td>\n",
       "      <td>Yes</td>\n",
       "      <td>Sat</td>\n",
       "      <td>Dinner</td>\n",
       "      <td>2</td>\n",
       "    </tr>\n",
       "    <tr>\n",
       "      <th>242</th>\n",
       "      <td>17.82</td>\n",
       "      <td>1.75</td>\n",
       "      <td>Male</td>\n",
       "      <td>No</td>\n",
       "      <td>Sat</td>\n",
       "      <td>Dinner</td>\n",
       "      <td>2</td>\n",
       "    </tr>\n",
       "    <tr>\n",
       "      <th>243</th>\n",
       "      <td>18.78</td>\n",
       "      <td>3.00</td>\n",
       "      <td>Female</td>\n",
       "      <td>No</td>\n",
       "      <td>Thur</td>\n",
       "      <td>Dinner</td>\n",
       "      <td>2</td>\n",
       "    </tr>\n",
       "  </tbody>\n",
       "</table>\n",
       "<p>244 rows × 7 columns</p>\n",
       "</div>"
      ],
      "text/plain": [
       "     total_bill   tip     sex smoker   day    time  size\n",
       "0         16.99  1.01  Female     No   Sun  Dinner     2\n",
       "1         10.34  1.66    Male     No   Sun  Dinner     3\n",
       "2         21.01  3.50    Male     No   Sun  Dinner     3\n",
       "3         23.68  3.31    Male     No   Sun  Dinner     2\n",
       "4         24.59  3.61  Female     No   Sun  Dinner     4\n",
       "..          ...   ...     ...    ...   ...     ...   ...\n",
       "239       29.03  5.92    Male     No   Sat  Dinner     3\n",
       "240       27.18  2.00  Female    Yes   Sat  Dinner     2\n",
       "241       22.67  2.00    Male    Yes   Sat  Dinner     2\n",
       "242       17.82  1.75    Male     No   Sat  Dinner     2\n",
       "243       18.78  3.00  Female     No  Thur  Dinner     2\n",
       "\n",
       "[244 rows x 7 columns]"
      ]
     },
     "execution_count": 4,
     "metadata": {},
     "output_type": "execute_result"
    }
   ],
   "source": [
    "df"
   ]
  },
  {
   "cell_type": "code",
   "execution_count": null,
   "id": "983eff8f-b7fe-4567-af9d-cfc7fbe4d553",
   "metadata": {},
   "outputs": [],
   "source": []
  }
 ],
 "metadata": {
  "kernelspec": {
   "display_name": "Python 3 (ipykernel)",
   "language": "python",
   "name": "python3"
  },
  "language_info": {
   "codemirror_mode": {
    "name": "ipython",
    "version": 3
   },
   "file_extension": ".py",
   "mimetype": "text/x-python",
   "name": "python",
   "nbconvert_exporter": "python",
   "pygments_lexer": "ipython3",
   "version": "3.10.13"
  }
 },
 "nbformat": 4,
 "nbformat_minor": 5
}
