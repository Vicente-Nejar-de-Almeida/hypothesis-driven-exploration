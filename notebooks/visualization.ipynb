{
 "cells": [
  {
   "cell_type": "code",
   "execution_count": 1,
   "id": "059095e0-2c18-4bd6-8a74-caddab344661",
   "metadata": {},
   "outputs": [],
   "source": [
    "import pandas as pd"
   ]
  },
  {
   "cell_type": "code",
   "execution_count": 2,
   "id": "f4f0a300-4334-4767-8aba-64fa32306202",
   "metadata": {},
   "outputs": [],
   "source": [
    "import plotly.io as pio\n",
    "pio.renderers.default = 'iframe'"
   ]
  },
  {
   "cell_type": "code",
   "execution_count": 12,
   "id": "e6a07405-d88c-4dc1-8418-cfbdec97d912",
   "metadata": {},
   "outputs": [
    {
     "data": {
      "text/html": [
       "<iframe\n",
       "    scrolling=\"no\"\n",
       "    width=\"100%\"\n",
       "    height=\"545px\"\n",
       "    src=\"iframe_figures/figure_12.html\"\n",
       "    frameborder=\"0\"\n",
       "    allowfullscreen\n",
       "></iframe>\n"
      ]
     },
     "metadata": {},
     "output_type": "display_data"
    }
   ],
   "source": [
    "import plotly.graph_objects as go\n",
    "\n",
    "fig =go.Figure(go.Sunburst(\n",
    "    labels=[ \"Eve\", \"Cain\", \"Seth\", \"Enos\", \"Noam\", \"Abel\", \"Awan\", \"Enoch\", \"Azura\"],\n",
    "    parents=[\"\",    \"Eve\",  \"Eve\",  \"Seth\", \"Seth\", \"Eve\",  \"Eve\",  \"Awan\",  \"Eve\" ],\n",
    "    values=[  65,    14,     12,     10,     2,      6,      6,      4,       4],\n",
    "    branchvalues=\"total\",\n",
    "))\n",
    "fig.update_layout(margin = dict(t=0, l=0, r=0, b=0))\n",
    "\n",
    "fig.show()"
   ]
  },
  {
   "cell_type": "code",
   "execution_count": 61,
   "id": "2f1acb67-e08e-413c-8aca-7cf5314686bb",
   "metadata": {},
   "outputs": [
    {
     "data": {
      "text/html": [
       "<iframe\n",
       "    scrolling=\"no\"\n",
       "    width=\"100%\"\n",
       "    height=\"545px\"\n",
       "    src=\"iframe_figures/figure_61.html\"\n",
       "    frameborder=\"0\"\n",
       "    allowfullscreen\n",
       "></iframe>\n"
      ]
     },
     "metadata": {},
     "output_type": "display_data"
    }
   ],
   "source": [
    "import plotly.graph_objects as go\n",
    "\n",
    "fig =go.Figure(go.Sunburst(\n",
    "    ids=['Comedy', 'Comedy,90s', 'Comedy,90s,Long', 'Comedy,90s,Long,Males', 'Comedy,90s,Long,Males,18-24', 'Comedy,90s,Long,Females', 'Comedy,90s,Long,Females,18-24', 'Comedy,90s,Long,Males,35-44', 'Comedy,90s,Long,Females,25-34', 'Comedy,90s,Long,Males,25-34', 'Comedy,90s,Long,Males,25-34,California', 'Comedy,Arizon', 'Comedy,Unemployed', 'Comedy,90s,KS', 'Comedy,90s,LA'],\n",
    "    labels=['Comedy', '90s', 'Long', 'Males', '18-24', 'Females', '18-24', '35-44', '25-34', '25-34', 'California', 'Arizona', 'Unemployed', 'Kansas', 'LA'],\n",
    "    parents=['', 'Comedy', 'Comedy,90s', 'Comedy,90s,Long', 'Comedy,90s,Long,Males', 'Comedy,90s,Long', 'Comedy,90s,Long,Females', 'Comedy,90s,Long,Males', 'Comedy,90s,Long,Females', 'Comedy,90s,Long,Males', 'Comedy,90s,Long,Males,25-34', 'Comedy', 'Comedy', 'Comedy,90s', 'Comedy,90s'],\n",
    "    #values=[6031, 5907, 5903, 4238, 800, 1665, 296, 828, 549, 1514, 289, 83, 72, 38, ],\n",
    "    branchvalues=\"total\",\n",
    "))\n",
    "fig.update_layout(margin = dict(t=0, l=0, r=0, b=0))\n",
    "\n",
    "fig.show()"
   ]
  },
  {
   "cell_type": "code",
   "execution_count": 5,
   "id": "585f0b47-dcd9-4101-9970-d40e9ff59b7d",
   "metadata": {},
   "outputs": [
    {
     "data": {
      "text/html": [
       "<iframe\n",
       "    scrolling=\"no\"\n",
       "    width=\"100%\"\n",
       "    height=\"545px\"\n",
       "    src=\"iframe_figures/figure_5.html\"\n",
       "    frameborder=\"0\"\n",
       "    allowfullscreen\n",
       "></iframe>\n"
      ]
     },
     "metadata": {},
     "output_type": "display_data"
    }
   ],
   "source": [
    "import plotly.graph_objects as go\n",
    "\n",
    "fig =go.Figure(go.Sunburst(\n",
    "    ids=['Comedy', 'Comedy,90s', 'Comedy,90s,Long', 'Comedy,90s,Long,Males', 'Comedy,90s,Long,Males,18-24', 'Comedy,90s,Long,Females', 'Comedy,90s,Long,Females,18-24', 'Comedy,90s,Long,Males,35-44', 'Comedy,90s,Long,Females,25-34', 'Comedy,90s,Long,Males,25-34', 'Comedy,90s,Long,Males,25-34,California', 'Comedy,Arizon', 'Comedy,Unemployed', 'Comedy,90s,KS', 'Comedy,90s,LA'],\n",
    "    labels=['Comedy', '90s', 'Long', 'Males', '18-24', 'Females', '18-24', '35-44', '25-34', '25-34', 'California', 'Arizona', 'Unemployed', 'Kansas', 'LA'],\n",
    "    parents=['', 'Comedy', 'Comedy,90s', 'Comedy,90s,Long', 'Comedy,90s,Long,Males', 'Comedy,90s,Long', 'Comedy,90s,Long,Females', 'Comedy,90s,Long,Males', 'Comedy,90s,Long,Females', 'Comedy,90s,Long,Males', 'Comedy,90s,Long,Males,25-34', 'Comedy', 'Comedy', 'Comedy,90s', 'Comedy,90s'],\n",
    "    #values=[6031, 5907, 5903, 4238, 800, 1665, 296, 828, 549, 1514, 289, 83, 72, 38, ],\n",
    "    branchvalues=\"total\",\n",
    "))\n",
    "fig.update_layout(margin = dict(t=0, l=0, r=0, b=0))\n",
    "\n",
    "fig.show()"
   ]
  },
  {
   "cell_type": "code",
   "execution_count": 56,
   "id": "25e45597-0d5d-4a60-97b0-1716b59a2b9d",
   "metadata": {},
   "outputs": [
    {
     "data": {
      "text/html": [
       "<iframe\n",
       "    scrolling=\"no\"\n",
       "    width=\"100%\"\n",
       "    height=\"545px\"\n",
       "    src=\"iframe_figures/figure_56.html\"\n",
       "    frameborder=\"0\"\n",
       "    allowfullscreen\n",
       "></iframe>\n"
      ]
     },
     "metadata": {},
     "output_type": "display_data"
    }
   ],
   "source": [
    "import plotly.graph_objects as go\n",
    "\n",
    "color_discrete_sequence = ['', '#FFAA00', '#2D5F91','#819FBD','#819FBD','#91D4D2', '#96BEE6', '#C0D8F0','#E8655F','#F1A39F','#48B7B4']\n",
    "color_discrete_sequence = [''] + list(sns.color_palette().as_hex())\n",
    "\n",
    "fig =go.Figure(go.Sunburst(\n",
    "    ids=['Comedy', 'Comedy,90s', 'Comedy,90s,Long', 'Comedy,90s,Long,Males', 'Comedy,90s,Long,Males,18-24', 'Comedy,90s,Long,Females'],\n",
    "    labels=['Comedy', '90s', 'Long', 'Males', '18-24', 'Females'],\n",
    "    parents=['', 'Comedy', 'Comedy,90s', 'Comedy,90s,Long', 'Comedy,90s,Long,Males', 'Comedy,90s,Long'],\n",
    "    #values=[6031, 5907, 5903, 4238, 800, 1665, 296, 828, 549, 1514, 289, 83, 72, 38, ],\n",
    "    marker=dict(colors=color_discrete_sequence)\n",
    "))\n",
    "fig.update_layout(margin = dict(t=0, l=0, r=0, b=0))\n",
    "\n",
    "fig.show()"
   ]
  },
  {
   "cell_type": "code",
   "execution_count": 64,
   "id": "efe2a08f-fdd9-4315-807b-41f2f1ae1956",
   "metadata": {},
   "outputs": [
    {
     "data": {
      "text/html": [
       "<iframe\n",
       "    scrolling=\"no\"\n",
       "    width=\"100%\"\n",
       "    height=\"545px\"\n",
       "    src=\"iframe_figures/figure_64.html\"\n",
       "    frameborder=\"0\"\n",
       "    allowfullscreen\n",
       "></iframe>\n"
      ]
     },
     "metadata": {},
     "output_type": "display_data"
    }
   ],
   "source": [
    "ids = ['Comedy', 'Comedy,90s', 'Comedy,AZ', 'Comedy,unemployed', 'Comedy,90s,LA', 'Comedy,90s,KS', 'Comedy,90s,Long', 'Comedy,90s,Long,F', 'Comedy,90s,Long,M', 'Comedy,90s,Long,LA', 'Comedy,90s,Long,M,35-44', 'Comedy,90s,Long,M,25-34', 'Comedy,90s,Long,M,18-24', 'Comedy,90s,Long,M,18-24,other', 'Comedy,90s,Long,M,18-24,writer', 'Comedy,90s,Long,M,18-24,college-grad student', 'Comedy,90s,Long,F,25-34', 'Comedy,90s,Long,F,18-24', 'Comedy,90s,Long,F,NJ', 'Comedy,90s,Long,F,18-24,MN', 'Comedy,90s,Long,F,18-24,MI', 'Comedy,90s,Long,F,18-24,college-grad student', 'Comedy,90s,Long,M,35-44,executive-managerial', 'Comedy,90s,Long,M,35-44,technician-engineer', 'Comedy,90s,Long,M,35-44,academic-educator', 'Comedy,90s,Long,F,25-34,CA', 'Comedy,90s,Long,F,25-34,TX', 'Comedy,90s,Long,F,25-34,NY', 'Comedy,90s,Long,M,25-34,MN', 'Comedy,90s,Long,M,25-34,CA', 'Comedy,90s,Long,M,25-34,NY', 'Comedy,90s,Long,M,25-34,CA,writer', 'Comedy,90s,Long,M,25-34,CA,technician-engineer', 'Comedy,90s,Long,M,25-34,CA,other', 'Comedy,90s,Long,M,18-24,college-grad student,MN', 'Comedy,90s,Long,M,18-24,college-grad student,NY', 'Comedy,90s,Long,M,18-24,college-grad student,MA', 'Comedy,unemployed,18-24', 'Comedy,unemployed,2000s', 'Comedy,unemployed,Long', 'Comedy,unemployed,Long,18-24', 'Comedy,unemployed,Long,90s', 'Comedy,unemployed,Long,2000s', 'Comedy,AZ,90s', 'Comedy,AZ,M', 'Comedy,AZ,Long', 'Comedy,AZ,M,25-34', 'Comedy,AZ,M,2000s', 'Comedy,AZ,M,Long', 'Comedy,AZ,M,Long,90s', 'Comedy,AZ,M,Long,25-34', 'Comedy,AZ,M,Long,2000s', 'Comedy,AZ,90s,M', 'Comedy,AZ,90s,Long', 'Comedy,AZ,90s,25-34', 'Comedy,AZ,Long,M', 'Comedy,AZ,Long,2000s', 'Comedy,AZ,Long,90s', 'Comedy,AZ,Long,M,90s', 'Comedy,AZ,Long,M,2000s', 'Comedy,AZ,Long,M,25-34', 'Comedy,AZ,90s,M,25-34', 'Comedy,AZ,90s,M,Long', 'Comedy,unemployed,Long,90s,18-24', 'Comedy,unemployed,Long,90s,M', 'Comedy,AZ,90s,Long,25-34', 'Comedy,AZ,90s,Long,M', 'Comedy,AZ,Long,90s,M', 'Comedy,AZ,Long,90s,25-34', 'Comedy,unemployed,18-24,Long', 'Comedy,unemployed,18-24,M', 'Comedy,unemployed,18-24,90s', 'Comedy,AZ,90s,25-34,Long', 'Comedy,AZ,90s,25-34,M', 'Comedy,unemployed,2000s,M', 'Comedy,unemployed,2000s,Long', 'Comedy,90s,KS,M', 'Comedy,90s,KS,Long', 'Comedy,unemployed,18-24,90s,M', 'Comedy,unemployed,18-24,90s,Long', 'Comedy,unemployed,Long,18-24,M', 'Comedy,unemployed,Long,18-24,90s', 'Comedy,unemployed,18-24,Long,90s', 'Comedy,unemployed,18-24,Long,M', 'Comedy,90s,LA,M', 'Comedy,90s,LA,Long', 'Comedy,unemployed,2000s,M,Long', 'Comedy,AZ,M,2000s,Long', 'Comedy,unemployed,18-24,90s,M,Long']\n",
    "labels = ['Comedy', '90s', 'AZ', 'unemployed', 'LA', 'KS', 'Long', 'F', 'M', 'LA', '35-44', '25-34', '18-24', 'other', 'writer', 'college-grad student', '25-34', '18-24', 'NJ', 'MN', 'MI', 'college-grad student', 'executive-managerial', 'technician-engineer', 'academic-educator', 'CA', 'TX', 'NY', 'MN', 'CA', 'NY', 'writer', 'technician-engineer', 'other', 'MN', 'NY', 'MA', '18-24', '2000s', 'Long', '18-24', '90s', '2000s', '90s', 'M', 'Long', '25-34', '2000s', 'Long', '90s', '25-34', '2000s', 'M', 'Long', '25-34', 'M', '2000s', '90s', '90s', '2000s', '25-34', '25-34', 'Long', '18-24', 'M', '25-34', 'M', 'M', '25-34', 'Long', 'M', '90s', 'Long', 'M', 'M', 'Long', 'M', 'Long', 'M', 'Long', 'M', '90s', '90s', 'M', 'M', 'Long', 'Long', 'Long', 'Long']\n",
    "parents = ['', 'Comedy', 'Comedy', 'Comedy', 'Comedy,90s', 'Comedy,90s', 'Comedy,90s', 'Comedy,90s,Long', 'Comedy,90s,Long', 'Comedy,90s,Long', 'Comedy,90s,Long,M', 'Comedy,90s,Long,M', 'Comedy,90s,Long,M', 'Comedy,90s,Long,M,18-24', 'Comedy,90s,Long,M,18-24', 'Comedy,90s,Long,M,18-24', 'Comedy,90s,Long,F', 'Comedy,90s,Long,F', 'Comedy,90s,Long,F', 'Comedy,90s,Long,F,18-24', 'Comedy,90s,Long,F,18-24', 'Comedy,90s,Long,F,18-24', 'Comedy,90s,Long,M,35-44', 'Comedy,90s,Long,M,35-44', 'Comedy,90s,Long,M,35-44', 'Comedy,90s,Long,F,25-34', 'Comedy,90s,Long,F,25-34', 'Comedy,90s,Long,F,25-34', 'Comedy,90s,Long,M,25-34', 'Comedy,90s,Long,M,25-34', 'Comedy,90s,Long,M,25-34', 'Comedy,90s,Long,M,25-34,CA', 'Comedy,90s,Long,M,25-34,CA', 'Comedy,90s,Long,M,25-34,CA', 'Comedy,90s,Long,M,18-24,college-grad student', 'Comedy,90s,Long,M,18-24,college-grad student', 'Comedy,90s,Long,M,18-24,college-grad student', 'Comedy,unemployed', 'Comedy,unemployed', 'Comedy,unemployed', 'Comedy,unemployed,Long', 'Comedy,unemployed,Long', 'Comedy,unemployed,Long', 'Comedy,AZ', 'Comedy,AZ', 'Comedy,AZ', 'Comedy,AZ,M', 'Comedy,AZ,M', 'Comedy,AZ,M', 'Comedy,AZ,M,Long', 'Comedy,AZ,M,Long', 'Comedy,AZ,M,Long', 'Comedy,AZ,90s', 'Comedy,AZ,90s', 'Comedy,AZ,90s', 'Comedy,AZ,Long', 'Comedy,AZ,Long', 'Comedy,AZ,Long', 'Comedy,AZ,Long,M', 'Comedy,AZ,Long,M', 'Comedy,AZ,Long,M', 'Comedy,AZ,90s,M', 'Comedy,AZ,90s,M', 'Comedy,unemployed,Long,90s', 'Comedy,unemployed,Long,90s', 'Comedy,AZ,90s,Long', 'Comedy,AZ,90s,Long', 'Comedy,AZ,Long,90s', 'Comedy,AZ,Long,90s', 'Comedy,unemployed,18-24', 'Comedy,unemployed,18-24', 'Comedy,unemployed,18-24', 'Comedy,AZ,90s,25-34', 'Comedy,AZ,90s,25-34', 'Comedy,unemployed,2000s', 'Comedy,unemployed,2000s', 'Comedy,90s,KS', 'Comedy,90s,KS', 'Comedy,unemployed,18-24,90s', 'Comedy,unemployed,18-24,90s', 'Comedy,unemployed,Long,18-24', 'Comedy,unemployed,Long,18-24', 'Comedy,unemployed,18-24,Long', 'Comedy,unemployed,18-24,Long', 'Comedy,90s,LA', 'Comedy,90s,LA', 'Comedy,unemployed,2000s,M', 'Comedy,AZ,M,2000s', 'Comedy,unemployed,18-24,90s,M']\n",
    "\n",
    "import plotly.graph_objects as go\n",
    "\n",
    "color_discrete_sequence = ['', '#FFAA00', '#2D5F91','#819FBD','#819FBD','#91D4D2', '#96BEE6', '#C0D8F0','#E8655F','#F1A39F','#48B7B4']\n",
    "color_discrete_sequence = [''] + list(sns.color_palette().as_hex())\n",
    "\n",
    "fig =go.Figure(go.Sunburst(\n",
    "    ids=ids,\n",
    "    labels=labels,\n",
    "    parents=parents,\n",
    "    #values=[6031, 5907, 5903, 4238, 800, 1665, 296, 828, 549, 1514, 289, 83, 72, 38, ],\n",
    "    # marker=dict(colors=color_discrete_sequence)\n",
    "))\n",
    "fig.update_layout(margin = dict(t=0, l=0, r=0, b=0))\n",
    "\n",
    "fig.show()"
   ]
  },
  {
   "cell_type": "code",
   "execution_count": 65,
   "id": "1e48024f-beda-4495-b997-130dc8e87973",
   "metadata": {},
   "outputs": [
    {
     "data": {
      "text/html": [
       "<iframe\n",
       "    scrolling=\"no\"\n",
       "    width=\"100%\"\n",
       "    height=\"545px\"\n",
       "    src=\"iframe_figures/figure_65.html\"\n",
       "    frameborder=\"0\"\n",
       "    allowfullscreen\n",
       "></iframe>\n"
      ]
     },
     "metadata": {},
     "output_type": "display_data"
    }
   ],
   "source": [
    "ids = ['Comedy', 'Comedy,Short', 'Comedy,30s', 'Comedy,30s,retired', 'Comedy,30s,PA', 'Comedy,30s,Long', 'Comedy,30s,Long,retired', 'Comedy,30s,Long,M', 'Comedy,30s,Long,F', 'Comedy,Short,TX', 'Comedy,Short,NC', 'Comedy,Short,90s', 'Comedy,Short,90s,M', 'Comedy,Short,90s,PA', 'Comedy,Short,90s,F', 'Comedy,Short,90s,M,35-44', 'Comedy,Short,90s,M,18-24', 'Comedy,Short,90s,M,25-34', 'Comedy,Short,90s,F,18-24', 'Comedy,Short,90s,F,25-34', 'Comedy,Short,90s,F,35-44', 'Comedy,30s,Long,M,35-44', 'Comedy,30s,Long,M,50-55', 'Comedy,30s,Long,M,45-49', 'Comedy,30s,Long,F,25-34', 'Comedy,30s,Long,F,>56', 'Comedy,30s,Long,F,50-55', 'Comedy,Short,90s,M,25-34,CA', 'Comedy,Short,90s,M,25-34,MA', 'Comedy,Short,90s,M,25-34,MN', 'Comedy,30s,Long,M,35-44,executive-managerial', 'Comedy,30s,Long,M,35-44,CA', 'Comedy,30s,Long,M,35-44,NY', 'Comedy,Short,90s,M,18-24,college-grad student', 'Comedy,Short,90s,M,18-24,CA', 'Comedy,Short,TX,M', 'Comedy,Short,TX,90s', 'Comedy,30s,retired,>56', 'Comedy,30s,retired,Long', 'Comedy,30s,retired,Long,>56', 'Comedy,30s,retired,Long,M', 'Comedy,30s,PA,M', 'Comedy,30s,PA,Long', 'Comedy,30s,PA,M,Long', 'Comedy,30s,retired,>56,Long', 'Comedy,Short,NC,90s', 'Comedy,Short,TX,M,90s', 'Comedy,30s,PA,Long,M', 'Comedy,30s,Long,retired,>56', 'Comedy,Short,TX,90s,M', 'Comedy,Short,90s,F,18-24,college-grad student', 'Comedy,Short,90s,F,25-34,CA', 'Comedy,30s,Long,F,25-34,CA', 'Comedy,Short,90s,M,35-44,technician-engineer']\n",
    "labels = ['Comedy', 'Short', '30s', 'retired', 'PA', 'Long', 'retired', 'M', 'F', 'TX', 'NC', '90s', 'M', 'PA', 'F', '35-44', '18-24', '25-34', '18-24', '25-34', '35-44', '35-44', '50-55', '45-49', '25-34', '>56', '50-55', 'CA', 'MA', 'MN', 'executive-managerial', 'CA', 'NY', 'college-grad student', 'CA', 'M', '90s', '>56', 'Long', '>56', 'M', 'M', 'Long', 'Long', 'Long', '90s', '90s', 'M', '>56', 'M', 'college-grad student', 'CA', 'CA', 'technician-engineer']\n",
    "parents = ['', 'Comedy', 'Comedy', 'Comedy,30s', 'Comedy,30s', 'Comedy,30s', 'Comedy,30s,Long', 'Comedy,30s,Long', 'Comedy,30s,Long', 'Comedy,Short', 'Comedy,Short', 'Comedy,Short', 'Comedy,Short,90s', 'Comedy,Short,90s', 'Comedy,Short,90s', 'Comedy,Short,90s,M', 'Comedy,Short,90s,M', 'Comedy,Short,90s,M', 'Comedy,Short,90s,F', 'Comedy,Short,90s,F', 'Comedy,Short,90s,F', 'Comedy,30s,Long,M', 'Comedy,30s,Long,M', 'Comedy,30s,Long,M', 'Comedy,30s,Long,F', 'Comedy,30s,Long,F', 'Comedy,30s,Long,F', 'Comedy,Short,90s,M,25-34', 'Comedy,Short,90s,M,25-34', 'Comedy,Short,90s,M,25-34', 'Comedy,30s,Long,M,35-44', 'Comedy,30s,Long,M,35-44', 'Comedy,30s,Long,M,35-44', 'Comedy,Short,90s,M,18-24', 'Comedy,Short,90s,M,18-24', 'Comedy,Short,TX', 'Comedy,Short,TX', 'Comedy,30s,retired', 'Comedy,30s,retired', 'Comedy,30s,retired,Long', 'Comedy,30s,retired,Long', 'Comedy,30s,PA', 'Comedy,30s,PA', 'Comedy,30s,PA,M', 'Comedy,30s,retired,>56', 'Comedy,Short,NC', 'Comedy,Short,TX,M', 'Comedy,30s,PA,Long', 'Comedy,30s,Long,retired', 'Comedy,Short,TX,90s', 'Comedy,Short,90s,F,18-24', 'Comedy,Short,90s,F,25-34', 'Comedy,30s,Long,F,25-34', 'Comedy,Short,90s,M,35-44']\n",
    "\n",
    "import plotly.graph_objects as go\n",
    "\n",
    "color_discrete_sequence = ['', '#FFAA00', '#2D5F91','#819FBD','#819FBD','#91D4D2', '#96BEE6', '#C0D8F0','#E8655F','#F1A39F','#48B7B4']\n",
    "color_discrete_sequence = [''] + list(sns.color_palette().as_hex())\n",
    "\n",
    "fig =go.Figure(go.Sunburst(\n",
    "    ids=ids,\n",
    "    labels=labels,\n",
    "    parents=parents,\n",
    "    #values=[6031, 5907, 5903, 4238, 800, 1665, 296, 828, 549, 1514, 289, 83, 72, 38, ],\n",
    "    # marker=dict(colors=color_discrete_sequence)\n",
    "))\n",
    "fig.update_layout(margin = dict(t=0, l=0, r=0, b=0))\n",
    "\n",
    "fig.show()"
   ]
  },
  {
   "cell_type": "code",
   "execution_count": 67,
   "id": "bf24b09e-0d50-490e-bff6-e311de125cfc",
   "metadata": {},
   "outputs": [
    {
     "data": {
      "text/html": [
       "<iframe\n",
       "    scrolling=\"no\"\n",
       "    width=\"100%\"\n",
       "    height=\"545px\"\n",
       "    src=\"iframe_figures/figure_67.html\"\n",
       "    frameborder=\"0\"\n",
       "    allowfullscreen\n",
       "></iframe>\n"
      ]
     },
     "metadata": {},
     "output_type": "display_data"
    }
   ],
   "source": [
    "ids = ['H', 'Comedy', 'Comedy,Short', 'Comedy,30s', 'Comedy,30s,retired', 'Comedy,30s,PA', 'Comedy,30s,Long', 'Comedy,30s,Long,retired', 'Comedy,30s,Long,M', 'Comedy,30s,Long,F', 'Comedy,Short,TX', 'Comedy,Short,NC', 'Comedy,Short,90s', 'Comedy,Short,90s,M', 'Comedy,Short,90s,PA', 'Comedy,Short,90s,F', 'Comedy,Short,90s,M,35-44', 'Comedy,Short,90s,M,18-24', 'Comedy,Short,90s,M,25-34', 'Comedy,Short,90s,F,18-24', 'Comedy,Short,90s,F,25-34', 'Comedy,Short,90s,F,35-44', 'Comedy,30s,Long,M,35-44', 'Comedy,30s,Long,M,50-55', 'Comedy,30s,Long,M,45-49', 'Comedy,30s,Long,F,25-34', 'Comedy,30s,Long,F,>56', 'Comedy,30s,Long,F,50-55', 'Comedy,Short,90s,M,25-34,CA', 'Comedy,Short,90s,M,25-34,MA', 'Comedy,Short,90s,M,25-34,MN', 'Comedy,30s,Long,M,35-44,executive-managerial', 'Comedy,30s,Long,M,35-44,CA', 'Comedy,30s,Long,M,35-44,NY', 'Comedy,Short,90s,M,18-24,college-grad student', 'Comedy,Short,90s,M,18-24,CA', 'Comedy,Short,TX,M', 'Comedy,Short,TX,90s', 'Comedy,30s,retired,>56', 'Comedy,30s,retired,Long', 'Comedy,30s,retired,Long,>56', 'Comedy,30s,retired,Long,M', 'Comedy,30s,PA,M', 'Comedy,30s,PA,Long', 'Comedy,30s,PA,M,Long', 'Comedy,30s,retired,>56,Long', 'Comedy,Short,NC,90s', 'Comedy,Short,TX,M,90s', 'Comedy,30s,PA,Long,M', 'Comedy,30s,Long,retired,>56', 'Comedy,Short,TX,90s,M', 'Comedy,Short,90s,F,18-24,college-grad student', 'Comedy,Short,90s,F,25-34,CA', 'Comedy,30s,Long,F,25-34,CA', 'Comedy,Short,90s,M,35-44,technician-engineer']\n",
    "labels = ['μ > 4', 'Comedy', 'Short', '30s', 'retired', 'PA', 'Long', 'retired', 'M', 'F', 'TX', 'NC', '90s', 'M', 'PA', 'F', '35-44', '18-24', '25-34', '18-24', '25-34', '35-44', '35-44', '50-55', '45-49', '25-34', '>56', '50-55', 'CA', 'MA', 'MN', 'executive-managerial', 'CA', 'NY', 'college-grad student', 'CA', 'M', '90s', '>56', 'Long', '>56', 'M', 'M', 'Long', 'Long', 'Long', '90s', '90s', 'M', '>56', 'M', 'college-grad student', 'CA', 'CA', 'technician-engineer']\n",
    "parents = ['', 'H', 'Comedy', 'Comedy', 'Comedy,30s', 'Comedy,30s', 'Comedy,30s', 'Comedy,30s,Long', 'Comedy,30s,Long', 'Comedy,30s,Long', 'Comedy,Short', 'Comedy,Short', 'Comedy,Short', 'Comedy,Short,90s', 'Comedy,Short,90s', 'Comedy,Short,90s', 'Comedy,Short,90s,M', 'Comedy,Short,90s,M', 'Comedy,Short,90s,M', 'Comedy,Short,90s,F', 'Comedy,Short,90s,F', 'Comedy,Short,90s,F', 'Comedy,30s,Long,M', 'Comedy,30s,Long,M', 'Comedy,30s,Long,M', 'Comedy,30s,Long,F', 'Comedy,30s,Long,F', 'Comedy,30s,Long,F', 'Comedy,Short,90s,M,25-34', 'Comedy,Short,90s,M,25-34', 'Comedy,Short,90s,M,25-34', 'Comedy,30s,Long,M,35-44', 'Comedy,30s,Long,M,35-44', 'Comedy,30s,Long,M,35-44', 'Comedy,Short,90s,M,18-24', 'Comedy,Short,90s,M,18-24', 'Comedy,Short,TX', 'Comedy,Short,TX', 'Comedy,30s,retired', 'Comedy,30s,retired', 'Comedy,30s,retired,Long', 'Comedy,30s,retired,Long', 'Comedy,30s,PA', 'Comedy,30s,PA', 'Comedy,30s,PA,M', 'Comedy,30s,retired,>56', 'Comedy,Short,NC', 'Comedy,Short,TX,M', 'Comedy,30s,PA,Long', 'Comedy,30s,Long,retired', 'Comedy,Short,TX,90s', 'Comedy,Short,90s,F,18-24', 'Comedy,Short,90s,F,25-34', 'Comedy,30s,Long,F,25-34', 'Comedy,Short,90s,M,35-44']\n",
    "\n",
    "import plotly.graph_objects as go\n",
    "\n",
    "color_discrete_sequence = ['', '#FFAA00', '#2D5F91','#819FBD','#819FBD','#91D4D2', '#96BEE6', '#C0D8F0','#E8655F','#F1A39F','#48B7B4']\n",
    "color_discrete_sequence = [''] + list(sns.color_palette().as_hex())\n",
    "\n",
    "fig =go.Figure(go.Sunburst(\n",
    "    ids=ids,\n",
    "    labels=labels,\n",
    "    parents=parents,\n",
    "    #values=[6031, 5907, 5903, 4238, 800, 1665, 296, 828, 549, 1514, 289, 83, 72, 38, ],\n",
    "    # marker=dict(colors=color_discrete_sequence)\n",
    "))\n",
    "fig.update_layout(margin = dict(t=0, l=0, r=0, b=0))\n",
    "\n",
    "fig.show()"
   ]
  },
  {
   "cell_type": "code",
   "execution_count": 104,
   "id": "c8b6b5d1-b46b-4e70-b6cd-54b1904616c5",
   "metadata": {},
   "outputs": [
    {
     "data": {
      "text/html": [
       "<iframe\n",
       "    scrolling=\"no\"\n",
       "    width=\"100%\"\n",
       "    height=\"545px\"\n",
       "    src=\"iframe_figures/figure_104.html\"\n",
       "    frameborder=\"0\"\n",
       "    allowfullscreen\n",
       "></iframe>\n"
      ]
     },
     "metadata": {},
     "output_type": "display_data"
    }
   ],
   "source": [
    "ids = ['H', 'Comedy', 'Comedy,30s', 'Comedy,Short', 'Comedy,30s,PA', 'Comedy,30s,Long', 'Comedy,30s,clerical-admin', 'Comedy,30s,Long,F', 'Comedy,30s,Long,M', 'Comedy,30s,Long,retired', 'Comedy,Short,OR', 'Comedy,Short,NC', 'Comedy,Short,90s', 'Comedy,Short,90s,PA', 'Comedy,Short,90s,M', 'Comedy,Short,90s,F', 'Comedy,Short,90s,M,25-34', 'Comedy,Short,90s,M,18-24', 'Comedy,Short,90s,M,35-44', 'Comedy,Short,90s,F,35-44', 'Comedy,Short,90s,F,18-24', 'Comedy,Short,90s,F,25-34', 'Comedy,30s,Long,M,45-49', 'Comedy,30s,Long,M,50-55', 'Comedy,30s,Long,M,35-44', 'Comedy,30s,Long,F,>56', 'Comedy,30s,Long,F,25-34', 'Comedy,30s,Long,F,50-55', 'Comedy,Short,90s,M,25-34,CA', 'Comedy,Short,90s,M,25-34,MA', 'Comedy,Short,90s,M,25-34,MN', 'Comedy,30s,Long,M,35-44,CA', 'Comedy,30s,Long,M,35-44,executive-managerial', 'Comedy,30s,Long,M,35-44,NY', 'Comedy,Short,90s,M,18-24,college-grad student', 'Comedy,Short,90s,M,18-24,CA', 'Comedy,30s,clerical-admin,Long', 'Comedy,30s,clerical-admin,F', 'Comedy,Short,OR,M', 'Comedy,Short,OR,90s', 'Comedy,30s,PA,M', 'Comedy,30s,PA,Long', 'Comedy,30s,PA,M,Long', 'Comedy,30s,clerical-admin,F,Long', 'Comedy,Short,NC,90s', 'Comedy,Short,OR,M,90s', 'Comedy,30s,PA,Long,M', 'Comedy,30s,Long,retired,>56', 'Comedy,Short,OR,90s,M', 'Comedy,Short,90s,F,18-24,college-grad student', 'Comedy,30s,clerical-admin,Long,F', 'Comedy,Short,90s,F,25-34,CA', 'Comedy,30s,Long,F,25-34,CA', 'Comedy,Short,90s,M,35-44,technician-engineer']\n",
    "labels = ['μ > 4', 'Comedy', '30s', 'Short', 'PA', 'Long', 'clerical-admin', 'F', 'M', 'retired', 'OR', 'NC', '90s', 'PA', 'M', 'F', '25-34', '18-24', '35-44', '35-44', '18-24', '25-34', '45-49', '50-55', '35-44', '>56', '25-34', '50-55', 'CA', 'MA', 'MN', 'CA', 'executive-managerial', 'NY', 'college-grad student', 'CA', 'Long', 'F', 'M', '90s', 'M', 'Long', 'Long', 'Long', '90s', '90s', 'M', '>56', 'M', 'college-grad student', 'F', 'CA', 'CA', 'technician-engineer']\n",
    "color_sequence = ['', '#636EFA', '#00CC96', '#EF553B', '#FF6692', '#EF553B', '#19D3F3', '#AB63FA', '#AB63FA', '#19D3F3', '#FF6692', '#FF6692', '#00CC96', '#FF6692', '#AB63FA', '#AB63FA', '#FFA15A', '#FFA15A', '#FFA15A', '#FFA15A', '#FFA15A', '#FFA15A', '#FFA15A', '#FFA15A', '#FFA15A', '#FFA15A', '#FFA15A', '#FFA15A', '#FF6692', '#FF6692', '#FF6692', '#FF6692', '#19D3F3', '#FF6692', '#19D3F3', '#FF6692', '#EF553B', '#AB63FA', '#AB63FA', '#00CC96', '#AB63FA', '#EF553B', '#EF553B', '#EF553B', '#00CC96', '#00CC96', '#AB63FA', '#FFA15A', '#AB63FA', '#19D3F3', '#AB63FA', '#FF6692', '#FF6692', '#19D3F3']\n",
    "parents = ['', 'H', 'Comedy', 'Comedy', 'Comedy,30s', 'Comedy,30s', 'Comedy,30s', 'Comedy,30s,Long', 'Comedy,30s,Long', 'Comedy,30s,Long', 'Comedy,Short', 'Comedy,Short', 'Comedy,Short', 'Comedy,Short,90s', 'Comedy,Short,90s', 'Comedy,Short,90s', 'Comedy,Short,90s,M', 'Comedy,Short,90s,M', 'Comedy,Short,90s,M', 'Comedy,Short,90s,F', 'Comedy,Short,90s,F', 'Comedy,Short,90s,F', 'Comedy,30s,Long,M', 'Comedy,30s,Long,M', 'Comedy,30s,Long,M', 'Comedy,30s,Long,F', 'Comedy,30s,Long,F', 'Comedy,30s,Long,F', 'Comedy,Short,90s,M,25-34', 'Comedy,Short,90s,M,25-34', 'Comedy,Short,90s,M,25-34', 'Comedy,30s,Long,M,35-44', 'Comedy,30s,Long,M,35-44', 'Comedy,30s,Long,M,35-44', 'Comedy,Short,90s,M,18-24', 'Comedy,Short,90s,M,18-24', 'Comedy,30s,clerical-admin', 'Comedy,30s,clerical-admin', 'Comedy,Short,OR', 'Comedy,Short,OR', 'Comedy,30s,PA', 'Comedy,30s,PA', 'Comedy,30s,PA,M', 'Comedy,30s,clerical-admin,F', 'Comedy,Short,NC', 'Comedy,Short,OR,M', 'Comedy,30s,PA,Long', 'Comedy,30s,Long,retired', 'Comedy,Short,OR,90s', 'Comedy,Short,90s,F,18-24', 'Comedy,30s,clerical-admin,Long', 'Comedy,Short,90s,F,25-34', 'Comedy,30s,Long,F,25-34', 'Comedy,Short,90s,M,35-44']\n",
    "\n",
    "import plotly.graph_objects as go\n",
    "\n",
    "color_discrete_sequence = ['', '#FFAA00', '#2D5F91','#819FBD','#819FBD','#91D4D2', '#96BEE6', '#C0D8F0','#E8655F','#F1A39F','#48B7B4']\n",
    "color_discrete_sequence = [''] + list(sns.color_palette().as_hex())\n",
    "\n",
    "fig =go.Figure(go.Sunburst(\n",
    "    ids=ids,\n",
    "    labels=labels,\n",
    "    parents=parents,\n",
    "    #values=[6031, 5907, 5903, 4238, 800, 1665, 296, 828, 549, 1514, 289, 83, 72, 38, ],\n",
    "    marker=dict(colors=color_sequence),\n",
    "))\n",
    "fig.update_layout(margin=dict(t=0, l=0, r=0, b=0))\n",
    "fig.update_traces(leaf=dict(opacity = 1))\n",
    "\n",
    "\n",
    "\n",
    "\n",
    "fig.show()"
   ]
  },
  {
   "cell_type": "code",
   "execution_count": 95,
   "id": "486d3997-83eb-4375-832c-baeaba066f3a",
   "metadata": {},
   "outputs": [
    {
     "data": {
      "text/html": [
       "<iframe\n",
       "    scrolling=\"no\"\n",
       "    width=\"100%\"\n",
       "    height=\"545px\"\n",
       "    src=\"iframe_figures/figure_95.html\"\n",
       "    frameborder=\"0\"\n",
       "    allowfullscreen\n",
       "></iframe>\n"
      ]
     },
     "metadata": {},
     "output_type": "display_data"
    }
   ],
   "source": [
    "fig = go.Figure()\n",
    "\n",
    "fig.add_trace(go.Scatter(\n",
    "    x=[1, 2, 3, 4, 5],\n",
    "    y=[1, 2, 3, 4, 5],\n",
    "    name=\"Genre\"\n",
    "))\n",
    "\n",
    "fig.add_trace(go.Scatter(\n",
    "    x=[1, 2, 3, 4, 5],\n",
    "    y=[5, 4, 3, 2, 1],\n",
    "    name=\"Runtime minutes\"\n",
    "))\n",
    "\n",
    "fig.add_trace(go.Scatter(\n",
    "    x=[1, 2, 3, 4, 5],\n",
    "    y=[5, 4, 3, 2, 1],\n",
    "    name=\"Year\"\n",
    "))\n",
    "\n",
    "fig.add_trace(go.Scatter(\n",
    "    x=[1, 2, 3, 4, 5],\n",
    "    y=[5, 4, 3, 2, 1],\n",
    "    name=\"Gender\"\n",
    "))\n",
    "\n",
    "fig.add_trace(go.Scatter(\n",
    "    x=[1, 2, 3, 4, 5],\n",
    "    y=[5, 4, 3, 2, 1],\n",
    "    name=\"Age\"\n",
    "))\n",
    "\n",
    "fig.add_trace(go.Scatter(\n",
    "    x=[1, 2, 3, 4, 5],\n",
    "    y=[5, 4, 3, 2, 1],\n",
    "    name=\"Occupation\"\n",
    "))\n",
    "\n",
    "fig.add_trace(go.Scatter(\n",
    "    x=[1, 2, 3, 4, 5],\n",
    "    y=[5, 4, 3, 2, 1],\n",
    "    name=\"Location\"\n",
    "))\n",
    "\n",
    "fig.update_layout(legend_title_text='Attribute')\n",
    "fig.show()"
   ]
  },
  {
   "cell_type": "code",
   "execution_count": 72,
   "id": "77fa41a8-611c-4b8f-a8b1-934e35b56aea",
   "metadata": {},
   "outputs": [
    {
     "data": {
      "text/plain": [
       "['#636EFA',\n",
       " '#EF553B',\n",
       " '#00CC96',\n",
       " '#AB63FA',\n",
       " '#FFA15A',\n",
       " '#19D3F3',\n",
       " '#FF6692',\n",
       " '#B6E880',\n",
       " '#FF97FF',\n",
       " '#FECB52']"
      ]
     },
     "execution_count": 72,
     "metadata": {},
     "output_type": "execute_result"
    }
   ],
   "source": [
    "import plotly\n",
    "plotly.colors.qualitative.Plotly"
   ]
  },
  {
   "cell_type": "code",
   "execution_count": 49,
   "id": "bc8eaad7-d1f7-497d-85b6-d72bd20537d9",
   "metadata": {},
   "outputs": [
    {
     "data": {
      "text/html": [
       "<svg  width=\"550\" height=\"55\"><rect x=\"0\" y=\"0\" width=\"55\" height=\"55\" style=\"fill:#1f77b4;stroke-width:2;stroke:rgb(255,255,255)\"/><rect x=\"55\" y=\"0\" width=\"55\" height=\"55\" style=\"fill:#ff7f0e;stroke-width:2;stroke:rgb(255,255,255)\"/><rect x=\"110\" y=\"0\" width=\"55\" height=\"55\" style=\"fill:#2ca02c;stroke-width:2;stroke:rgb(255,255,255)\"/><rect x=\"165\" y=\"0\" width=\"55\" height=\"55\" style=\"fill:#d62728;stroke-width:2;stroke:rgb(255,255,255)\"/><rect x=\"220\" y=\"0\" width=\"55\" height=\"55\" style=\"fill:#9467bd;stroke-width:2;stroke:rgb(255,255,255)\"/><rect x=\"275\" y=\"0\" width=\"55\" height=\"55\" style=\"fill:#8c564b;stroke-width:2;stroke:rgb(255,255,255)\"/><rect x=\"330\" y=\"0\" width=\"55\" height=\"55\" style=\"fill:#e377c2;stroke-width:2;stroke:rgb(255,255,255)\"/><rect x=\"385\" y=\"0\" width=\"55\" height=\"55\" style=\"fill:#7f7f7f;stroke-width:2;stroke:rgb(255,255,255)\"/><rect x=\"440\" y=\"0\" width=\"55\" height=\"55\" style=\"fill:#bcbd22;stroke-width:2;stroke:rgb(255,255,255)\"/><rect x=\"495\" y=\"0\" width=\"55\" height=\"55\" style=\"fill:#17becf;stroke-width:2;stroke:rgb(255,255,255)\"/></svg>"
      ],
      "text/plain": [
       "[(0.12156862745098039, 0.4666666666666667, 0.7058823529411765),\n",
       " (1.0, 0.4980392156862745, 0.054901960784313725),\n",
       " (0.17254901960784313, 0.6274509803921569, 0.17254901960784313),\n",
       " (0.8392156862745098, 0.15294117647058825, 0.1568627450980392),\n",
       " (0.5803921568627451, 0.403921568627451, 0.7411764705882353),\n",
       " (0.5490196078431373, 0.33725490196078434, 0.29411764705882354),\n",
       " (0.8901960784313725, 0.4666666666666667, 0.7607843137254902),\n",
       " (0.4980392156862745, 0.4980392156862745, 0.4980392156862745),\n",
       " (0.7372549019607844, 0.7411764705882353, 0.13333333333333333),\n",
       " (0.09019607843137255, 0.7450980392156863, 0.8117647058823529)]"
      ]
     },
     "execution_count": 49,
     "metadata": {},
     "output_type": "execute_result"
    }
   ],
   "source": [
    "import seaborn as sns\n",
    "sns.color_palette()"
   ]
  },
  {
   "cell_type": "code",
   "execution_count": 53,
   "id": "5bf45db9-254f-4a2a-bd7e-cd197861c0b4",
   "metadata": {},
   "outputs": [
    {
     "data": {
      "text/plain": [
       "['#1f77b4',\n",
       " '#ff7f0e',\n",
       " '#2ca02c',\n",
       " '#d62728',\n",
       " '#9467bd',\n",
       " '#8c564b',\n",
       " '#e377c2',\n",
       " '#7f7f7f',\n",
       " '#bcbd22',\n",
       " '#17becf']"
      ]
     },
     "execution_count": 53,
     "metadata": {},
     "output_type": "execute_result"
    }
   ],
   "source": [
    "list(sns.color_palette().as_hex())"
   ]
  },
  {
   "cell_type": "code",
   "execution_count": 27,
   "id": "578ffef7-44c9-43fe-8420-a4593efc6be6",
   "metadata": {},
   "outputs": [
    {
     "data": {
      "text/html": [
       "<iframe\n",
       "    scrolling=\"no\"\n",
       "    width=\"100%\"\n",
       "    height=\"545px\"\n",
       "    src=\"iframe_figures/figure_27.html\"\n",
       "    frameborder=\"0\"\n",
       "    allowfullscreen\n",
       "></iframe>\n"
      ]
     },
     "metadata": {},
     "output_type": "display_data"
    }
   ],
   "source": [
    "import plotly.graph_objects as go\n",
    "\n",
    "fig =go.Figure(go.Sunburst(\n",
    "    ids=['Comedy'],\n",
    "    labels=['Comedy'],\n",
    "    parents=[''],\n",
    "    #values=[6031, 5907, 5903, 4238, 800, 1665, 296, 828, 549, 1514, 289, 83, 72, 38, ],\n",
    "    branchvalues=\"total\",\n",
    "))\n",
    "fig.update_layout(margin = dict(t=0, l=0, r=0, b=0))\n",
    "fig.update_traces(\n",
    "    marker_colors=[\n",
    "        ['red']\n",
    "    ],\n",
    "    leaf_opacity=1,\n",
    ")\n",
    "\n",
    "fig.show()"
   ]
  },
  {
   "cell_type": "code",
   "execution_count": 43,
   "id": "15cd6464-d73e-4ab0-b9f1-dedeb80aee11",
   "metadata": {},
   "outputs": [
    {
     "data": {
      "text/html": [
       "<iframe\n",
       "    scrolling=\"no\"\n",
       "    width=\"100%\"\n",
       "    height=\"545px\"\n",
       "    src=\"iframe_figures/figure_43.html\"\n",
       "    frameborder=\"0\"\n",
       "    allowfullscreen\n",
       "></iframe>\n"
      ]
     },
     "metadata": {},
     "output_type": "display_data"
    }
   ],
   "source": [
    "import plotly.graph_objects as go\n",
    "\n",
    "fig =go.Figure(go.Sunburst(\n",
    "    ids=['A', 'B', 'C'],\n",
    "    labels=['A', 'B', 'C'],\n",
    "    parents=['', 'A', 'A'],\n",
    "    values=[100, 80, 20],\n",
    "    branchvalues=\"total\",\n",
    "))\n",
    "fig.update_layout(margin = dict(t=0, l=0, r=0, b=0))\n",
    "\n",
    "fig.show()"
   ]
  },
  {
   "cell_type": "code",
   "execution_count": 34,
   "id": "feefc539-f822-40c0-afb6-055073324711",
   "metadata": {},
   "outputs": [
    {
     "data": {
      "text/html": [
       "<iframe\n",
       "    scrolling=\"no\"\n",
       "    width=\"100%\"\n",
       "    height=\"545px\"\n",
       "    src=\"iframe_figures/figure_34.html\"\n",
       "    frameborder=\"0\"\n",
       "    allowfullscreen\n",
       "></iframe>\n"
      ]
     },
     "metadata": {},
     "output_type": "display_data"
    }
   ],
   "source": [
    "import plotly.graph_objects as go\n",
    "\n",
    "fig =go.Figure(go.Sunburst(\n",
    " ids=[\n",
    "    \"North America\", \"Europe\", \"Australia\", \"North America - Football\", \"Soccer\",\n",
    "    \"North America - Rugby\", \"Europe - Football\", \"Rugby\",\n",
    "    \"Europe - American Football\",\"Australia - Football\", \"Association\",\n",
    "    \"Australian Rules\", \"Autstralia - American Football\", \"Australia - Rugby\",\n",
    "    \"Rugby League\", \"Rugby Union\"\n",
    "  ],\n",
    "  labels= [\n",
    "    \"North<br>America\", \"Europe\", \"Australia\", \"Football\", \"Soccer\", \"Rugby\",\n",
    "    \"Football\", \"Rugby\", \"American<br>Football\", \"Football\", \"Association\",\n",
    "    \"Australian<br>Rules\", \"American<br>Football\", \"Rugby\", \"Rugby<br>League\",\n",
    "    \"Rugby<br>Union\"\n",
    "  ],\n",
    "  parents=[\n",
    "    \"\", \"\", \"\", \"North America\", \"North America\", \"North America\", \"Europe\",\n",
    "    \"Europe\", \"Europe\",\"Australia\", \"Australia - Football\", \"Australia - Football\",\n",
    "    \"Australia - Football\", \"Australia - Football\", \"Australia - Rugby\",\n",
    "    \"Australia - Rugby\"\n",
    "  ],\n",
    "    values=[i for i in range(16, 0, -1)]\n",
    "))\n",
    "fig.update_layout(margin = dict(t=0, l=0, r=0, b=0))\n",
    "\n",
    "fig.show()"
   ]
  },
  {
   "cell_type": "code",
   "execution_count": 31,
   "id": "1ead70c0-f940-49ad-8078-87d46b7a0c66",
   "metadata": {},
   "outputs": [
    {
     "data": {
      "text/plain": [
       "16"
      ]
     },
     "execution_count": 31,
     "metadata": {},
     "output_type": "execute_result"
    }
   ],
   "source": [
    "len([\n",
    "    \"\", \"\", \"\", \"North America\", \"North America\", \"North America\", \"Europe\",\n",
    "    \"Europe\", \"Europe\",\"Australia\", \"Australia - Football\", \"Australia - Football\",\n",
    "    \"Australia - Football\", \"Australia - Football\", \"Australia - Rugby\",\n",
    "    \"Australia - Rugby\"\n",
    "  ])"
   ]
  },
  {
   "cell_type": "code",
   "execution_count": 33,
   "id": "d6c8872f-07dd-4544-a3cc-eb895d2259ae",
   "metadata": {},
   "outputs": [
    {
     "data": {
      "text/plain": [
       "[16, 15, 14, 13, 12, 11, 10, 9, 8, 7, 6, 5, 4, 3, 2, 1]"
      ]
     },
     "execution_count": 33,
     "metadata": {},
     "output_type": "execute_result"
    }
   ],
   "source": [
    "[i for i in range(16, 0, -1)]"
   ]
  },
  {
   "cell_type": "code",
   "execution_count": 4,
   "id": "8f20195d-a5d6-4482-bad2-e6a20af19136",
   "metadata": {},
   "outputs": [
    {
     "data": {
      "text/html": [
       "<div>\n",
       "<style scoped>\n",
       "    .dataframe tbody tr th:only-of-type {\n",
       "        vertical-align: middle;\n",
       "    }\n",
       "\n",
       "    .dataframe tbody tr th {\n",
       "        vertical-align: top;\n",
       "    }\n",
       "\n",
       "    .dataframe thead th {\n",
       "        text-align: right;\n",
       "    }\n",
       "</style>\n",
       "<table border=\"1\" class=\"dataframe\">\n",
       "  <thead>\n",
       "    <tr style=\"text-align: right;\">\n",
       "      <th></th>\n",
       "      <th>total_bill</th>\n",
       "      <th>tip</th>\n",
       "      <th>sex</th>\n",
       "      <th>smoker</th>\n",
       "      <th>day</th>\n",
       "      <th>time</th>\n",
       "      <th>size</th>\n",
       "    </tr>\n",
       "  </thead>\n",
       "  <tbody>\n",
       "    <tr>\n",
       "      <th>0</th>\n",
       "      <td>16.99</td>\n",
       "      <td>1.01</td>\n",
       "      <td>Female</td>\n",
       "      <td>No</td>\n",
       "      <td>Sun</td>\n",
       "      <td>Dinner</td>\n",
       "      <td>2</td>\n",
       "    </tr>\n",
       "    <tr>\n",
       "      <th>1</th>\n",
       "      <td>10.34</td>\n",
       "      <td>1.66</td>\n",
       "      <td>Male</td>\n",
       "      <td>No</td>\n",
       "      <td>Sun</td>\n",
       "      <td>Dinner</td>\n",
       "      <td>3</td>\n",
       "    </tr>\n",
       "    <tr>\n",
       "      <th>2</th>\n",
       "      <td>21.01</td>\n",
       "      <td>3.50</td>\n",
       "      <td>Male</td>\n",
       "      <td>No</td>\n",
       "      <td>Sun</td>\n",
       "      <td>Dinner</td>\n",
       "      <td>3</td>\n",
       "    </tr>\n",
       "    <tr>\n",
       "      <th>3</th>\n",
       "      <td>23.68</td>\n",
       "      <td>3.31</td>\n",
       "      <td>Male</td>\n",
       "      <td>No</td>\n",
       "      <td>Sun</td>\n",
       "      <td>Dinner</td>\n",
       "      <td>2</td>\n",
       "    </tr>\n",
       "    <tr>\n",
       "      <th>4</th>\n",
       "      <td>24.59</td>\n",
       "      <td>3.61</td>\n",
       "      <td>Female</td>\n",
       "      <td>No</td>\n",
       "      <td>Sun</td>\n",
       "      <td>Dinner</td>\n",
       "      <td>4</td>\n",
       "    </tr>\n",
       "    <tr>\n",
       "      <th>...</th>\n",
       "      <td>...</td>\n",
       "      <td>...</td>\n",
       "      <td>...</td>\n",
       "      <td>...</td>\n",
       "      <td>...</td>\n",
       "      <td>...</td>\n",
       "      <td>...</td>\n",
       "    </tr>\n",
       "    <tr>\n",
       "      <th>239</th>\n",
       "      <td>29.03</td>\n",
       "      <td>5.92</td>\n",
       "      <td>Male</td>\n",
       "      <td>No</td>\n",
       "      <td>Sat</td>\n",
       "      <td>Dinner</td>\n",
       "      <td>3</td>\n",
       "    </tr>\n",
       "    <tr>\n",
       "      <th>240</th>\n",
       "      <td>27.18</td>\n",
       "      <td>2.00</td>\n",
       "      <td>Female</td>\n",
       "      <td>Yes</td>\n",
       "      <td>Sat</td>\n",
       "      <td>Dinner</td>\n",
       "      <td>2</td>\n",
       "    </tr>\n",
       "    <tr>\n",
       "      <th>241</th>\n",
       "      <td>22.67</td>\n",
       "      <td>2.00</td>\n",
       "      <td>Male</td>\n",
       "      <td>Yes</td>\n",
       "      <td>Sat</td>\n",
       "      <td>Dinner</td>\n",
       "      <td>2</td>\n",
       "    </tr>\n",
       "    <tr>\n",
       "      <th>242</th>\n",
       "      <td>17.82</td>\n",
       "      <td>1.75</td>\n",
       "      <td>Male</td>\n",
       "      <td>No</td>\n",
       "      <td>Sat</td>\n",
       "      <td>Dinner</td>\n",
       "      <td>2</td>\n",
       "    </tr>\n",
       "    <tr>\n",
       "      <th>243</th>\n",
       "      <td>18.78</td>\n",
       "      <td>3.00</td>\n",
       "      <td>Female</td>\n",
       "      <td>No</td>\n",
       "      <td>Thur</td>\n",
       "      <td>Dinner</td>\n",
       "      <td>2</td>\n",
       "    </tr>\n",
       "  </tbody>\n",
       "</table>\n",
       "<p>244 rows × 7 columns</p>\n",
       "</div>"
      ],
      "text/plain": [
       "     total_bill   tip     sex smoker   day    time  size\n",
       "0         16.99  1.01  Female     No   Sun  Dinner     2\n",
       "1         10.34  1.66    Male     No   Sun  Dinner     3\n",
       "2         21.01  3.50    Male     No   Sun  Dinner     3\n",
       "3         23.68  3.31    Male     No   Sun  Dinner     2\n",
       "4         24.59  3.61  Female     No   Sun  Dinner     4\n",
       "..          ...   ...     ...    ...   ...     ...   ...\n",
       "239       29.03  5.92    Male     No   Sat  Dinner     3\n",
       "240       27.18  2.00  Female    Yes   Sat  Dinner     2\n",
       "241       22.67  2.00    Male    Yes   Sat  Dinner     2\n",
       "242       17.82  1.75    Male     No   Sat  Dinner     2\n",
       "243       18.78  3.00  Female     No  Thur  Dinner     2\n",
       "\n",
       "[244 rows x 7 columns]"
      ]
     },
     "execution_count": 4,
     "metadata": {},
     "output_type": "execute_result"
    }
   ],
   "source": [
    "df"
   ]
  },
  {
   "cell_type": "code",
   "execution_count": null,
   "id": "983eff8f-b7fe-4567-af9d-cfc7fbe4d553",
   "metadata": {},
   "outputs": [],
   "source": []
  }
 ],
 "metadata": {
  "kernelspec": {
   "display_name": "Python 3 (ipykernel)",
   "language": "python",
   "name": "python3"
  },
  "language_info": {
   "codemirror_mode": {
    "name": "ipython",
    "version": 3
   },
   "file_extension": ".py",
   "mimetype": "text/x-python",
   "name": "python",
   "nbconvert_exporter": "python",
   "pygments_lexer": "ipython3",
   "version": "3.10.13"
  }
 },
 "nbformat": 4,
 "nbformat_minor": 5
}
