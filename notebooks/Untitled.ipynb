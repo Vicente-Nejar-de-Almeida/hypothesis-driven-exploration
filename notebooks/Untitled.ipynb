{
 "cells": [
  {
   "cell_type": "code",
   "execution_count": 1,
   "id": "0a89b06d-b210-4bff-bde8-eaf051e4c4f2",
   "metadata": {},
   "outputs": [],
   "source": [
    "import numpy as np\n",
    "import pandas as pd\n",
    "\n",
    "import sys\n",
    "sys.path.append(\"..\")\n",
    "\n",
    "from experiments.utils import compute_significance\n",
    "\n",
    "from hypothesis_exploration.user_data_model import Dataset, Group, coverage, diversity\n",
    "from hypothesis_exploration.hypothesis_testing import HypothesisTest\n",
    "from hypothesis_exploration.alpha_investing import covdiv_alpha\n",
    "\n",
    "from datasets.MovieLens import params as movie_params"
   ]
  },
  {
   "cell_type": "code",
   "execution_count": 2,
   "id": "ced5ef1b-f2f5-4c65-8613-2e101d747d24",
   "metadata": {},
   "outputs": [],
   "source": [
    "dataframe = pd.read_csv('../datasets/MovieLens/MovieLens.csv')\n",
    "\n",
    "dataset = Dataset(\n",
    "    dataframe=dataframe,\n",
    "    multi_value_attribute_names=movie_params.multi_value_attribute_names,\n",
    "    attributes=movie_params.attributes,\n",
    "    action_dimension=movie_params.action_dimension,\n",
    "    action_dimension_min=movie_params.action_dimension_min,\n",
    "    action_dimension_max=movie_params.action_dimension_max\n",
    ")"
   ]
  },
  {
   "cell_type": "code",
   "execution_count": 29,
   "id": "d16a5e78-9761-41a5-8e18-aaa3f2a44a2d",
   "metadata": {},
   "outputs": [],
   "source": [
    "def run_covdiv(predicates, wealth, h):\n",
    "    g_in = Group(dataset=dataset, predicates=predicates)\n",
    "    G_out, wealth = covdiv_alpha(\n",
    "        D=dataset,\n",
    "        g_in=g_in,\n",
    "        h=h,\n",
    "        alpha=alpha,\n",
    "        n=n,\n",
    "        wealth=wealth,\n",
    "        gamma=gamma,\n",
    "        lambd=lambd,\n",
    "        request_history=request_history\n",
    "    )\n",
    "    return G_out, wealth"
   ]
  },
  {
   "cell_type": "code",
   "execution_count": 4,
   "id": "f8957438-8a83-434c-a3e7-50869e5d602a",
   "metadata": {},
   "outputs": [
    {
     "data": {
      "text/plain": [
       "runtime_minutes\n",
       "Long         989970\n",
       "Short          3371\n",
       "Very Long      3315\n",
       "Name: count, dtype: int64"
      ]
     },
     "execution_count": 4,
     "metadata": {},
     "output_type": "execute_result"
    }
   ],
   "source": [
    "dataframe.runtime_minutes.value_counts()"
   ]
  },
  {
   "cell_type": "code",
   "execution_count": 5,
   "id": "64c06792-14c7-4f69-a486-d3723b5b3dab",
   "metadata": {},
   "outputs": [],
   "source": [
    "eta = 1\n",
    "alpha = 0.05\n",
    "gamma = 500\n",
    "lambd = 1\n",
    "n = 3\n",
    "request_history = {}\n",
    "\n",
    "wealth = eta * alpha"
   ]
  },
  {
   "cell_type": "code",
   "execution_count": null,
   "id": "90b74c4c-08cf-4ba2-a4cf-d710991420dc",
   "metadata": {},
   "outputs": [],
   "source": []
  },
  {
   "cell_type": "code",
   "execution_count": 38,
   "id": "93a45432-bcdb-4463-b70a-3dc1848f7c52",
   "metadata": {},
   "outputs": [],
   "source": [
    "h1 = HypothesisTest(aggregation='mean', null_value=4.0, alternative='greater', n_sample=HypothesisTest.ONE_SAMPLE)\n",
    "h2 = HypothesisTest(aggregation='mean', null_value=3.5, alternative='less', n_sample=HypothesisTest.ONE_SAMPLE)\n",
    "h3 = HypothesisTest(aggregation='variance', null_value=1, alternative='greater', n_sample=HypothesisTest.ONE_SAMPLE)"
   ]
  },
  {
   "cell_type": "code",
   "execution_count": 30,
   "id": "d0b21953-9ec5-4f65-8597-669e7d16a388",
   "metadata": {},
   "outputs": [
    {
     "name": "stdout",
     "output_type": "stream",
     "text": [
      "genre:Drama|runtime_minutes:Long\n",
      "location:HI|runtime_minutes:Long\n",
      "location:NE|runtime_minutes:Long\n"
     ]
    }
   ],
   "source": [
    "G_out, wealth = run_covdiv({'runtime_minutes': 'Long'}, wealth, h3)\n",
    "for g in G_out:\n",
    "    print(g)"
   ]
  },
  {
   "cell_type": "code",
   "execution_count": 31,
   "id": "2700c18c-ba6a-405f-a9e8-759855e27212",
   "metadata": {},
   "outputs": [
    {
     "name": "stdout",
     "output_type": "stream",
     "text": [
      "genre:Film-Noir|runtime_minutes:Long\n",
      "runtime_minutes:Long|year:40s\n"
     ]
    }
   ],
   "source": [
    "G_out, wealth = run_covdiv({'runtime_minutes': 'Long'}, wealth, h1)\n",
    "for g in G_out:\n",
    "    print(g)"
   ]
  },
  {
   "cell_type": "code",
   "execution_count": 32,
   "id": "bff48966-2e43-4068-9eb7-8cf71a0c954a",
   "metadata": {},
   "outputs": [
    {
     "name": "stdout",
     "output_type": "stream",
     "text": [
      "runtime_minutes:Long|year:2000s\n",
      "genre:Horror|runtime_minutes:Long\n"
     ]
    }
   ],
   "source": [
    "G_out, wealth = run_covdiv({'runtime_minutes': 'Long'}, wealth, h2)\n",
    "for g in G_out:\n",
    "    print(g)"
   ]
  },
  {
   "cell_type": "code",
   "execution_count": 33,
   "id": "15e73717-0778-415a-aaf4-533487f90234",
   "metadata": {},
   "outputs": [
    {
     "name": "stdout",
     "output_type": "stream",
     "text": [
      "genre:Drama|runtime_minutes:Long|year:30s\n",
      "genre:Drama|runtime_minutes:Long|year:60s\n",
      "genre:Drama|runtime_minutes:Long|year:50s\n"
     ]
    }
   ],
   "source": [
    "G_out, wealth = run_covdiv({'runtime_minutes': 'Long', 'genre': 'Drama'}, wealth, h1)\n",
    "for g in G_out:\n",
    "    print(g)"
   ]
  },
  {
   "cell_type": "code",
   "execution_count": 43,
   "id": "5fda2079-8218-476a-a67c-c3861f23ce7e",
   "metadata": {},
   "outputs": [
    {
     "name": "stdout",
     "output_type": "stream",
     "text": [
      "location:NE|runtime_minutes:Long|year:90s\n",
      "genre:Comedy|location:NE|runtime_minutes:Long\n"
     ]
    }
   ],
   "source": [
    "G_out, wealth = run_covdiv({'runtime_minutes': 'Long', 'location': 'NE'}, wealth, h2)\n",
    "for g in G_out:\n",
    "    print(g)"
   ]
  },
  {
   "cell_type": "code",
   "execution_count": 50,
   "id": "6e1ca6ed-fc31-417f-9425-4c2eef75c493",
   "metadata": {},
   "outputs": [],
   "source": [
    "G_out, wealth = run_covdiv({'runtime_minutes': 'Long', 'location': 'HI'}, wealth, h1)\n",
    "for g in G_out:\n",
    "    print(g)"
   ]
  },
  {
   "cell_type": "code",
   "execution_count": null,
   "id": "4582baa8-6ffb-4037-b03f-4989049d3d04",
   "metadata": {},
   "outputs": [],
   "source": []
  }
 ],
 "metadata": {
  "kernelspec": {
   "display_name": "Python 3 (ipykernel)",
   "language": "python",
   "name": "python3"
  },
  "language_info": {
   "codemirror_mode": {
    "name": "ipython",
    "version": 3
   },
   "file_extension": ".py",
   "mimetype": "text/x-python",
   "name": "python",
   "nbconvert_exporter": "python",
   "pygments_lexer": "ipython3",
   "version": "3.10.13"
  }
 },
 "nbformat": 4,
 "nbformat_minor": 5
}
