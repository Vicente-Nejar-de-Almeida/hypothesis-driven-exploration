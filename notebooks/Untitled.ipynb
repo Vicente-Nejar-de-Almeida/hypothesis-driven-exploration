{
 "cells": [
  {
   "cell_type": "code",
   "execution_count": 1,
   "id": "9970b3ab-9ddc-4451-a143-6ddd87687a98",
   "metadata": {},
   "outputs": [],
   "source": [
    "import random\n",
    "import time\n",
    "import numpy as np\n",
    "import pandas as pd\n",
    "import matplotlib.pyplot as plt\n",
    "import seaborn as sns\n",
    "\n",
    "# import warnings\n",
    "# warnings.filterwarnings(\"error\")\n",
    "\n",
    "import sys\n",
    "sys.path.append(\"..\")\n",
    "\n",
    "from statsmodels.stats.multitest import multipletests\n",
    "\n",
    "from hypothesis_exploration.user_data_model import Dataset, Group, coverage, diversity, jaccard_distance\n",
    "from hypothesis_exploration.hypothesis_testing import HypothesisTest\n",
    "from hypothesis_exploration.alpha_investing import covdiv_alpha, cover_alpha"
   ]
  },
  {
   "cell_type": "code",
   "execution_count": 2,
   "id": "21a29ffb-d026-457c-8777-07f8b92481f0",
   "metadata": {},
   "outputs": [],
   "source": [
    "from datasets.MovieLens import params as movie_params\n",
    "from datasets.BookCrossing import params as book_params\n",
    "from datasets.Yelp import params as yelp_params"
   ]
  },
  {
   "cell_type": "code",
   "execution_count": 3,
   "id": "9d60cb10-7643-4553-9014-6aa80f3ef3aa",
   "metadata": {},
   "outputs": [],
   "source": [
    "def compute_significance(request_history, alpha):\n",
    "    pvals = [v[0] for v in request_history.values()]\n",
    "    rejects = [v[1] for v in request_history.values()]\n",
    "    ground_truth_reject, ground_truth_pvals, _, ground_truth_alphacBonf = multipletests(pvals, alpha=alpha, method='bonferroni')\n",
    "    num_rejects_ground_truth = sum([1 if reject else 0 for reject in ground_truth_reject])\n",
    "    num_rejects = sum([1 if reject else 0 for reject in rejects])\n",
    "    true_positives = sum([1 if reject and reject_ground_truth else 0 for reject, reject_ground_truth in zip(rejects, ground_truth_reject)])\n",
    "    false_positives = sum([1 if reject and not reject_ground_truth else 0 for reject, reject_ground_truth in zip(rejects, ground_truth_reject)])\n",
    "\n",
    "    if num_rejects_ground_truth > 0:\n",
    "        power = true_positives / num_rejects_ground_truth\n",
    "    else:\n",
    "        power = np.nan\n",
    "    \n",
    "    if num_rejects > 0:\n",
    "        fdr = false_positives / num_rejects\n",
    "    else:\n",
    "        fdr = np.nan\n",
    "\n",
    "    return power, fdr\n",
    "\n",
    "\n",
    "def run_alpha_investing(algorithm, has_lambd, **kwargs):\n",
    "    if not has_lambd:\n",
    "        if 'lambd' in kwargs:\n",
    "            del kwargs['lambd']\n",
    "\n",
    "    request_history = {}\n",
    "\n",
    "    t0 = time.time()\n",
    "    G_out, wealth = algorithm(**kwargs, request_history=request_history)\n",
    "    t1 = time.time()\n",
    "\n",
    "    execution_time = t1 - t0\n",
    "    cov = coverage(G_out, kwargs['g_in'])\n",
    "    div = diversity(G_out)\n",
    "\n",
    "    power, fdr = compute_significance(request_history, kwargs['alpha'])\n",
    "\n",
    "    return G_out, wealth, cov, div, power, fdr, execution_time"
   ]
  },
  {
   "cell_type": "code",
   "execution_count": 4,
   "id": "a819fede-aed9-4e50-8929-0cd376eecb8b",
   "metadata": {},
   "outputs": [],
   "source": [
    "movie_dataframe = pd.read_csv('../datasets/MovieLens/MovieLens.csv')\n",
    "book_dataframe = pd.read_csv('../datasets/BookCrossing/BookCrossing.csv')\n",
    "yelp_dataframe = pd.read_csv('../datasets/Yelp/Yelp.csv')"
   ]
  },
  {
   "cell_type": "code",
   "execution_count": 5,
   "id": "ec0612ef-9369-42c4-be17-9db0b2f99ac2",
   "metadata": {},
   "outputs": [],
   "source": [
    "movie_dataset = Dataset(\n",
    "    dataframe=movie_dataframe,\n",
    "    multi_value_attribute_names=movie_params.multi_value_attribute_names,\n",
    "    attributes=movie_params.attributes,\n",
    "    action_dimension=movie_params.action_dimension,\n",
    "    action_dimension_min=movie_params.action_dimension_min,\n",
    "    action_dimension_max=movie_params.action_dimension_max\n",
    ")\n",
    "\n",
    "book_dataset = Dataset(\n",
    "    dataframe=book_dataframe,\n",
    "    multi_value_attribute_names=book_params.multi_value_attribute_names,\n",
    "    attributes=book_params.attributes,\n",
    "    action_dimension=book_params.action_dimension,\n",
    "    action_dimension_min=book_params.action_dimension_min,\n",
    "    action_dimension_max=book_params.action_dimension_max\n",
    ")\n",
    "\n",
    "yelp_dataset = Dataset(\n",
    "    dataframe=yelp_dataframe,\n",
    "    multi_value_attribute_names=yelp_params.multi_value_attribute_names,\n",
    "    attributes=yelp_params.attributes,\n",
    "    action_dimension=yelp_params.action_dimension,\n",
    "    action_dimension_min=yelp_params.action_dimension_min,\n",
    "    action_dimension_max=yelp_params.action_dimension_max\n",
    ")"
   ]
  },
  {
   "cell_type": "code",
   "execution_count": 28,
   "id": "e95efc43-4b44-4845-abde-7dca7a3d484c",
   "metadata": {},
   "outputs": [],
   "source": [
    "possible_attributes = {att: [] for att in movie_dataset.attributes.keys()}\n",
    "for att in movie_dataset.attributes:\n",
    "    vals_and_predicates = []\n",
    "    for val in movie_dataset.attributes[att]:\n",
    "        g = Group(dataset=movie_dataset, predicates={att: val})\n",
    "        vals_and_predicates.append((len(g.user_ids), val))\n",
    "    possible_attributes[att] = [v_p[1] for v_p in sorted(vals_and_predicates, key = lambda x: x[0], reverse=True)[:5]]"
   ]
  },
  {
   "cell_type": "code",
   "execution_count": 26,
   "id": "75a04a00-95eb-4b3c-93e2-9da0051872e3",
   "metadata": {},
   "outputs": [
    {
     "data": {
      "text/plain": [
       "['Drama', 'Comedy', 'Action', 'Thriller', 'Romance']"
      ]
     },
     "execution_count": 26,
     "metadata": {},
     "output_type": "execute_result"
    }
   ],
   "source": [
    "[v_p[1] for v_p in sorted(vals_and_predicates, key = lambda x: x[0], reverse=True)[:5]]"
   ]
  },
  {
   "cell_type": "code",
   "execution_count": 29,
   "id": "e4df4370-b28f-49c6-add7-befeeca2e47f",
   "metadata": {},
   "outputs": [
    {
     "data": {
      "text/plain": [
       "{'genre': ['Drama', 'Comedy', 'Action', 'Thriller', 'Romance'],\n",
       " 'runtime_minutes': ['Long', 'Very Long', 'Short'],\n",
       " 'year': ['90s', '80s', '70s', '60s', '2000s'],\n",
       " 'gender': ['M', 'F'],\n",
       " 'age': ['25-34', '35-44', '18-24', '45-49', '50-55'],\n",
       " 'occupation': ['college-grad student',\n",
       "  'other',\n",
       "  'executive-managerial',\n",
       "  'academic-educator',\n",
       "  'technician-engineer'],\n",
       " 'location': ['CA', 'NY', 'MN', 'TX', 'MA']}"
      ]
     },
     "execution_count": 29,
     "metadata": {},
     "output_type": "execute_result"
    }
   ],
   "source": [
    "possible_attributes"
   ]
  },
  {
   "cell_type": "code",
   "execution_count": 30,
   "id": "c252f7d7-dd3b-4a37-b448-70210388571e",
   "metadata": {},
   "outputs": [
    {
     "data": {
      "text/plain": [
       "location\n",
       "CA    179806\n",
       "NY     69514\n",
       "MN     63583\n",
       "TX     51812\n",
       "IL     51510\n",
       "MA     44506\n",
       "OH     39665\n",
       "MI     37233\n",
       "WA     37087\n",
       "FL     28646\n",
       "VA     27095\n",
       "PA     26464\n",
       "OR     21765\n",
       "WI     21685\n",
       "NJ     20823\n",
       "CO     18361\n",
       "GA     17467\n",
       "CT     15336\n",
       "NC     15169\n",
       "AZ     15036\n",
       "MD     14716\n",
       "MO     13667\n",
       "TN     12277\n",
       "IN     11033\n",
       "KS      8845\n",
       "OK      8424\n",
       "ME      8410\n",
       "IA      7798\n",
       "KY      6768\n",
       "SC      6001\n",
       "NH      5961\n",
       "LA      5853\n",
       "UT      5235\n",
       "DC      5177\n",
       "NE      4871\n",
       "NM      4813\n",
       "AR      4482\n",
       "NV      3994\n",
       "DE      3778\n",
       "HI      3761\n",
       "WV      3680\n",
       "AL      3486\n",
       "ID      2539\n",
       "RI      2523\n",
       "VT      2424\n",
       "MT      2292\n",
       "SD      1932\n",
       "WY      1147\n",
       "ND      1022\n",
       "AK       910\n",
       "PR       751\n",
       "GU       679\n",
       "AE       604\n",
       "MS       555\n",
       "AP       211\n",
       "Name: count, dtype: int64"
      ]
     },
     "execution_count": 30,
     "metadata": {},
     "output_type": "execute_result"
    }
   ],
   "source": [
    "movie_dataframe.location.value_counts()"
   ]
  },
  {
   "cell_type": "code",
   "execution_count": 27,
   "id": "04f14399-331e-4712-a1df-a7c39f447014",
   "metadata": {},
   "outputs": [
    {
     "data": {
      "text/plain": [
       "[(6037, 'Drama'),\n",
       " (6031, 'Comedy'),\n",
       " (6012, 'Action'),\n",
       " (5988, 'Thriller'),\n",
       " (5961, 'Romance'),\n",
       " (5909, 'Sci-Fi'),\n",
       " (5893, 'Adventure'),\n",
       " (5761, 'War'),\n",
       " (5662, 'Crime'),\n",
       " (5297, 'Horror'),\n",
       " (5278, \"Children's\"),\n",
       " (5133, 'Mystery'),\n",
       " (4850, 'Fantasy'),\n",
       " (4787, 'Animation'),\n",
       " (4753, 'Musical'),\n",
       " (4150, 'Film-Noir'),\n",
       " (4100, 'Western'),\n",
       " (2239, 'Documentary')]"
      ]
     },
     "execution_count": 27,
     "metadata": {},
     "output_type": "execute_result"
    }
   ],
   "source": [
    "sorted(vals_and_predicates, key = lambda x: x[0], reverse=True)"
   ]
  },
  {
   "cell_type": "code",
   "execution_count": 17,
   "id": "76dd948f-7745-4a12-8de3-a0c5c0f14df3",
   "metadata": {},
   "outputs": [
    {
     "data": {
      "text/plain": [
       "{'genre': ['Comedy',\n",
       "  'Drama',\n",
       "  'Comedy|Romance',\n",
       "  'Comedy|Drama',\n",
       "  'Drama|Romance'],\n",
       " 'runtime_minutes': ['Long', 'Short', 'Very Long'],\n",
       " 'year': ['90s', '80s', '70s', '60s', '2000s'],\n",
       " 'gender': ['M', 'F'],\n",
       " 'age': ['25-34', '35-44', '18-24', '45-49', '50-55'],\n",
       " 'occupation': ['college-grad student',\n",
       "  'other',\n",
       "  'executive-managerial',\n",
       "  'academic-educator',\n",
       "  'technician-engineer'],\n",
       " 'location': ['CA', 'NY', 'MN', 'TX', 'IL']}"
      ]
     },
     "execution_count": 17,
     "metadata": {},
     "output_type": "execute_result"
    }
   ],
   "source": [
    "possible_attributes"
   ]
  },
  {
   "cell_type": "code",
   "execution_count": 9,
   "id": "72a59ba7-790c-4e2e-8205-a9ab8d004a51",
   "metadata": {},
   "outputs": [
    {
     "name": "stdout",
     "output_type": "stream",
     "text": [
      "cover\n",
      "\t city:Montréal\n",
      "\t\tcategory:Restaurant|city:Montréal | User count: 37536 | Sample size: 106517\n",
      "\t\tcategory:Home Services|city:Montréal | User count: 672 | Sample size: 763\n",
      "\t\tcity:Montréal|fans:unpopular | User count: 27454 | Sample size: 47054\n",
      "\t\tcity:Montréal|fans:popular | User count: 3347 | Sample size: 33742\n",
      "\t\tcategory:Mass Media|city:Montréal | User count: 34 | Sample size: 37\n",
      "\t\tcategory:Local Services|city:Montréal | User count: 757 | Sample size: 923\n",
      "\t\tcity:Montréal|fans:semipopular | User count: 12659 | Sample size: 56126\n",
      "\t\tcategory:Event Planning & Services|city:Montréal | User count: 4573 | Sample size: 5617\n",
      "\t\tcategory:Education|city:Montréal | User count: 379 | Sample size: 439\n",
      "\t\tcategory:Restaurants|city:Montréal | User count: 37523 | Sample size: 106380\n",
      "\t\t\tSample size: 357598\n",
      "\t\t\tCoverage: 1.0\n",
      "\t\t\tDiversity: 41.045549378976695\n",
      "\t\t\tPower: 1.0\n",
      "\t\t\tFDR: 0.0\n",
      "\t\t\tTime: 2.4212870597839355\n",
      "covdiv\n",
      "\t city:Montréal\n",
      "\t\tcategory:Beauty & Spas|city:Montréal | User count: 2170 | Sample size: 2850\n",
      "\t\tcategory:Education|city:Montréal | User count: 379 | Sample size: 439\n",
      "\t\tcategory:Financial Services|city:Montréal | User count: 96 | Sample size: 99\n",
      "\t\tcategory:Restaurant|city:Montréal | User count: 37536 | Sample size: 106517\n",
      "\t\tcategory:Religious Organizations|city:Montréal | User count: 342 | Sample size: 414\n",
      "\t\tcategory:Local Services|city:Montréal | User count: 757 | Sample size: 923\n",
      "\t\tcategory:Real Estate|city:Montréal | User count: 442 | Sample size: 493\n",
      "\t\tcategory:Pets|city:Montréal | User count: 157 | Sample size: 197\n",
      "\t\tcategory:Mass Media|city:Montréal | User count: 34 | Sample size: 37\n",
      "\t\tcategory:Hotels & Travel|city:Montréal | User count: 3505 | Sample size: 4046\n",
      "\t\t\tSample size: 116015\n",
      "\t\t\tCoverage: 0.9239760699493788\n",
      "\t\t\tDiversity: 43.9921918255242\n",
      "\t\t\tPower: 0.9090909090909091\n",
      "\t\t\tFDR: 0.0\n",
      "\t\t\tTime: 2.749979257583618\n"
     ]
    }
   ],
   "source": [
    "eta = 1\n",
    "alpha = 0.05\n",
    "gamma = 500\n",
    "lambd = 1\n",
    "n = 10\n",
    "initial_wealth = eta * alpha\n",
    "g_in = Group(dataset=yelp_dataset, predicates={'city': 'Montréal'})\n",
    "h = HypothesisTest(aggregation='mean', null_value=3, alternative='greater', n_sample=HypothesisTest.ONE_SAMPLE)\n",
    "\n",
    "\n",
    "for name, algorithm in {'cover': cover_alpha, 'covdiv': covdiv_alpha}.items():\n",
    "    print(name)\n",
    "    print('\\t', g_in)\n",
    "    G_out, wealth, cov, div, power, fdr, execution_time = run_alpha_investing(\n",
    "        algorithm,\n",
    "        (name == 'covdiv'),\n",
    "        D=yelp_dataset,\n",
    "        g_in=g_in,\n",
    "        h=h,\n",
    "        alpha=alpha,\n",
    "        n=n,\n",
    "        wealth=initial_wealth,\n",
    "        gamma=gamma,\n",
    "        lambd=lambd,\n",
    "    )\n",
    "    \n",
    "    sample_size = 0\n",
    "    \n",
    "    for g in G_out:\n",
    "        print('\\t\\t' + str(g) + ' | User count: ' + str(len(g.user_ids)) + ' | Sample size: ' + str(len(g.sample)))\n",
    "        sample_size += len(g.sample)\n",
    "    print('\\t\\t\\tSample size:', sample_size)\n",
    "    print('\\t\\t\\tCoverage:', coverage(G_out, g_in))\n",
    "    print('\\t\\t\\tDiversity:', diversity(G_out))\n",
    "    print('\\t\\t\\tPower:', power)\n",
    "    print('\\t\\t\\tFDR:', fdr)\n",
    "    print('\\t\\t\\tTime:', execution_time)"
   ]
  },
  {
   "cell_type": "code",
   "execution_count": null,
   "id": "80b8a6d2-c94b-41ce-8163-d3f341c2d213",
   "metadata": {},
   "outputs": [],
   "source": []
  }
 ],
 "metadata": {
  "kernelspec": {
   "display_name": "Python 3 (ipykernel)",
   "language": "python",
   "name": "python3"
  },
  "language_info": {
   "codemirror_mode": {
    "name": "ipython",
    "version": 3
   },
   "file_extension": ".py",
   "mimetype": "text/x-python",
   "name": "python",
   "nbconvert_exporter": "python",
   "pygments_lexer": "ipython3",
   "version": "3.10.13"
  }
 },
 "nbformat": 4,
 "nbformat_minor": 5
}
